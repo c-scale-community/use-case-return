{
 "cells": [
  {
   "cell_type": "markdown",
   "id": "cfe35ecd-cbb2-4674-a22c-49be3080d5dc",
   "metadata": {},
   "source": [
    "## Take a time seres from a specifed location using the yeoda modole and test the disturbance magnitude and time code"
   ]
  },
  {
   "cell_type": "code",
   "execution_count": 1,
   "id": "e23bdd37-cf3e-4e9a-bca1-de32d6dd377c",
   "metadata": {},
   "outputs": [],
   "source": [
    "import os, osr, glob\n",
    "import numpy as np\n",
    "import matplotlib.pyplot as plt\n",
    "%matplotlib inline\n",
    "from datetime import datetime\n",
    "import pandas as pd\n",
    "# import TUW packages\n",
    "from yeoda.products.preprocessed import SIG0DataCube\n",
    "from geopathfinder.naming_conventions.yeoda_naming import YeodaFilename\n",
    "#\n",
    "%load_ext autoreload\n",
    "%autoreload 2\n",
    "%reload_ext autoreload\n",
    "# import my aux functions\n",
    "from auxilary_ts_tools_mm import features_from_yeodaTS, plot_TS, features_from_S1_TS"
   ]
  },
  {
   "cell_type": "markdown",
   "id": "159432e4-83fc-4206-8f51-794c4c18bc41",
   "metadata": {
    "jp-MarkdownHeadingCollapsed": true,
    "tags": []
   },
   "source": [
    "Specify the folder with a S1 datacube (a 300x300 m<sup>2</sup> Equi7Tile)"
   ]
  },
  {
   "cell_type": "code",
   "execution_count": null,
   "id": "442ec10a-a468-440d-aee3-ec9e61e0e3d4",
   "metadata": {},
   "outputs": [],
   "source": [
    "tile_dir1_path = r'/project/return/Share/EODC_SA020M/V01R01/E078N066T3'\n",
    "tile_dir2_path = r'/project/return/Share/EODC_SA020M/V1M0R1/E078N066T3'\n",
    "# specify other parameters:\n",
    "dimensions=['time', 'band', 'extra_field', 'sensor_field']\n",
    "filepaths1 = glob.glob(os.path.join(tile_dir1_path,'*.tif'))\n",
    "filepaths2 = glob.glob(os.path.join(tile_dir2_path,'*.tif'))"
   ]
  },
  {
   "cell_type": "markdown",
   "id": "041a38d1-1615-43f0-8fa9-3e90089464cf",
   "metadata": {},
   "source": [
    "Read the datacube:"
   ]
  },
  {
   "cell_type": "code",
   "execution_count": null,
   "id": "f3c93138-71b3-4590-b847-eb57d6812bdd",
   "metadata": {
    "tags": []
   },
   "outputs": [],
   "source": [
    "sig0_dc1 = SIG0DataCube(filepaths=filepaths1, dimensions=dimensions, filename_class=YeodaFilename, sres=20, continent='SA')\n",
    "sig0_dc2 = SIG0DataCube(filepaths=filepaths2, dimensions=dimensions, filename_class=YeodaFilename, sres=20, continent='SA')\n",
    "# get info:\n",
    "sig0_dc1.inventory[dimensions].head(5)"
   ]
  },
  {
   "cell_type": "markdown",
   "id": "bc0bb1be-e006-4ce6-9638-a6c4d7189dac",
   "metadata": {},
   "source": [
    "Filter by date:"
   ]
  },
  {
   "cell_type": "code",
   "execution_count": null,
   "id": "83f16e0d-9aa7-4788-8f51-98e5da2bf39f",
   "metadata": {
    "tags": []
   },
   "outputs": [],
   "source": [
    "toi_start, toi_end = datetime(2017, 1, 1), datetime(2021, 1, 1)\n",
    "sig0_dc1 = sig0_dc1.filter_by_dimension([(toi_start, toi_end)], [(\">=\", \"<\")], name=\"time\", inplace=True)\n",
    "sig0_dc2 = sig0_dc2.filter_by_dimension([(toi_start, toi_end)], [(\">=\", \"<\")], name=\"time\", inplace=True)"
   ]
  },
  {
   "cell_type": "markdown",
   "id": "f08e68ab-34ee-40f7-a290-5571de6576c0",
   "metadata": {},
   "source": [
    "Select bands:"
   ]
  },
  {
   "cell_type": "code",
   "execution_count": null,
   "id": "01018726-e009-4296-8b7f-d5499d7aaff8",
   "metadata": {},
   "outputs": [],
   "source": [
    "sig0_vv_dc1 = sig0_dc1.filter_by_dimension('VV', name='band')\n",
    "sig0_vh_dc1 = sig0_dc1.filter_by_dimension('VH', name='band')\n",
    "#\n",
    "sig0_vv_dc2 = sig0_dc2.filter_by_dimension('VV', name='band')\n",
    "sig0_vh_dc2 = sig0_dc2.filter_by_dimension('VH', name='band')"
   ]
  },
  {
   "cell_type": "markdown",
   "id": "e2253c0e-beb3-40b2-8603-21ac6c0f1ddc",
   "metadata": {},
   "source": [
    "Merge and sort the datacubes:"
   ]
  },
  {
   "cell_type": "code",
   "execution_count": null,
   "id": "aaa79ba8-90d6-4ee3-aee4-e7741cd3213e",
   "metadata": {},
   "outputs": [],
   "source": [
    "sig0_vv_dc = sig0_vv_dc1.unite(sig0_vv_dc2)\n",
    "sig0_vv_dc = sig0_vv_dc.sort_by_dimension('time', ascending=True)\n",
    "#\n",
    "sig0_vh_dc = sig0_vh_dc1.unite(sig0_vh_dc2)\n",
    "sig0_vh_dc = sig0_vh_dc.sort_by_dimension('time', ascending=True)\n",
    "#\n",
    "sig0_vv_dc.inventory"
   ]
  },
  {
   "cell_type": "markdown",
   "id": "199558b4-66e4-4960-8552-0a2d62cfbad5",
   "metadata": {},
   "source": [
    "Get a time series for a point of interest:"
   ]
  },
  {
   "cell_type": "code",
   "execution_count": null,
   "id": "edaa0ed1-1f56-44d2-939c-81f455bd865f",
   "metadata": {},
   "outputs": [],
   "source": [
    "poi = (-3.48472, -54.82820)\n",
    "sref = osr.SpatialReference()\n",
    "sref.ImportFromEPSG(4326)\n",
    "#\n",
    "sig0_vv_ts = sig0_vv_dc.load_by_coords(*poi, sref=sref, dtype='dataframe')\n",
    "sig0_vh_ts = sig0_vh_dc.load_by_coords(*poi, sref=sref, dtype='dataframe')"
   ]
  },
  {
   "cell_type": "markdown",
   "id": "481531eb-ccee-45dc-a6cc-f749c7b17cee",
   "metadata": {},
   "source": [
    "Rename the variable and drop na as well as indexing:"
   ]
  },
  {
   "cell_type": "code",
   "execution_count": null,
   "id": "1c310dcb-138f-4473-8d03-9c1df97d38d4",
   "metadata": {},
   "outputs": [],
   "source": [
    "sig0_vv_ts = sig0_vv_ts.dropna().droplevel(['x', 'y']).rename(columns={'1' : 'vv'})\n",
    "sig0_vh_ts = sig0_vh_ts.dropna().droplevel(['x', 'y']).rename(columns={'1' : 'vh'})\n",
    "# plot:\n",
    "my_xticks = pd.date_range(datetime(2017,1,1), datetime(2021,1,1), freq='YS')\n",
    "ax2 = sig0_vv_ts.plot(style='r-', grid=True)\n",
    "sig0_vh_ts.plot(style='b-', grid=True, ax=ax2)"
   ]
  },
  {
   "cell_type": "markdown",
   "id": "a1f6a503-4fa5-484e-a439-374b0d6443a9",
   "metadata": {},
   "source": [
    "Rescale the data in 2019 and 2020"
   ]
  },
  {
   "cell_type": "code",
   "execution_count": null,
   "id": "e5558bab-ab8c-4a3d-9a2a-e668b63ed3f0",
   "metadata": {},
   "outputs": [],
   "source": [
    "sig0_vv_ts.loc['2019-1-1':'2021-1-1'] = sig0_vv_ts.loc['2019-1-1':'2021-1-1'].div(10.).round(1)\n",
    "sig0_vh_ts.loc['2019-1-1':'2021-1-1'] = sig0_vh_ts.loc['2019-1-1':'2021-1-1'].div(10.).round(1)\n",
    "# plot to check:\n",
    "my_xticks = pd.date_range(datetime(2017,1,1), datetime(2021,1,1), freq='YS')\n",
    "ax1 = sig0_vv_ts.plot(style='ro-', xticks=my_xticks, grid=True, figsize=(14,4), legend=True, xlabel='Time', ylabel='Bacscatter Intensity [dB]')\n",
    "sig0_vh_ts.plot(style='bo-', ax=ax1, xticks=my_xticks, grid=True, figsize=(14,4), legend=True, xlabel='Time', ylabel='Bacscatter Intensity [dB]')"
   ]
  },
  {
   "cell_type": "markdown",
   "id": "5ad009fb-cdea-4aa8-bfb3-480770f1f8c9",
   "metadata": {},
   "source": [
    "See the difference in time to decde on the minum sample interval:"
   ]
  },
  {
   "cell_type": "code",
   "execution_count": null,
   "id": "daf6ab69-00de-4b8d-8f4d-176fcf7939a7",
   "metadata": {},
   "outputs": [],
   "source": [
    "np.unique(sig0_vh_ts.index.round('D').to_series().diff().values.astype('timedelta64[D]'))"
   ]
  },
  {
   "cell_type": "markdown",
   "id": "e644929c-a942-4a03-9ff3-fa465ffb7891",
   "metadata": {},
   "source": [
    "Round the time and resample to 6 day TS:"
   ]
  },
  {
   "cell_type": "code",
   "execution_count": null,
   "id": "dd8c56aa-1ec0-4ae5-be28-63a7919d6256",
   "metadata": {},
   "outputs": [],
   "source": [
    "sig0_vh_ts.index = sig0_vh_ts.index.round('D')\n",
    "#\n",
    "sig0_vh_ts_6d = sig0_vh_ts.resample('6D').interpolate(method='linear')"
   ]
  },
  {
   "cell_type": "code",
   "execution_count": null,
   "id": "e871a091-9f02-41a4-b2fb-ec629fdeda61",
   "metadata": {},
   "outputs": [],
   "source": [
    "sig0_vh_ts_6d.plot(style='bo-',grid=True, figsize=(14,4), legend=True, xlabel='Time', ylabel='Bacscatter Intensity [dB]')"
   ]
  },
  {
   "cell_type": "markdown",
   "id": "bc0a5bdb-6ba2-45f3-9e3c-469e77441edd",
   "metadata": {},
   "source": [
    "Plot and get the time seres features:"
   ]
  },
  {
   "cell_type": "code",
   "execution_count": null,
   "id": "62c78a2e-dbf1-41dd-a575-15f89c59bd5a",
   "metadata": {},
   "outputs": [],
   "source": [
    "plot_TS(sig0_vh_ts_6d)\n",
    "#\n",
    "myFeatures = features_from_yeodaTS(sig0_vh_ts_6d)"
   ]
  },
  {
   "cell_type": "code",
   "execution_count": null,
   "id": "c2ce66c5-dad9-42b0-ba49-b38904fda1c9",
   "metadata": {},
   "outputs": [],
   "source": [
    "myFeatures"
   ]
  },
  {
   "cell_type": "code",
   "execution_count": null,
   "id": "1d2291f3-62b3-435e-8455-ac85c06d9b6e",
   "metadata": {},
   "outputs": [],
   "source": [
    "myFeatures_v2 = features_from_S1_TS(sig0_vh_ts_6d)"
   ]
  },
  {
   "cell_type": "code",
   "execution_count": null,
   "id": "9d5a7e46-109d-4c79-8311-286f81d1fd86",
   "metadata": {},
   "outputs": [],
   "source": [
    "myFeatures_v2"
   ]
  },
  {
   "cell_type": "code",
   "execution_count": null,
   "id": "654c2577-6d44-45c3-8e01-0d5ad0145417",
   "metadata": {},
   "outputs": [],
   "source": []
  }
 ],
 "metadata": {
  "kernelspec": {
   "display_name": "Python 3 (ipykernel)",
   "language": "python",
   "name": "python3"
  },
  "language_info": {
   "codemirror_mode": {
    "name": "ipython",
    "version": 3
   },
   "file_extension": ".py",
   "mimetype": "text/x-python",
   "name": "python",
   "nbconvert_exporter": "python",
   "pygments_lexer": "ipython3",
   "version": "3.7.13"
  },
  "toc-autonumbering": true,
  "toc-showcode": false,
  "toc-showmarkdowntxt": true
 },
 "nbformat": 4,
 "nbformat_minor": 5
}
