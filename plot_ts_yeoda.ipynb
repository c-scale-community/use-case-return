{
 "cells": [
  {
   "cell_type": "markdown",
   "id": "830080ff-dabf-4d73-a9af-d21f7940de8d",
   "metadata": {},
   "source": [
    "## Plot time seres from a specifed location using the yeoda modole to query the EODC S1 datacube"
   ]
  },
  {
   "cell_type": "code",
   "execution_count": 1,
   "id": "e23bdd37-cf3e-4e9a-bca1-de32d6dd377c",
   "metadata": {},
   "outputs": [],
   "source": [
    "import os, osr, glob\n",
    "import numpy as np\n",
    "import matplotlib.pyplot as plt\n",
    "%matplotlib inline\n",
    "from datetime import datetime\n",
    "import pandas as pd\n",
    "# import TUW packages\n",
    "from yeoda.products.preprocessed import SIG0DataCube\n",
    "from geopathfinder.naming_conventions.yeoda_naming import YeodaFilename"
   ]
  },
  {
   "cell_type": "markdown",
   "id": "159432e4-83fc-4206-8f51-794c4c18bc41",
   "metadata": {
    "jp-MarkdownHeadingCollapsed": true,
    "tags": []
   },
   "source": [
    "Specify the folder with a S1 datacube (a 300x300 m<sup>2</sup> Equi7Tile)"
   ]
  },
  {
   "cell_type": "code",
   "execution_count": 2,
   "id": "442ec10a-a468-440d-aee3-ec9e61e0e3d4",
   "metadata": {},
   "outputs": [],
   "source": [
    "#tile_dir1_path = r'/project/return/Share/EODC_SA020M/V01R01/E051N060T3'\n",
    "tile_dir1_path = r'/project/return/Share/EODC_SA020M/V01R01/E078N066T3'\n",
    "tile_dir2_path = r'/project/return/Share/EODC_SA020M/V1M0R1/E078N066T3'\n",
    "# specify other parameters:\n",
    "dimensions=['time', 'band', 'extra_field', 'sensor_field']\n",
    "filepaths1 = glob.glob(os.path.join(tile_dir1_path,'*.tif'))\n",
    "filepaths2 = glob.glob(os.path.join(tile_dir2_path,'*.tif'))"
   ]
  },
  {
   "cell_type": "markdown",
   "id": "041a38d1-1615-43f0-8fa9-3e90089464cf",
   "metadata": {},
   "source": [
    "Read the datacube:"
   ]
  },
  {
   "cell_type": "code",
   "execution_count": 3,
   "id": "f3c93138-71b3-4590-b847-eb57d6812bdd",
   "metadata": {
    "tags": []
   },
   "outputs": [
    {
     "data": {
      "text/html": [
       "<div>\n",
       "<style scoped>\n",
       "    .dataframe tbody tr th:only-of-type {\n",
       "        vertical-align: middle;\n",
       "    }\n",
       "\n",
       "    .dataframe tbody tr th {\n",
       "        vertical-align: top;\n",
       "    }\n",
       "\n",
       "    .dataframe thead th {\n",
       "        text-align: right;\n",
       "    }\n",
       "</style>\n",
       "<table border=\"1\" class=\"dataframe\">\n",
       "  <thead>\n",
       "    <tr style=\"text-align: right;\">\n",
       "      <th></th>\n",
       "      <th>time</th>\n",
       "      <th>band</th>\n",
       "      <th>extra_field</th>\n",
       "      <th>sensor_field</th>\n",
       "      <th>var_name</th>\n",
       "      <th>tile_name</th>\n",
       "    </tr>\n",
       "  </thead>\n",
       "  <tbody>\n",
       "    <tr>\n",
       "      <th>0</th>\n",
       "      <td>2019-09-24 09:22:59</td>\n",
       "      <td>VH</td>\n",
       "      <td>D039</td>\n",
       "      <td>S1AIWGRDH</td>\n",
       "      <td>SIG0</td>\n",
       "      <td>E078N066T3</td>\n",
       "    </tr>\n",
       "    <tr>\n",
       "      <th>1</th>\n",
       "      <td>2020-11-18 09:14:33</td>\n",
       "      <td>VH</td>\n",
       "      <td>D141</td>\n",
       "      <td>S1B</td>\n",
       "      <td>SIG0</td>\n",
       "      <td>E078N066T3</td>\n",
       "    </tr>\n",
       "    <tr>\n",
       "      <th>2</th>\n",
       "      <td>2020-06-21 09:15:13</td>\n",
       "      <td>VV</td>\n",
       "      <td>D141</td>\n",
       "      <td>S1A</td>\n",
       "      <td>SIG0</td>\n",
       "      <td>E078N066T3</td>\n",
       "    </tr>\n",
       "    <tr>\n",
       "      <th>3</th>\n",
       "      <td>2019-02-03 09:14:37</td>\n",
       "      <td>VV</td>\n",
       "      <td>D141</td>\n",
       "      <td>S1AIWGRDH</td>\n",
       "      <td>SIG0</td>\n",
       "      <td>E078N066T3</td>\n",
       "    </tr>\n",
       "    <tr>\n",
       "      <th>4</th>\n",
       "      <td>2019-02-08 09:23:15</td>\n",
       "      <td>VH</td>\n",
       "      <td>D039</td>\n",
       "      <td>S1AIWGRDH</td>\n",
       "      <td>SIG0</td>\n",
       "      <td>E078N066T3</td>\n",
       "    </tr>\n",
       "  </tbody>\n",
       "</table>\n",
       "</div>"
      ],
      "text/plain": [
       "                 time band extra_field sensor_field var_name   tile_name\n",
       "0 2019-09-24 09:22:59   VH        D039    S1AIWGRDH     SIG0  E078N066T3\n",
       "1 2020-11-18 09:14:33   VH        D141          S1B     SIG0  E078N066T3\n",
       "2 2020-06-21 09:15:13   VV        D141          S1A     SIG0  E078N066T3\n",
       "3 2019-02-03 09:14:37   VV        D141    S1AIWGRDH     SIG0  E078N066T3\n",
       "4 2019-02-08 09:23:15   VH        D039    S1AIWGRDH     SIG0  E078N066T3"
      ]
     },
     "execution_count": 3,
     "metadata": {},
     "output_type": "execute_result"
    }
   ],
   "source": [
    "sig0_dc1 = SIG0DataCube(filepaths=filepaths1, dimensions=dimensions, filename_class=YeodaFilename, sres=20, continent='SA')\n",
    "sig0_dc2 = SIG0DataCube(filepaths=filepaths2, dimensions=dimensions, filename_class=YeodaFilename, sres=20, continent='SA')\n",
    "# get info:\n",
    "sig0_dc1.inventory[dimensions].head(5)"
   ]
  },
  {
   "cell_type": "markdown",
   "id": "bc0bb1be-e006-4ce6-9638-a6c4d7189dac",
   "metadata": {},
   "source": [
    "Filter by date:"
   ]
  },
  {
   "cell_type": "code",
   "execution_count": 4,
   "id": "83f16e0d-9aa7-4788-8f51-98e5da2bf39f",
   "metadata": {
    "tags": []
   },
   "outputs": [],
   "source": [
    "toi_start, toi_end = datetime(2017, 1, 1), datetime(2021, 1, 1)\n",
    "sig0_dc1 = sig0_dc1.filter_by_dimension([(toi_start, toi_end)], [(\">=\", \"<\")], name=\"time\", inplace=True)\n",
    "sig0_dc2 = sig0_dc2.filter_by_dimension([(toi_start, toi_end)], [(\">=\", \"<\")], name=\"time\", inplace=True)"
   ]
  },
  {
   "cell_type": "markdown",
   "id": "f08e68ab-34ee-40f7-a290-5571de6576c0",
   "metadata": {},
   "source": [
    "Select bands:"
   ]
  },
  {
   "cell_type": "code",
   "execution_count": 5,
   "id": "01018726-e009-4296-8b7f-d5499d7aaff8",
   "metadata": {},
   "outputs": [],
   "source": [
    "sig0_vv_dc1 = sig0_dc1.filter_by_dimension('VV', name='band')\n",
    "sig0_vh_dc1 = sig0_dc1.filter_by_dimension('VH', name='band')\n",
    "#\n",
    "sig0_vv_dc2 = sig0_dc2.filter_by_dimension('VV', name='band')\n",
    "sig0_vh_dc2 = sig0_dc2.filter_by_dimension('VH', name='band')"
   ]
  },
  {
   "cell_type": "markdown",
   "id": "e2253c0e-beb3-40b2-8603-21ac6c0f1ddc",
   "metadata": {},
   "source": [
    "Merge and sort the datacubes:"
   ]
  },
  {
   "cell_type": "code",
   "execution_count": 6,
   "id": "aaa79ba8-90d6-4ee3-aee4-e7741cd3213e",
   "metadata": {},
   "outputs": [
    {
     "data": {
      "text/html": [
       "<div>\n",
       "<style scoped>\n",
       "    .dataframe tbody tr th:only-of-type {\n",
       "        vertical-align: middle;\n",
       "    }\n",
       "\n",
       "    .dataframe tbody tr th {\n",
       "        vertical-align: top;\n",
       "    }\n",
       "\n",
       "    .dataframe thead th {\n",
       "        text-align: right;\n",
       "    }\n",
       "</style>\n",
       "<table border=\"1\" class=\"dataframe\">\n",
       "  <thead>\n",
       "    <tr style=\"text-align: right;\">\n",
       "      <th></th>\n",
       "      <th>filepath</th>\n",
       "      <th>time</th>\n",
       "      <th>band</th>\n",
       "      <th>extra_field</th>\n",
       "      <th>sensor_field</th>\n",
       "      <th>var_name</th>\n",
       "      <th>tile_name</th>\n",
       "    </tr>\n",
       "  </thead>\n",
       "  <tbody>\n",
       "    <tr>\n",
       "      <th>732</th>\n",
       "      <td>/project/return/Share/EODC_SA020M/V1M0R1/E078N...</td>\n",
       "      <td>2017-01-01 09:22:07</td>\n",
       "      <td>VV</td>\n",
       "      <td>D039</td>\n",
       "      <td>S1AIWGRDH</td>\n",
       "      <td>SIG0</td>\n",
       "      <td>E078N066T3</td>\n",
       "    </tr>\n",
       "    <tr>\n",
       "      <th>452</th>\n",
       "      <td>/project/return/Share/EODC_SA020M/V1M0R1/E078N...</td>\n",
       "      <td>2017-01-01 09:22:32</td>\n",
       "      <td>VV</td>\n",
       "      <td>D039</td>\n",
       "      <td>S1AIWGRDH</td>\n",
       "      <td>SIG0</td>\n",
       "      <td>E078N066T3</td>\n",
       "    </tr>\n",
       "    <tr>\n",
       "      <th>537</th>\n",
       "      <td>/project/return/Share/EODC_SA020M/V1M0R1/E078N...</td>\n",
       "      <td>2017-01-01 09:22:57</td>\n",
       "      <td>VV</td>\n",
       "      <td>D039</td>\n",
       "      <td>S1AIWGRDH</td>\n",
       "      <td>SIG0</td>\n",
       "      <td>E078N066T3</td>\n",
       "    </tr>\n",
       "    <tr>\n",
       "      <th>630</th>\n",
       "      <td>/project/return/Share/EODC_SA020M/V1M0R1/E078N...</td>\n",
       "      <td>2017-01-08 09:13:54</td>\n",
       "      <td>VV</td>\n",
       "      <td>D141</td>\n",
       "      <td>S1AIWGRDH</td>\n",
       "      <td>SIG0</td>\n",
       "      <td>E078N066T3</td>\n",
       "    </tr>\n",
       "    <tr>\n",
       "      <th>782</th>\n",
       "      <td>/project/return/Share/EODC_SA020M/V1M0R1/E078N...</td>\n",
       "      <td>2017-01-08 09:14:19</td>\n",
       "      <td>VV</td>\n",
       "      <td>D141</td>\n",
       "      <td>S1AIWGRDH</td>\n",
       "      <td>SIG0</td>\n",
       "      <td>E078N066T3</td>\n",
       "    </tr>\n",
       "    <tr>\n",
       "      <th>...</th>\n",
       "      <td>...</td>\n",
       "      <td>...</td>\n",
       "      <td>...</td>\n",
       "      <td>...</td>\n",
       "      <td>...</td>\n",
       "      <td>...</td>\n",
       "      <td>...</td>\n",
       "    </tr>\n",
       "    <tr>\n",
       "      <th>31</th>\n",
       "      <td>/project/return/Share/EODC_SA020M/V01R01/E078N...</td>\n",
       "      <td>2020-12-23 09:23:29</td>\n",
       "      <td>VV</td>\n",
       "      <td>D039</td>\n",
       "      <td>S1A</td>\n",
       "      <td>SIG0</td>\n",
       "      <td>E078N066T3</td>\n",
       "    </tr>\n",
       "    <tr>\n",
       "      <th>87</th>\n",
       "      <td>/project/return/Share/EODC_SA020M/V01R01/E078N...</td>\n",
       "      <td>2020-12-29 09:22:39</td>\n",
       "      <td>VV</td>\n",
       "      <td>D039</td>\n",
       "      <td>S1B</td>\n",
       "      <td>SIG0</td>\n",
       "      <td>E078N066T3</td>\n",
       "    </tr>\n",
       "    <tr>\n",
       "      <th>319</th>\n",
       "      <td>/project/return/Share/EODC_SA020M/V01R01/E078N...</td>\n",
       "      <td>2020-12-30 09:14:26</td>\n",
       "      <td>VV</td>\n",
       "      <td>D141</td>\n",
       "      <td>S1A</td>\n",
       "      <td>SIG0</td>\n",
       "      <td>E078N066T3</td>\n",
       "    </tr>\n",
       "    <tr>\n",
       "      <th>222</th>\n",
       "      <td>/project/return/Share/EODC_SA020M/V01R01/E078N...</td>\n",
       "      <td>2020-12-30 09:14:51</td>\n",
       "      <td>VV</td>\n",
       "      <td>D141</td>\n",
       "      <td>S1A</td>\n",
       "      <td>SIG0</td>\n",
       "      <td>E078N066T3</td>\n",
       "    </tr>\n",
       "    <tr>\n",
       "      <th>231</th>\n",
       "      <td>/project/return/Share/EODC_SA020M/V01R01/E078N...</td>\n",
       "      <td>2020-12-30 09:15:16</td>\n",
       "      <td>VV</td>\n",
       "      <td>D141</td>\n",
       "      <td>S1A</td>\n",
       "      <td>SIG0</td>\n",
       "      <td>E078N066T3</td>\n",
       "    </tr>\n",
       "  </tbody>\n",
       "</table>\n",
       "<p>818 rows × 7 columns</p>\n",
       "</div>"
      ],
      "text/plain": [
       "                                              filepath                time  \\\n",
       "732  /project/return/Share/EODC_SA020M/V1M0R1/E078N... 2017-01-01 09:22:07   \n",
       "452  /project/return/Share/EODC_SA020M/V1M0R1/E078N... 2017-01-01 09:22:32   \n",
       "537  /project/return/Share/EODC_SA020M/V1M0R1/E078N... 2017-01-01 09:22:57   \n",
       "630  /project/return/Share/EODC_SA020M/V1M0R1/E078N... 2017-01-08 09:13:54   \n",
       "782  /project/return/Share/EODC_SA020M/V1M0R1/E078N... 2017-01-08 09:14:19   \n",
       "..                                                 ...                 ...   \n",
       "31   /project/return/Share/EODC_SA020M/V01R01/E078N... 2020-12-23 09:23:29   \n",
       "87   /project/return/Share/EODC_SA020M/V01R01/E078N... 2020-12-29 09:22:39   \n",
       "319  /project/return/Share/EODC_SA020M/V01R01/E078N... 2020-12-30 09:14:26   \n",
       "222  /project/return/Share/EODC_SA020M/V01R01/E078N... 2020-12-30 09:14:51   \n",
       "231  /project/return/Share/EODC_SA020M/V01R01/E078N... 2020-12-30 09:15:16   \n",
       "\n",
       "    band extra_field sensor_field var_name   tile_name  \n",
       "732   VV        D039    S1AIWGRDH     SIG0  E078N066T3  \n",
       "452   VV        D039    S1AIWGRDH     SIG0  E078N066T3  \n",
       "537   VV        D039    S1AIWGRDH     SIG0  E078N066T3  \n",
       "630   VV        D141    S1AIWGRDH     SIG0  E078N066T3  \n",
       "782   VV        D141    S1AIWGRDH     SIG0  E078N066T3  \n",
       "..   ...         ...          ...      ...         ...  \n",
       "31    VV        D039          S1A     SIG0  E078N066T3  \n",
       "87    VV        D039          S1B     SIG0  E078N066T3  \n",
       "319   VV        D141          S1A     SIG0  E078N066T3  \n",
       "222   VV        D141          S1A     SIG0  E078N066T3  \n",
       "231   VV        D141          S1A     SIG0  E078N066T3  \n",
       "\n",
       "[818 rows x 7 columns]"
      ]
     },
     "execution_count": 6,
     "metadata": {},
     "output_type": "execute_result"
    }
   ],
   "source": [
    "sig0_vv_dc = sig0_vv_dc1.unite(sig0_vv_dc2)\n",
    "sig0_vv_dc = sig0_vv_dc.sort_by_dimension('time', ascending=True)\n",
    "#\n",
    "sig0_vh_dc = sig0_vh_dc1.unite(sig0_vh_dc2)\n",
    "sig0_vh_dc = sig0_vh_dc.sort_by_dimension('time', ascending=True)\n",
    "#\n",
    "sig0_vv_dc.inventory"
   ]
  },
  {
   "cell_type": "markdown",
   "id": "199558b4-66e4-4960-8552-0a2d62cfbad5",
   "metadata": {},
   "source": [
    "Get a time series for a point of interest:"
   ]
  },
  {
   "cell_type": "code",
   "execution_count": 28,
   "id": "edaa0ed1-1f56-44d2-939c-81f455bd865f",
   "metadata": {},
   "outputs": [],
   "source": [
    "#poi = (-8.345586, -78.70486)\n",
    "#poi = (-2.70919, -54.95610)\n",
    "poi = (-3.48472, -54.82820)\n",
    "sref = osr.SpatialReference()\n",
    "sref.ImportFromEPSG(4326)\n",
    "sig0_vv_ts = sig0_vv_dc.load_by_coords(*poi, sref=sref, dtype='dataframe')\n",
    "sig0_vh_ts = sig0_vh_dc.load_by_coords(*poi, sref=sref, dtype='dataframe')"
   ]
  },
  {
   "cell_type": "code",
   "execution_count": 53,
   "id": "419d1c3f-aca2-4ce8-b743-d91295c2b4b1",
   "metadata": {},
   "outputs": [
    {
     "data": {
      "text/plain": [
       "<AxesSubplot:xlabel='time'>"
      ]
     },
     "execution_count": 53,
     "metadata": {},
     "output_type": "execute_result"
    },
    {
     "data": {
      "image/png": "[encoded data removed]",
      "text/plain": [
       "<Figure size 432x288 with 1 Axes>"
      ]
     },
     "metadata": {
      "needs_background": "light"
     },
     "output_type": "display_data"
    }
   ],
   "source": [
    "sig0_vv_ts.dropna().droplevel(['x', 'y']).plot(grid=True)"
   ]
  },
  {
   "cell_type": "code",
   "execution_count": null,
   "id": "2ea289a2-bc07-4469-9607-936667beb733",
   "metadata": {},
   "outputs": [],
   "source": [
    "# deal with a wrong scale in the secound datacube:"
   ]
  },
  {
   "cell_type": "code",
   "execution_count": 54,
   "id": "0418717e-cba2-4e21-9b0a-0288e9ab8a16",
   "metadata": {},
   "outputs": [],
   "source": [
    "sig0_vh_ts[sig0_vh_ts < -30] = sig0_vh_ts[sig0_vh_ts < -30] / 10.\n",
    "sig0_vv_ts[sig0_vv_ts < -30] = sig0_vv_ts[sig0_vv_ts < -30] / 10."
   ]
  },
  {
   "cell_type": "code",
   "execution_count": 55,
   "id": "2d7ff228-d594-4554-a8a0-74f98127f4fc",
   "metadata": {},
   "outputs": [
    {
     "data": {
      "text/plain": [
       "<AxesSubplot:xlabel='time'>"
      ]
     },
     "execution_count": 55,
     "metadata": {},
     "output_type": "execute_result"
    },
    {
     "data": {
      "image/png": "[encoded data removed]",
      "text/plain": [
       "<Figure size 432x288 with 1 Axes>"
      ]
     },
     "metadata": {
      "needs_background": "light"
     },
     "output_type": "display_data"
    }
   ],
   "source": [
    "sig0_vv_ts.dropna().droplevel(['x', 'y']).plot(grid=True)"
   ]
  },
  {
   "cell_type": "markdown",
   "id": "4113eb8a-873a-4160-8643-7ca1b0a80fe5",
   "metadata": {},
   "source": [
    "make a pandas series object:"
   ]
  },
  {
   "cell_type": "code",
   "execution_count": 9,
   "id": "95d21b4c-d490-492a-9ce5-476e634a7659",
   "metadata": {},
   "outputs": [
    {
     "data": {
      "text/plain": [
       "array([-13.7 , -13.6 , -13.  , -12.3 , -12.9 , -15.1 , -13.3 , -13.1 ,\n",
       "       -14.4 , -16.  , -15.6 , -11.4 , -14.2 , -13.  , -14.6 , -12.9 ,\n",
       "       -14.4 , -15.3 , -13.5 , -14.3 , -14.1 , -15.7 , -14.7 , -15.9 ,\n",
       "       -12.5 , -15.5 , -14.7 , -15.2 , -13.5 , -14.3 , -14.5 , -15.9 ,\n",
       "       -11.8 , -13.2 , -13.7 , -15.  , -14.2 , -14.4 , -14.9 , -13.5 ,\n",
       "       -15.5 , -14.7 , -14.7 , -14.8 , -12.2 , -14.2 , -13.2 , -12.8 ,\n",
       "       -14.1 , -15.4 , -16.5 , -16.3 , -16.4 , -15.9 , -19.4 , -18.1 ,\n",
       "       -17.4 , -17.9 , -20.  , -18.1 , -15.8 , -16.6 , -19.  , -18.5 ,\n",
       "       -19.13, -17.93, -21.3 , -15.33, -17.71, -16.26, -15.41, -15.36,\n",
       "       -14.97, -16.98, -13.8 , -14.21, -12.23, -15.04, -14.11, -14.56,\n",
       "       -14.25, -14.06, -12.46, -13.95, -15.96, -14.09, -14.82, -13.11,\n",
       "       -13.47, -13.73, -15.75, -14.06, -14.33, -14.73, -13.53, -15.09,\n",
       "       -14.95, -14.72, -16.11, -16.81, -16.59, -15.94, -15.93, -12.15,\n",
       "       -14.06, -12.9 , -13.51, -13.66, -12.76, -12.09, -12.27, -12.73,\n",
       "       -16.97, -13.49, -11.77, -13.02, -14.56, -16.25, -14.68, -18.16,\n",
       "       -14.95, -17.61, -14.02, -12.93, -14.8 ])"
      ]
     },
     "execution_count": 9,
     "metadata": {},
     "output_type": "execute_result"
    }
   ],
   "source": [
    "# note taht the datacube bacscatter values have to be divided by 100 to get the backscatter in dB-s \n",
    "poi_ts_vh = pd.Series(sig0_vh_ts[:, 0, 0], index=sig0_vh_dc['time'])\n",
    "poi_ts_vh.dropna(inplace=True)\n",
    "poi_ts_vh.values"
   ]
  },
  {
   "cell_type": "code",
   "execution_count": 10,
   "id": "219ee23c-7358-4b38-a511-727e532464f7",
   "metadata": {},
   "outputs": [],
   "source": [
    "poi_ts_vv = pd.Series(sig0_vv_ts[:, 0, 0], index=sig0_vv_dc['time'])\n",
    "poi_ts_vv.dropna(inplace=True)\n",
    "# deal with outlayer:\n",
    "poi_ts_vv[poi_ts_vv.values < -30] = np.nan"
   ]
  },
  {
   "cell_type": "markdown",
   "id": "4de5fcb5-dfcd-4c0c-88fa-d43eb5aa66fe",
   "metadata": {},
   "source": [
    "Plot a timeseries:"
   ]
  },
  {
   "cell_type": "code",
   "execution_count": 11,
   "id": "38558339-680a-4fa0-b6ba-58fd00dcb0e4",
   "metadata": {},
   "outputs": [
    {
     "data": {
      "text/plain": [
       "<AxesSubplot:xlabel='Time', ylabel='Bacscatter Intensity [dB]'>"
      ]
     },
     "execution_count": 11,
     "metadata": {},
     "output_type": "execute_result"
    },
    {
     "data": {
      "image/png": "[encoded data removed]",
      "text/plain": [
       "<Figure size 1008x288 with 1 Axes>"
      ]
     },
     "metadata": {
      "needs_background": "light"
     },
     "output_type": "display_data"
    }
   ],
   "source": [
    "# create xticks\n",
    "my_xticks = pd.date_range(datetime(2017,1,1), datetime(2021,1,1), freq='YS')\n",
    "poi_ts_vv.plot(style='bo-', xticks=my_xticks, grid=True, figsize=(14,4), label='VV band', legend=True, xlabel='Time', ylabel='Bacscatter Intensity [dB]')\n",
    "poi_ts_vh.plot(style='ro-', xticks=my_xticks, grid=True, figsize=(14,4), label='VH band', legend=True, xlabel='Time', ylabel='Bacscatter Intensity [dB]')"
   ]
  },
  {
   "cell_type": "code",
   "execution_count": 27,
   "id": "b81fb82b-6171-48ed-84e3-c77231882d0b",
   "metadata": {},
   "outputs": [
    {
     "data": {
      "text/plain": [
       "(334,)"
      ]
     },
     "execution_count": 27,
     "metadata": {},
     "output_type": "execute_result"
    }
   ],
   "source": [
    "sig0_vv_dc['time'].dt.round('D').unique().shape"
   ]
  },
  {
   "cell_type": "code",
   "execution_count": 17,
   "id": "b9d10a89-6a9e-43f0-bf88-9816b42a5885",
   "metadata": {},
   "outputs": [
    {
     "data": {
      "text/plain": [
       "125"
      ]
     },
     "execution_count": 17,
     "metadata": {},
     "output_type": "execute_result"
    }
   ],
   "source": [
    "len(poi_ts_vv)"
   ]
  },
  {
   "cell_type": "code",
   "execution_count": null,
   "id": "dd8c56aa-1ec0-4ae5-be28-63a7919d6256",
   "metadata": {},
   "outputs": [],
   "source": []
  }
 ],
 "metadata": {
  "kernelspec": {
   "display_name": "Python 3",
   "language": "python",
   "name": "python3"
  },
  "language_info": {
   "codemirror_mode": {
    "name": "ipython",
    "version": 3
   },
   "file_extension": ".py",
   "mimetype": "text/x-python",
   "name": "python",
   "nbconvert_exporter": "python",
   "pygments_lexer": "ipython3",
   "version": "3.7.13"
  }
 },
 "nbformat": 4,
 "nbformat_minor": 5
}
