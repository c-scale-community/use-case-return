{
 "cells": [
  {
   "cell_type": "markdown",
   "id": "830080ff-dabf-4d73-a9af-d21f7940de8d",
   "metadata": {},
   "source": [
    "## Plot time seres from a specifed location using the yeoda modole to query the EODC S1 datacube"
   ]
  },
  {
   "cell_type": "code",
   "execution_count": 1,
   "id": "e23bdd37-cf3e-4e9a-bca1-de32d6dd377c",
   "metadata": {},
   "outputs": [],
   "source": [
    "import os, osr, glob\n",
    "import matplotlib.pyplot as plt\n",
    "%matplotlib inline\n",
    "from datetime import datetime\n",
    "import pandas as pd\n",
    "# import TUW packages\n",
    "from yeoda.products.preprocessed import SIG0DataCube\n",
    "from geopathfinder.naming_conventions.yeoda_naming import YeodaFilename"
   ]
  },
  {
   "cell_type": "markdown",
   "id": "159432e4-83fc-4206-8f51-794c4c18bc41",
   "metadata": {
    "jp-MarkdownHeadingCollapsed": true,
    "tags": []
   },
   "source": [
    "Specify the folder with a S1 datacube (a 300x300 m<sup>2</sup> Equi7Tile)"
   ]
  },
  {
   "cell_type": "code",
   "execution_count": 2,
   "id": "442ec10a-a468-440d-aee3-ec9e61e0e3d4",
   "metadata": {},
   "outputs": [],
   "source": [
    "#tile_dirpath = r'/project/return/Share/EODC_SA020M/V01R01/E051N060T3'\n",
    "tile_dirpath = r'/project/return/Share/EODC_SA020M/V01R01/E078N066T3'\n",
    "# specify other parameters:\n",
    "dimensions=['time', 'band', 'extra_field', 'sensor_field']\n",
    "filepaths = glob.glob(os.path.join(tile_dirpath,'*.tif'))"
   ]
  },
  {
   "cell_type": "markdown",
   "id": "041a38d1-1615-43f0-8fa9-3e90089464cf",
   "metadata": {},
   "source": [
    "Read the datacube:"
   ]
  },
  {
   "cell_type": "code",
   "execution_count": 3,
   "id": "f3c93138-71b3-4590-b847-eb57d6812bdd",
   "metadata": {
    "tags": []
   },
   "outputs": [
    {
     "data": {
      "text/html": [
       "<div>\n",
       "<style scoped>\n",
       "    .dataframe tbody tr th:only-of-type {\n",
       "        vertical-align: middle;\n",
       "    }\n",
       "\n",
       "    .dataframe tbody tr th {\n",
       "        vertical-align: top;\n",
       "    }\n",
       "\n",
       "    .dataframe thead th {\n",
       "        text-align: right;\n",
       "    }\n",
       "</style>\n",
       "<table border=\"1\" class=\"dataframe\">\n",
       "  <thead>\n",
       "    <tr style=\"text-align: right;\">\n",
       "      <th></th>\n",
       "      <th>time</th>\n",
       "      <th>band</th>\n",
       "      <th>extra_field</th>\n",
       "      <th>sensor_field</th>\n",
       "      <th>var_name</th>\n",
       "      <th>tile_name</th>\n",
       "    </tr>\n",
       "  </thead>\n",
       "  <tbody>\n",
       "    <tr>\n",
       "      <th>0</th>\n",
       "      <td>2019-09-24 09:22:59</td>\n",
       "      <td>VH</td>\n",
       "      <td>D039</td>\n",
       "      <td>S1AIWGRDH</td>\n",
       "      <td>SIG0</td>\n",
       "      <td>E078N066T3</td>\n",
       "    </tr>\n",
       "    <tr>\n",
       "      <th>1</th>\n",
       "      <td>2020-11-18 09:14:33</td>\n",
       "      <td>VH</td>\n",
       "      <td>D141</td>\n",
       "      <td>S1B</td>\n",
       "      <td>SIG0</td>\n",
       "      <td>E078N066T3</td>\n",
       "    </tr>\n",
       "    <tr>\n",
       "      <th>2</th>\n",
       "      <td>2020-06-21 09:15:13</td>\n",
       "      <td>VV</td>\n",
       "      <td>D141</td>\n",
       "      <td>S1A</td>\n",
       "      <td>SIG0</td>\n",
       "      <td>E078N066T3</td>\n",
       "    </tr>\n",
       "    <tr>\n",
       "      <th>3</th>\n",
       "      <td>2019-02-03 09:14:37</td>\n",
       "      <td>VV</td>\n",
       "      <td>D141</td>\n",
       "      <td>S1AIWGRDH</td>\n",
       "      <td>SIG0</td>\n",
       "      <td>E078N066T3</td>\n",
       "    </tr>\n",
       "    <tr>\n",
       "      <th>4</th>\n",
       "      <td>2019-02-08 09:23:15</td>\n",
       "      <td>VH</td>\n",
       "      <td>D039</td>\n",
       "      <td>S1AIWGRDH</td>\n",
       "      <td>SIG0</td>\n",
       "      <td>E078N066T3</td>\n",
       "    </tr>\n",
       "  </tbody>\n",
       "</table>\n",
       "</div>"
      ],
      "text/plain": [
       "                 time band extra_field sensor_field var_name   tile_name\n",
       "0 2019-09-24 09:22:59   VH        D039    S1AIWGRDH     SIG0  E078N066T3\n",
       "1 2020-11-18 09:14:33   VH        D141          S1B     SIG0  E078N066T3\n",
       "2 2020-06-21 09:15:13   VV        D141          S1A     SIG0  E078N066T3\n",
       "3 2019-02-03 09:14:37   VV        D141    S1AIWGRDH     SIG0  E078N066T3\n",
       "4 2019-02-08 09:23:15   VH        D039    S1AIWGRDH     SIG0  E078N066T3"
      ]
     },
     "execution_count": 3,
     "metadata": {},
     "output_type": "execute_result"
    }
   ],
   "source": [
    "sig0_dc = SIG0DataCube(filepaths=filepaths, dimensions=dimensions, filename_class=YeodaFilename, sres=20, continent='SA')\n",
    "# get info:\n",
    "sig0_dc.inventory[dimensions].head(5)"
   ]
  },
  {
   "cell_type": "markdown",
   "id": "bc0bb1be-e006-4ce6-9638-a6c4d7189dac",
   "metadata": {},
   "source": [
    "Filter by date:"
   ]
  },
  {
   "cell_type": "code",
   "execution_count": 4,
   "id": "83f16e0d-9aa7-4788-8f51-98e5da2bf39f",
   "metadata": {
    "tags": []
   },
   "outputs": [
    {
     "data": {
      "text/plain": [
       "                                              filepath                time  \\\n",
       "0    /project/return/Share/EODC_SA020M/V01R01/E078N... 2020-11-18 09:14:33   \n",
       "1    /project/return/Share/EODC_SA020M/V01R01/E078N... 2020-06-21 09:15:13   \n",
       "2    /project/return/Share/EODC_SA020M/V01R01/E078N... 2020-08-25 09:23:05   \n",
       "3    /project/return/Share/EODC_SA020M/V01R01/E078N... 2020-09-19 09:14:33   \n",
       "4    /project/return/Share/EODC_SA020M/V01R01/E078N... 2020-06-15 09:14:28   \n",
       "..                                                 ...                 ...   \n",
       "515  /project/return/Share/EODC_SA020M/V01R01/E078N... 2020-04-03 09:22:32   \n",
       "516  /project/return/Share/EODC_SA020M/V01R01/E078N... 2020-06-09 09:15:12   \n",
       "517  /project/return/Share/EODC_SA020M/V01R01/E078N... 2020-10-21 22:05:48   \n",
       "518  /project/return/Share/EODC_SA020M/V01R01/E078N... 2020-08-20 09:14:26   \n",
       "519  /project/return/Share/EODC_SA020M/V01R01/E078N... 2020-02-03 09:23:22   \n",
       "\n",
       "    band extra_field sensor_field var_name   tile_name  \n",
       "0     VH        D141          S1B     SIG0  E078N066T3  \n",
       "1     VV        D141          S1A     SIG0  E078N066T3  \n",
       "2     VH        D039    S1AIWGRDH     SIG0  E078N066T3  \n",
       "3     VH        D141    S1BIWGRDH     SIG0  E078N066T3  \n",
       "4     VV        D141          S1B     SIG0  E078N066T3  \n",
       "..   ...         ...          ...      ...         ...  \n",
       "515   VH        D039          S1A     SIG0  E078N066T3  \n",
       "516   VV        D141          S1A     SIG0  E078N066T3  \n",
       "517   VH        A090          S1B     SIG0  E078N066T3  \n",
       "518   VH        D141          S1A     SIG0  E078N066T3  \n",
       "519   VH        D039          S1A     SIG0  E078N066T3  \n",
       "\n",
       "[520 rows x 7 columns]"
      ]
     },
     "execution_count": 4,
     "metadata": {},
     "output_type": "execute_result"
    }
   ],
   "source": [
    "toi_start, toi_end = datetime(2020, 1, 1), datetime(2021, 1, 1)\n",
    "sig0_dc.filter_by_dimension([(toi_start, toi_end)], [(\">\", \"<\")], name=\"time\", inplace=True)"
   ]
  },
  {
   "cell_type": "markdown",
   "id": "f08e68ab-34ee-40f7-a290-5571de6576c0",
   "metadata": {},
   "source": [
    "Select bands:"
   ]
  },
  {
   "cell_type": "code",
   "execution_count": 5,
   "id": "01018726-e009-4296-8b7f-d5499d7aaff8",
   "metadata": {},
   "outputs": [],
   "source": [
    "sig0_vv_dc = sig0_dc.filter_by_dimension('VV', name='band')\n",
    "sig0_vh_dc = sig0_dc.filter_by_dimension('VH', name='band')"
   ]
  },
  {
   "cell_type": "markdown",
   "id": "199558b4-66e4-4960-8552-0a2d62cfbad5",
   "metadata": {},
   "source": [
    "Get a time series for a point of interest:"
   ]
  },
  {
   "cell_type": "code",
   "execution_count": 6,
   "id": "edaa0ed1-1f56-44d2-939c-81f455bd865f",
   "metadata": {},
   "outputs": [],
   "source": [
    "#poi = (-8.345586, -78.70486)\n",
    "poi = (-2.70919, -54.95610)\n",
    "sref = osr.SpatialReference()\n",
    "sref.ImportFromEPSG(4326)\n",
    "sig0_vv_ts = sig0_vv_dc.load_by_coords(*poi, sref=sref, dtype='numpy')\n",
    "sig0_vh_ts = sig0_vh_dc.load_by_coords(*poi, sref=sref, dtype='numpy')"
   ]
  },
  {
   "cell_type": "markdown",
   "id": "4113eb8a-873a-4160-8643-7ca1b0a80fe5",
   "metadata": {},
   "source": [
    "make a pandas series object:"
   ]
  },
  {
   "cell_type": "code",
   "execution_count": 7,
   "id": "95d21b4c-d490-492a-9ce5-476e634a7659",
   "metadata": {},
   "outputs": [
    {
     "data": {
      "text/plain": [
       "time\n",
       "2020-08-25 09:23:05   -1.448\n",
       "2020-05-09 09:22:58   -1.435\n",
       "2020-06-14 09:23:00   -1.313\n",
       "2020-09-06 09:23:05   -1.530\n",
       "2020-06-26 09:23:01   -1.553\n",
       "dtype: float64"
      ]
     },
     "execution_count": 7,
     "metadata": {},
     "output_type": "execute_result"
    }
   ],
   "source": [
    "# note taht the datacube bacscatter values have to be divided by 100 to get the backscatter in dB-s \n",
    "poi_ts_vh = pd.Series(sig0_vh_ts[:, 0, 0]/100, index=sig0_vh_dc['time'])\n",
    "poi_ts_vh.dropna(inplace=True)\n",
    "poi_ts_vh.head(5)"
   ]
  },
  {
   "cell_type": "code",
   "execution_count": 8,
   "id": "219ee23c-7358-4b38-a511-727e532464f7",
   "metadata": {},
   "outputs": [
    {
     "data": {
      "text/plain": [
       "time\n",
       "2020-05-21 09:22:59   -0.656\n",
       "2020-08-25 09:23:05   -0.927\n",
       "2020-09-30 09:23:06   -0.841\n",
       "2020-12-11 09:23:05   -0.921\n",
       "2020-11-29 09:23:05   -0.778\n",
       "dtype: float64"
      ]
     },
     "execution_count": 8,
     "metadata": {},
     "output_type": "execute_result"
    }
   ],
   "source": [
    "poi_ts_vv = pd.Series(sig0_vv_ts[:, 0, 0]/100, index=sig0_vv_dc['time'])\n",
    "poi_ts_vv.dropna(inplace=True)\n",
    "poi_ts_vv.head(5)"
   ]
  },
  {
   "cell_type": "markdown",
   "id": "4de5fcb5-dfcd-4c0c-88fa-d43eb5aa66fe",
   "metadata": {},
   "source": [
    "Plot a timeseries:"
   ]
  },
  {
   "cell_type": "code",
   "execution_count": 9,
   "id": "38558339-680a-4fa0-b6ba-58fd00dcb0e4",
   "metadata": {},
   "outputs": [
    {
     "data": {
      "text/plain": [
       "<AxesSubplot:xlabel='Time', ylabel='Bacscatter Intensity [dB]'>"
      ]
     },
     "execution_count": 9,
     "metadata": {},
     "output_type": "execute_result"
    },
    {
     "data": {
      "image/png": "[encoded data removed]",
      "text/plain": [
       "<Figure size 1008x288 with 1 Axes>"
      ]
     },
     "metadata": {
      "needs_background": "light"
     },
     "output_type": "display_data"
    }
   ],
   "source": [
    "# create xticks\n",
    "my_xticks = pd.date_range(datetime(2017,1,1), datetime(2022,1,1), freq='YS')\n",
    "poi_ts_vv.plot(style='bo-', xticks=my_xticks,  grid=True, figsize=(14,4), label='VV band', legend=True, xlabel='Time', ylabel='Bacscatter Intensity [dB]')\n",
    "poi_ts_vh.plot(style='ro-', xticks=my_xticks,  grid=True, figsize=(14,4), label='VH band', legend=True, xlabel='Time', ylabel='Bacscatter Intensity [dB]')"
   ]
  }
 ],
 "metadata": {
  "kernelspec": {
   "display_name": "Python 3",
   "language": "python",
   "name": "python3"
  },
  "language_info": {
   "codemirror_mode": {
    "name": "ipython",
    "version": 3
   },
   "file_extension": ".py",
   "mimetype": "text/x-python",
   "name": "python",
   "nbconvert_exporter": "python",
   "pygments_lexer": "ipython3",
   "version": "3.7.13"
  }
 },
 "nbformat": 4,
 "nbformat_minor": 5
}
