{
 "cells": [
  {
   "cell_type": "markdown",
   "id": "006217e4-3993-4c5e-8750-b0832b338e8a",
   "metadata": {
    "tags": []
   },
   "source": [
    "## simple debug setup"
   ]
  },
  {
   "cell_type": "code",
   "execution_count": 1,
   "id": "0d731dd9-1564-4b80-ad7c-5d27e6c921df",
   "metadata": {},
   "outputs": [],
   "source": [
    "from process_Equi7tile import process_Equi7tile"
   ]
  },
  {
   "cell_type": "code",
   "execution_count": null,
   "id": "4b259a95-17ce-4cca-a824-07695284b56a",
   "metadata": {},
   "outputs": [],
   "source": [
    "ds_vv, ds_vh = process_Equi7tile('E078N066T3', 15, 15, 1000, '/home/return-mmilenkovic/mm_tools/use-case-return/')"
   ]
  },
  {
   "cell_type": "code",
   "execution_count": null,
   "id": "b5ff8787-b9c5-46b8-8766-fff4217db3ce",
   "metadata": {},
   "outputs": [],
   "source": [
    "ds_vv.to_netcdf(r'test1_vv_export.nc')"
   ]
  },
  {
   "cell_type": "code",
   "execution_count": null,
   "id": "fb34a201-876c-4813-bf91-b9491ebe8cfb",
   "metadata": {},
   "outputs": [],
   "source": [
    "ds_vh.to_netcdf(r'test1_vh_export.nc')"
   ]
  },
  {
   "cell_type": "code",
   "execution_count": null,
   "id": "b0d25cd9-816f-4cf6-b771-aed7c7f49391",
   "metadata": {},
   "outputs": [],
   "source": [
    "pwd"
   ]
  },
  {
   "cell_type": "code",
   "execution_count": null,
   "id": "fe2765c7-6c48-4829-a775-0143f877ee03",
   "metadata": {},
   "outputs": [],
   "source": [
    "ds_vv.max_mag_date"
   ]
  },
  {
   "cell_type": "code",
   "execution_count": null,
   "id": "226b2011-43b9-4cec-9777-ba5793aab801",
   "metadata": {},
   "outputs": [],
   "source": [
    "# this is with correct output:\n",
    "ds_vv2, ds_vh2 = process_Equi7tile('E078N066T3', 1, 4, 1000, '/home/return-mmilenkovic/mm_tools/use-case-return/')"
   ]
  },
  {
   "cell_type": "code",
   "execution_count": null,
   "id": "03f177fb-b837-4a2b-9525-d28c8cedb06f",
   "metadata": {},
   "outputs": [],
   "source": [
    "ds_vv2.max_mag_date"
   ]
  }
 ],
 "metadata": {
  "kernelspec": {
   "display_name": "Python 3 (ipykernel)",
   "language": "python",
   "name": "python3"
  },
  "language_info": {
   "codemirror_mode": {
    "name": "ipython",
    "version": 3
   },
   "file_extension": ".py",
   "mimetype": "text/x-python",
   "name": "python",
   "nbconvert_exporter": "python",
   "pygments_lexer": "ipython3",
   "version": "3.7.13"
  }
 },
 "nbformat": 4,
 "nbformat_minor": 5
}
