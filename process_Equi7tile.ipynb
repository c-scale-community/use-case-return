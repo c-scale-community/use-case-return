{
 "cells": [
  {
   "cell_type": "markdown",
   "id": "006217e4-3993-4c5e-8750-b0832b338e8a",
   "metadata": {
    "tags": []
   },
   "source": [
    "## Apply the time seres analysis per each x, y location (pixel) within a single Equi7grid tile"
   ]
  },
  {
   "cell_type": "code",
   "execution_count": 2,
   "id": "e23bdd37-cf3e-4e9a-bca1-de32d6dd377c",
   "metadata": {},
   "outputs": [],
   "source": [
    "import numpy as np\n",
    "import os, osr, glob\n",
    "import matplotlib.pyplot as plt\n",
    "%matplotlib inline\n",
    "from datetime import datetime\n",
    "import pandas as pd\n",
    "import xarray as xr\n",
    "import rioxarray\n",
    "# import TUW packages\n",
    "from yeoda.products.preprocessed import SIG0DataCube\n",
    "from geopathfinder.naming_conventions.yeoda_naming import YeodaFilename\n",
    "#\n",
    "%load_ext autoreload\n",
    "%autoreload 2\n",
    "%reload_ext autoreload\n",
    "# import my aux functions\n",
    "from auxilary_ts_tools_mm import plot_TS_fromPandaSeres, features_from_S1_TS, features_as_xrrray_ufunc"
   ]
  },
  {
   "cell_type": "markdown",
   "id": "159432e4-83fc-4206-8f51-794c4c18bc41",
   "metadata": {
    "jp-MarkdownHeadingCollapsed": true,
    "tags": []
   },
   "source": [
    "Specify the folders with a S1 datacube (a 300x300 m<sup>2</sup> Equi7Tile)"
   ]
  },
  {
   "cell_type": "code",
   "execution_count": 2,
   "id": "442ec10a-a468-440d-aee3-ec9e61e0e3d4",
   "metadata": {},
   "outputs": [],
   "source": [
    "tile_dir1_path = r'/project/return/Share/EODC_SA020M/V01R01/E078N066T3'\n",
    "tile_dir2_path = r'/project/return/Share/EODC_SA020M/V1M0R1/E078N066T3'\n",
    "# specify other parameters:\n",
    "dimensions=['time', 'band', 'extra_field', 'sensor_field']\n",
    "#\n",
    "filepaths1 = glob.glob(os.path.join(tile_dir1_path,'*.tif'))\n",
    "filepaths2 = glob.glob(os.path.join(tile_dir2_path,'*.tif'))"
   ]
  },
  {
   "cell_type": "markdown",
   "id": "b7d7b85d-61db-410e-bd38-7e570f0e9192",
   "metadata": {},
   "source": [
    "Get the lists of all tiles in the two folders with data and check if they are identical:"
   ]
  },
  {
   "cell_type": "code",
   "execution_count": 70,
   "id": "82646bec-694e-4f8d-867e-281d891f6b88",
   "metadata": {},
   "outputs": [],
   "source": [
    "tile_names1 = [os.path.basename(aa) for aa in glob.glob(r'/project/return/Share/EODC_SA020M/V01R01/*')]\n",
    "tile_names2 = [os.path.basename(aa) for aa in glob.glob(r'/project/return/Share/EODC_SA020M/V1M0R1/*')]"
   ]
  },
  {
   "cell_type": "code",
   "execution_count": 72,
   "id": "f84dd649-d19c-4110-b794-5db356a5215c",
   "metadata": {},
   "outputs": [
    {
     "data": {
      "text/plain": [
       "107"
      ]
     },
     "execution_count": 72,
     "metadata": {},
     "output_type": "execute_result"
    }
   ],
   "source": [
    "len(tile_names1)"
   ]
  },
  {
   "cell_type": "code",
   "execution_count": 73,
   "id": "a112e4bb-1b3e-4c26-b303-0bea2083e618",
   "metadata": {},
   "outputs": [
    {
     "data": {
      "text/plain": [
       "106"
      ]
     },
     "execution_count": 73,
     "metadata": {},
     "output_type": "execute_result"
    }
   ],
   "source": [
    "len(tile_names2)"
   ]
  },
  {
   "cell_type": "markdown",
   "id": "1494cd28-caf6-42ed-a175-e9e24ef5de56",
   "metadata": {},
   "source": [
    "The tile that is missing in EODC_SA020M/V1M0R1"
   ]
  },
  {
   "cell_type": "code",
   "execution_count": 106,
   "id": "7eaee946-da02-421d-a332-ffe4691e80fa",
   "metadata": {},
   "outputs": [
    {
     "data": {
      "text/plain": [
       "'E078N078T3'"
      ]
     },
     "execution_count": 106,
     "metadata": {},
     "output_type": "execute_result"
    }
   ],
   "source": [
    "tile_names1[np.where(~np.isin(tile_names1, tile_names2))[0][0]]"
   ]
  },
  {
   "cell_type": "markdown",
   "id": "8ba7deec-4470-49ad-b2a9-5621a3128955",
   "metadata": {},
   "source": [
    "Read the datacube:"
   ]
  },
  {
   "cell_type": "code",
   "execution_count": 107,
   "id": "f3c93138-71b3-4590-b847-eb57d6812bdd",
   "metadata": {
    "tags": []
   },
   "outputs": [
    {
     "data": {
      "text/html": [
       "<div>\n",
       "<style scoped>\n",
       "    .dataframe tbody tr th:only-of-type {\n",
       "        vertical-align: middle;\n",
       "    }\n",
       "\n",
       "    .dataframe tbody tr th {\n",
       "        vertical-align: top;\n",
       "    }\n",
       "\n",
       "    .dataframe thead th {\n",
       "        text-align: right;\n",
       "    }\n",
       "</style>\n",
       "<table border=\"1\" class=\"dataframe\">\n",
       "  <thead>\n",
       "    <tr style=\"text-align: right;\">\n",
       "      <th></th>\n",
       "      <th>time</th>\n",
       "      <th>band</th>\n",
       "      <th>extra_field</th>\n",
       "      <th>sensor_field</th>\n",
       "      <th>var_name</th>\n",
       "      <th>tile_name</th>\n",
       "    </tr>\n",
       "  </thead>\n",
       "  <tbody>\n",
       "    <tr>\n",
       "      <th>0</th>\n",
       "      <td>2016-11-26 09:22:09</td>\n",
       "      <td>VH</td>\n",
       "      <td>D039</td>\n",
       "      <td>S1AIWGRDH</td>\n",
       "      <td>SIG0</td>\n",
       "      <td>E078N066T3</td>\n",
       "    </tr>\n",
       "    <tr>\n",
       "      <th>1</th>\n",
       "      <td>2018-01-20 09:22:44</td>\n",
       "      <td>VH</td>\n",
       "      <td>D039</td>\n",
       "      <td>S1AIWGRDH</td>\n",
       "      <td>SIG0</td>\n",
       "      <td>E078N066T3</td>\n",
       "    </tr>\n",
       "    <tr>\n",
       "      <th>2</th>\n",
       "      <td>2017-05-20 09:14:52</td>\n",
       "      <td>VH</td>\n",
       "      <td>D141</td>\n",
       "      <td>S1AIWGRDH</td>\n",
       "      <td>SIG0</td>\n",
       "      <td>E078N066T3</td>\n",
       "    </tr>\n",
       "    <tr>\n",
       "      <th>3</th>\n",
       "      <td>2017-04-14 09:13:55</td>\n",
       "      <td>VH</td>\n",
       "      <td>D141</td>\n",
       "      <td>S1AIWGRDH</td>\n",
       "      <td>SIG0</td>\n",
       "      <td>E078N066T3</td>\n",
       "    </tr>\n",
       "    <tr>\n",
       "      <th>4</th>\n",
       "      <td>2017-11-21 09:22:21</td>\n",
       "      <td>VH</td>\n",
       "      <td>D039</td>\n",
       "      <td>S1AIWGRDH</td>\n",
       "      <td>SIG0</td>\n",
       "      <td>E078N066T3</td>\n",
       "    </tr>\n",
       "  </tbody>\n",
       "</table>\n",
       "</div>"
      ],
      "text/plain": [
       "                 time band extra_field sensor_field var_name   tile_name\n",
       "0 2016-11-26 09:22:09   VH        D039    S1AIWGRDH     SIG0  E078N066T3\n",
       "1 2018-01-20 09:22:44   VH        D039    S1AIWGRDH     SIG0  E078N066T3\n",
       "2 2017-05-20 09:14:52   VH        D141    S1AIWGRDH     SIG0  E078N066T3\n",
       "3 2017-04-14 09:13:55   VH        D141    S1AIWGRDH     SIG0  E078N066T3\n",
       "4 2017-11-21 09:22:21   VH        D039    S1AIWGRDH     SIG0  E078N066T3"
      ]
     },
     "execution_count": 107,
     "metadata": {},
     "output_type": "execute_result"
    }
   ],
   "source": [
    "sig0_dc1 = SIG0DataCube(filepaths=filepaths1, dimensions=dimensions, filename_class=YeodaFilename, sres=20, continent='SA')\n",
    "sig0_dc2 = SIG0DataCube(filepaths=filepaths2, dimensions=dimensions, filename_class=YeodaFilename, sres=20, continent='SA')\n",
    "# get info:\n",
    "sig0_dc2.inventory[dimensions].head(5)"
   ]
  },
  {
   "cell_type": "markdown",
   "id": "bc0bb1be-e006-4ce6-9638-a6c4d7189dac",
   "metadata": {},
   "source": [
    "Filter by date:"
   ]
  },
  {
   "cell_type": "code",
   "execution_count": 108,
   "id": "83f16e0d-9aa7-4788-8f51-98e5da2bf39f",
   "metadata": {
    "tags": []
   },
   "outputs": [],
   "source": [
    "toi_start, toi_end = datetime(2017, 1, 1), datetime(2021, 1, 1)\n",
    "sig0_dc1 = sig0_dc1.filter_by_dimension([(toi_start, toi_end)], [(\">=\", \"<\")], name=\"time\", inplace=True)\n",
    "sig0_dc2 = sig0_dc2.filter_by_dimension([(toi_start, toi_end)], [(\">=\", \"<\")], name=\"time\", inplace=True)"
   ]
  },
  {
   "cell_type": "markdown",
   "id": "f08e68ab-34ee-40f7-a290-5571de6576c0",
   "metadata": {},
   "source": [
    "Select bands:"
   ]
  },
  {
   "cell_type": "code",
   "execution_count": 109,
   "id": "01018726-e009-4296-8b7f-d5499d7aaff8",
   "metadata": {},
   "outputs": [],
   "source": [
    "sig0_vv_dc1 = sig0_dc1.filter_by_dimension('VV', name='band')\n",
    "sig0_vh_dc1 = sig0_dc1.filter_by_dimension('VH', name='band')\n",
    "#\n",
    "sig0_vv_dc2 = sig0_dc2.filter_by_dimension('VV', name='band')\n",
    "sig0_vh_dc2 = sig0_dc2.filter_by_dimension('VH', name='band')"
   ]
  },
  {
   "cell_type": "markdown",
   "id": "5be7563e-3f96-4322-862e-07456b4027ca",
   "metadata": {},
   "source": [
    "Merge and sort the datacubes:"
   ]
  },
  {
   "cell_type": "code",
   "execution_count": 110,
   "id": "889096df-2cf7-4641-aff2-6f524b9702ba",
   "metadata": {},
   "outputs": [
    {
     "data": {
      "text/html": [
       "<div>\n",
       "<style scoped>\n",
       "    .dataframe tbody tr th:only-of-type {\n",
       "        vertical-align: middle;\n",
       "    }\n",
       "\n",
       "    .dataframe tbody tr th {\n",
       "        vertical-align: top;\n",
       "    }\n",
       "\n",
       "    .dataframe thead th {\n",
       "        text-align: right;\n",
       "    }\n",
       "</style>\n",
       "<table border=\"1\" class=\"dataframe\">\n",
       "  <thead>\n",
       "    <tr style=\"text-align: right;\">\n",
       "      <th></th>\n",
       "      <th>filepath</th>\n",
       "      <th>time</th>\n",
       "      <th>band</th>\n",
       "      <th>extra_field</th>\n",
       "      <th>sensor_field</th>\n",
       "      <th>var_name</th>\n",
       "      <th>tile_name</th>\n",
       "    </tr>\n",
       "  </thead>\n",
       "  <tbody>\n",
       "    <tr>\n",
       "      <th>732</th>\n",
       "      <td>/project/return/Share/EODC_SA020M/V1M0R1/E078N...</td>\n",
       "      <td>2017-01-01 09:22:07</td>\n",
       "      <td>VV</td>\n",
       "      <td>D039</td>\n",
       "      <td>S1AIWGRDH</td>\n",
       "      <td>SIG0</td>\n",
       "      <td>E078N066T3</td>\n",
       "    </tr>\n",
       "    <tr>\n",
       "      <th>452</th>\n",
       "      <td>/project/return/Share/EODC_SA020M/V1M0R1/E078N...</td>\n",
       "      <td>2017-01-01 09:22:32</td>\n",
       "      <td>VV</td>\n",
       "      <td>D039</td>\n",
       "      <td>S1AIWGRDH</td>\n",
       "      <td>SIG0</td>\n",
       "      <td>E078N066T3</td>\n",
       "    </tr>\n",
       "    <tr>\n",
       "      <th>537</th>\n",
       "      <td>/project/return/Share/EODC_SA020M/V1M0R1/E078N...</td>\n",
       "      <td>2017-01-01 09:22:57</td>\n",
       "      <td>VV</td>\n",
       "      <td>D039</td>\n",
       "      <td>S1AIWGRDH</td>\n",
       "      <td>SIG0</td>\n",
       "      <td>E078N066T3</td>\n",
       "    </tr>\n",
       "    <tr>\n",
       "      <th>630</th>\n",
       "      <td>/project/return/Share/EODC_SA020M/V1M0R1/E078N...</td>\n",
       "      <td>2017-01-08 09:13:54</td>\n",
       "      <td>VV</td>\n",
       "      <td>D141</td>\n",
       "      <td>S1AIWGRDH</td>\n",
       "      <td>SIG0</td>\n",
       "      <td>E078N066T3</td>\n",
       "    </tr>\n",
       "    <tr>\n",
       "      <th>782</th>\n",
       "      <td>/project/return/Share/EODC_SA020M/V1M0R1/E078N...</td>\n",
       "      <td>2017-01-08 09:14:19</td>\n",
       "      <td>VV</td>\n",
       "      <td>D141</td>\n",
       "      <td>S1AIWGRDH</td>\n",
       "      <td>SIG0</td>\n",
       "      <td>E078N066T3</td>\n",
       "    </tr>\n",
       "    <tr>\n",
       "      <th>...</th>\n",
       "      <td>...</td>\n",
       "      <td>...</td>\n",
       "      <td>...</td>\n",
       "      <td>...</td>\n",
       "      <td>...</td>\n",
       "      <td>...</td>\n",
       "      <td>...</td>\n",
       "    </tr>\n",
       "    <tr>\n",
       "      <th>31</th>\n",
       "      <td>/project/return/Share/EODC_SA020M/V01R01/E078N...</td>\n",
       "      <td>2020-12-23 09:23:29</td>\n",
       "      <td>VV</td>\n",
       "      <td>D039</td>\n",
       "      <td>S1A</td>\n",
       "      <td>SIG0</td>\n",
       "      <td>E078N066T3</td>\n",
       "    </tr>\n",
       "    <tr>\n",
       "      <th>87</th>\n",
       "      <td>/project/return/Share/EODC_SA020M/V01R01/E078N...</td>\n",
       "      <td>2020-12-29 09:22:39</td>\n",
       "      <td>VV</td>\n",
       "      <td>D039</td>\n",
       "      <td>S1B</td>\n",
       "      <td>SIG0</td>\n",
       "      <td>E078N066T3</td>\n",
       "    </tr>\n",
       "    <tr>\n",
       "      <th>319</th>\n",
       "      <td>/project/return/Share/EODC_SA020M/V01R01/E078N...</td>\n",
       "      <td>2020-12-30 09:14:26</td>\n",
       "      <td>VV</td>\n",
       "      <td>D141</td>\n",
       "      <td>S1A</td>\n",
       "      <td>SIG0</td>\n",
       "      <td>E078N066T3</td>\n",
       "    </tr>\n",
       "    <tr>\n",
       "      <th>222</th>\n",
       "      <td>/project/return/Share/EODC_SA020M/V01R01/E078N...</td>\n",
       "      <td>2020-12-30 09:14:51</td>\n",
       "      <td>VV</td>\n",
       "      <td>D141</td>\n",
       "      <td>S1A</td>\n",
       "      <td>SIG0</td>\n",
       "      <td>E078N066T3</td>\n",
       "    </tr>\n",
       "    <tr>\n",
       "      <th>231</th>\n",
       "      <td>/project/return/Share/EODC_SA020M/V01R01/E078N...</td>\n",
       "      <td>2020-12-30 09:15:16</td>\n",
       "      <td>VV</td>\n",
       "      <td>D141</td>\n",
       "      <td>S1A</td>\n",
       "      <td>SIG0</td>\n",
       "      <td>E078N066T3</td>\n",
       "    </tr>\n",
       "  </tbody>\n",
       "</table>\n",
       "<p>818 rows × 7 columns</p>\n",
       "</div>"
      ],
      "text/plain": [
       "                                              filepath                time  \\\n",
       "732  /project/return/Share/EODC_SA020M/V1M0R1/E078N... 2017-01-01 09:22:07   \n",
       "452  /project/return/Share/EODC_SA020M/V1M0R1/E078N... 2017-01-01 09:22:32   \n",
       "537  /project/return/Share/EODC_SA020M/V1M0R1/E078N... 2017-01-01 09:22:57   \n",
       "630  /project/return/Share/EODC_SA020M/V1M0R1/E078N... 2017-01-08 09:13:54   \n",
       "782  /project/return/Share/EODC_SA020M/V1M0R1/E078N... 2017-01-08 09:14:19   \n",
       "..                                                 ...                 ...   \n",
       "31   /project/return/Share/EODC_SA020M/V01R01/E078N... 2020-12-23 09:23:29   \n",
       "87   /project/return/Share/EODC_SA020M/V01R01/E078N... 2020-12-29 09:22:39   \n",
       "319  /project/return/Share/EODC_SA020M/V01R01/E078N... 2020-12-30 09:14:26   \n",
       "222  /project/return/Share/EODC_SA020M/V01R01/E078N... 2020-12-30 09:14:51   \n",
       "231  /project/return/Share/EODC_SA020M/V01R01/E078N... 2020-12-30 09:15:16   \n",
       "\n",
       "    band extra_field sensor_field var_name   tile_name  \n",
       "732   VV        D039    S1AIWGRDH     SIG0  E078N066T3  \n",
       "452   VV        D039    S1AIWGRDH     SIG0  E078N066T3  \n",
       "537   VV        D039    S1AIWGRDH     SIG0  E078N066T3  \n",
       "630   VV        D141    S1AIWGRDH     SIG0  E078N066T3  \n",
       "782   VV        D141    S1AIWGRDH     SIG0  E078N066T3  \n",
       "..   ...         ...          ...      ...         ...  \n",
       "31    VV        D039          S1A     SIG0  E078N066T3  \n",
       "87    VV        D039          S1B     SIG0  E078N066T3  \n",
       "319   VV        D141          S1A     SIG0  E078N066T3  \n",
       "222   VV        D141          S1A     SIG0  E078N066T3  \n",
       "231   VV        D141          S1A     SIG0  E078N066T3  \n",
       "\n",
       "[818 rows x 7 columns]"
      ]
     },
     "execution_count": 110,
     "metadata": {},
     "output_type": "execute_result"
    }
   ],
   "source": [
    "sig0_vv_dc = sig0_vv_dc1.unite(sig0_vv_dc2)\n",
    "sig0_vv_dc = sig0_vv_dc.sort_by_dimension('time', ascending=True)\n",
    "#\n",
    "sig0_vh_dc = sig0_vh_dc1.unite(sig0_vh_dc2)\n",
    "sig0_vh_dc = sig0_vh_dc.sort_by_dimension('time', ascending=True)\n",
    "#\n",
    "sig0_vv_dc.inventory"
   ]
  },
  {
   "cell_type": "markdown",
   "id": "1035d78c-cc6e-41d3-a588-e3b767357fb4",
   "metadata": {},
   "source": [
    "Specify indexing for looping trough individual chunks within the Equi7grid tile:"
   ]
  },
  {
   "cell_type": "code",
   "execution_count": 111,
   "id": "77e83fa9-c62e-4e6a-b334-da3ed56514f6",
   "metadata": {},
   "outputs": [],
   "source": [
    "# read a raster to get the size of x and y coordinates:\n",
    "single_tif_ds = xr.open_dataset(sig0_vv_dc.inventory.filepath[20], engine=\"rasterio\") "
   ]
  },
  {
   "cell_type": "code",
   "execution_count": 112,
   "id": "030fbf0e-ef7f-4021-89f7-9ddfed5c2dfd",
   "metadata": {},
   "outputs": [],
   "source": [
    "my_chunk_size = 100\n",
    "#\n",
    "steps_row = np.arange(0, len(single_tif_ds.x)/my_chunk_size).astype(int)\n",
    "steps_col = np.arange(0, len(single_tif_ds.y)/my_chunk_size).astype(int)"
   ]
  },
  {
   "cell_type": "markdown",
   "id": "3d873821-2415-4394-822a-bb4d4f8ce857",
   "metadata": {},
   "source": [
    "Load data "
   ]
  },
  {
   "cell_type": "code",
   "execution_count": 113,
   "id": "97692034-acdf-4f6f-be7c-272e5e24a25d",
   "metadata": {},
   "outputs": [],
   "source": [
    "sig0_vv_dc_chunk1 = sig0_vv_dc.load_by_pixels(1000, 1000, row_size=100, col_size=100, dtype='xarray')\n",
    "sig0_vh_dc_chunk1 = sig0_vv_dc.load_by_pixels(1000, 1000, row_size=100, col_size=100, dtype='xarray')"
   ]
  },
  {
   "cell_type": "markdown",
   "id": "89ce98f4-7e6e-4079-bd7b-5bebdad5492e",
   "metadata": {},
   "source": [
    "Get info"
   ]
  },
  {
   "cell_type": "code",
   "execution_count": 114,
   "id": "a3728a21-5a90-409e-bc02-ffafeb61bb1d",
   "metadata": {},
   "outputs": [
    {
     "name": "stdout",
     "output_type": "stream",
     "text": [
      "<xarray.Dataset>\n",
      "Dimensions:  (time: 818, y: 100, x: 100)\n",
      "Coordinates:\n",
      "  * time     (time) datetime64[ns] 2017-01-01T09:22:07 ... 2020-12-30T09:15:16\n",
      "  * y        (y) float64 6.88e+06 6.88e+06 6.88e+06 ... 6.878e+06 6.878e+06\n",
      "  * x        (x) float64 7.82e+06 7.82e+06 7.82e+06 ... 7.822e+06 7.822e+06\n",
      "Data variables:\n",
      "    1        (time, y, x) float64 nan nan nan nan nan ... nan nan nan nan nan\n"
     ]
    }
   ],
   "source": [
    "print(sig0_vv_dc_chunk1)"
   ]
  },
  {
   "cell_type": "markdown",
   "id": "dc9f3403-168b-4f47-8349-20c22b4c331e",
   "metadata": {},
   "source": [
    "Get the in-memory size "
   ]
  },
  {
   "cell_type": "code",
   "execution_count": 115,
   "id": "3652f609-6ab6-42dc-9d63-f385e92359e4",
   "metadata": {},
   "outputs": [
    {
     "name": "stdout",
     "output_type": "stream",
     "text": [
      "Datacube size in memory is: 62.4 MB\n"
     ]
    }
   ],
   "source": [
    "print('Datacube size in memory is:', np.round(sig0_vv_dc_chunk1.nbytes/(1024*1024), 1), 'MB')"
   ]
  },
  {
   "cell_type": "markdown",
   "id": "024ef13d-bfe6-44b0-9f0c-a8e941f3e9c0",
   "metadata": {},
   "source": [
    "Rename the variavle"
   ]
  },
  {
   "cell_type": "code",
   "execution_count": 116,
   "id": "b952d80e-9a40-40d0-882c-4426d83abe2c",
   "metadata": {},
   "outputs": [],
   "source": [
    "sig0_vv_dc_chunk1 = sig0_vv_dc_chunk1.rename({'1':'sig0_vv'})"
   ]
  },
  {
   "cell_type": "code",
   "execution_count": 117,
   "id": "f53af592-ea76-4f3d-9f83-3b835b1802bf",
   "metadata": {},
   "outputs": [],
   "source": [
    "sig0_vh_dc_chunk1 = sig0_vh_dc_chunk1.rename({'1':'sig0_vh'})"
   ]
  },
  {
   "cell_type": "markdown",
   "id": "82e263f2-4e05-48fd-bba8-9fa0398b9f1b",
   "metadata": {},
   "source": [
    "Plot a time seres and inspect values:"
   ]
  },
  {
   "cell_type": "code",
   "execution_count": 118,
   "id": "819302ed-4dcc-4156-80b2-da13991e96c0",
   "metadata": {},
   "outputs": [
    {
     "data": {
      "text/plain": [
       "[<matplotlib.lines.Line2D at 0x7efc30e7ded0>]"
      ]
     },
     "execution_count": 118,
     "metadata": {},
     "output_type": "execute_result"
    },
    {
     "data": {
      "image/png": "[encoded data removed]",
      "text/plain": [
       "<Figure size 432x288 with 1 Axes>"
      ]
     },
     "metadata": {
      "needs_background": "light"
     },
     "output_type": "display_data"
    }
   ],
   "source": [
    "sig0_vv_dc_chunk1.sig0_vv.isel(x=0, y=0).dropna(dim='time').plot(linestyle='-', color='r')"
   ]
  },
  {
   "cell_type": "markdown",
   "id": "fdef91b2-41d1-4393-9d06-e4d410669f76",
   "metadata": {},
   "source": [
    "Rescale the data in 2019 and 2020"
   ]
  },
  {
   "cell_type": "code",
   "execution_count": 119,
   "id": "79cc1eba-5c71-41b5-8e44-48555cfb6587",
   "metadata": {},
   "outputs": [],
   "source": [
    "sig0_vv_dc_chunk1['sig0_vv'].loc[slice('2019-1-1','2021-1-1'), :, :] = sig0_vv_dc_chunk1.sel(time=slice('2019-1-1','2021-1-1')).apply(lambda x: np.round(x/10.,1)).sig0_vv.values\n",
    "sig0_vh_dc_chunk1['sig0_vh'].loc[slice('2019-1-1','2021-1-1'), :, :] = sig0_vh_dc_chunk1.sel(time=slice('2019-1-1','2021-1-1')).apply(lambda x: np.round(x/10.,1)).sig0_vh.values"
   ]
  },
  {
   "cell_type": "code",
   "execution_count": 120,
   "id": "95bb1e30-3fe5-4353-8886-47d8dcdc564d",
   "metadata": {},
   "outputs": [
    {
     "data": {
      "text/plain": [
       "[<matplotlib.lines.Line2D at 0x7efbbe5b8110>]"
      ]
     },
     "execution_count": 120,
     "metadata": {},
     "output_type": "execute_result"
    },
    {
     "data": {
      "image/png": "[encoded data removed]",
      "text/plain": [
       "<Figure size 432x288 with 1 Axes>"
      ]
     },
     "metadata": {
      "needs_background": "light"
     },
     "output_type": "display_data"
    }
   ],
   "source": [
    "sig0_vv_dc_chunk1.sig0_vv.isel(x=0, y=0).dropna(dim='time').plot(linestyle='-', color='r')"
   ]
  },
  {
   "cell_type": "markdown",
   "id": "1d785a4f-4978-444d-8bef-4d6d67e58e20",
   "metadata": {},
   "source": [
    "Convert to pandas seres and plot"
   ]
  },
  {
   "cell_type": "code",
   "execution_count": 121,
   "id": "4f81eb1a-2184-4d94-9bfe-dc6c227a421f",
   "metadata": {},
   "outputs": [],
   "source": [
    "sig0_vv_ts = sig0_vv_dc_chunk1.sig0_vv.isel(x=0, y=0).dropna(dim='time').to_series()"
   ]
  },
  {
   "cell_type": "code",
   "execution_count": 122,
   "id": "f22e226a-3894-43a5-b67a-e9fc3ae3bd6c",
   "metadata": {},
   "outputs": [
    {
     "data": {
      "text/plain": [
       "<AxesSubplot:xlabel='Time', ylabel='Bacscatter Intensity [dB]'>"
      ]
     },
     "execution_count": 122,
     "metadata": {},
     "output_type": "execute_result"
    },
    {
     "data": {
      "image/png": "[encoded data removed]",
      "text/plain": [
       "<Figure size 1008x288 with 1 Axes>"
      ]
     },
     "metadata": {
      "needs_background": "light"
     },
     "output_type": "display_data"
    }
   ],
   "source": [
    "my_xticks = pd.date_range(datetime(2017,1,1), datetime(2021,1,1), freq='YS')\n",
    "sig0_vv_ts.plot(style='ro-', xticks=my_xticks, grid=True, figsize=(14,4), legend=True, xlabel='Time', ylabel='Bacscatter Intensity [dB]')"
   ]
  },
  {
   "cell_type": "markdown",
   "id": "c8468df9-ca63-4620-b981-97bcb2aaeaff",
   "metadata": {},
   "source": [
    "Round the time and resample to 6 day TS:"
   ]
  },
  {
   "cell_type": "code",
   "execution_count": 123,
   "id": "bbd606cf-9024-453d-a2cf-dc436fb22a07",
   "metadata": {},
   "outputs": [],
   "source": [
    "sig0_vv_ts.index = sig0_vv_ts.index.round('D')\n",
    "#\n",
    "sig0_vv_ts_6d = sig0_vv_ts.resample('6D').interpolate(method='linear')"
   ]
  },
  {
   "cell_type": "code",
   "execution_count": 124,
   "id": "2aff39a4-325b-4672-8800-15a0347d534a",
   "metadata": {},
   "outputs": [
    {
     "data": {
      "text/plain": [
       "<AxesSubplot:xlabel='Time', ylabel='Bacscatter Intensity [dB]'>"
      ]
     },
     "execution_count": 124,
     "metadata": {},
     "output_type": "execute_result"
    },
    {
     "data": {
      "image/png": "[encoded data removed]",
      "text/plain": [
       "<Figure size 1008x288 with 1 Axes>"
      ]
     },
     "metadata": {
      "needs_background": "light"
     },
     "output_type": "display_data"
    }
   ],
   "source": [
    "sig0_vv_ts_6d.plot(style='bo-',grid=True, figsize=(14,4), legend=True, xlabel='Time', ylabel='Bacscatter Intensity [dB]')"
   ]
  },
  {
   "cell_type": "code",
   "execution_count": 125,
   "id": "a4a2ab34-e822-4aca-b460-da6e3cfd72ca",
   "metadata": {},
   "outputs": [
    {
     "data": {
      "image/png": "[encoded data removed]",
      "text/plain": [
       "<Figure size 576x216 with 1 Axes>"
      ]
     },
     "metadata": {
      "needs_background": "light"
     },
     "output_type": "display_data"
    }
   ],
   "source": [
    "plot_TS_fromPandaSeres(sig0_vv_ts_6d)"
   ]
  },
  {
   "cell_type": "code",
   "execution_count": 126,
   "id": "da865267-0ae7-4122-ab73-bad329dcca49",
   "metadata": {},
   "outputs": [
    {
     "data": {
      "text/plain": [
       "[2,\n",
       " -7.688765432098766,\n",
       " 0.878687960421523,\n",
       " nan,\n",
       " nan,\n",
       " 2,\n",
       " nan,\n",
       " 0,\n",
       " nan,\n",
       " nan,\n",
       " nan,\n",
       " nan,\n",
       " nan,\n",
       " nan,\n",
       " nan,\n",
       " nan,\n",
       " nan,\n",
       " nan]"
      ]
     },
     "execution_count": 126,
     "metadata": {},
     "output_type": "execute_result"
    }
   ],
   "source": [
    "myFeatures_v2 = features_from_S1_TS(sig0_vv_ts_6d)\n",
    "myFeatures_v2"
   ]
  },
  {
   "cell_type": "markdown",
   "id": "1655bdda-c714-4415-890d-4332ca7ebee5",
   "metadata": {
    "tags": []
   },
   "source": [
    "## xarray-approach: apply the time-seres analysis per each x, y location in xarray"
   ]
  },
  {
   "cell_type": "markdown",
   "id": "2c887767-c4ed-41da-afe8-078435b15288",
   "metadata": {},
   "source": [
    "Prepare timestamps"
   ]
  },
  {
   "cell_type": "code",
   "execution_count": 127,
   "id": "f94feeb6-7652-42b3-b4c9-b2ea107f239e",
   "metadata": {},
   "outputs": [],
   "source": [
    "ts_time_stamps = sig0_vv_dc_chunk1['sig0_vv'][:,0, 0].time.values"
   ]
  },
  {
   "cell_type": "markdown",
   "id": "da2f6cc3-9c87-4115-8268-2f66a7477bc0",
   "metadata": {},
   "source": [
    "Get features per each pixel"
   ]
  },
  {
   "cell_type": "code",
   "execution_count": 129,
   "id": "c4d87991-c827-4ac9-aa54-1ff9f1035a95",
   "metadata": {},
   "outputs": [],
   "source": [
    "#%%timeit\n",
    "dist_out = xr.apply_ufunc(features_as_xrrray_ufunc, \n",
    "                          sig0_vv_dc_chunk1['sig0_vv'],\n",
    "                          ts_time_stamps,\n",
    "                          input_core_dims=[[\"time\"], []],\n",
    "                          output_core_dims=[[\"features\"]]\n",
    "                         )"
   ]
  },
  {
   "cell_type": "code",
   "execution_count": null,
   "id": "f9e43f27-8fd3-4b03-8f46-83547733d0e6",
   "metadata": {},
   "outputs": [],
   "source": [
    "# timeit, 200x200 pixels: 4min 49s ± 4.23 s per loop (mean ± std. dev. of 7 runs, 1 loop each)\n",
    "# timeit, 100x100 pixels: 1min 13s ± 451 ms per loop (mean ± std. dev. of 7 runs, 1 loop each)\n",
    "# timeit, 50x50 pixel: 18.6 s ± 91.3 ms per loop (mean ± std. dev. of 7 runs, 1 loop each)\n",
    "# timeit, 10x10 pixels: 741 ms ± 2.57 ms per loop (mean ± std. dev. of 7 runs, 1 loop each)"
   ]
  },
  {
   "cell_type": "code",
   "execution_count": null,
   "id": "d81307d9-3486-4f2e-ab95-aa7ab0720356",
   "metadata": {},
   "outputs": [],
   "source": [
    "# convert output to dataset\n",
    "dist_out_ds = dist_out.to_dataset(dim='features')"
   ]
  },
  {
   "cell_type": "code",
   "execution_count": null,
   "id": "0064d0d7-28f7-43bf-8ec8-b285fbbc991b",
   "metadata": {},
   "outputs": [],
   "source": [
    "dist_out_ds = dist_out_ds.rename({0:'exception_label', 1:'ref_mean', 2:'error_margin',\n",
    "                                  3:'num_of_segments', 4:'TS_end_flag', 5:'TS_end_flag_long', 6:'TS_end_mag',\n",
    "                                  7:'seg_id', 8:'seg_size', 9:'max_mag', 10:'max_mag_date', 11:'t_pre', 12:'t_post', 13:'t_total',\n",
    "                                  14:'max_mag_org', 15:'max_mag_org_date', 16:'t_mag_org',\n",
    "                                  17:'seg2_size'})"
   ]
  },
  {
   "cell_type": "code",
   "execution_count": null,
   "id": "788f7f46-0ebd-4c33-b972-ff47d66e5191",
   "metadata": {},
   "outputs": [],
   "source": [
    "dist_out_ds"
   ]
  },
  {
   "cell_type": "code",
   "execution_count": null,
   "id": "bd679fba-aafe-449d-af3a-46327ada27e7",
   "metadata": {},
   "outputs": [],
   "source": [
    "print('Datacube size in memory is:', np.round(dist_out_ds.nbytes/(1024*1024), 1), 'MB')"
   ]
  },
  {
   "cell_type": "code",
   "execution_count": null,
   "id": "8d463532-3d45-45b2-8310-b82430feb41c",
   "metadata": {},
   "outputs": [],
   "source": [
    "#d plotting:\n",
    "#dist_out_ds.seg_size.astype('float').plot()\n",
    "feature_da = dist_out_ds.exception_label.astype('int')\n",
    "feature_da.plot(figsize=(10, 8))"
   ]
  },
  {
   "cell_type": "markdown",
   "id": "d08a80ea-2f80-49e0-ba4d-89b0df7e9828",
   "metadata": {},
   "source": [
    "get a list of row and columnns where the exception label is 0"
   ]
  },
  {
   "cell_type": "code",
   "execution_count": null,
   "id": "9e0d81d0-123d-4798-bc9f-fb5635f8b9ca",
   "metadata": {},
   "outputs": [],
   "source": [
    "aa = np.column_stack(np.where(feature_da.where(feature_da == 0).values))"
   ]
  },
  {
   "cell_type": "code",
   "execution_count": null,
   "id": "19b34f81-a385-4c2c-9fbf-99f6c084f7de",
   "metadata": {},
   "outputs": [],
   "source": [
    "aa[20000, :]"
   ]
  },
  {
   "cell_type": "markdown",
   "id": "a23302ba-10e7-44af-ae15-86ea8aaab4ad",
   "metadata": {},
   "source": [
    "## Check the output"
   ]
  },
  {
   "cell_type": "code",
   "execution_count": 6,
   "id": "5aeb2438-a06d-406f-b93c-7957a7f30cb2",
   "metadata": {},
   "outputs": [],
   "source": [
    "my_out = xr.open_dataset(\"/home/return-mmilenkovic/E078N066T3_1_1_100_VH.nc\")"
   ]
  },
  {
   "cell_type": "code",
   "execution_count": 7,
   "id": "5300d01f-7908-46c1-85b9-31d05bb8f859",
   "metadata": {},
   "outputs": [
    {
     "data": {
      "text/html": [
       "<div><svg style=\"position: absolute; width: 0; height: 0; overflow: hidden\">\n",
       "<defs>\n",
       "<symbol id=\"icon-database\" viewBox=\"0 0 32 32\">\n",
       "<path d=\"M16 0c-8.837 0-16 2.239-16 5v4c0 2.761 7.163 5 16 5s16-2.239 16-5v-4c0-2.761-7.163-5-16-5z\"></path>\n",
       "<path d=\"M16 17c-8.837 0-16-2.239-16-5v6c0 2.761 7.163 5 16 5s16-2.239 16-5v-6c0 2.761-7.163 5-16 5z\"></path>\n",
       "<path d=\"M16 26c-8.837 0-16-2.239-16-5v6c0 2.761 7.163 5 16 5s16-2.239 16-5v-6c0 2.761-7.163 5-16 5z\"></path>\n",
       "</symbol>\n",
       "<symbol id=\"icon-file-text2\" viewBox=\"0 0 32 32\">\n",
       "<path d=\"M28.681 7.159c-0.694-0.947-1.662-2.053-2.724-3.116s-2.169-2.030-3.116-2.724c-1.612-1.182-2.393-1.319-2.841-1.319h-15.5c-1.378 0-2.5 1.121-2.5 2.5v27c0 1.378 1.122 2.5 2.5 2.5h23c1.378 0 2.5-1.122 2.5-2.5v-19.5c0-0.448-0.137-1.23-1.319-2.841zM24.543 5.457c0.959 0.959 1.712 1.825 2.268 2.543h-4.811v-4.811c0.718 0.556 1.584 1.309 2.543 2.268zM28 29.5c0 0.271-0.229 0.5-0.5 0.5h-23c-0.271 0-0.5-0.229-0.5-0.5v-27c0-0.271 0.229-0.5 0.5-0.5 0 0 15.499-0 15.5 0v7c0 0.552 0.448 1 1 1h7v19.5z\"></path>\n",
       "<path d=\"M23 26h-14c-0.552 0-1-0.448-1-1s0.448-1 1-1h14c0.552 0 1 0.448 1 1s-0.448 1-1 1z\"></path>\n",
       "<path d=\"M23 22h-14c-0.552 0-1-0.448-1-1s0.448-1 1-1h14c0.552 0 1 0.448 1 1s-0.448 1-1 1z\"></path>\n",
       "<path d=\"M23 18h-14c-0.552 0-1-0.448-1-1s0.448-1 1-1h14c0.552 0 1 0.448 1 1s-0.448 1-1 1z\"></path>\n",
       "</symbol>\n",
       "</defs>\n",
       "</svg>\n",
       "<style>/* CSS stylesheet for displaying xarray objects in jupyterlab.\n",
       " *\n",
       " */\n",
       "\n",
       ":root {\n",
       "  --xr-font-color0: var(--jp-content-font-color0, rgba(0, 0, 0, 1));\n",
       "  --xr-font-color2: var(--jp-content-font-color2, rgba(0, 0, 0, 0.54));\n",
       "  --xr-font-color3: var(--jp-content-font-color3, rgba(0, 0, 0, 0.38));\n",
       "  --xr-border-color: var(--jp-border-color2, #e0e0e0);\n",
       "  --xr-disabled-color: var(--jp-layout-color3, #bdbdbd);\n",
       "  --xr-background-color: var(--jp-layout-color0, white);\n",
       "  --xr-background-color-row-even: var(--jp-layout-color1, white);\n",
       "  --xr-background-color-row-odd: var(--jp-layout-color2, #eeeeee);\n",
       "}\n",
       "\n",
       "html[theme=dark],\n",
       "body.vscode-dark {\n",
       "  --xr-font-color0: rgba(255, 255, 255, 1);\n",
       "  --xr-font-color2: rgba(255, 255, 255, 0.54);\n",
       "  --xr-font-color3: rgba(255, 255, 255, 0.38);\n",
       "  --xr-border-color: #1F1F1F;\n",
       "  --xr-disabled-color: #515151;\n",
       "  --xr-background-color: #111111;\n",
       "  --xr-background-color-row-even: #111111;\n",
       "  --xr-background-color-row-odd: #313131;\n",
       "}\n",
       "\n",
       ".xr-wrap {\n",
       "  display: block !important;\n",
       "  min-width: 300px;\n",
       "  max-width: 700px;\n",
       "}\n",
       "\n",
       ".xr-text-repr-fallback {\n",
       "  /* fallback to plain text repr when CSS is not injected (untrusted notebook) */\n",
       "  display: none;\n",
       "}\n",
       "\n",
       ".xr-header {\n",
       "  padding-top: 6px;\n",
       "  padding-bottom: 6px;\n",
       "  margin-bottom: 4px;\n",
       "  border-bottom: solid 1px var(--xr-border-color);\n",
       "}\n",
       "\n",
       ".xr-header > div,\n",
       ".xr-header > ul {\n",
       "  display: inline;\n",
       "  margin-top: 0;\n",
       "  margin-bottom: 0;\n",
       "}\n",
       "\n",
       ".xr-obj-type,\n",
       ".xr-array-name {\n",
       "  margin-left: 2px;\n",
       "  margin-right: 10px;\n",
       "}\n",
       "\n",
       ".xr-obj-type {\n",
       "  color: var(--xr-font-color2);\n",
       "}\n",
       "\n",
       ".xr-sections {\n",
       "  padding-left: 0 !important;\n",
       "  display: grid;\n",
       "  grid-template-columns: 150px auto auto 1fr 20px 20px;\n",
       "}\n",
       "\n",
       ".xr-section-item {\n",
       "  display: contents;\n",
       "}\n",
       "\n",
       ".xr-section-item input {\n",
       "  display: none;\n",
       "}\n",
       "\n",
       ".xr-section-item input + label {\n",
       "  color: var(--xr-disabled-color);\n",
       "}\n",
       "\n",
       ".xr-section-item input:enabled + label {\n",
       "  cursor: pointer;\n",
       "  color: var(--xr-font-color2);\n",
       "}\n",
       "\n",
       ".xr-section-item input:enabled + label:hover {\n",
       "  color: var(--xr-font-color0);\n",
       "}\n",
       "\n",
       ".xr-section-summary {\n",
       "  grid-column: 1;\n",
       "  color: var(--xr-font-color2);\n",
       "  font-weight: 500;\n",
       "}\n",
       "\n",
       ".xr-section-summary > span {\n",
       "  display: inline-block;\n",
       "  padding-left: 0.5em;\n",
       "}\n",
       "\n",
       ".xr-section-summary-in:disabled + label {\n",
       "  color: var(--xr-font-color2);\n",
       "}\n",
       "\n",
       ".xr-section-summary-in + label:before {\n",
       "  display: inline-block;\n",
       "  content: '►';\n",
       "  font-size: 11px;\n",
       "  width: 15px;\n",
       "  text-align: center;\n",
       "}\n",
       "\n",
       ".xr-section-summary-in:disabled + label:before {\n",
       "  color: var(--xr-disabled-color);\n",
       "}\n",
       "\n",
       ".xr-section-summary-in:checked + label:before {\n",
       "  content: '▼';\n",
       "}\n",
       "\n",
       ".xr-section-summary-in:checked + label > span {\n",
       "  display: none;\n",
       "}\n",
       "\n",
       ".xr-section-summary,\n",
       ".xr-section-inline-details {\n",
       "  padding-top: 4px;\n",
       "  padding-bottom: 4px;\n",
       "}\n",
       "\n",
       ".xr-section-inline-details {\n",
       "  grid-column: 2 / -1;\n",
       "}\n",
       "\n",
       ".xr-section-details {\n",
       "  display: none;\n",
       "  grid-column: 1 / -1;\n",
       "  margin-bottom: 5px;\n",
       "}\n",
       "\n",
       ".xr-section-summary-in:checked ~ .xr-section-details {\n",
       "  display: contents;\n",
       "}\n",
       "\n",
       ".xr-array-wrap {\n",
       "  grid-column: 1 / -1;\n",
       "  display: grid;\n",
       "  grid-template-columns: 20px auto;\n",
       "}\n",
       "\n",
       ".xr-array-wrap > label {\n",
       "  grid-column: 1;\n",
       "  vertical-align: top;\n",
       "}\n",
       "\n",
       ".xr-preview {\n",
       "  color: var(--xr-font-color3);\n",
       "}\n",
       "\n",
       ".xr-array-preview,\n",
       ".xr-array-data {\n",
       "  padding: 0 5px !important;\n",
       "  grid-column: 2;\n",
       "}\n",
       "\n",
       ".xr-array-data,\n",
       ".xr-array-in:checked ~ .xr-array-preview {\n",
       "  display: none;\n",
       "}\n",
       "\n",
       ".xr-array-in:checked ~ .xr-array-data,\n",
       ".xr-array-preview {\n",
       "  display: inline-block;\n",
       "}\n",
       "\n",
       ".xr-dim-list {\n",
       "  display: inline-block !important;\n",
       "  list-style: none;\n",
       "  padding: 0 !important;\n",
       "  margin: 0;\n",
       "}\n",
       "\n",
       ".xr-dim-list li {\n",
       "  display: inline-block;\n",
       "  padding: 0;\n",
       "  margin: 0;\n",
       "}\n",
       "\n",
       ".xr-dim-list:before {\n",
       "  content: '(';\n",
       "}\n",
       "\n",
       ".xr-dim-list:after {\n",
       "  content: ')';\n",
       "}\n",
       "\n",
       ".xr-dim-list li:not(:last-child):after {\n",
       "  content: ',';\n",
       "  padding-right: 5px;\n",
       "}\n",
       "\n",
       ".xr-has-index {\n",
       "  font-weight: bold;\n",
       "}\n",
       "\n",
       ".xr-var-list,\n",
       ".xr-var-item {\n",
       "  display: contents;\n",
       "}\n",
       "\n",
       ".xr-var-item > div,\n",
       ".xr-var-item label,\n",
       ".xr-var-item > .xr-var-name span {\n",
       "  background-color: var(--xr-background-color-row-even);\n",
       "  margin-bottom: 0;\n",
       "}\n",
       "\n",
       ".xr-var-item > .xr-var-name:hover span {\n",
       "  padding-right: 5px;\n",
       "}\n",
       "\n",
       ".xr-var-list > li:nth-child(odd) > div,\n",
       ".xr-var-list > li:nth-child(odd) > label,\n",
       ".xr-var-list > li:nth-child(odd) > .xr-var-name span {\n",
       "  background-color: var(--xr-background-color-row-odd);\n",
       "}\n",
       "\n",
       ".xr-var-name {\n",
       "  grid-column: 1;\n",
       "}\n",
       "\n",
       ".xr-var-dims {\n",
       "  grid-column: 2;\n",
       "}\n",
       "\n",
       ".xr-var-dtype {\n",
       "  grid-column: 3;\n",
       "  text-align: right;\n",
       "  color: var(--xr-font-color2);\n",
       "}\n",
       "\n",
       ".xr-var-preview {\n",
       "  grid-column: 4;\n",
       "}\n",
       "\n",
       ".xr-var-name,\n",
       ".xr-var-dims,\n",
       ".xr-var-dtype,\n",
       ".xr-preview,\n",
       ".xr-attrs dt {\n",
       "  white-space: nowrap;\n",
       "  overflow: hidden;\n",
       "  text-overflow: ellipsis;\n",
       "  padding-right: 10px;\n",
       "}\n",
       "\n",
       ".xr-var-name:hover,\n",
       ".xr-var-dims:hover,\n",
       ".xr-var-dtype:hover,\n",
       ".xr-attrs dt:hover {\n",
       "  overflow: visible;\n",
       "  width: auto;\n",
       "  z-index: 1;\n",
       "}\n",
       "\n",
       ".xr-var-attrs,\n",
       ".xr-var-data {\n",
       "  display: none;\n",
       "  background-color: var(--xr-background-color) !important;\n",
       "  padding-bottom: 5px !important;\n",
       "}\n",
       "\n",
       ".xr-var-attrs-in:checked ~ .xr-var-attrs,\n",
       ".xr-var-data-in:checked ~ .xr-var-data {\n",
       "  display: block;\n",
       "}\n",
       "\n",
       ".xr-var-data > table {\n",
       "  float: right;\n",
       "}\n",
       "\n",
       ".xr-var-name span,\n",
       ".xr-var-data,\n",
       ".xr-attrs {\n",
       "  padding-left: 25px !important;\n",
       "}\n",
       "\n",
       ".xr-attrs,\n",
       ".xr-var-attrs,\n",
       ".xr-var-data {\n",
       "  grid-column: 1 / -1;\n",
       "}\n",
       "\n",
       "dl.xr-attrs {\n",
       "  padding: 0;\n",
       "  margin: 0;\n",
       "  display: grid;\n",
       "  grid-template-columns: 125px auto;\n",
       "}\n",
       "\n",
       ".xr-attrs dt,\n",
       ".xr-attrs dd {\n",
       "  padding: 0;\n",
       "  margin: 0;\n",
       "  float: left;\n",
       "  padding-right: 10px;\n",
       "  width: auto;\n",
       "}\n",
       "\n",
       ".xr-attrs dt {\n",
       "  font-weight: normal;\n",
       "  grid-column: 1;\n",
       "}\n",
       "\n",
       ".xr-attrs dt:hover span {\n",
       "  display: inline-block;\n",
       "  background: var(--xr-background-color);\n",
       "  padding-right: 10px;\n",
       "}\n",
       "\n",
       ".xr-attrs dd {\n",
       "  grid-column: 2;\n",
       "  white-space: pre-wrap;\n",
       "  word-break: break-all;\n",
       "}\n",
       "\n",
       ".xr-icon-database,\n",
       ".xr-icon-file-text2 {\n",
       "  display: inline-block;\n",
       "  vertical-align: middle;\n",
       "  width: 1em;\n",
       "  height: 1.5em !important;\n",
       "  stroke-width: 0;\n",
       "  stroke: currentColor;\n",
       "  fill: currentColor;\n",
       "}\n",
       "</style><pre class='xr-text-repr-fallback'>&lt;xarray.Dataset&gt;\n",
       "Dimensions:           (y: 100, x: 100)\n",
       "Coordinates:\n",
       "  * y                 (y) float64 6.898e+06 6.898e+06 ... 6.896e+06 6.896e+06\n",
       "  * x                 (x) float64 7.802e+06 7.802e+06 ... 7.804e+06 7.804e+06\n",
       "Data variables: (12/18)\n",
       "    exception_label   (y, x) float64 2.0 2.0 2.0 2.0 2.0 ... 0.0 0.0 0.0 0.0 0.0\n",
       "    ref_mean          (y, x) float64 -19.8 -19.33 -19.74 ... -22.28 -22.21\n",
       "    error_margin      (y, x) float64 9.204 9.354 9.293 ... 2.63 2.946 2.976\n",
       "    num_of_segments   (y, x) float64 nan nan nan nan nan ... 1.0 1.0 1.0 1.0 1.0\n",
       "    TS_end_flag       (y, x) float64 nan nan nan nan nan ... 0.0 0.0 0.0 0.0 0.0\n",
       "    TS_end_flag_long  (y, x) float64 2.0 2.0 2.0 2.0 2.0 ... 1.0 1.0 1.0 1.0 1.0\n",
       "    ...                ...\n",
       "    t_post            (y, x) float64 nan nan nan nan nan ... 0.0 0.0 9.0 5.0 6.0\n",
       "    t_total           (y, x) float64 nan nan nan nan nan ... 6.0 18.0 14.0 15.0\n",
       "    max_mag_org       (y, x) float64 nan nan nan nan ... 8.481 6.222 5.192\n",
       "    max_mag_org_date  (y, x) float64 nan nan nan ... 1.589e+18 1.589e+18\n",
       "    t_mag_org         (y, x) float64 nan nan nan nan nan ... 0.0 0.0 9.0 0.0 0.0\n",
       "    seg2_size         (y, x) float64 nan nan nan nan nan ... nan nan nan nan nan</pre><div class='xr-wrap' style='display:none'><div class='xr-header'><div class='xr-obj-type'>xarray.Dataset</div></div><ul class='xr-sections'><li class='xr-section-item'><input id='section-bf29ec9e-8c2f-4ff1-bfc9-d762cbdd161d' class='xr-section-summary-in' type='checkbox' disabled ><label for='section-bf29ec9e-8c2f-4ff1-bfc9-d762cbdd161d' class='xr-section-summary'  title='Expand/collapse section'>Dimensions:</label><div class='xr-section-inline-details'><ul class='xr-dim-list'><li><span class='xr-has-index'>y</span>: 100</li><li><span class='xr-has-index'>x</span>: 100</li></ul></div><div class='xr-section-details'></div></li><li class='xr-section-item'><input id='section-7afc75e3-ef20-40f5-bf29-ad7206352854' class='xr-section-summary-in' type='checkbox'  checked><label for='section-7afc75e3-ef20-40f5-bf29-ad7206352854' class='xr-section-summary' >Coordinates: <span>(2)</span></label><div class='xr-section-inline-details'></div><div class='xr-section-details'><ul class='xr-var-list'><li class='xr-var-item'><div class='xr-var-name'><span class='xr-has-index'>y</span></div><div class='xr-var-dims'>(y)</div><div class='xr-var-dtype'>float64</div><div class='xr-var-preview xr-preview'>6.898e+06 6.898e+06 ... 6.896e+06</div><input id='attrs-b6ad1c21-6f40-4c83-9407-a48a90de4ec1' class='xr-var-attrs-in' type='checkbox' disabled><label for='attrs-b6ad1c21-6f40-4c83-9407-a48a90de4ec1' title='Show/Hide attributes'><svg class='icon xr-icon-file-text2'><use xlink:href='#icon-file-text2'></use></svg></label><input id='data-64a575fd-ff81-4e0c-9fa5-4ebdd35dcd22' class='xr-var-data-in' type='checkbox'><label for='data-64a575fd-ff81-4e0c-9fa5-4ebdd35dcd22' title='Show/Hide data repr'><svg class='icon xr-icon-database'><use xlink:href='#icon-database'></use></svg></label><div class='xr-var-attrs'><dl class='xr-attrs'></dl></div><div class='xr-var-data'><pre>array([6898000., 6897980., 6897960., 6897940., 6897920., 6897900., 6897880.,\n",
       "       6897860., 6897840., 6897820., 6897800., 6897780., 6897760., 6897740.,\n",
       "       6897720., 6897700., 6897680., 6897660., 6897640., 6897620., 6897600.,\n",
       "       6897580., 6897560., 6897540., 6897520., 6897500., 6897480., 6897460.,\n",
       "       6897440., 6897420., 6897400., 6897380., 6897360., 6897340., 6897320.,\n",
       "       6897300., 6897280., 6897260., 6897240., 6897220., 6897200., 6897180.,\n",
       "       6897160., 6897140., 6897120., 6897100., 6897080., 6897060., 6897040.,\n",
       "       6897020., 6897000., 6896980., 6896960., 6896940., 6896920., 6896900.,\n",
       "       6896880., 6896860., 6896840., 6896820., 6896800., 6896780., 6896760.,\n",
       "       6896740., 6896720., 6896700., 6896680., 6896660., 6896640., 6896620.,\n",
       "       6896600., 6896580., 6896560., 6896540., 6896520., 6896500., 6896480.,\n",
       "       6896460., 6896440., 6896420., 6896400., 6896380., 6896360., 6896340.,\n",
       "       6896320., 6896300., 6896280., 6896260., 6896240., 6896220., 6896200.,\n",
       "       6896180., 6896160., 6896140., 6896120., 6896100., 6896080., 6896060.,\n",
       "       6896040., 6896020.])</pre></div></li><li class='xr-var-item'><div class='xr-var-name'><span class='xr-has-index'>x</span></div><div class='xr-var-dims'>(x)</div><div class='xr-var-dtype'>float64</div><div class='xr-var-preview xr-preview'>7.802e+06 7.802e+06 ... 7.804e+06</div><input id='attrs-4232049d-6b27-4473-a950-6a8aed395b79' class='xr-var-attrs-in' type='checkbox' disabled><label for='attrs-4232049d-6b27-4473-a950-6a8aed395b79' title='Show/Hide attributes'><svg class='icon xr-icon-file-text2'><use xlink:href='#icon-file-text2'></use></svg></label><input id='data-b811bd30-c30c-401b-8571-acded3623f45' class='xr-var-data-in' type='checkbox'><label for='data-b811bd30-c30c-401b-8571-acded3623f45' title='Show/Hide data repr'><svg class='icon xr-icon-database'><use xlink:href='#icon-database'></use></svg></label><div class='xr-var-attrs'><dl class='xr-attrs'></dl></div><div class='xr-var-data'><pre>array([7802000., 7802020., 7802040., 7802060., 7802080., 7802100., 7802120.,\n",
       "       7802140., 7802160., 7802180., 7802200., 7802220., 7802240., 7802260.,\n",
       "       7802280., 7802300., 7802320., 7802340., 7802360., 7802380., 7802400.,\n",
       "       7802420., 7802440., 7802460., 7802480., 7802500., 7802520., 7802540.,\n",
       "       7802560., 7802580., 7802600., 7802620., 7802640., 7802660., 7802680.,\n",
       "       7802700., 7802720., 7802740., 7802760., 7802780., 7802800., 7802820.,\n",
       "       7802840., 7802860., 7802880., 7802900., 7802920., 7802940., 7802960.,\n",
       "       7802980., 7803000., 7803020., 7803040., 7803060., 7803080., 7803100.,\n",
       "       7803120., 7803140., 7803160., 7803180., 7803200., 7803220., 7803240.,\n",
       "       7803260., 7803280., 7803300., 7803320., 7803340., 7803360., 7803380.,\n",
       "       7803400., 7803420., 7803440., 7803460., 7803480., 7803500., 7803520.,\n",
       "       7803540., 7803560., 7803580., 7803600., 7803620., 7803640., 7803660.,\n",
       "       7803680., 7803700., 7803720., 7803740., 7803760., 7803780., 7803800.,\n",
       "       7803820., 7803840., 7803860., 7803880., 7803900., 7803920., 7803940.,\n",
       "       7803960., 7803980.])</pre></div></li></ul></div></li><li class='xr-section-item'><input id='section-9dda632e-17b3-40df-a9e4-181190bd5fc0' class='xr-section-summary-in' type='checkbox'  ><label for='section-9dda632e-17b3-40df-a9e4-181190bd5fc0' class='xr-section-summary' >Data variables: <span>(18)</span></label><div class='xr-section-inline-details'></div><div class='xr-section-details'><ul class='xr-var-list'><li class='xr-var-item'><div class='xr-var-name'><span>exception_label</span></div><div class='xr-var-dims'>(y, x)</div><div class='xr-var-dtype'>float64</div><div class='xr-var-preview xr-preview'>...</div><input id='attrs-e6803029-9177-4cf6-a085-3600a3202d50' class='xr-var-attrs-in' type='checkbox' disabled><label for='attrs-e6803029-9177-4cf6-a085-3600a3202d50' title='Show/Hide attributes'><svg class='icon xr-icon-file-text2'><use xlink:href='#icon-file-text2'></use></svg></label><input id='data-724f509c-bf79-4c9d-9baa-1988dfec0683' class='xr-var-data-in' type='checkbox'><label for='data-724f509c-bf79-4c9d-9baa-1988dfec0683' title='Show/Hide data repr'><svg class='icon xr-icon-database'><use xlink:href='#icon-database'></use></svg></label><div class='xr-var-attrs'><dl class='xr-attrs'></dl></div><div class='xr-var-data'><pre>array([[2., 2., 2., ..., 2., 2., 2.],\n",
       "       [2., 2., 2., ..., 2., 2., 3.],\n",
       "       [2., 2., 2., ..., 2., 2., 2.],\n",
       "       ...,\n",
       "       [0., 0., 3., ..., 0., 2., 2.],\n",
       "       [0., 0., 0., ..., 0., 2., 2.],\n",
       "       [3., 0., 0., ..., 0., 0., 0.]])</pre></div></li><li class='xr-var-item'><div class='xr-var-name'><span>ref_mean</span></div><div class='xr-var-dims'>(y, x)</div><div class='xr-var-dtype'>float64</div><div class='xr-var-preview xr-preview'>...</div><input id='attrs-2b450bc6-dd75-414c-a427-51585c862873' class='xr-var-attrs-in' type='checkbox' disabled><label for='attrs-2b450bc6-dd75-414c-a427-51585c862873' title='Show/Hide attributes'><svg class='icon xr-icon-file-text2'><use xlink:href='#icon-file-text2'></use></svg></label><input id='data-90de627d-2001-4bb5-b5d6-62ce40f8c5c5' class='xr-var-data-in' type='checkbox'><label for='data-90de627d-2001-4bb5-b5d6-62ce40f8c5c5' title='Show/Hide data repr'><svg class='icon xr-icon-database'><use xlink:href='#icon-database'></use></svg></label><div class='xr-var-attrs'><dl class='xr-attrs'></dl></div><div class='xr-var-data'><pre>array([[-19.803052, -19.332851, -19.7351  , ..., -17.793414, -15.526345,\n",
       "        -10.734217],\n",
       "       [-20.027309, -19.636305, -19.922811, ..., -18.056386, -16.118554,\n",
       "        -11.640161],\n",
       "       [-19.868675, -19.744257, -20.010683, ..., -18.646747, -17.505462,\n",
       "        -14.591807],\n",
       "       ...,\n",
       "       [-22.229076, -22.445141, -22.548594, ..., -22.105863, -22.292289,\n",
       "        -22.595582],\n",
       "       [-22.390522, -22.146827, -22.181446, ..., -22.091004, -22.401044,\n",
       "        -22.378635],\n",
       "       [-22.461044, -22.039197, -21.814137, ..., -22.119197, -22.278313,\n",
       "        -22.207711]])</pre></div></li><li class='xr-var-item'><div class='xr-var-name'><span>error_margin</span></div><div class='xr-var-dims'>(y, x)</div><div class='xr-var-dtype'>float64</div><div class='xr-var-preview xr-preview'>...</div><input id='attrs-91a2d329-9444-45f8-bd33-9a4f2348ae8e' class='xr-var-attrs-in' type='checkbox' disabled><label for='attrs-91a2d329-9444-45f8-bd33-9a4f2348ae8e' title='Show/Hide attributes'><svg class='icon xr-icon-file-text2'><use xlink:href='#icon-file-text2'></use></svg></label><input id='data-1760fba9-2dab-45a7-8403-4e58b5fb3daf' class='xr-var-data-in' type='checkbox'><label for='data-1760fba9-2dab-45a7-8403-4e58b5fb3daf' title='Show/Hide data repr'><svg class='icon xr-icon-database'><use xlink:href='#icon-database'></use></svg></label><div class='xr-var-attrs'><dl class='xr-attrs'></dl></div><div class='xr-var-data'><pre>array([[ 9.20388 ,  9.353609,  9.293142, ..., 13.27082 ,  8.079257,  1.620839],\n",
       "       [ 9.376502,  9.12042 ,  9.116226, ..., 13.880045,  9.425381,  1.977335],\n",
       "       [10.20814 ,  9.499986,  9.267598, ..., 14.925586, 13.258004,  7.185904],\n",
       "       ...,\n",
       "       [ 2.057087,  2.410522,  2.227648, ...,  2.916701,  3.145486,  3.139572],\n",
       "       [ 2.391665,  2.339179,  2.151787, ...,  2.703015,  3.142941,  3.261879],\n",
       "       [ 2.317823,  1.988784,  1.680774, ...,  2.630206,  2.946066,  2.975549]])</pre></div></li><li class='xr-var-item'><div class='xr-var-name'><span>num_of_segments</span></div><div class='xr-var-dims'>(y, x)</div><div class='xr-var-dtype'>float64</div><div class='xr-var-preview xr-preview'>...</div><input id='attrs-92625ba7-2095-4b8c-98f4-d36dfee76790' class='xr-var-attrs-in' type='checkbox' disabled><label for='attrs-92625ba7-2095-4b8c-98f4-d36dfee76790' title='Show/Hide attributes'><svg class='icon xr-icon-file-text2'><use xlink:href='#icon-file-text2'></use></svg></label><input id='data-fcc68c2c-87f9-41ee-8715-27433a48b976' class='xr-var-data-in' type='checkbox'><label for='data-fcc68c2c-87f9-41ee-8715-27433a48b976' title='Show/Hide data repr'><svg class='icon xr-icon-database'><use xlink:href='#icon-database'></use></svg></label><div class='xr-var-attrs'><dl class='xr-attrs'></dl></div><div class='xr-var-data'><pre>array([[nan, nan, nan, ..., nan, nan, nan],\n",
       "       [nan, nan, nan, ..., nan, nan, nan],\n",
       "       [nan, nan, nan, ..., nan, nan, nan],\n",
       "       ...,\n",
       "       [ 3.,  1., nan, ...,  1., nan, nan],\n",
       "       [ 1.,  2.,  2., ...,  2., nan, nan],\n",
       "       [nan,  3.,  4., ...,  1.,  1.,  1.]])</pre></div></li><li class='xr-var-item'><div class='xr-var-name'><span>TS_end_flag</span></div><div class='xr-var-dims'>(y, x)</div><div class='xr-var-dtype'>float64</div><div class='xr-var-preview xr-preview'>...</div><input id='attrs-49688bcf-25a2-4e77-81ef-432c2dfff231' class='xr-var-attrs-in' type='checkbox' disabled><label for='attrs-49688bcf-25a2-4e77-81ef-432c2dfff231' title='Show/Hide attributes'><svg class='icon xr-icon-file-text2'><use xlink:href='#icon-file-text2'></use></svg></label><input id='data-a444713f-45ba-46b0-ac94-149b53568033' class='xr-var-data-in' type='checkbox'><label for='data-a444713f-45ba-46b0-ac94-149b53568033' title='Show/Hide data repr'><svg class='icon xr-icon-database'><use xlink:href='#icon-database'></use></svg></label><div class='xr-var-attrs'><dl class='xr-attrs'></dl></div><div class='xr-var-data'><pre>array([[nan, nan, nan, ..., nan, nan, nan],\n",
       "       [nan, nan, nan, ..., nan, nan, nan],\n",
       "       [nan, nan, nan, ..., nan, nan, nan],\n",
       "       ...,\n",
       "       [ 0.,  0., nan, ...,  0., nan, nan],\n",
       "       [ 0.,  0.,  0., ...,  0., nan, nan],\n",
       "       [nan,  0.,  0., ...,  0.,  0.,  0.]])</pre></div></li><li class='xr-var-item'><div class='xr-var-name'><span>TS_end_flag_long</span></div><div class='xr-var-dims'>(y, x)</div><div class='xr-var-dtype'>float64</div><div class='xr-var-preview xr-preview'>...</div><input id='attrs-15fd199b-614d-4669-888b-19e9e39e13d1' class='xr-var-attrs-in' type='checkbox' disabled><label for='attrs-15fd199b-614d-4669-888b-19e9e39e13d1' title='Show/Hide attributes'><svg class='icon xr-icon-file-text2'><use xlink:href='#icon-file-text2'></use></svg></label><input id='data-e98bf862-51e2-43b8-80ca-8777e828b33c' class='xr-var-data-in' type='checkbox'><label for='data-e98bf862-51e2-43b8-80ca-8777e828b33c' title='Show/Hide data repr'><svg class='icon xr-icon-database'><use xlink:href='#icon-database'></use></svg></label><div class='xr-var-attrs'><dl class='xr-attrs'></dl></div><div class='xr-var-data'><pre>array([[2., 2., 2., ..., 2., 2., 2.],\n",
       "       [2., 2., 2., ..., 2., 2., 2.],\n",
       "       [2., 2., 2., ..., 2., 2., 2.],\n",
       "       ...,\n",
       "       [1., 1., 2., ..., 1., 2., 2.],\n",
       "       [0., 1., 1., ..., 1., 2., 2.],\n",
       "       [2., 1., 1., ..., 1., 1., 1.]])</pre></div></li><li class='xr-var-item'><div class='xr-var-name'><span>TS_end_mag</span></div><div class='xr-var-dims'>(y, x)</div><div class='xr-var-dtype'>float64</div><div class='xr-var-preview xr-preview'>...</div><input id='attrs-570c6692-1b3e-48eb-b849-f739f5967523' class='xr-var-attrs-in' type='checkbox' disabled><label for='attrs-570c6692-1b3e-48eb-b849-f739f5967523' title='Show/Hide attributes'><svg class='icon xr-icon-file-text2'><use xlink:href='#icon-file-text2'></use></svg></label><input id='data-35fc484c-70e6-4711-8a04-37ec9c8d0df8' class='xr-var-data-in' type='checkbox'><label for='data-35fc484c-70e6-4711-8a04-37ec9c8d0df8' title='Show/Hide data repr'><svg class='icon xr-icon-database'><use xlink:href='#icon-database'></use></svg></label><div class='xr-var-attrs'><dl class='xr-attrs'></dl></div><div class='xr-var-data'><pre>array([[     nan,      nan,      nan, ...,      nan,      nan,      nan],\n",
       "       [     nan,      nan,      nan, ...,      nan,      nan,      nan],\n",
       "       [     nan,      nan,      nan, ...,      nan,      nan,      nan],\n",
       "       ...,\n",
       "       [0.610924, 0.288193,      nan, ..., 1.254137,      nan,      nan],\n",
       "       [0.776145, 1.039839, 0.918554, ..., 1.668996,      nan,      nan],\n",
       "       [     nan, 1.06747 , 1.239197, ..., 1.840803, 1.521687, 1.765622]])</pre></div></li><li class='xr-var-item'><div class='xr-var-name'><span>seg_id</span></div><div class='xr-var-dims'>(y, x)</div><div class='xr-var-dtype'>float64</div><div class='xr-var-preview xr-preview'>...</div><input id='attrs-6af4721d-4842-4091-9076-069ad55608fb' class='xr-var-attrs-in' type='checkbox' disabled><label for='attrs-6af4721d-4842-4091-9076-069ad55608fb' title='Show/Hide attributes'><svg class='icon xr-icon-file-text2'><use xlink:href='#icon-file-text2'></use></svg></label><input id='data-031210db-720e-4b73-9be7-23e052d9468a' class='xr-var-data-in' type='checkbox'><label for='data-031210db-720e-4b73-9be7-23e052d9468a' title='Show/Hide data repr'><svg class='icon xr-icon-database'><use xlink:href='#icon-database'></use></svg></label><div class='xr-var-attrs'><dl class='xr-attrs'></dl></div><div class='xr-var-data'><pre>array([[0., 0., 0., ..., 0., 0., 0.],\n",
       "       [0., 0., 0., ..., 0., 0., 0.],\n",
       "       [0., 0., 0., ..., 0., 0., 0.],\n",
       "       ...,\n",
       "       [0., 0., 0., ..., 0., 0., 0.],\n",
       "       [0., 1., 1., ..., 0., 0., 0.],\n",
       "       [0., 0., 1., ..., 0., 0., 0.]])</pre></div></li><li class='xr-var-item'><div class='xr-var-name'><span>seg_size</span></div><div class='xr-var-dims'>(y, x)</div><div class='xr-var-dtype'>float64</div><div class='xr-var-preview xr-preview'>...</div><input id='attrs-ac3806f6-1e73-41d7-9032-2d559f3e41a4' class='xr-var-attrs-in' type='checkbox' disabled><label for='attrs-ac3806f6-1e73-41d7-9032-2d559f3e41a4' title='Show/Hide attributes'><svg class='icon xr-icon-file-text2'><use xlink:href='#icon-file-text2'></use></svg></label><input id='data-d7e894e0-dcd9-4ac6-9af2-be14dc0a5352' class='xr-var-data-in' type='checkbox'><label for='data-d7e894e0-dcd9-4ac6-9af2-be14dc0a5352' title='Show/Hide data repr'><svg class='icon xr-icon-database'><use xlink:href='#icon-database'></use></svg></label><div class='xr-var-attrs'><dl class='xr-attrs'></dl></div><div class='xr-var-data'><pre>array([[nan, nan, nan, ..., nan, nan, nan],\n",
       "       [nan, nan, nan, ..., nan, nan, nan],\n",
       "       [nan, nan, nan, ..., nan, nan, nan],\n",
       "       ...,\n",
       "       [90., 66., nan, ..., 12., nan, nan],\n",
       "       [24., 66., 84., ..., 18., nan, nan],\n",
       "       [nan, 84., 96., ..., 30., 24., 24.]])</pre></div></li><li class='xr-var-item'><div class='xr-var-name'><span>max_mag</span></div><div class='xr-var-dims'>(y, x)</div><div class='xr-var-dtype'>float64</div><div class='xr-var-preview xr-preview'>...</div><input id='attrs-3b9a1ca3-b2c7-4bfd-975d-87a138a23e7b' class='xr-var-attrs-in' type='checkbox' disabled><label for='attrs-3b9a1ca3-b2c7-4bfd-975d-87a138a23e7b' title='Show/Hide attributes'><svg class='icon xr-icon-file-text2'><use xlink:href='#icon-file-text2'></use></svg></label><input id='data-5945fdd0-c60c-4b8b-9a6a-19ff19563465' class='xr-var-data-in' type='checkbox'><label for='data-5945fdd0-c60c-4b8b-9a6a-19ff19563465' title='Show/Hide data repr'><svg class='icon xr-icon-database'><use xlink:href='#icon-database'></use></svg></label><div class='xr-var-attrs'><dl class='xr-attrs'></dl></div><div class='xr-var-data'><pre>array([[     nan,      nan,      nan, ...,      nan,      nan,      nan],\n",
       "       [     nan,      nan,      nan, ...,      nan,      nan,      nan],\n",
       "       [     nan,      nan,      nan, ...,      nan,      nan,      nan],\n",
       "       ...,\n",
       "       [3.190924, 2.974859,      nan, ..., 3.014137,      nan,      nan],\n",
       "       [2.476145, 2.746506, 2.578554, ..., 3.182329,      nan,      nan],\n",
       "       [     nan, 3.100803, 3.33253 , ..., 3.294137, 3.181687, 3.192289]])</pre></div></li><li class='xr-var-item'><div class='xr-var-name'><span>max_mag_date</span></div><div class='xr-var-dims'>(y, x)</div><div class='xr-var-dtype'>float64</div><div class='xr-var-preview xr-preview'>...</div><input id='attrs-38f18e51-b728-46f1-beca-754674dcf8e5' class='xr-var-attrs-in' type='checkbox' disabled><label for='attrs-38f18e51-b728-46f1-beca-754674dcf8e5' title='Show/Hide attributes'><svg class='icon xr-icon-file-text2'><use xlink:href='#icon-file-text2'></use></svg></label><input id='data-ff03e0a0-0c33-4bea-a92a-5e38b84fe90f' class='xr-var-data-in' type='checkbox'><label for='data-ff03e0a0-0c33-4bea-a92a-5e38b84fe90f' title='Show/Hide data repr'><svg class='icon xr-icon-database'><use xlink:href='#icon-database'></use></svg></label><div class='xr-var-attrs'><dl class='xr-attrs'></dl></div><div class='xr-var-data'><pre>array([[         nan,          nan,          nan, ...,          nan,\n",
       "                 nan,          nan],\n",
       "       [         nan,          nan,          nan, ...,          nan,\n",
       "                 nan,          nan],\n",
       "       [         nan,          nan,          nan, ...,          nan,\n",
       "                 nan,          nan],\n",
       "       ...,\n",
       "       [1.572946e+18, 1.589016e+18,          nan, ..., 1.587766e+18,\n",
       "                 nan,          nan],\n",
       "       [1.574501e+18, 1.589016e+18, 1.589016e+18, ..., 1.581759e+18,\n",
       "                 nan,          nan],\n",
       "       [         nan, 1.572427e+18, 1.572214e+18, ..., 1.581759e+18,\n",
       "        1.589016e+18, 1.589016e+18]])</pre></div></li><li class='xr-var-item'><div class='xr-var-name'><span>t_pre</span></div><div class='xr-var-dims'>(y, x)</div><div class='xr-var-dtype'>float64</div><div class='xr-var-preview xr-preview'>...</div><input id='attrs-4abff54d-9b88-4ca0-835f-f53c435f8efb' class='xr-var-attrs-in' type='checkbox' disabled><label for='attrs-4abff54d-9b88-4ca0-835f-f53c435f8efb' title='Show/Hide attributes'><svg class='icon xr-icon-file-text2'><use xlink:href='#icon-file-text2'></use></svg></label><input id='data-956bf1f3-ed50-4ec0-9548-0c1515d21ed5' class='xr-var-data-in' type='checkbox'><label for='data-956bf1f3-ed50-4ec0-9548-0c1515d21ed5' title='Show/Hide data repr'><svg class='icon xr-icon-database'><use xlink:href='#icon-database'></use></svg></label><div class='xr-var-attrs'><dl class='xr-attrs'></dl></div><div class='xr-var-data'><pre>array([[ nan,  nan,  nan, ...,  nan,  nan,  nan],\n",
       "       [ nan,  nan,  nan, ...,  nan,  nan,  nan],\n",
       "       [ nan,  nan,  nan, ...,  nan,  nan,  nan],\n",
       "       ...,\n",
       "       [-18.,  -7.,  nan, ...,  -4.,  nan,  nan],\n",
       "       [ -3.,  -6., -15., ...,  -1.,  nan,  nan],\n",
       "       [ nan, -12., -22., ...,  -3.,  -3.,  -3.]])</pre></div></li><li class='xr-var-item'><div class='xr-var-name'><span>t_post</span></div><div class='xr-var-dims'>(y, x)</div><div class='xr-var-dtype'>float64</div><div class='xr-var-preview xr-preview'>...</div><input id='attrs-37f63906-2c03-4898-95df-dfa95f0edaa4' class='xr-var-attrs-in' type='checkbox' disabled><label for='attrs-37f63906-2c03-4898-95df-dfa95f0edaa4' title='Show/Hide attributes'><svg class='icon xr-icon-file-text2'><use xlink:href='#icon-file-text2'></use></svg></label><input id='data-7b412889-76dc-490d-b9a4-d63953f97b17' class='xr-var-data-in' type='checkbox'><label for='data-7b412889-76dc-490d-b9a4-d63953f97b17' title='Show/Hide data repr'><svg class='icon xr-icon-database'><use xlink:href='#icon-database'></use></svg></label><div class='xr-var-attrs'><dl class='xr-attrs'></dl></div><div class='xr-var-data'><pre>array([[nan, nan, nan, ..., nan, nan, nan],\n",
       "       [nan, nan, nan, ..., nan, nan, nan],\n",
       "       [nan, nan, nan, ..., nan, nan, nan],\n",
       "       ...,\n",
       "       [24., 23., nan, ...,  0., nan, nan],\n",
       "       [ 5., 24., 24., ...,  6., nan, nan],\n",
       "       [nan, 24., 26., ...,  9.,  5.,  6.]])</pre></div></li><li class='xr-var-item'><div class='xr-var-name'><span>t_total</span></div><div class='xr-var-dims'>(y, x)</div><div class='xr-var-dtype'>float64</div><div class='xr-var-preview xr-preview'>...</div><input id='attrs-533181e4-158e-4a85-a339-6f8f721a2394' class='xr-var-attrs-in' type='checkbox' disabled><label for='attrs-533181e4-158e-4a85-a339-6f8f721a2394' title='Show/Hide attributes'><svg class='icon xr-icon-file-text2'><use xlink:href='#icon-file-text2'></use></svg></label><input id='data-9c9e95f5-8c6f-4bb3-a6d4-b270767eeab9' class='xr-var-data-in' type='checkbox'><label for='data-9c9e95f5-8c6f-4bb3-a6d4-b270767eeab9' title='Show/Hide data repr'><svg class='icon xr-icon-database'><use xlink:href='#icon-database'></use></svg></label><div class='xr-var-attrs'><dl class='xr-attrs'></dl></div><div class='xr-var-data'><pre>array([[ nan,  nan,  nan, ...,  nan,  nan,  nan],\n",
       "       [ nan,  nan,  nan, ...,  nan,  nan,  nan],\n",
       "       [ nan,  nan,  nan, ...,  nan,  nan,  nan],\n",
       "       ...,\n",
       "       [381.,  36.,  nan, ...,  10.,  nan,  nan],\n",
       "       [ 14., 194., 227., ...,  90.,  nan,  nan],\n",
       "       [ nan, 381., 468., ...,  18.,  14.,  15.]])</pre></div></li><li class='xr-var-item'><div class='xr-var-name'><span>max_mag_org</span></div><div class='xr-var-dims'>(y, x)</div><div class='xr-var-dtype'>float64</div><div class='xr-var-preview xr-preview'>...</div><input id='attrs-6a86347e-5cbb-4d5e-b023-02c104cbdaad' class='xr-var-attrs-in' type='checkbox' disabled><label for='attrs-6a86347e-5cbb-4d5e-b023-02c104cbdaad' title='Show/Hide attributes'><svg class='icon xr-icon-file-text2'><use xlink:href='#icon-file-text2'></use></svg></label><input id='data-92838fb5-a45f-414c-8b6c-f78f6f3b660d' class='xr-var-data-in' type='checkbox'><label for='data-92838fb5-a45f-414c-8b6c-f78f6f3b660d' title='Show/Hide data repr'><svg class='icon xr-icon-database'><use xlink:href='#icon-database'></use></svg></label><div class='xr-var-attrs'><dl class='xr-attrs'></dl></div><div class='xr-var-data'><pre>array([[     nan,      nan,      nan, ...,      nan,      nan,      nan],\n",
       "       [     nan,      nan,      nan, ...,      nan,      nan,      nan],\n",
       "       [     nan,      nan,      nan, ...,      nan,      nan,      nan],\n",
       "       ...,\n",
       "       [7.270924, 5.454859,      nan, ..., 4.894137,      nan,      nan],\n",
       "       [1.509478, 6.353173, 4.718554, ..., 6.608996,      nan,      nan],\n",
       "       [     nan, 7.160803, 5.785863, ..., 8.480803, 6.221687, 5.192289]])</pre></div></li><li class='xr-var-item'><div class='xr-var-name'><span>max_mag_org_date</span></div><div class='xr-var-dims'>(y, x)</div><div class='xr-var-dtype'>float64</div><div class='xr-var-preview xr-preview'>...</div><input id='attrs-0446590c-474e-405b-a78a-62f82da5cfe4' class='xr-var-attrs-in' type='checkbox' disabled><label for='attrs-0446590c-474e-405b-a78a-62f82da5cfe4' title='Show/Hide attributes'><svg class='icon xr-icon-file-text2'><use xlink:href='#icon-file-text2'></use></svg></label><input id='data-6f0aae64-a6f7-4fcd-81b9-a084fc372ed3' class='xr-var-data-in' type='checkbox'><label for='data-6f0aae64-a6f7-4fcd-81b9-a084fc372ed3' title='Show/Hide data repr'><svg class='icon xr-icon-database'><use xlink:href='#icon-database'></use></svg></label><div class='xr-var-attrs'><dl class='xr-attrs'></dl></div><div class='xr-var-data'><pre>array([[         nan,          nan,          nan, ...,          nan,\n",
       "                 nan,          nan],\n",
       "       [         nan,          nan,          nan, ...,          nan,\n",
       "                 nan,          nan],\n",
       "       [         nan,          nan,          nan, ...,          nan,\n",
       "                 nan,          nan],\n",
       "       ...,\n",
       "       [1.573251e+18, 1.590053e+18,          nan, ..., 1.587766e+18,\n",
       "                 nan,          nan],\n",
       "       [1.574501e+18, 1.590053e+18, 1.590053e+18, ..., 1.582277e+18,\n",
       "                 nan,          nan],\n",
       "       [         nan, 1.573251e+18, 1.573251e+18, ..., 1.582582e+18,\n",
       "        1.589016e+18, 1.589016e+18]])</pre></div></li><li class='xr-var-item'><div class='xr-var-name'><span>t_mag_org</span></div><div class='xr-var-dims'>(y, x)</div><div class='xr-var-dtype'>float64</div><div class='xr-var-preview xr-preview'>...</div><input id='attrs-cb7862ac-2fa2-47e2-8089-eac53f15f647' class='xr-var-attrs-in' type='checkbox' disabled><label for='attrs-cb7862ac-2fa2-47e2-8089-eac53f15f647' title='Show/Hide attributes'><svg class='icon xr-icon-file-text2'><use xlink:href='#icon-file-text2'></use></svg></label><input id='data-9d5988b8-01ca-47e2-af0d-bbee26ec1108' class='xr-var-data-in' type='checkbox'><label for='data-9d5988b8-01ca-47e2-af0d-bbee26ec1108' title='Show/Hide data repr'><svg class='icon xr-icon-database'><use xlink:href='#icon-database'></use></svg></label><div class='xr-var-attrs'><dl class='xr-attrs'></dl></div><div class='xr-var-data'><pre>array([[nan, nan, nan, ..., nan, nan, nan],\n",
       "       [nan, nan, nan, ..., nan, nan, nan],\n",
       "       [nan, nan, nan, ..., nan, nan, nan],\n",
       "       ...,\n",
       "       [ 3., 12., nan, ...,  0., nan, nan],\n",
       "       [ 0., 12., 12., ...,  6., nan, nan],\n",
       "       [nan,  9., 12., ...,  9.,  0.,  0.]])</pre></div></li><li class='xr-var-item'><div class='xr-var-name'><span>seg2_size</span></div><div class='xr-var-dims'>(y, x)</div><div class='xr-var-dtype'>float64</div><div class='xr-var-preview xr-preview'>...</div><input id='attrs-f59e1d63-92d7-4bea-8766-39995b6823f1' class='xr-var-attrs-in' type='checkbox' disabled><label for='attrs-f59e1d63-92d7-4bea-8766-39995b6823f1' title='Show/Hide attributes'><svg class='icon xr-icon-file-text2'><use xlink:href='#icon-file-text2'></use></svg></label><input id='data-2c5e990e-8290-4f72-a46e-2141e37d2a61' class='xr-var-data-in' type='checkbox'><label for='data-2c5e990e-8290-4f72-a46e-2141e37d2a61' title='Show/Hide data repr'><svg class='icon xr-icon-database'><use xlink:href='#icon-database'></use></svg></label><div class='xr-var-attrs'><dl class='xr-attrs'></dl></div><div class='xr-var-data'><pre>array([[nan, nan, nan, ..., nan, nan, nan],\n",
       "       [nan, nan, nan, ..., nan, nan, nan],\n",
       "       [nan, nan, nan, ..., nan, nan, nan],\n",
       "       ...,\n",
       "       [84., nan, nan, ..., nan, nan, nan],\n",
       "       [nan, 18.,  6., ...,  6., nan, nan],\n",
       "       [nan, 78., 12., ..., nan, nan, nan]])</pre></div></li></ul></div></li><li class='xr-section-item'><input id='section-0e5b8d36-648d-4118-98ce-f5fa32b4a1ee' class='xr-section-summary-in' type='checkbox' disabled ><label for='section-0e5b8d36-648d-4118-98ce-f5fa32b4a1ee' class='xr-section-summary'  title='Expand/collapse section'>Attributes: <span>(0)</span></label><div class='xr-section-inline-details'></div><div class='xr-section-details'><dl class='xr-attrs'></dl></div></li></ul></div></div>"
      ],
      "text/plain": [
       "<xarray.Dataset>\n",
       "Dimensions:           (y: 100, x: 100)\n",
       "Coordinates:\n",
       "  * y                 (y) float64 6.898e+06 6.898e+06 ... 6.896e+06 6.896e+06\n",
       "  * x                 (x) float64 7.802e+06 7.802e+06 ... 7.804e+06 7.804e+06\n",
       "Data variables: (12/18)\n",
       "    exception_label   (y, x) float64 ...\n",
       "    ref_mean          (y, x) float64 ...\n",
       "    error_margin      (y, x) float64 ...\n",
       "    num_of_segments   (y, x) float64 ...\n",
       "    TS_end_flag       (y, x) float64 ...\n",
       "    TS_end_flag_long  (y, x) float64 ...\n",
       "    ...                ...\n",
       "    t_post            (y, x) float64 ...\n",
       "    t_total           (y, x) float64 ...\n",
       "    max_mag_org       (y, x) float64 ...\n",
       "    max_mag_org_date  (y, x) float64 ...\n",
       "    t_mag_org         (y, x) float64 ...\n",
       "    seg2_size         (y, x) float64 ..."
      ]
     },
     "execution_count": 7,
     "metadata": {},
     "output_type": "execute_result"
    }
   ],
   "source": [
    "my_out"
   ]
  },
  {
   "cell_type": "code",
   "execution_count": 8,
   "id": "d71a7b3a-ec62-4e83-99ae-ea95ab5d204a",
   "metadata": {},
   "outputs": [
    {
     "data": {
      "text/plain": [
       "<matplotlib.collections.QuadMesh at 0x7f330f2d1850>"
      ]
     },
     "execution_count": 8,
     "metadata": {},
     "output_type": "execute_result"
    },
    {
     "data": {
      "image/png": "[encoded data removed]",
      "text/plain": [
       "<Figure size 720x576 with 2 Axes>"
      ]
     },
     "metadata": {
      "needs_background": "light"
     },
     "output_type": "display_data"
    }
   ],
   "source": [
    "feature_da = my_out.exception_label.astype('int')\n",
    "feature_da.plot(figsize=(10, 8))"
   ]
  },
  {
   "cell_type": "code",
   "execution_count": null,
   "id": "83d38f7c-6036-4375-ad46-2ec30913a121",
   "metadata": {},
   "outputs": [],
   "source": []
  }
 ],
 "metadata": {
  "kernelspec": {
   "display_name": "Python 3 (ipykernel)",
   "language": "python",
   "name": "python3"
  },
  "language_info": {
   "codemirror_mode": {
    "name": "ipython",
    "version": 3
   },
   "file_extension": ".py",
   "mimetype": "text/x-python",
   "name": "python",
   "nbconvert_exporter": "python",
   "pygments_lexer": "ipython3",
   "version": "3.7.13"
  }
 },
 "nbformat": 4,
 "nbformat_minor": 5
}
