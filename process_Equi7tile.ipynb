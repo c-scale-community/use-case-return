{
 "cells": [
  {
   "cell_type": "markdown",
   "id": "006217e4-3993-4c5e-8750-b0832b338e8a",
   "metadata": {
    "tags": []
   },
   "source": [
    "## Apply the time seres analysis per each x, y location (pixel) within a single Equi7grid tile"
   ]
  },
  {
   "cell_type": "code",
   "execution_count": 35,
   "id": "e23bdd37-cf3e-4e9a-bca1-de32d6dd377c",
   "metadata": {},
   "outputs": [
    {
     "name": "stdout",
     "output_type": "stream",
     "text": [
      "The autoreload extension is already loaded. To reload it, use:\n",
      "  %reload_ext autoreload\n"
     ]
    }
   ],
   "source": [
    "import numpy as np\n",
    "import os, osr, glob\n",
    "import matplotlib.pyplot as plt\n",
    "%matplotlib inline\n",
    "from datetime import datetime\n",
    "import pandas as pd\n",
    "import xarray as xr\n",
    "import rioxarray\n",
    "import zarr\n",
    "# import TUW packages\n",
    "from yeoda.products.preprocessed import SIG0DataCube\n",
    "from geopathfinder.naming_conventions.yeoda_naming import YeodaFilename\n",
    "#\n",
    "%load_ext autoreload\n",
    "%autoreload 2\n",
    "%reload_ext autoreload\n",
    "# import my aux functions\n",
    "from auxilary_ts_tools_mm import plot_TS_fromPandaSeres, features_from_S1_TS, features_as_xrrray_ufunc"
   ]
  },
  {
   "cell_type": "markdown",
   "id": "159432e4-83fc-4206-8f51-794c4c18bc41",
   "metadata": {
    "jp-MarkdownHeadingCollapsed": true,
    "tags": []
   },
   "source": [
    "Specify the folders with a S1 datacube (a 300x300 m<sup>2</sup> Equi7Tile)"
   ]
  },
  {
   "cell_type": "code",
   "execution_count": 2,
   "id": "442ec10a-a468-440d-aee3-ec9e61e0e3d4",
   "metadata": {},
   "outputs": [],
   "source": [
    "tile_dir1_path = r'/project/return/Share/EODC_SA020M/V01R01/E078N066T3'\n",
    "tile_dir2_path = r'/project/return/Share/EODC_SA020M/V1M0R1/E078N066T3'\n",
    "#tile_dir1_path = r'/project/return/Share/EODC_SA020M/V01R01/E078N060T3'\n",
    "#tile_dir2_path = r'/project/return/Share/EODC_SA020M/V1M0R1/E078N060T3'\n",
    "# specify other parameters:\n",
    "dimensions=['time', 'band', 'extra_field', 'sensor_field']\n",
    "#\n",
    "filepaths1 = glob.glob(os.path.join(tile_dir1_path,'*.tif'))\n",
    "filepaths2 = glob.glob(os.path.join(tile_dir2_path,'*.tif'))"
   ]
  },
  {
   "cell_type": "markdown",
   "id": "b7d7b85d-61db-410e-bd38-7e570f0e9192",
   "metadata": {},
   "source": [
    "Get the lists of all tiles in the two folders with data and check if they are identical:"
   ]
  },
  {
   "cell_type": "code",
   "execution_count": 3,
   "id": "82646bec-694e-4f8d-867e-281d891f6b88",
   "metadata": {},
   "outputs": [],
   "source": [
    "tile_names1 = [os.path.basename(aa) for aa in glob.glob(r'/project/return/Share/EODC_SA020M/V01R01/*')]\n",
    "tile_names2 = [os.path.basename(aa) for aa in glob.glob(r'/project/return/Share/EODC_SA020M/V1M0R1/*')]"
   ]
  },
  {
   "cell_type": "code",
   "execution_count": null,
   "id": "51d46d3e-0fe3-421d-b019-b928ac718520",
   "metadata": {},
   "outputs": [],
   "source": []
  },
  {
   "cell_type": "code",
   "execution_count": 4,
   "id": "f84dd649-d19c-4110-b794-5db356a5215c",
   "metadata": {},
   "outputs": [
    {
     "data": {
      "text/plain": [
       "107"
      ]
     },
     "execution_count": 4,
     "metadata": {},
     "output_type": "execute_result"
    }
   ],
   "source": [
    "len(tile_names1)"
   ]
  },
  {
   "cell_type": "code",
   "execution_count": 5,
   "id": "a112e4bb-1b3e-4c26-b303-0bea2083e618",
   "metadata": {},
   "outputs": [
    {
     "data": {
      "text/plain": [
       "106"
      ]
     },
     "execution_count": 5,
     "metadata": {},
     "output_type": "execute_result"
    }
   ],
   "source": [
    "len(tile_names2)"
   ]
  },
  {
   "cell_type": "markdown",
   "id": "1494cd28-caf6-42ed-a175-e9e24ef5de56",
   "metadata": {},
   "source": [
    "The tile that is missing in EODC_SA020M/V1M0R1"
   ]
  },
  {
   "cell_type": "code",
   "execution_count": 6,
   "id": "7eaee946-da02-421d-a332-ffe4691e80fa",
   "metadata": {},
   "outputs": [
    {
     "data": {
      "text/plain": [
       "'E078N078T3'"
      ]
     },
     "execution_count": 6,
     "metadata": {},
     "output_type": "execute_result"
    }
   ],
   "source": [
    "tile_names1[np.where(~np.isin(tile_names1, tile_names2))[0][0]]"
   ]
  },
  {
   "cell_type": "markdown",
   "id": "8ba7deec-4470-49ad-b2a9-5621a3128955",
   "metadata": {},
   "source": [
    "Read the datacube:"
   ]
  },
  {
   "cell_type": "code",
   "execution_count": 7,
   "id": "f3c93138-71b3-4590-b847-eb57d6812bdd",
   "metadata": {
    "tags": []
   },
   "outputs": [
    {
     "data": {
      "text/html": [
       "<div>\n",
       "<style scoped>\n",
       "    .dataframe tbody tr th:only-of-type {\n",
       "        vertical-align: middle;\n",
       "    }\n",
       "\n",
       "    .dataframe tbody tr th {\n",
       "        vertical-align: top;\n",
       "    }\n",
       "\n",
       "    .dataframe thead th {\n",
       "        text-align: right;\n",
       "    }\n",
       "</style>\n",
       "<table border=\"1\" class=\"dataframe\">\n",
       "  <thead>\n",
       "    <tr style=\"text-align: right;\">\n",
       "      <th></th>\n",
       "      <th>time</th>\n",
       "      <th>band</th>\n",
       "      <th>extra_field</th>\n",
       "      <th>sensor_field</th>\n",
       "      <th>var_name</th>\n",
       "      <th>tile_name</th>\n",
       "    </tr>\n",
       "  </thead>\n",
       "  <tbody>\n",
       "    <tr>\n",
       "      <th>0</th>\n",
       "      <td>2016-11-26 09:22:09</td>\n",
       "      <td>VH</td>\n",
       "      <td>D039</td>\n",
       "      <td>S1AIWGRDH</td>\n",
       "      <td>SIG0</td>\n",
       "      <td>E078N066T3</td>\n",
       "    </tr>\n",
       "    <tr>\n",
       "      <th>1</th>\n",
       "      <td>2018-01-20 09:22:44</td>\n",
       "      <td>VH</td>\n",
       "      <td>D039</td>\n",
       "      <td>S1AIWGRDH</td>\n",
       "      <td>SIG0</td>\n",
       "      <td>E078N066T3</td>\n",
       "    </tr>\n",
       "    <tr>\n",
       "      <th>2</th>\n",
       "      <td>2017-05-20 09:14:52</td>\n",
       "      <td>VH</td>\n",
       "      <td>D141</td>\n",
       "      <td>S1AIWGRDH</td>\n",
       "      <td>SIG0</td>\n",
       "      <td>E078N066T3</td>\n",
       "    </tr>\n",
       "    <tr>\n",
       "      <th>3</th>\n",
       "      <td>2017-04-14 09:13:55</td>\n",
       "      <td>VH</td>\n",
       "      <td>D141</td>\n",
       "      <td>S1AIWGRDH</td>\n",
       "      <td>SIG0</td>\n",
       "      <td>E078N066T3</td>\n",
       "    </tr>\n",
       "    <tr>\n",
       "      <th>4</th>\n",
       "      <td>2017-11-21 09:22:21</td>\n",
       "      <td>VH</td>\n",
       "      <td>D039</td>\n",
       "      <td>S1AIWGRDH</td>\n",
       "      <td>SIG0</td>\n",
       "      <td>E078N066T3</td>\n",
       "    </tr>\n",
       "  </tbody>\n",
       "</table>\n",
       "</div>"
      ],
      "text/plain": [
       "                 time band extra_field sensor_field var_name   tile_name\n",
       "0 2016-11-26 09:22:09   VH        D039    S1AIWGRDH     SIG0  E078N066T3\n",
       "1 2018-01-20 09:22:44   VH        D039    S1AIWGRDH     SIG0  E078N066T3\n",
       "2 2017-05-20 09:14:52   VH        D141    S1AIWGRDH     SIG0  E078N066T3\n",
       "3 2017-04-14 09:13:55   VH        D141    S1AIWGRDH     SIG0  E078N066T3\n",
       "4 2017-11-21 09:22:21   VH        D039    S1AIWGRDH     SIG0  E078N066T3"
      ]
     },
     "execution_count": 7,
     "metadata": {},
     "output_type": "execute_result"
    }
   ],
   "source": [
    "sig0_dc1 = SIG0DataCube(filepaths=filepaths1, dimensions=dimensions, filename_class=YeodaFilename, sres=20, continent='SA')\n",
    "sig0_dc2 = SIG0DataCube(filepaths=filepaths2, dimensions=dimensions, filename_class=YeodaFilename, sres=20, continent='SA')\n",
    "# get info:\n",
    "sig0_dc2.inventory[dimensions].head(5)"
   ]
  },
  {
   "cell_type": "markdown",
   "id": "bc0bb1be-e006-4ce6-9638-a6c4d7189dac",
   "metadata": {},
   "source": [
    "Filter by date:"
   ]
  },
  {
   "cell_type": "code",
   "execution_count": 8,
   "id": "83f16e0d-9aa7-4788-8f51-98e5da2bf39f",
   "metadata": {
    "tags": []
   },
   "outputs": [],
   "source": [
    "toi_start, toi_end = datetime(2017, 1, 1), datetime(2021, 1, 1)\n",
    "sig0_dc1 = sig0_dc1.filter_by_dimension([(toi_start, toi_end)], [(\">=\", \"<\")], name=\"time\", inplace=True)\n",
    "sig0_dc2 = sig0_dc2.filter_by_dimension([(toi_start, toi_end)], [(\">=\", \"<\")], name=\"time\", inplace=True)"
   ]
  },
  {
   "cell_type": "markdown",
   "id": "f08e68ab-34ee-40f7-a290-5571de6576c0",
   "metadata": {},
   "source": [
    "Select bands:"
   ]
  },
  {
   "cell_type": "code",
   "execution_count": 9,
   "id": "01018726-e009-4296-8b7f-d5499d7aaff8",
   "metadata": {},
   "outputs": [],
   "source": [
    "sig0_vv_dc1 = sig0_dc1.filter_by_dimension('VV', name='band')\n",
    "sig0_vh_dc1 = sig0_dc1.filter_by_dimension('VH', name='band')\n",
    "#\n",
    "sig0_vv_dc2 = sig0_dc2.filter_by_dimension('VV', name='band')\n",
    "sig0_vh_dc2 = sig0_dc2.filter_by_dimension('VH', name='band')"
   ]
  },
  {
   "cell_type": "markdown",
   "id": "5be7563e-3f96-4322-862e-07456b4027ca",
   "metadata": {},
   "source": [
    "Merge and sort the datacubes:"
   ]
  },
  {
   "cell_type": "code",
   "execution_count": 10,
   "id": "889096df-2cf7-4641-aff2-6f524b9702ba",
   "metadata": {},
   "outputs": [
    {
     "data": {
      "text/html": [
       "<div>\n",
       "<style scoped>\n",
       "    .dataframe tbody tr th:only-of-type {\n",
       "        vertical-align: middle;\n",
       "    }\n",
       "\n",
       "    .dataframe tbody tr th {\n",
       "        vertical-align: top;\n",
       "    }\n",
       "\n",
       "    .dataframe thead th {\n",
       "        text-align: right;\n",
       "    }\n",
       "</style>\n",
       "<table border=\"1\" class=\"dataframe\">\n",
       "  <thead>\n",
       "    <tr style=\"text-align: right;\">\n",
       "      <th></th>\n",
       "      <th>filepath</th>\n",
       "      <th>time</th>\n",
       "      <th>band</th>\n",
       "      <th>extra_field</th>\n",
       "      <th>sensor_field</th>\n",
       "      <th>var_name</th>\n",
       "      <th>tile_name</th>\n",
       "    </tr>\n",
       "  </thead>\n",
       "  <tbody>\n",
       "    <tr>\n",
       "      <th>732</th>\n",
       "      <td>/project/return/Share/EODC_SA020M/V1M0R1/E078N...</td>\n",
       "      <td>2017-01-01 09:22:07</td>\n",
       "      <td>VV</td>\n",
       "      <td>D039</td>\n",
       "      <td>S1AIWGRDH</td>\n",
       "      <td>SIG0</td>\n",
       "      <td>E078N066T3</td>\n",
       "    </tr>\n",
       "    <tr>\n",
       "      <th>452</th>\n",
       "      <td>/project/return/Share/EODC_SA020M/V1M0R1/E078N...</td>\n",
       "      <td>2017-01-01 09:22:32</td>\n",
       "      <td>VV</td>\n",
       "      <td>D039</td>\n",
       "      <td>S1AIWGRDH</td>\n",
       "      <td>SIG0</td>\n",
       "      <td>E078N066T3</td>\n",
       "    </tr>\n",
       "    <tr>\n",
       "      <th>537</th>\n",
       "      <td>/project/return/Share/EODC_SA020M/V1M0R1/E078N...</td>\n",
       "      <td>2017-01-01 09:22:57</td>\n",
       "      <td>VV</td>\n",
       "      <td>D039</td>\n",
       "      <td>S1AIWGRDH</td>\n",
       "      <td>SIG0</td>\n",
       "      <td>E078N066T3</td>\n",
       "    </tr>\n",
       "    <tr>\n",
       "      <th>630</th>\n",
       "      <td>/project/return/Share/EODC_SA020M/V1M0R1/E078N...</td>\n",
       "      <td>2017-01-08 09:13:54</td>\n",
       "      <td>VV</td>\n",
       "      <td>D141</td>\n",
       "      <td>S1AIWGRDH</td>\n",
       "      <td>SIG0</td>\n",
       "      <td>E078N066T3</td>\n",
       "    </tr>\n",
       "    <tr>\n",
       "      <th>782</th>\n",
       "      <td>/project/return/Share/EODC_SA020M/V1M0R1/E078N...</td>\n",
       "      <td>2017-01-08 09:14:19</td>\n",
       "      <td>VV</td>\n",
       "      <td>D141</td>\n",
       "      <td>S1AIWGRDH</td>\n",
       "      <td>SIG0</td>\n",
       "      <td>E078N066T3</td>\n",
       "    </tr>\n",
       "    <tr>\n",
       "      <th>...</th>\n",
       "      <td>...</td>\n",
       "      <td>...</td>\n",
       "      <td>...</td>\n",
       "      <td>...</td>\n",
       "      <td>...</td>\n",
       "      <td>...</td>\n",
       "      <td>...</td>\n",
       "    </tr>\n",
       "    <tr>\n",
       "      <th>31</th>\n",
       "      <td>/project/return/Share/EODC_SA020M/V01R01/E078N...</td>\n",
       "      <td>2020-12-23 09:23:29</td>\n",
       "      <td>VV</td>\n",
       "      <td>D039</td>\n",
       "      <td>S1A</td>\n",
       "      <td>SIG0</td>\n",
       "      <td>E078N066T3</td>\n",
       "    </tr>\n",
       "    <tr>\n",
       "      <th>87</th>\n",
       "      <td>/project/return/Share/EODC_SA020M/V01R01/E078N...</td>\n",
       "      <td>2020-12-29 09:22:39</td>\n",
       "      <td>VV</td>\n",
       "      <td>D039</td>\n",
       "      <td>S1B</td>\n",
       "      <td>SIG0</td>\n",
       "      <td>E078N066T3</td>\n",
       "    </tr>\n",
       "    <tr>\n",
       "      <th>319</th>\n",
       "      <td>/project/return/Share/EODC_SA020M/V01R01/E078N...</td>\n",
       "      <td>2020-12-30 09:14:26</td>\n",
       "      <td>VV</td>\n",
       "      <td>D141</td>\n",
       "      <td>S1A</td>\n",
       "      <td>SIG0</td>\n",
       "      <td>E078N066T3</td>\n",
       "    </tr>\n",
       "    <tr>\n",
       "      <th>222</th>\n",
       "      <td>/project/return/Share/EODC_SA020M/V01R01/E078N...</td>\n",
       "      <td>2020-12-30 09:14:51</td>\n",
       "      <td>VV</td>\n",
       "      <td>D141</td>\n",
       "      <td>S1A</td>\n",
       "      <td>SIG0</td>\n",
       "      <td>E078N066T3</td>\n",
       "    </tr>\n",
       "    <tr>\n",
       "      <th>231</th>\n",
       "      <td>/project/return/Share/EODC_SA020M/V01R01/E078N...</td>\n",
       "      <td>2020-12-30 09:15:16</td>\n",
       "      <td>VV</td>\n",
       "      <td>D141</td>\n",
       "      <td>S1A</td>\n",
       "      <td>SIG0</td>\n",
       "      <td>E078N066T3</td>\n",
       "    </tr>\n",
       "  </tbody>\n",
       "</table>\n",
       "<p>818 rows × 7 columns</p>\n",
       "</div>"
      ],
      "text/plain": [
       "                                              filepath                time  \\\n",
       "732  /project/return/Share/EODC_SA020M/V1M0R1/E078N... 2017-01-01 09:22:07   \n",
       "452  /project/return/Share/EODC_SA020M/V1M0R1/E078N... 2017-01-01 09:22:32   \n",
       "537  /project/return/Share/EODC_SA020M/V1M0R1/E078N... 2017-01-01 09:22:57   \n",
       "630  /project/return/Share/EODC_SA020M/V1M0R1/E078N... 2017-01-08 09:13:54   \n",
       "782  /project/return/Share/EODC_SA020M/V1M0R1/E078N... 2017-01-08 09:14:19   \n",
       "..                                                 ...                 ...   \n",
       "31   /project/return/Share/EODC_SA020M/V01R01/E078N... 2020-12-23 09:23:29   \n",
       "87   /project/return/Share/EODC_SA020M/V01R01/E078N... 2020-12-29 09:22:39   \n",
       "319  /project/return/Share/EODC_SA020M/V01R01/E078N... 2020-12-30 09:14:26   \n",
       "222  /project/return/Share/EODC_SA020M/V01R01/E078N... 2020-12-30 09:14:51   \n",
       "231  /project/return/Share/EODC_SA020M/V01R01/E078N... 2020-12-30 09:15:16   \n",
       "\n",
       "    band extra_field sensor_field var_name   tile_name  \n",
       "732   VV        D039    S1AIWGRDH     SIG0  E078N066T3  \n",
       "452   VV        D039    S1AIWGRDH     SIG0  E078N066T3  \n",
       "537   VV        D039    S1AIWGRDH     SIG0  E078N066T3  \n",
       "630   VV        D141    S1AIWGRDH     SIG0  E078N066T3  \n",
       "782   VV        D141    S1AIWGRDH     SIG0  E078N066T3  \n",
       "..   ...         ...          ...      ...         ...  \n",
       "31    VV        D039          S1A     SIG0  E078N066T3  \n",
       "87    VV        D039          S1B     SIG0  E078N066T3  \n",
       "319   VV        D141          S1A     SIG0  E078N066T3  \n",
       "222   VV        D141          S1A     SIG0  E078N066T3  \n",
       "231   VV        D141          S1A     SIG0  E078N066T3  \n",
       "\n",
       "[818 rows x 7 columns]"
      ]
     },
     "execution_count": 10,
     "metadata": {},
     "output_type": "execute_result"
    }
   ],
   "source": [
    "sig0_vv_dc = sig0_vv_dc1.unite(sig0_vv_dc2)\n",
    "sig0_vv_dc = sig0_vv_dc.sort_by_dimension('time', ascending=True)\n",
    "#\n",
    "sig0_vh_dc = sig0_vh_dc1.unite(sig0_vh_dc2)\n",
    "sig0_vh_dc = sig0_vh_dc.sort_by_dimension('time', ascending=True)\n",
    "#\n",
    "sig0_vv_dc.inventory"
   ]
  },
  {
   "cell_type": "markdown",
   "id": "1035d78c-cc6e-41d3-a588-e3b767357fb4",
   "metadata": {},
   "source": [
    "Specify indexing for looping trough individual chunks within the Equi7grid tile:"
   ]
  },
  {
   "cell_type": "code",
   "execution_count": 11,
   "id": "77e83fa9-c62e-4e6a-b334-da3ed56514f6",
   "metadata": {},
   "outputs": [],
   "source": [
    "# read a raster to get the size of x and y coordinates:\n",
    "#single_tif_ds = xr.open_dataset(sig0_vv_dc.inventory.filepath[20], engine=\"rasterio\") \n",
    "single_tif_ds = xr.open_dataset(sig0_vv_dc.inventory.filepath[20], engine=\"rasterio\") \n",
    "#\n",
    "#my_file_path = r'/project/return/Share/EODC_SA020M/V1M0R1/E078N060T3/SIG0_20180807T091643__VV_D141_E078N060T3_SA020M_V1M0R1_S1AIWGRDH.tif'\n",
    "#\n",
    "#single_tif_ds = xr.open_dataset(my_file_path, engine=\"rasterio\") "
   ]
  },
  {
   "cell_type": "code",
   "execution_count": 12,
   "id": "0e39d71c-a24f-498f-b730-f3ee0daacf51",
   "metadata": {},
   "outputs": [
    {
     "data": {
      "text/html": [
       "<div><svg style=\"position: absolute; width: 0; height: 0; overflow: hidden\">\n",
       "<defs>\n",
       "<symbol id=\"icon-database\" viewBox=\"0 0 32 32\">\n",
       "<path d=\"M16 0c-8.837 0-16 2.239-16 5v4c0 2.761 7.163 5 16 5s16-2.239 16-5v-4c0-2.761-7.163-5-16-5z\"></path>\n",
       "<path d=\"M16 17c-8.837 0-16-2.239-16-5v6c0 2.761 7.163 5 16 5s16-2.239 16-5v-6c0 2.761-7.163 5-16 5z\"></path>\n",
       "<path d=\"M16 26c-8.837 0-16-2.239-16-5v6c0 2.761 7.163 5 16 5s16-2.239 16-5v-6c0 2.761-7.163 5-16 5z\"></path>\n",
       "</symbol>\n",
       "<symbol id=\"icon-file-text2\" viewBox=\"0 0 32 32\">\n",
       "<path d=\"M28.681 7.159c-0.694-0.947-1.662-2.053-2.724-3.116s-2.169-2.030-3.116-2.724c-1.612-1.182-2.393-1.319-2.841-1.319h-15.5c-1.378 0-2.5 1.121-2.5 2.5v27c0 1.378 1.122 2.5 2.5 2.5h23c1.378 0 2.5-1.122 2.5-2.5v-19.5c0-0.448-0.137-1.23-1.319-2.841zM24.543 5.457c0.959 0.959 1.712 1.825 2.268 2.543h-4.811v-4.811c0.718 0.556 1.584 1.309 2.543 2.268zM28 29.5c0 0.271-0.229 0.5-0.5 0.5h-23c-0.271 0-0.5-0.229-0.5-0.5v-27c0-0.271 0.229-0.5 0.5-0.5 0 0 15.499-0 15.5 0v7c0 0.552 0.448 1 1 1h7v19.5z\"></path>\n",
       "<path d=\"M23 26h-14c-0.552 0-1-0.448-1-1s0.448-1 1-1h14c0.552 0 1 0.448 1 1s-0.448 1-1 1z\"></path>\n",
       "<path d=\"M23 22h-14c-0.552 0-1-0.448-1-1s0.448-1 1-1h14c0.552 0 1 0.448 1 1s-0.448 1-1 1z\"></path>\n",
       "<path d=\"M23 18h-14c-0.552 0-1-0.448-1-1s0.448-1 1-1h14c0.552 0 1 0.448 1 1s-0.448 1-1 1z\"></path>\n",
       "</symbol>\n",
       "</defs>\n",
       "</svg>\n",
       "<style>/* CSS stylesheet for displaying xarray objects in jupyterlab.\n",
       " *\n",
       " */\n",
       "\n",
       ":root {\n",
       "  --xr-font-color0: var(--jp-content-font-color0, rgba(0, 0, 0, 1));\n",
       "  --xr-font-color2: var(--jp-content-font-color2, rgba(0, 0, 0, 0.54));\n",
       "  --xr-font-color3: var(--jp-content-font-color3, rgba(0, 0, 0, 0.38));\n",
       "  --xr-border-color: var(--jp-border-color2, #e0e0e0);\n",
       "  --xr-disabled-color: var(--jp-layout-color3, #bdbdbd);\n",
       "  --xr-background-color: var(--jp-layout-color0, white);\n",
       "  --xr-background-color-row-even: var(--jp-layout-color1, white);\n",
       "  --xr-background-color-row-odd: var(--jp-layout-color2, #eeeeee);\n",
       "}\n",
       "\n",
       "html[theme=dark],\n",
       "body.vscode-dark {\n",
       "  --xr-font-color0: rgba(255, 255, 255, 1);\n",
       "  --xr-font-color2: rgba(255, 255, 255, 0.54);\n",
       "  --xr-font-color3: rgba(255, 255, 255, 0.38);\n",
       "  --xr-border-color: #1F1F1F;\n",
       "  --xr-disabled-color: #515151;\n",
       "  --xr-background-color: #111111;\n",
       "  --xr-background-color-row-even: #111111;\n",
       "  --xr-background-color-row-odd: #313131;\n",
       "}\n",
       "\n",
       ".xr-wrap {\n",
       "  display: block !important;\n",
       "  min-width: 300px;\n",
       "  max-width: 700px;\n",
       "}\n",
       "\n",
       ".xr-text-repr-fallback {\n",
       "  /* fallback to plain text repr when CSS is not injected (untrusted notebook) */\n",
       "  display: none;\n",
       "}\n",
       "\n",
       ".xr-header {\n",
       "  padding-top: 6px;\n",
       "  padding-bottom: 6px;\n",
       "  margin-bottom: 4px;\n",
       "  border-bottom: solid 1px var(--xr-border-color);\n",
       "}\n",
       "\n",
       ".xr-header > div,\n",
       ".xr-header > ul {\n",
       "  display: inline;\n",
       "  margin-top: 0;\n",
       "  margin-bottom: 0;\n",
       "}\n",
       "\n",
       ".xr-obj-type,\n",
       ".xr-array-name {\n",
       "  margin-left: 2px;\n",
       "  margin-right: 10px;\n",
       "}\n",
       "\n",
       ".xr-obj-type {\n",
       "  color: var(--xr-font-color2);\n",
       "}\n",
       "\n",
       ".xr-sections {\n",
       "  padding-left: 0 !important;\n",
       "  display: grid;\n",
       "  grid-template-columns: 150px auto auto 1fr 20px 20px;\n",
       "}\n",
       "\n",
       ".xr-section-item {\n",
       "  display: contents;\n",
       "}\n",
       "\n",
       ".xr-section-item input {\n",
       "  display: none;\n",
       "}\n",
       "\n",
       ".xr-section-item input + label {\n",
       "  color: var(--xr-disabled-color);\n",
       "}\n",
       "\n",
       ".xr-section-item input:enabled + label {\n",
       "  cursor: pointer;\n",
       "  color: var(--xr-font-color2);\n",
       "}\n",
       "\n",
       ".xr-section-item input:enabled + label:hover {\n",
       "  color: var(--xr-font-color0);\n",
       "}\n",
       "\n",
       ".xr-section-summary {\n",
       "  grid-column: 1;\n",
       "  color: var(--xr-font-color2);\n",
       "  font-weight: 500;\n",
       "}\n",
       "\n",
       ".xr-section-summary > span {\n",
       "  display: inline-block;\n",
       "  padding-left: 0.5em;\n",
       "}\n",
       "\n",
       ".xr-section-summary-in:disabled + label {\n",
       "  color: var(--xr-font-color2);\n",
       "}\n",
       "\n",
       ".xr-section-summary-in + label:before {\n",
       "  display: inline-block;\n",
       "  content: '►';\n",
       "  font-size: 11px;\n",
       "  width: 15px;\n",
       "  text-align: center;\n",
       "}\n",
       "\n",
       ".xr-section-summary-in:disabled + label:before {\n",
       "  color: var(--xr-disabled-color);\n",
       "}\n",
       "\n",
       ".xr-section-summary-in:checked + label:before {\n",
       "  content: '▼';\n",
       "}\n",
       "\n",
       ".xr-section-summary-in:checked + label > span {\n",
       "  display: none;\n",
       "}\n",
       "\n",
       ".xr-section-summary,\n",
       ".xr-section-inline-details {\n",
       "  padding-top: 4px;\n",
       "  padding-bottom: 4px;\n",
       "}\n",
       "\n",
       ".xr-section-inline-details {\n",
       "  grid-column: 2 / -1;\n",
       "}\n",
       "\n",
       ".xr-section-details {\n",
       "  display: none;\n",
       "  grid-column: 1 / -1;\n",
       "  margin-bottom: 5px;\n",
       "}\n",
       "\n",
       ".xr-section-summary-in:checked ~ .xr-section-details {\n",
       "  display: contents;\n",
       "}\n",
       "\n",
       ".xr-array-wrap {\n",
       "  grid-column: 1 / -1;\n",
       "  display: grid;\n",
       "  grid-template-columns: 20px auto;\n",
       "}\n",
       "\n",
       ".xr-array-wrap > label {\n",
       "  grid-column: 1;\n",
       "  vertical-align: top;\n",
       "}\n",
       "\n",
       ".xr-preview {\n",
       "  color: var(--xr-font-color3);\n",
       "}\n",
       "\n",
       ".xr-array-preview,\n",
       ".xr-array-data {\n",
       "  padding: 0 5px !important;\n",
       "  grid-column: 2;\n",
       "}\n",
       "\n",
       ".xr-array-data,\n",
       ".xr-array-in:checked ~ .xr-array-preview {\n",
       "  display: none;\n",
       "}\n",
       "\n",
       ".xr-array-in:checked ~ .xr-array-data,\n",
       ".xr-array-preview {\n",
       "  display: inline-block;\n",
       "}\n",
       "\n",
       ".xr-dim-list {\n",
       "  display: inline-block !important;\n",
       "  list-style: none;\n",
       "  padding: 0 !important;\n",
       "  margin: 0;\n",
       "}\n",
       "\n",
       ".xr-dim-list li {\n",
       "  display: inline-block;\n",
       "  padding: 0;\n",
       "  margin: 0;\n",
       "}\n",
       "\n",
       ".xr-dim-list:before {\n",
       "  content: '(';\n",
       "}\n",
       "\n",
       ".xr-dim-list:after {\n",
       "  content: ')';\n",
       "}\n",
       "\n",
       ".xr-dim-list li:not(:last-child):after {\n",
       "  content: ',';\n",
       "  padding-right: 5px;\n",
       "}\n",
       "\n",
       ".xr-has-index {\n",
       "  font-weight: bold;\n",
       "}\n",
       "\n",
       ".xr-var-list,\n",
       ".xr-var-item {\n",
       "  display: contents;\n",
       "}\n",
       "\n",
       ".xr-var-item > div,\n",
       ".xr-var-item label,\n",
       ".xr-var-item > .xr-var-name span {\n",
       "  background-color: var(--xr-background-color-row-even);\n",
       "  margin-bottom: 0;\n",
       "}\n",
       "\n",
       ".xr-var-item > .xr-var-name:hover span {\n",
       "  padding-right: 5px;\n",
       "}\n",
       "\n",
       ".xr-var-list > li:nth-child(odd) > div,\n",
       ".xr-var-list > li:nth-child(odd) > label,\n",
       ".xr-var-list > li:nth-child(odd) > .xr-var-name span {\n",
       "  background-color: var(--xr-background-color-row-odd);\n",
       "}\n",
       "\n",
       ".xr-var-name {\n",
       "  grid-column: 1;\n",
       "}\n",
       "\n",
       ".xr-var-dims {\n",
       "  grid-column: 2;\n",
       "}\n",
       "\n",
       ".xr-var-dtype {\n",
       "  grid-column: 3;\n",
       "  text-align: right;\n",
       "  color: var(--xr-font-color2);\n",
       "}\n",
       "\n",
       ".xr-var-preview {\n",
       "  grid-column: 4;\n",
       "}\n",
       "\n",
       ".xr-var-name,\n",
       ".xr-var-dims,\n",
       ".xr-var-dtype,\n",
       ".xr-preview,\n",
       ".xr-attrs dt {\n",
       "  white-space: nowrap;\n",
       "  overflow: hidden;\n",
       "  text-overflow: ellipsis;\n",
       "  padding-right: 10px;\n",
       "}\n",
       "\n",
       ".xr-var-name:hover,\n",
       ".xr-var-dims:hover,\n",
       ".xr-var-dtype:hover,\n",
       ".xr-attrs dt:hover {\n",
       "  overflow: visible;\n",
       "  width: auto;\n",
       "  z-index: 1;\n",
       "}\n",
       "\n",
       ".xr-var-attrs,\n",
       ".xr-var-data {\n",
       "  display: none;\n",
       "  background-color: var(--xr-background-color) !important;\n",
       "  padding-bottom: 5px !important;\n",
       "}\n",
       "\n",
       ".xr-var-attrs-in:checked ~ .xr-var-attrs,\n",
       ".xr-var-data-in:checked ~ .xr-var-data {\n",
       "  display: block;\n",
       "}\n",
       "\n",
       ".xr-var-data > table {\n",
       "  float: right;\n",
       "}\n",
       "\n",
       ".xr-var-name span,\n",
       ".xr-var-data,\n",
       ".xr-attrs {\n",
       "  padding-left: 25px !important;\n",
       "}\n",
       "\n",
       ".xr-attrs,\n",
       ".xr-var-attrs,\n",
       ".xr-var-data {\n",
       "  grid-column: 1 / -1;\n",
       "}\n",
       "\n",
       "dl.xr-attrs {\n",
       "  padding: 0;\n",
       "  margin: 0;\n",
       "  display: grid;\n",
       "  grid-template-columns: 125px auto;\n",
       "}\n",
       "\n",
       ".xr-attrs dt,\n",
       ".xr-attrs dd {\n",
       "  padding: 0;\n",
       "  margin: 0;\n",
       "  float: left;\n",
       "  padding-right: 10px;\n",
       "  width: auto;\n",
       "}\n",
       "\n",
       ".xr-attrs dt {\n",
       "  font-weight: normal;\n",
       "  grid-column: 1;\n",
       "}\n",
       "\n",
       ".xr-attrs dt:hover span {\n",
       "  display: inline-block;\n",
       "  background: var(--xr-background-color);\n",
       "  padding-right: 10px;\n",
       "}\n",
       "\n",
       ".xr-attrs dd {\n",
       "  grid-column: 2;\n",
       "  white-space: pre-wrap;\n",
       "  word-break: break-all;\n",
       "}\n",
       "\n",
       ".xr-icon-database,\n",
       ".xr-icon-file-text2 {\n",
       "  display: inline-block;\n",
       "  vertical-align: middle;\n",
       "  width: 1em;\n",
       "  height: 1.5em !important;\n",
       "  stroke-width: 0;\n",
       "  stroke: currentColor;\n",
       "  fill: currentColor;\n",
       "}\n",
       "</style><pre class='xr-text-repr-fallback'>&lt;xarray.Dataset&gt;\n",
       "Dimensions:      (band: 1, x: 15000, y: 15000)\n",
       "Coordinates:\n",
       "  * band         (band) int64 1\n",
       "  * x            (x) float64 7.8e+06 7.8e+06 7.8e+06 ... 8.1e+06 8.1e+06 8.1e+06\n",
       "  * y            (y) float64 6.9e+06 6.9e+06 6.9e+06 ... 6.6e+06 6.6e+06 6.6e+06\n",
       "    spatial_ref  int64 0\n",
       "Data variables:\n",
       "    band_data    (band, y, x) float32 ...</pre><div class='xr-wrap' style='display:none'><div class='xr-header'><div class='xr-obj-type'>xarray.Dataset</div></div><ul class='xr-sections'><li class='xr-section-item'><input id='section-20ef6074-1451-4f76-9261-66e32a6882ab' class='xr-section-summary-in' type='checkbox' disabled ><label for='section-20ef6074-1451-4f76-9261-66e32a6882ab' class='xr-section-summary'  title='Expand/collapse section'>Dimensions:</label><div class='xr-section-inline-details'><ul class='xr-dim-list'><li><span class='xr-has-index'>band</span>: 1</li><li><span class='xr-has-index'>x</span>: 15000</li><li><span class='xr-has-index'>y</span>: 15000</li></ul></div><div class='xr-section-details'></div></li><li class='xr-section-item'><input id='section-5f11af09-58c3-49c5-afeb-d2aee76e9435' class='xr-section-summary-in' type='checkbox'  checked><label for='section-5f11af09-58c3-49c5-afeb-d2aee76e9435' class='xr-section-summary' >Coordinates: <span>(4)</span></label><div class='xr-section-inline-details'></div><div class='xr-section-details'><ul class='xr-var-list'><li class='xr-var-item'><div class='xr-var-name'><span class='xr-has-index'>band</span></div><div class='xr-var-dims'>(band)</div><div class='xr-var-dtype'>int64</div><div class='xr-var-preview xr-preview'>1</div><input id='attrs-8f0e1edb-08ee-4442-b031-b1ac0c8530bf' class='xr-var-attrs-in' type='checkbox' disabled><label for='attrs-8f0e1edb-08ee-4442-b031-b1ac0c8530bf' title='Show/Hide attributes'><svg class='icon xr-icon-file-text2'><use xlink:href='#icon-file-text2'></use></svg></label><input id='data-60d13fac-edb5-47bb-aae3-70ab0990eed5' class='xr-var-data-in' type='checkbox'><label for='data-60d13fac-edb5-47bb-aae3-70ab0990eed5' title='Show/Hide data repr'><svg class='icon xr-icon-database'><use xlink:href='#icon-database'></use></svg></label><div class='xr-var-attrs'><dl class='xr-attrs'></dl></div><div class='xr-var-data'><pre>array([1])</pre></div></li><li class='xr-var-item'><div class='xr-var-name'><span class='xr-has-index'>x</span></div><div class='xr-var-dims'>(x)</div><div class='xr-var-dtype'>float64</div><div class='xr-var-preview xr-preview'>7.8e+06 7.8e+06 ... 8.1e+06 8.1e+06</div><input id='attrs-47e3e739-a088-4258-ac48-fed13ca3c5c1' class='xr-var-attrs-in' type='checkbox' disabled><label for='attrs-47e3e739-a088-4258-ac48-fed13ca3c5c1' title='Show/Hide attributes'><svg class='icon xr-icon-file-text2'><use xlink:href='#icon-file-text2'></use></svg></label><input id='data-4be69206-39f3-4a0a-8634-2e703a0947b8' class='xr-var-data-in' type='checkbox'><label for='data-4be69206-39f3-4a0a-8634-2e703a0947b8' title='Show/Hide data repr'><svg class='icon xr-icon-database'><use xlink:href='#icon-database'></use></svg></label><div class='xr-var-attrs'><dl class='xr-attrs'></dl></div><div class='xr-var-data'><pre>array([7800010., 7800030., 7800050., ..., 8099950., 8099970., 8099990.])</pre></div></li><li class='xr-var-item'><div class='xr-var-name'><span class='xr-has-index'>y</span></div><div class='xr-var-dims'>(y)</div><div class='xr-var-dtype'>float64</div><div class='xr-var-preview xr-preview'>6.9e+06 6.9e+06 ... 6.6e+06 6.6e+06</div><input id='attrs-5e6e7074-b38d-4a53-bff0-493e80246a37' class='xr-var-attrs-in' type='checkbox' disabled><label for='attrs-5e6e7074-b38d-4a53-bff0-493e80246a37' title='Show/Hide attributes'><svg class='icon xr-icon-file-text2'><use xlink:href='#icon-file-text2'></use></svg></label><input id='data-252c0a8f-418e-4743-ae04-86d37fbeda9e' class='xr-var-data-in' type='checkbox'><label for='data-252c0a8f-418e-4743-ae04-86d37fbeda9e' title='Show/Hide data repr'><svg class='icon xr-icon-database'><use xlink:href='#icon-database'></use></svg></label><div class='xr-var-attrs'><dl class='xr-attrs'></dl></div><div class='xr-var-data'><pre>array([6899990., 6899970., 6899950., ..., 6600050., 6600030., 6600010.])</pre></div></li><li class='xr-var-item'><div class='xr-var-name'><span>spatial_ref</span></div><div class='xr-var-dims'>()</div><div class='xr-var-dtype'>int64</div><div class='xr-var-preview xr-preview'>...</div><input id='attrs-f8d376d9-1601-4c09-b989-8cc8e5342543' class='xr-var-attrs-in' type='checkbox' ><label for='attrs-f8d376d9-1601-4c09-b989-8cc8e5342543' title='Show/Hide attributes'><svg class='icon xr-icon-file-text2'><use xlink:href='#icon-file-text2'></use></svg></label><input id='data-f98210b6-964b-4998-bab3-285ad2a22a1d' class='xr-var-data-in' type='checkbox'><label for='data-f98210b6-964b-4998-bab3-285ad2a22a1d' title='Show/Hide data repr'><svg class='icon xr-icon-database'><use xlink:href='#icon-database'></use></svg></label><div class='xr-var-attrs'><dl class='xr-attrs'><dt><span>crs_wkt :</span></dt><dd>PROJCS[&quot;unknown&quot;,GEOGCS[&quot;WGS 84&quot;,DATUM[&quot;WGS_1984&quot;,SPHEROID[&quot;WGS 84&quot;,6378137,298.257223563,AUTHORITY[&quot;EPSG&quot;,&quot;7030&quot;]],AUTHORITY[&quot;EPSG&quot;,&quot;6326&quot;]],PRIMEM[&quot;Greenwich&quot;,0],UNIT[&quot;degree&quot;,0.0174532925199433,AUTHORITY[&quot;EPSG&quot;,&quot;9122&quot;]],AUTHORITY[&quot;EPSG&quot;,&quot;4326&quot;]],PROJECTION[&quot;Azimuthal_Equidistant&quot;],PARAMETER[&quot;latitude_of_center&quot;,-14],PARAMETER[&quot;longitude_of_center&quot;,-60.5],PARAMETER[&quot;false_easting&quot;,7257179.23559],PARAMETER[&quot;false_northing&quot;,5592024.44605],UNIT[&quot;metre&quot;,1,AUTHORITY[&quot;EPSG&quot;,&quot;9001&quot;]],AXIS[&quot;Easting&quot;,EAST],AXIS[&quot;Northing&quot;,NORTH]]</dd><dt><span>semi_major_axis :</span></dt><dd>6378137.0</dd><dt><span>semi_minor_axis :</span></dt><dd>6356752.314245179</dd><dt><span>inverse_flattening :</span></dt><dd>298.257223563</dd><dt><span>reference_ellipsoid_name :</span></dt><dd>WGS 84</dd><dt><span>longitude_of_prime_meridian :</span></dt><dd>0.0</dd><dt><span>prime_meridian_name :</span></dt><dd>Greenwich</dd><dt><span>geographic_crs_name :</span></dt><dd>WGS 84</dd><dt><span>horizontal_datum_name :</span></dt><dd>World Geodetic System 1984</dd><dt><span>projected_crs_name :</span></dt><dd>unknown</dd><dt><span>grid_mapping_name :</span></dt><dd>azimuthal_equidistant</dd><dt><span>latitude_of_projection_origin :</span></dt><dd>-14.0</dd><dt><span>longitude_of_projection_origin :</span></dt><dd>-60.5</dd><dt><span>false_easting :</span></dt><dd>7257179.23559</dd><dt><span>false_northing :</span></dt><dd>5592024.44605</dd><dt><span>spatial_ref :</span></dt><dd>PROJCS[&quot;unknown&quot;,GEOGCS[&quot;WGS 84&quot;,DATUM[&quot;WGS_1984&quot;,SPHEROID[&quot;WGS 84&quot;,6378137,298.257223563,AUTHORITY[&quot;EPSG&quot;,&quot;7030&quot;]],AUTHORITY[&quot;EPSG&quot;,&quot;6326&quot;]],PRIMEM[&quot;Greenwich&quot;,0],UNIT[&quot;degree&quot;,0.0174532925199433,AUTHORITY[&quot;EPSG&quot;,&quot;9122&quot;]],AUTHORITY[&quot;EPSG&quot;,&quot;4326&quot;]],PROJECTION[&quot;Azimuthal_Equidistant&quot;],PARAMETER[&quot;latitude_of_center&quot;,-14],PARAMETER[&quot;longitude_of_center&quot;,-60.5],PARAMETER[&quot;false_easting&quot;,7257179.23559],PARAMETER[&quot;false_northing&quot;,5592024.44605],UNIT[&quot;metre&quot;,1,AUTHORITY[&quot;EPSG&quot;,&quot;9001&quot;]],AXIS[&quot;Easting&quot;,EAST],AXIS[&quot;Northing&quot;,NORTH]]</dd><dt><span>GeoTransform :</span></dt><dd>7800000.0 20.0 0.0 6900000.0 0.0 -20.0</dd></dl></div><div class='xr-var-data'><pre>array(0)</pre></div></li></ul></div></li><li class='xr-section-item'><input id='section-fd4e98be-d72c-4f20-88cd-03c4d957278e' class='xr-section-summary-in' type='checkbox'  checked><label for='section-fd4e98be-d72c-4f20-88cd-03c4d957278e' class='xr-section-summary' >Data variables: <span>(1)</span></label><div class='xr-section-inline-details'></div><div class='xr-section-details'><ul class='xr-var-list'><li class='xr-var-item'><div class='xr-var-name'><span>band_data</span></div><div class='xr-var-dims'>(band, y, x)</div><div class='xr-var-dtype'>float32</div><div class='xr-var-preview xr-preview'>...</div><input id='attrs-5ba034f3-8fcb-40bd-ab76-6090b10c1616' class='xr-var-attrs-in' type='checkbox' disabled><label for='attrs-5ba034f3-8fcb-40bd-ab76-6090b10c1616' title='Show/Hide attributes'><svg class='icon xr-icon-file-text2'><use xlink:href='#icon-file-text2'></use></svg></label><input id='data-28f0f99a-3795-405e-bad7-79cede2a237a' class='xr-var-data-in' type='checkbox'><label for='data-28f0f99a-3795-405e-bad7-79cede2a237a' title='Show/Hide data repr'><svg class='icon xr-icon-database'><use xlink:href='#icon-database'></use></svg></label><div class='xr-var-attrs'><dl class='xr-attrs'></dl></div><div class='xr-var-data'><pre>[225000000 values with dtype=float32]</pre></div></li></ul></div></li><li class='xr-section-item'><input id='section-efb4c1c2-497b-4198-9b81-164ceaf3d6af' class='xr-section-summary-in' type='checkbox' disabled ><label for='section-efb4c1c2-497b-4198-9b81-164ceaf3d6af' class='xr-section-summary'  title='Expand/collapse section'>Attributes: <span>(0)</span></label><div class='xr-section-inline-details'></div><div class='xr-section-details'><dl class='xr-attrs'></dl></div></li></ul></div></div>"
      ],
      "text/plain": [
       "<xarray.Dataset>\n",
       "Dimensions:      (band: 1, x: 15000, y: 15000)\n",
       "Coordinates:\n",
       "  * band         (band) int64 1\n",
       "  * x            (x) float64 7.8e+06 7.8e+06 7.8e+06 ... 8.1e+06 8.1e+06 8.1e+06\n",
       "  * y            (y) float64 6.9e+06 6.9e+06 6.9e+06 ... 6.6e+06 6.6e+06 6.6e+06\n",
       "    spatial_ref  int64 ...\n",
       "Data variables:\n",
       "    band_data    (band, y, x) float32 ..."
      ]
     },
     "execution_count": 12,
     "metadata": {},
     "output_type": "execute_result"
    }
   ],
   "source": [
    "single_tif_ds"
   ]
  },
  {
   "cell_type": "code",
   "execution_count": 13,
   "id": "030fbf0e-ef7f-4021-89f7-9ddfed5c2dfd",
   "metadata": {},
   "outputs": [],
   "source": [
    "my_chunk_size = 1000\n",
    "#\n",
    "steps_row = np.arange(0, len(single_tif_ds.x)/my_chunk_size).astype(int)\n",
    "steps_col = np.arange(0, len(single_tif_ds.y)/my_chunk_size).astype(int)"
   ]
  },
  {
   "cell_type": "code",
   "execution_count": 14,
   "id": "ea43047b-88a7-4549-b2dd-f9adcd0a24ba",
   "metadata": {},
   "outputs": [
    {
     "data": {
      "text/plain": [
       "array([ 0,  1,  2,  3,  4,  5,  6,  7,  8,  9, 10, 11, 12, 13, 14])"
      ]
     },
     "execution_count": 14,
     "metadata": {},
     "output_type": "execute_result"
    }
   ],
   "source": [
    "steps_row"
   ]
  },
  {
   "cell_type": "markdown",
   "id": "3d873821-2415-4394-822a-bb4d4f8ce857",
   "metadata": {},
   "source": [
    "Load data "
   ]
  },
  {
   "cell_type": "code",
   "execution_count": 15,
   "id": "97692034-acdf-4f6f-be7c-272e5e24a25d",
   "metadata": {},
   "outputs": [],
   "source": [
    "sig0_vv_dc_chunk1 = sig0_vv_dc.load_by_pixels(14*1000, 14*1000, row_size=1000, col_size=1000, dtype='xarray')\n",
    "sig0_vh_dc_chunk1 = sig0_vv_dc.load_by_pixels(14*1000, 14*1000, row_size=1000, col_size=1000, dtype='xarray')"
   ]
  },
  {
   "cell_type": "markdown",
   "id": "89ce98f4-7e6e-4079-bd7b-5bebdad5492e",
   "metadata": {},
   "source": [
    "Get info"
   ]
  },
  {
   "cell_type": "code",
   "execution_count": 16,
   "id": "a3728a21-5a90-409e-bc02-ffafeb61bb1d",
   "metadata": {},
   "outputs": [
    {
     "name": "stdout",
     "output_type": "stream",
     "text": [
      "<xarray.Dataset>\n",
      "Dimensions:  (time: 818, y: 1000, x: 1000)\n",
      "Coordinates:\n",
      "  * time     (time) datetime64[ns] 2017-01-01T09:22:07 ... 2020-12-30T09:15:16\n",
      "  * y        (y) float64 6.62e+06 6.62e+06 6.62e+06 ... 6.6e+06 6.6e+06 6.6e+06\n",
      "  * x        (x) float64 8.08e+06 8.08e+06 8.08e+06 ... 8.1e+06 8.1e+06 8.1e+06\n",
      "Data variables:\n",
      "    1        (time, y, x) float64 nan nan nan nan ... -72.7 -66.9 -84.3 -80.1\n"
     ]
    }
   ],
   "source": [
    "print(sig0_vv_dc_chunk1)"
   ]
  },
  {
   "cell_type": "markdown",
   "id": "dc9f3403-168b-4f47-8349-20c22b4c331e",
   "metadata": {},
   "source": [
    "Get the in-memory size "
   ]
  },
  {
   "cell_type": "code",
   "execution_count": 17,
   "id": "3652f609-6ab6-42dc-9d63-f385e92359e4",
   "metadata": {},
   "outputs": [
    {
     "name": "stdout",
     "output_type": "stream",
     "text": [
      "Datacube size in memory is: 6240.9 MB\n"
     ]
    }
   ],
   "source": [
    "print('Datacube size in memory is:', np.round(sig0_vv_dc_chunk1.nbytes/(1024*1024), 1), 'MB')"
   ]
  },
  {
   "cell_type": "markdown",
   "id": "024ef13d-bfe6-44b0-9f0c-a8e941f3e9c0",
   "metadata": {},
   "source": [
    "Rename the variavle"
   ]
  },
  {
   "cell_type": "code",
   "execution_count": 18,
   "id": "b952d80e-9a40-40d0-882c-4426d83abe2c",
   "metadata": {},
   "outputs": [],
   "source": [
    "sig0_vv_dc_chunk1 = sig0_vv_dc_chunk1.rename({'1':'sig0_vv'})"
   ]
  },
  {
   "cell_type": "code",
   "execution_count": 19,
   "id": "f53af592-ea76-4f3d-9f83-3b835b1802bf",
   "metadata": {},
   "outputs": [],
   "source": [
    "sig0_vh_dc_chunk1 = sig0_vh_dc_chunk1.rename({'1':'sig0_vh'})"
   ]
  },
  {
   "cell_type": "markdown",
   "id": "82e263f2-4e05-48fd-bba8-9fa0398b9f1b",
   "metadata": {},
   "source": [
    "Plot a time seres and inspect values:"
   ]
  },
  {
   "cell_type": "code",
   "execution_count": 20,
   "id": "819302ed-4dcc-4156-80b2-da13991e96c0",
   "metadata": {},
   "outputs": [
    {
     "data": {
      "text/plain": [
       "[<matplotlib.lines.Line2D at 0x7fa0fcd43d50>]"
      ]
     },
     "execution_count": 20,
     "metadata": {},
     "output_type": "execute_result"
    },
    {
     "data": {
      "image/png": "[encoded data removed]",
      "text/plain": [
       "<Figure size 432x288 with 1 Axes>"
      ]
     },
     "metadata": {
      "needs_background": "light"
     },
     "output_type": "display_data"
    }
   ],
   "source": [
    "sig0_vv_dc_chunk1.sig0_vv.isel(x=0, y=0).dropna(dim='time').plot(linestyle='-', color='r')"
   ]
  },
  {
   "cell_type": "code",
   "execution_count": null,
   "id": "ff4d4091-17a3-4fa4-bca2-818bd2788600",
   "metadata": {},
   "outputs": [],
   "source": [
    "sig0_vh_dc_chunk1.sig0_vh.isel(x=0, y=0).dropna(dim='time').plot(linestyle='-', color='r')"
   ]
  },
  {
   "cell_type": "markdown",
   "id": "fdef91b2-41d1-4393-9d06-e4d410669f76",
   "metadata": {},
   "source": [
    "Rescale the data in 2019 and 2020"
   ]
  },
  {
   "cell_type": "code",
   "execution_count": null,
   "id": "79cc1eba-5c71-41b5-8e44-48555cfb6587",
   "metadata": {},
   "outputs": [],
   "source": [
    "sig0_vv_dc_chunk1['sig0_vv'].loc[slice('2019-1-1','2021-1-1'), :, :] = sig0_vv_dc_chunk1.sel(time=slice('2019-1-1','2021-1-1')).apply(lambda x: np.round(x/10.,1)).sig0_vv.values\n",
    "sig0_vh_dc_chunk1['sig0_vh'].loc[slice('2019-1-1','2021-1-1'), :, :] = sig0_vh_dc_chunk1.sel(time=slice('2019-1-1','2021-1-1')).apply(lambda x: np.round(x/10.,1)).sig0_vh.values"
   ]
  },
  {
   "cell_type": "code",
   "execution_count": null,
   "id": "95bb1e30-3fe5-4353-8886-47d8dcdc564d",
   "metadata": {},
   "outputs": [],
   "source": [
    "sig0_vv_dc_chunk1.sig0_vv.isel(x=0, y=0).dropna(dim='time').plot(linestyle='-', color='r')"
   ]
  },
  {
   "cell_type": "code",
   "execution_count": null,
   "id": "4e208acb-6cd3-40b0-8a1e-a0e9157c4fbe",
   "metadata": {},
   "outputs": [],
   "source": [
    "sig0_vh_dc_chunk1.sig0_vh.isel(x=0, y=0).dropna(dim='time').plot(linestyle='-', color='r')"
   ]
  },
  {
   "cell_type": "markdown",
   "id": "1d785a4f-4978-444d-8bef-4d6d67e58e20",
   "metadata": {},
   "source": [
    "Convert to pandas seres and plot"
   ]
  },
  {
   "cell_type": "code",
   "execution_count": null,
   "id": "4f81eb1a-2184-4d94-9bfe-dc6c227a421f",
   "metadata": {},
   "outputs": [],
   "source": [
    "sig0_vv_ts = sig0_vv_dc_chunk1.sig0_vv.isel(x=0, y=0).dropna(dim='time').to_series()"
   ]
  },
  {
   "cell_type": "code",
   "execution_count": null,
   "id": "f22e226a-3894-43a5-b67a-e9fc3ae3bd6c",
   "metadata": {},
   "outputs": [],
   "source": [
    "my_xticks = pd.date_range(datetime(2017,1,1), datetime(2021,1,1), freq='YS')\n",
    "sig0_vv_ts.plot(style='ro-', xticks=my_xticks, grid=True, figsize=(14,4), legend=True, xlabel='Time', ylabel='Bacscatter Intensity [dB]')"
   ]
  },
  {
   "cell_type": "markdown",
   "id": "c8468df9-ca63-4620-b981-97bcb2aaeaff",
   "metadata": {},
   "source": [
    "Round the time and resample to 6 day TS:"
   ]
  },
  {
   "cell_type": "code",
   "execution_count": null,
   "id": "bbd606cf-9024-453d-a2cf-dc436fb22a07",
   "metadata": {},
   "outputs": [],
   "source": [
    "sig0_vv_ts.index = sig0_vv_ts.index.round('D')\n",
    "#\n",
    "sig0_vv_ts_6d = sig0_vv_ts.resample('6D').interpolate(method='linear')"
   ]
  },
  {
   "cell_type": "code",
   "execution_count": null,
   "id": "2aff39a4-325b-4672-8800-15a0347d534a",
   "metadata": {},
   "outputs": [],
   "source": [
    "sig0_vv_ts_6d.plot(style='bo-',grid=True, figsize=(14,4), legend=True, xlabel='Time', ylabel='Bacscatter Intensity [dB]')"
   ]
  },
  {
   "cell_type": "code",
   "execution_count": null,
   "id": "a4a2ab34-e822-4aca-b460-da6e3cfd72ca",
   "metadata": {},
   "outputs": [],
   "source": [
    "plot_TS_fromPandaSeres(sig0_vv_ts_6d)"
   ]
  },
  {
   "cell_type": "code",
   "execution_count": null,
   "id": "da865267-0ae7-4122-ab73-bad329dcca49",
   "metadata": {},
   "outputs": [],
   "source": [
    "myFeatures_v2 = features_from_S1_TS(sig0_vv_ts_6d)\n",
    "myFeatures_v2"
   ]
  },
  {
   "cell_type": "markdown",
   "id": "1655bdda-c714-4415-890d-4332ca7ebee5",
   "metadata": {
    "tags": []
   },
   "source": [
    "## xarray-approach: apply the time-seres analysis per each x, y location in xarray"
   ]
  },
  {
   "cell_type": "markdown",
   "id": "2c887767-c4ed-41da-afe8-078435b15288",
   "metadata": {},
   "source": [
    "Prepare timestamps"
   ]
  },
  {
   "cell_type": "code",
   "execution_count": 21,
   "id": "f94feeb6-7652-42b3-b4c9-b2ea107f239e",
   "metadata": {},
   "outputs": [],
   "source": [
    "ts_time_stamps = sig0_vv_dc_chunk1['sig0_vv'][:,0, 0].time.values"
   ]
  },
  {
   "cell_type": "markdown",
   "id": "da2f6cc3-9c87-4115-8268-2f66a7477bc0",
   "metadata": {},
   "source": [
    "Get features per each pixel"
   ]
  },
  {
   "cell_type": "code",
   "execution_count": 22,
   "id": "f2cd8660-cec4-4bcb-9f90-c32624c5a8a5",
   "metadata": {},
   "outputs": [],
   "source": [
    "#%%timeit\n",
    "dist_out = xr.apply_ufunc(features_as_xrrray_ufunc, \n",
    "                          sig0_vh_dc_chunk1['sig0_vh'],\n",
    "                          ts_time_stamps,\n",
    "                          input_core_dims=[[\"time\"], []],\n",
    "                          output_core_dims=[[\"features\"]]\n",
    "                         )"
   ]
  },
  {
   "cell_type": "code",
   "execution_count": null,
   "id": "c4d87991-c827-4ac9-aa54-1ff9f1035a95",
   "metadata": {},
   "outputs": [],
   "source": [
    "#%%timeit\n",
    "dist_out = xr.apply_ufunc(features_as_xrrray_ufunc, \n",
    "                          sig0_vv_dc_chunk1['sig0_vv'],\n",
    "                          ts_time_stamps,\n",
    "                          input_core_dims=[[\"time\"], []],\n",
    "                          output_core_dims=[[\"features\"]]\n",
    "                         )"
   ]
  },
  {
   "cell_type": "code",
   "execution_count": null,
   "id": "f9e43f27-8fd3-4b03-8f46-83547733d0e6",
   "metadata": {},
   "outputs": [],
   "source": [
    "# timeit, 200x200 pixels: 4min 49s ± 4.23 s per loop (mean ± std. dev. of 7 runs, 1 loop each)\n",
    "# timeit, 100x100 pixels: 1min 13s ± 451 ms per loop (mean ± std. dev. of 7 runs, 1 loop each)\n",
    "# timeit, 50x50 pixel: 18.6 s ± 91.3 ms per loop (mean ± std. dev. of 7 runs, 1 loop each)\n",
    "# timeit, 10x10 pixels: 741 ms ± 2.57 ms per loop (mean ± std. dev. of 7 runs, 1 loop each)"
   ]
  },
  {
   "cell_type": "code",
   "execution_count": 23,
   "id": "d81307d9-3486-4f2e-ab95-aa7ab0720356",
   "metadata": {},
   "outputs": [],
   "source": [
    "# convert output to dataset\n",
    "dist_out_ds = dist_out.to_dataset(dim='features')"
   ]
  },
  {
   "cell_type": "code",
   "execution_count": 24,
   "id": "0064d0d7-28f7-43bf-8ec8-b285fbbc991b",
   "metadata": {},
   "outputs": [],
   "source": [
    "dist_out_ds = dist_out_ds.rename({0:'exception_label', 1:'ref_mean', 2:'error_margin',\n",
    "                                  3:'num_of_segments', 4:'TS_end_flag', 5:'TS_end_flag_long', 6:'TS_end_mag',\n",
    "                                  7:'seg_id', 8:'seg_size', 9:'max_mag', 10:'max_mag_date', 11:'t_pre', 12:'t_post', 13:'t_total',\n",
    "                                  14:'max_mag_org', 15:'max_mag_org_date', 16:'t_mag_org',\n",
    "                                  17:'seg2_size'})"
   ]
  },
  {
   "cell_type": "code",
   "execution_count": 25,
   "id": "788f7f46-0ebd-4c33-b972-ff47d66e5191",
   "metadata": {},
   "outputs": [
    {
     "data": {
      "text/html": [
       "<div><svg style=\"position: absolute; width: 0; height: 0; overflow: hidden\">\n",
       "<defs>\n",
       "<symbol id=\"icon-database\" viewBox=\"0 0 32 32\">\n",
       "<path d=\"M16 0c-8.837 0-16 2.239-16 5v4c0 2.761 7.163 5 16 5s16-2.239 16-5v-4c0-2.761-7.163-5-16-5z\"></path>\n",
       "<path d=\"M16 17c-8.837 0-16-2.239-16-5v6c0 2.761 7.163 5 16 5s16-2.239 16-5v-6c0 2.761-7.163 5-16 5z\"></path>\n",
       "<path d=\"M16 26c-8.837 0-16-2.239-16-5v6c0 2.761 7.163 5 16 5s16-2.239 16-5v-6c0 2.761-7.163 5-16 5z\"></path>\n",
       "</symbol>\n",
       "<symbol id=\"icon-file-text2\" viewBox=\"0 0 32 32\">\n",
       "<path d=\"M28.681 7.159c-0.694-0.947-1.662-2.053-2.724-3.116s-2.169-2.030-3.116-2.724c-1.612-1.182-2.393-1.319-2.841-1.319h-15.5c-1.378 0-2.5 1.121-2.5 2.5v27c0 1.378 1.122 2.5 2.5 2.5h23c1.378 0 2.5-1.122 2.5-2.5v-19.5c0-0.448-0.137-1.23-1.319-2.841zM24.543 5.457c0.959 0.959 1.712 1.825 2.268 2.543h-4.811v-4.811c0.718 0.556 1.584 1.309 2.543 2.268zM28 29.5c0 0.271-0.229 0.5-0.5 0.5h-23c-0.271 0-0.5-0.229-0.5-0.5v-27c0-0.271 0.229-0.5 0.5-0.5 0 0 15.499-0 15.5 0v7c0 0.552 0.448 1 1 1h7v19.5z\"></path>\n",
       "<path d=\"M23 26h-14c-0.552 0-1-0.448-1-1s0.448-1 1-1h14c0.552 0 1 0.448 1 1s-0.448 1-1 1z\"></path>\n",
       "<path d=\"M23 22h-14c-0.552 0-1-0.448-1-1s0.448-1 1-1h14c0.552 0 1 0.448 1 1s-0.448 1-1 1z\"></path>\n",
       "<path d=\"M23 18h-14c-0.552 0-1-0.448-1-1s0.448-1 1-1h14c0.552 0 1 0.448 1 1s-0.448 1-1 1z\"></path>\n",
       "</symbol>\n",
       "</defs>\n",
       "</svg>\n",
       "<style>/* CSS stylesheet for displaying xarray objects in jupyterlab.\n",
       " *\n",
       " */\n",
       "\n",
       ":root {\n",
       "  --xr-font-color0: var(--jp-content-font-color0, rgba(0, 0, 0, 1));\n",
       "  --xr-font-color2: var(--jp-content-font-color2, rgba(0, 0, 0, 0.54));\n",
       "  --xr-font-color3: var(--jp-content-font-color3, rgba(0, 0, 0, 0.38));\n",
       "  --xr-border-color: var(--jp-border-color2, #e0e0e0);\n",
       "  --xr-disabled-color: var(--jp-layout-color3, #bdbdbd);\n",
       "  --xr-background-color: var(--jp-layout-color0, white);\n",
       "  --xr-background-color-row-even: var(--jp-layout-color1, white);\n",
       "  --xr-background-color-row-odd: var(--jp-layout-color2, #eeeeee);\n",
       "}\n",
       "\n",
       "html[theme=dark],\n",
       "body.vscode-dark {\n",
       "  --xr-font-color0: rgba(255, 255, 255, 1);\n",
       "  --xr-font-color2: rgba(255, 255, 255, 0.54);\n",
       "  --xr-font-color3: rgba(255, 255, 255, 0.38);\n",
       "  --xr-border-color: #1F1F1F;\n",
       "  --xr-disabled-color: #515151;\n",
       "  --xr-background-color: #111111;\n",
       "  --xr-background-color-row-even: #111111;\n",
       "  --xr-background-color-row-odd: #313131;\n",
       "}\n",
       "\n",
       ".xr-wrap {\n",
       "  display: block !important;\n",
       "  min-width: 300px;\n",
       "  max-width: 700px;\n",
       "}\n",
       "\n",
       ".xr-text-repr-fallback {\n",
       "  /* fallback to plain text repr when CSS is not injected (untrusted notebook) */\n",
       "  display: none;\n",
       "}\n",
       "\n",
       ".xr-header {\n",
       "  padding-top: 6px;\n",
       "  padding-bottom: 6px;\n",
       "  margin-bottom: 4px;\n",
       "  border-bottom: solid 1px var(--xr-border-color);\n",
       "}\n",
       "\n",
       ".xr-header > div,\n",
       ".xr-header > ul {\n",
       "  display: inline;\n",
       "  margin-top: 0;\n",
       "  margin-bottom: 0;\n",
       "}\n",
       "\n",
       ".xr-obj-type,\n",
       ".xr-array-name {\n",
       "  margin-left: 2px;\n",
       "  margin-right: 10px;\n",
       "}\n",
       "\n",
       ".xr-obj-type {\n",
       "  color: var(--xr-font-color2);\n",
       "}\n",
       "\n",
       ".xr-sections {\n",
       "  padding-left: 0 !important;\n",
       "  display: grid;\n",
       "  grid-template-columns: 150px auto auto 1fr 20px 20px;\n",
       "}\n",
       "\n",
       ".xr-section-item {\n",
       "  display: contents;\n",
       "}\n",
       "\n",
       ".xr-section-item input {\n",
       "  display: none;\n",
       "}\n",
       "\n",
       ".xr-section-item input + label {\n",
       "  color: var(--xr-disabled-color);\n",
       "}\n",
       "\n",
       ".xr-section-item input:enabled + label {\n",
       "  cursor: pointer;\n",
       "  color: var(--xr-font-color2);\n",
       "}\n",
       "\n",
       ".xr-section-item input:enabled + label:hover {\n",
       "  color: var(--xr-font-color0);\n",
       "}\n",
       "\n",
       ".xr-section-summary {\n",
       "  grid-column: 1;\n",
       "  color: var(--xr-font-color2);\n",
       "  font-weight: 500;\n",
       "}\n",
       "\n",
       ".xr-section-summary > span {\n",
       "  display: inline-block;\n",
       "  padding-left: 0.5em;\n",
       "}\n",
       "\n",
       ".xr-section-summary-in:disabled + label {\n",
       "  color: var(--xr-font-color2);\n",
       "}\n",
       "\n",
       ".xr-section-summary-in + label:before {\n",
       "  display: inline-block;\n",
       "  content: '►';\n",
       "  font-size: 11px;\n",
       "  width: 15px;\n",
       "  text-align: center;\n",
       "}\n",
       "\n",
       ".xr-section-summary-in:disabled + label:before {\n",
       "  color: var(--xr-disabled-color);\n",
       "}\n",
       "\n",
       ".xr-section-summary-in:checked + label:before {\n",
       "  content: '▼';\n",
       "}\n",
       "\n",
       ".xr-section-summary-in:checked + label > span {\n",
       "  display: none;\n",
       "}\n",
       "\n",
       ".xr-section-summary,\n",
       ".xr-section-inline-details {\n",
       "  padding-top: 4px;\n",
       "  padding-bottom: 4px;\n",
       "}\n",
       "\n",
       ".xr-section-inline-details {\n",
       "  grid-column: 2 / -1;\n",
       "}\n",
       "\n",
       ".xr-section-details {\n",
       "  display: none;\n",
       "  grid-column: 1 / -1;\n",
       "  margin-bottom: 5px;\n",
       "}\n",
       "\n",
       ".xr-section-summary-in:checked ~ .xr-section-details {\n",
       "  display: contents;\n",
       "}\n",
       "\n",
       ".xr-array-wrap {\n",
       "  grid-column: 1 / -1;\n",
       "  display: grid;\n",
       "  grid-template-columns: 20px auto;\n",
       "}\n",
       "\n",
       ".xr-array-wrap > label {\n",
       "  grid-column: 1;\n",
       "  vertical-align: top;\n",
       "}\n",
       "\n",
       ".xr-preview {\n",
       "  color: var(--xr-font-color3);\n",
       "}\n",
       "\n",
       ".xr-array-preview,\n",
       ".xr-array-data {\n",
       "  padding: 0 5px !important;\n",
       "  grid-column: 2;\n",
       "}\n",
       "\n",
       ".xr-array-data,\n",
       ".xr-array-in:checked ~ .xr-array-preview {\n",
       "  display: none;\n",
       "}\n",
       "\n",
       ".xr-array-in:checked ~ .xr-array-data,\n",
       ".xr-array-preview {\n",
       "  display: inline-block;\n",
       "}\n",
       "\n",
       ".xr-dim-list {\n",
       "  display: inline-block !important;\n",
       "  list-style: none;\n",
       "  padding: 0 !important;\n",
       "  margin: 0;\n",
       "}\n",
       "\n",
       ".xr-dim-list li {\n",
       "  display: inline-block;\n",
       "  padding: 0;\n",
       "  margin: 0;\n",
       "}\n",
       "\n",
       ".xr-dim-list:before {\n",
       "  content: '(';\n",
       "}\n",
       "\n",
       ".xr-dim-list:after {\n",
       "  content: ')';\n",
       "}\n",
       "\n",
       ".xr-dim-list li:not(:last-child):after {\n",
       "  content: ',';\n",
       "  padding-right: 5px;\n",
       "}\n",
       "\n",
       ".xr-has-index {\n",
       "  font-weight: bold;\n",
       "}\n",
       "\n",
       ".xr-var-list,\n",
       ".xr-var-item {\n",
       "  display: contents;\n",
       "}\n",
       "\n",
       ".xr-var-item > div,\n",
       ".xr-var-item label,\n",
       ".xr-var-item > .xr-var-name span {\n",
       "  background-color: var(--xr-background-color-row-even);\n",
       "  margin-bottom: 0;\n",
       "}\n",
       "\n",
       ".xr-var-item > .xr-var-name:hover span {\n",
       "  padding-right: 5px;\n",
       "}\n",
       "\n",
       ".xr-var-list > li:nth-child(odd) > div,\n",
       ".xr-var-list > li:nth-child(odd) > label,\n",
       ".xr-var-list > li:nth-child(odd) > .xr-var-name span {\n",
       "  background-color: var(--xr-background-color-row-odd);\n",
       "}\n",
       "\n",
       ".xr-var-name {\n",
       "  grid-column: 1;\n",
       "}\n",
       "\n",
       ".xr-var-dims {\n",
       "  grid-column: 2;\n",
       "}\n",
       "\n",
       ".xr-var-dtype {\n",
       "  grid-column: 3;\n",
       "  text-align: right;\n",
       "  color: var(--xr-font-color2);\n",
       "}\n",
       "\n",
       ".xr-var-preview {\n",
       "  grid-column: 4;\n",
       "}\n",
       "\n",
       ".xr-var-name,\n",
       ".xr-var-dims,\n",
       ".xr-var-dtype,\n",
       ".xr-preview,\n",
       ".xr-attrs dt {\n",
       "  white-space: nowrap;\n",
       "  overflow: hidden;\n",
       "  text-overflow: ellipsis;\n",
       "  padding-right: 10px;\n",
       "}\n",
       "\n",
       ".xr-var-name:hover,\n",
       ".xr-var-dims:hover,\n",
       ".xr-var-dtype:hover,\n",
       ".xr-attrs dt:hover {\n",
       "  overflow: visible;\n",
       "  width: auto;\n",
       "  z-index: 1;\n",
       "}\n",
       "\n",
       ".xr-var-attrs,\n",
       ".xr-var-data {\n",
       "  display: none;\n",
       "  background-color: var(--xr-background-color) !important;\n",
       "  padding-bottom: 5px !important;\n",
       "}\n",
       "\n",
       ".xr-var-attrs-in:checked ~ .xr-var-attrs,\n",
       ".xr-var-data-in:checked ~ .xr-var-data {\n",
       "  display: block;\n",
       "}\n",
       "\n",
       ".xr-var-data > table {\n",
       "  float: right;\n",
       "}\n",
       "\n",
       ".xr-var-name span,\n",
       ".xr-var-data,\n",
       ".xr-attrs {\n",
       "  padding-left: 25px !important;\n",
       "}\n",
       "\n",
       ".xr-attrs,\n",
       ".xr-var-attrs,\n",
       ".xr-var-data {\n",
       "  grid-column: 1 / -1;\n",
       "}\n",
       "\n",
       "dl.xr-attrs {\n",
       "  padding: 0;\n",
       "  margin: 0;\n",
       "  display: grid;\n",
       "  grid-template-columns: 125px auto;\n",
       "}\n",
       "\n",
       ".xr-attrs dt,\n",
       ".xr-attrs dd {\n",
       "  padding: 0;\n",
       "  margin: 0;\n",
       "  float: left;\n",
       "  padding-right: 10px;\n",
       "  width: auto;\n",
       "}\n",
       "\n",
       ".xr-attrs dt {\n",
       "  font-weight: normal;\n",
       "  grid-column: 1;\n",
       "}\n",
       "\n",
       ".xr-attrs dt:hover span {\n",
       "  display: inline-block;\n",
       "  background: var(--xr-background-color);\n",
       "  padding-right: 10px;\n",
       "}\n",
       "\n",
       ".xr-attrs dd {\n",
       "  grid-column: 2;\n",
       "  white-space: pre-wrap;\n",
       "  word-break: break-all;\n",
       "}\n",
       "\n",
       ".xr-icon-database,\n",
       ".xr-icon-file-text2 {\n",
       "  display: inline-block;\n",
       "  vertical-align: middle;\n",
       "  width: 1em;\n",
       "  height: 1.5em !important;\n",
       "  stroke-width: 0;\n",
       "  stroke: currentColor;\n",
       "  fill: currentColor;\n",
       "}\n",
       "</style><pre class='xr-text-repr-fallback'>&lt;xarray.Dataset&gt;\n",
       "Dimensions:           (y: 1000, x: 1000)\n",
       "Coordinates:\n",
       "  * y                 (y) float64 6.62e+06 6.62e+06 6.62e+06 ... 6.6e+06 6.6e+06\n",
       "  * x                 (x) float64 8.08e+06 8.08e+06 8.08e+06 ... 8.1e+06 8.1e+06\n",
       "Data variables: (12/18)\n",
       "    exception_label   (y, x) object 0 0 0 0 0 0 0 0 0 0 ... 0 0 0 0 0 0 0 0 0 0\n",
       "    ref_mean          (y, x) object -6.643 -8.257 -7.753 ... -7.911 -7.923\n",
       "    error_margin      (y, x) object 0.9221 1.184 1.237 ... 1.229 0.9568 0.9053\n",
       "    num_of_segments   (y, x) object 1 1 1 1 1 1 1 1 1 1 ... 1 1 1 1 1 1 1 1 1 1\n",
       "    TS_end_flag       (y, x) object 1 1 1 1 1 1 1 1 1 1 ... 1 1 1 1 1 1 1 1 1 1\n",
       "    TS_end_flag_long  (y, x) object 1 1 1 1 1 1 1 1 1 1 ... 1 1 1 1 1 1 1 1 1 1\n",
       "    ...                ...\n",
       "    t_post            (y, x) object 66 402 107 102 414 ... 504 510 480 474 408\n",
       "    t_total           (y, x) object 708 708 708 708 708 ... 708 708 708 708 708\n",
       "    max_mag_org       (y, x) object 90.86 105.8 97.95 ... 98.76 88.39 86.48\n",
       "    max_mag_org_date  (y, x) object 2020-10-13T09:14:34 ... 2019-08-14T09:15:09\n",
       "    t_mag_org         (y, x) object 12 282 17 -6 18 -49 ... -13 449 6 -24 6 -72\n",
       "    seg2_size         (y, x) object nan nan nan nan nan ... nan nan nan nan nan</pre><div class='xr-wrap' style='display:none'><div class='xr-header'><div class='xr-obj-type'>xarray.Dataset</div></div><ul class='xr-sections'><li class='xr-section-item'><input id='section-53bfa762-c9fe-4483-8dc1-fb6cfd646daf' class='xr-section-summary-in' type='checkbox' disabled ><label for='section-53bfa762-c9fe-4483-8dc1-fb6cfd646daf' class='xr-section-summary'  title='Expand/collapse section'>Dimensions:</label><div class='xr-section-inline-details'><ul class='xr-dim-list'><li><span class='xr-has-index'>y</span>: 1000</li><li><span class='xr-has-index'>x</span>: 1000</li></ul></div><div class='xr-section-details'></div></li><li class='xr-section-item'><input id='section-7794ca1b-9b39-4f8a-9652-8d160f24388d' class='xr-section-summary-in' type='checkbox'  checked><label for='section-7794ca1b-9b39-4f8a-9652-8d160f24388d' class='xr-section-summary' >Coordinates: <span>(2)</span></label><div class='xr-section-inline-details'></div><div class='xr-section-details'><ul class='xr-var-list'><li class='xr-var-item'><div class='xr-var-name'><span class='xr-has-index'>y</span></div><div class='xr-var-dims'>(y)</div><div class='xr-var-dtype'>float64</div><div class='xr-var-preview xr-preview'>6.62e+06 6.62e+06 ... 6.6e+06</div><input id='attrs-b509e567-2f37-4070-a0b9-9a5a04a770dc' class='xr-var-attrs-in' type='checkbox' disabled><label for='attrs-b509e567-2f37-4070-a0b9-9a5a04a770dc' title='Show/Hide attributes'><svg class='icon xr-icon-file-text2'><use xlink:href='#icon-file-text2'></use></svg></label><input id='data-30ceba33-8ad8-4137-8766-8e0faab11f23' class='xr-var-data-in' type='checkbox'><label for='data-30ceba33-8ad8-4137-8766-8e0faab11f23' title='Show/Hide data repr'><svg class='icon xr-icon-database'><use xlink:href='#icon-database'></use></svg></label><div class='xr-var-attrs'><dl class='xr-attrs'></dl></div><div class='xr-var-data'><pre>array([6620000., 6619980., 6619960., ..., 6600060., 6600040., 6600020.])</pre></div></li><li class='xr-var-item'><div class='xr-var-name'><span class='xr-has-index'>x</span></div><div class='xr-var-dims'>(x)</div><div class='xr-var-dtype'>float64</div><div class='xr-var-preview xr-preview'>8.08e+06 8.08e+06 ... 8.1e+06</div><input id='attrs-2045a3ac-ebbd-45e8-8c33-b5f081bb8e1b' class='xr-var-attrs-in' type='checkbox' disabled><label for='attrs-2045a3ac-ebbd-45e8-8c33-b5f081bb8e1b' title='Show/Hide attributes'><svg class='icon xr-icon-file-text2'><use xlink:href='#icon-file-text2'></use></svg></label><input id='data-bbb678e2-20d6-47b3-bc6f-be5a01fae980' class='xr-var-data-in' type='checkbox'><label for='data-bbb678e2-20d6-47b3-bc6f-be5a01fae980' title='Show/Hide data repr'><svg class='icon xr-icon-database'><use xlink:href='#icon-database'></use></svg></label><div class='xr-var-attrs'><dl class='xr-attrs'></dl></div><div class='xr-var-data'><pre>array([8080000., 8080020., 8080040., ..., 8099940., 8099960., 8099980.])</pre></div></li></ul></div></li><li class='xr-section-item'><input id='section-d2a2af95-166f-4956-9f0f-0973538d17e9' class='xr-section-summary-in' type='checkbox'  ><label for='section-d2a2af95-166f-4956-9f0f-0973538d17e9' class='xr-section-summary' >Data variables: <span>(18)</span></label><div class='xr-section-inline-details'></div><div class='xr-section-details'><ul class='xr-var-list'><li class='xr-var-item'><div class='xr-var-name'><span>exception_label</span></div><div class='xr-var-dims'>(y, x)</div><div class='xr-var-dtype'>object</div><div class='xr-var-preview xr-preview'>0 0 0 0 0 0 0 0 ... 0 0 0 0 0 0 0 0</div><input id='attrs-43a29f92-897c-4d0e-b165-cbf134883785' class='xr-var-attrs-in' type='checkbox' disabled><label for='attrs-43a29f92-897c-4d0e-b165-cbf134883785' title='Show/Hide attributes'><svg class='icon xr-icon-file-text2'><use xlink:href='#icon-file-text2'></use></svg></label><input id='data-5788da8b-7306-49c0-8e8f-c95fac0fe3d1' class='xr-var-data-in' type='checkbox'><label for='data-5788da8b-7306-49c0-8e8f-c95fac0fe3d1' title='Show/Hide data repr'><svg class='icon xr-icon-database'><use xlink:href='#icon-database'></use></svg></label><div class='xr-var-attrs'><dl class='xr-attrs'></dl></div><div class='xr-var-data'><pre>array([[0, 0, 0, ..., 0, 0, 0],\n",
       "       [0, 0, 0, ..., 0, 0, 0],\n",
       "       [0, 0, 0, ..., 0, 0, 0],\n",
       "       ...,\n",
       "       [0, 0, 0, ..., 0, 0, 0],\n",
       "       [0, 0, 0, ..., 0, 0, 0],\n",
       "       [0, 0, 0, ..., 0, 0, 0]], dtype=object)</pre></div></li><li class='xr-var-item'><div class='xr-var-name'><span>ref_mean</span></div><div class='xr-var-dims'>(y, x)</div><div class='xr-var-dtype'>object</div><div class='xr-var-preview xr-preview'>-6.643 -8.257 ... -7.911 -7.923</div><input id='attrs-8ac8e479-20be-4550-ae61-a20bd33590f2' class='xr-var-attrs-in' type='checkbox' disabled><label for='attrs-8ac8e479-20be-4550-ae61-a20bd33590f2' title='Show/Hide attributes'><svg class='icon xr-icon-file-text2'><use xlink:href='#icon-file-text2'></use></svg></label><input id='data-788e8696-2f65-4e83-9220-72c1b05ac1d6' class='xr-var-data-in' type='checkbox'><label for='data-788e8696-2f65-4e83-9220-72c1b05ac1d6' title='Show/Hide data repr'><svg class='icon xr-icon-database'><use xlink:href='#icon-database'></use></svg></label><div class='xr-var-attrs'><dl class='xr-attrs'></dl></div><div class='xr-var-data'><pre>array([[-6.643153153153153, -8.257297297297299, -7.752702702702702, ...,\n",
       "        -8.32891891891892, -7.173693693693694, -6.569909909909909],\n",
       "       [-7.17054054054054, -8.406486486486486, -8.014324324324326, ...,\n",
       "        -7.307297297297297, -6.390630630630629, -6.851441441441441],\n",
       "       [-8.05009009009009, -8.408648648648649, -8.149099099099098, ...,\n",
       "        -7.057387387387387, -6.477027027027027, -7.011171171171171],\n",
       "       ...,\n",
       "       [-7.178738738738739, -6.050900900900902, -6.9420720720720706, ...,\n",
       "        -7.45063063063063, -7.25063063063063, -6.787117117117117],\n",
       "       [-7.193153153153153, -5.993153153153154, -6.439729729729729, ...,\n",
       "        -7.360720720720721, -7.566936936936936, -7.414684684684684],\n",
       "       [-7.322432432432431, -5.413603603603604, -5.901171171171172, ...,\n",
       "        -7.437567567567569, -7.910990990990991, -7.922522522522522]],\n",
       "      dtype=object)</pre></div></li><li class='xr-var-item'><div class='xr-var-name'><span>error_margin</span></div><div class='xr-var-dims'>(y, x)</div><div class='xr-var-dtype'>object</div><div class='xr-var-preview xr-preview'>0.9221 1.184 ... 0.9568 0.9053</div><input id='attrs-69acc439-9a3c-41f7-9f98-e6b6d3ae1752' class='xr-var-attrs-in' type='checkbox' disabled><label for='attrs-69acc439-9a3c-41f7-9f98-e6b6d3ae1752' title='Show/Hide attributes'><svg class='icon xr-icon-file-text2'><use xlink:href='#icon-file-text2'></use></svg></label><input id='data-2f68a667-fdcb-4b80-a4f7-7d536350723d' class='xr-var-data-in' type='checkbox'><label for='data-2f68a667-fdcb-4b80-a4f7-7d536350723d' title='Show/Hide data repr'><svg class='icon xr-icon-database'><use xlink:href='#icon-database'></use></svg></label><div class='xr-var-attrs'><dl class='xr-attrs'></dl></div><div class='xr-var-data'><pre>array([[0.9220720978520021, 1.1843227939101126, 1.2371783322579768, ...,\n",
       "        1.1804279700747529, 0.9511384238122913, 1.0526431329951569],\n",
       "       [0.8530316008614536, 0.8905230585434492, 1.1320057820201779, ...,\n",
       "        0.9941418461593718, 0.9812463455995202, 0.9450760931740474],\n",
       "       [1.437259278211025, 1.4635510118100719, 0.7858067749843638, ...,\n",
       "        0.41752003844495444, 0.42371906547797966, 0.9382484616550659],\n",
       "       ...,\n",
       "       [0.9456668752016277, 1.308388179766105, 1.5648458356658637, ...,\n",
       "        1.1769682180283292, 0.5337130421437779, 0.8793752519515747],\n",
       "       [0.7955909347229291, 1.0899801480937903, 1.373002195582413, ...,\n",
       "        1.0922721983835704, 0.926990976691374, 1.24682558692919],\n",
       "       [0.534150808188893, 0.7863029031424889, 0.9957886948063104, ...,\n",
       "        1.2285981915646058, 0.9568466013915611, 0.9052827573781723]],\n",
       "      dtype=object)</pre></div></li><li class='xr-var-item'><div class='xr-var-name'><span>num_of_segments</span></div><div class='xr-var-dims'>(y, x)</div><div class='xr-var-dtype'>object</div><div class='xr-var-preview xr-preview'>1 1 1 1 1 1 1 1 ... 1 1 1 1 1 1 1 1</div><input id='attrs-d02893bb-87d5-4cfc-82e8-53fda7134af7' class='xr-var-attrs-in' type='checkbox' disabled><label for='attrs-d02893bb-87d5-4cfc-82e8-53fda7134af7' title='Show/Hide attributes'><svg class='icon xr-icon-file-text2'><use xlink:href='#icon-file-text2'></use></svg></label><input id='data-ee34a16f-6d92-4d34-8af7-1520555f2a02' class='xr-var-data-in' type='checkbox'><label for='data-ee34a16f-6d92-4d34-8af7-1520555f2a02' title='Show/Hide data repr'><svg class='icon xr-icon-database'><use xlink:href='#icon-database'></use></svg></label><div class='xr-var-attrs'><dl class='xr-attrs'></dl></div><div class='xr-var-data'><pre>array([[1, 1, 1, ..., 1, 1, 1],\n",
       "       [1, 1, 1, ..., 1, 1, 1],\n",
       "       [1, 1, 1, ..., 1, 1, 1],\n",
       "       ...,\n",
       "       [1, 1, 1, ..., 1, 1, 1],\n",
       "       [1, 1, 1, ..., 1, 1, 1],\n",
       "       [1, 1, 1, ..., 1, 1, 1]], dtype=object)</pre></div></li><li class='xr-var-item'><div class='xr-var-name'><span>TS_end_flag</span></div><div class='xr-var-dims'>(y, x)</div><div class='xr-var-dtype'>object</div><div class='xr-var-preview xr-preview'>1 1 1 1 1 1 1 1 ... 1 1 1 1 1 1 1 1</div><input id='attrs-593e5106-1ea5-47f8-bfdb-47e960f294bc' class='xr-var-attrs-in' type='checkbox' disabled><label for='attrs-593e5106-1ea5-47f8-bfdb-47e960f294bc' title='Show/Hide attributes'><svg class='icon xr-icon-file-text2'><use xlink:href='#icon-file-text2'></use></svg></label><input id='data-009f9ef6-82a1-4f22-803c-d072a29222ee' class='xr-var-data-in' type='checkbox'><label for='data-009f9ef6-82a1-4f22-803c-d072a29222ee' title='Show/Hide data repr'><svg class='icon xr-icon-database'><use xlink:href='#icon-database'></use></svg></label><div class='xr-var-attrs'><dl class='xr-attrs'></dl></div><div class='xr-var-data'><pre>array([[1, 1, 1, ..., 1, 1, 1],\n",
       "       [1, 1, 1, ..., 1, 1, 1],\n",
       "       [1, 1, 1, ..., 1, 1, 1],\n",
       "       ...,\n",
       "       [1, 1, 1, ..., 1, 1, 1],\n",
       "       [1, 1, 1, ..., 1, 1, 1],\n",
       "       [1, 1, 1, ..., 1, 1, 1]], dtype=object)</pre></div></li><li class='xr-var-item'><div class='xr-var-name'><span>TS_end_flag_long</span></div><div class='xr-var-dims'>(y, x)</div><div class='xr-var-dtype'>object</div><div class='xr-var-preview xr-preview'>1 1 1 1 1 1 1 1 ... 1 1 1 1 1 1 1 1</div><input id='attrs-6b65505e-cf4b-4659-8557-a58ae7d31b3f' class='xr-var-attrs-in' type='checkbox' disabled><label for='attrs-6b65505e-cf4b-4659-8557-a58ae7d31b3f' title='Show/Hide attributes'><svg class='icon xr-icon-file-text2'><use xlink:href='#icon-file-text2'></use></svg></label><input id='data-000c0e1c-1b4e-4f9c-b22b-c8fe17a2a2b0' class='xr-var-data-in' type='checkbox'><label for='data-000c0e1c-1b4e-4f9c-b22b-c8fe17a2a2b0' title='Show/Hide data repr'><svg class='icon xr-icon-database'><use xlink:href='#icon-database'></use></svg></label><div class='xr-var-attrs'><dl class='xr-attrs'></dl></div><div class='xr-var-data'><pre>array([[1, 1, 1, ..., 1, 1, 1],\n",
       "       [1, 1, 1, ..., 1, 1, 1],\n",
       "       [1, 1, 1, ..., 1, 1, 1],\n",
       "       ...,\n",
       "       [1, 1, 1, ..., 1, 1, 1],\n",
       "       [1, 1, 1, ..., 1, 1, 1],\n",
       "       [1, 1, 1, ..., 1, 1, 1]], dtype=object)</pre></div></li><li class='xr-var-item'><div class='xr-var-name'><span>TS_end_mag</span></div><div class='xr-var-dims'>(y, x)</div><div class='xr-var-dtype'>object</div><div class='xr-var-preview xr-preview'>57.8 73.7 67.81 ... 68.76 63.44</div><input id='attrs-6dc7d2d7-eca3-4ad7-aa8c-4aaca6a0ee4e' class='xr-var-attrs-in' type='checkbox' disabled><label for='attrs-6dc7d2d7-eca3-4ad7-aa8c-4aaca6a0ee4e' title='Show/Hide attributes'><svg class='icon xr-icon-file-text2'><use xlink:href='#icon-file-text2'></use></svg></label><input id='data-9f3409ac-b192-4e58-b09d-c8eb271ea1eb' class='xr-var-data-in' type='checkbox'><label for='data-9f3409ac-b192-4e58-b09d-c8eb271ea1eb' title='Show/Hide data repr'><svg class='icon xr-icon-database'><use xlink:href='#icon-database'></use></svg></label><div class='xr-var-attrs'><dl class='xr-attrs'></dl></div><div class='xr-var-data'><pre>array([[57.80351351351352, 73.69603603603603, 67.81396396396396, ...,\n",
       "        69.1110810810811, 66.23297297297299, 57.07009009009009],\n",
       "       [55.16945945945946, 76.55351351351351, 74.96567567567568, ...,\n",
       "        63.66603603603603, 53.1027027027027, 60.321891891891894],\n",
       "       [60.76990990990992, 74.56468468468469, 76.14423423423423, ...,\n",
       "        64.51594594594593, 55.049639639639636, 63.26882882882883],\n",
       "       ...,\n",
       "       [71.28792792792792, 64.95576576576576, 67.0245945945946, ...,\n",
       "        64.5227027027027, 60.1227027027027, 58.699549549549545],\n",
       "       [66.26018018018019, 58.78018018018019, 60.20693693693695, ...,\n",
       "        69.25261261261261, 65.54639639639639, 59.23198198198199],\n",
       "       [64.55090090090088, 50.379729729729725, 55.512162162162156, ...,\n",
       "        64.50243243243243, 68.76234234234234, 63.437477477477465]],\n",
       "      dtype=object)</pre></div></li><li class='xr-var-item'><div class='xr-var-name'><span>seg_id</span></div><div class='xr-var-dims'>(y, x)</div><div class='xr-var-dtype'>object</div><div class='xr-var-preview xr-preview'>0 0 0 0 0 0 0 0 ... 0 0 0 0 0 0 0 0</div><input id='attrs-0abe8278-7cbc-4e9f-a833-0ff8ebce51b4' class='xr-var-attrs-in' type='checkbox' disabled><label for='attrs-0abe8278-7cbc-4e9f-a833-0ff8ebce51b4' title='Show/Hide attributes'><svg class='icon xr-icon-file-text2'><use xlink:href='#icon-file-text2'></use></svg></label><input id='data-b024dc43-e811-4206-ac9b-2f326b388398' class='xr-var-data-in' type='checkbox'><label for='data-b024dc43-e811-4206-ac9b-2f326b388398' title='Show/Hide data repr'><svg class='icon xr-icon-database'><use xlink:href='#icon-database'></use></svg></label><div class='xr-var-attrs'><dl class='xr-attrs'></dl></div><div class='xr-var-data'><pre>array([[0, 0, 0, ..., 0, 0, 0],\n",
       "       [0, 0, 0, ..., 0, 0, 0],\n",
       "       [0, 0, 0, ..., 0, 0, 0],\n",
       "       ...,\n",
       "       [0, 0, 0, ..., 0, 0, 0],\n",
       "       [0, 0, 0, ..., 0, 0, 0],\n",
       "       [0, 0, 0, ..., 0, 0, 0]], dtype=object)</pre></div></li><li class='xr-var-item'><div class='xr-var-name'><span>seg_size</span></div><div class='xr-var-dims'>(y, x)</div><div class='xr-var-dtype'>object</div><div class='xr-var-preview xr-preview'>1.188e+03 1.188e+03 ... 1.188e+03</div><input id='attrs-b33972b3-de78-4e6e-8dd1-ab989a159914' class='xr-var-attrs-in' type='checkbox' disabled><label for='attrs-b33972b3-de78-4e6e-8dd1-ab989a159914' title='Show/Hide attributes'><svg class='icon xr-icon-file-text2'><use xlink:href='#icon-file-text2'></use></svg></label><input id='data-3f6a9a64-66b7-4886-aa62-9e9c7c7401b0' class='xr-var-data-in' type='checkbox'><label for='data-3f6a9a64-66b7-4886-aa62-9e9c7c7401b0' title='Show/Hide data repr'><svg class='icon xr-icon-database'><use xlink:href='#icon-database'></use></svg></label><div class='xr-var-attrs'><dl class='xr-attrs'></dl></div><div class='xr-var-data'><pre>array([[1188.0, 1188.0, 1188.0, ..., 1188.0, 1188.0, 1188.0],\n",
       "       [1188.0, 1188.0, 1188.0, ..., 1188.0, 1188.0, 1188.0],\n",
       "       [1188.0, 1188.0, 1188.0, ..., 1188.0, 1188.0, 1188.0],\n",
       "       ...,\n",
       "       [1188.0, 1188.0, 1188.0, ..., 1188.0, 1188.0, 1188.0],\n",
       "       [1188.0, 1188.0, 1188.0, ..., 1188.0, 1188.0, 1188.0],\n",
       "       [1188.0, 1188.0, 1188.0, ..., 1188.0, 1188.0, 1188.0]],\n",
       "      dtype=object)</pre></div></li><li class='xr-var-item'><div class='xr-var-name'><span>max_mag</span></div><div class='xr-var-dims'>(y, x)</div><div class='xr-var-dtype'>object</div><div class='xr-var-preview xr-preview'>70.24 86.22 81.29 ... 78.21 74.37</div><input id='attrs-bc3f6c3e-da2c-4c20-bfc3-747b0fbe33f3' class='xr-var-attrs-in' type='checkbox' disabled><label for='attrs-bc3f6c3e-da2c-4c20-bfc3-747b0fbe33f3' title='Show/Hide attributes'><svg class='icon xr-icon-file-text2'><use xlink:href='#icon-file-text2'></use></svg></label><input id='data-3aba4995-458b-4310-bc19-22baf7dafd08' class='xr-var-data-in' type='checkbox'><label for='data-3aba4995-458b-4310-bc19-22baf7dafd08' title='Show/Hide data repr'><svg class='icon xr-icon-database'><use xlink:href='#icon-database'></use></svg></label><div class='xr-var-attrs'><dl class='xr-attrs'></dl></div><div class='xr-var-data'><pre>array([[70.23684684684686, 86.21603603603603, 81.28729729729729, ...,\n",
       "        92.25774774774774, 79.09963963963963, 69.85675675675675],\n",
       "       [69.04945945945947, 84.34684684684686, 82.26567567567568, ...,\n",
       "        79.3127027027027, 67.62936936936939, 75.2818918918919],\n",
       "       [77.13657657657659, 83.49801801801803, 82.63756756756756, ...,\n",
       "        73.55594594594594, 65.5963063063063, 70.6354954954955],\n",
       "       ...,\n",
       "       [72.5145945945946, 66.48909909909909, 70.51792792792794, ...,\n",
       "        76.81603603603604, 71.8627027027027, 66.2262162162162],\n",
       "       [72.42018018018018, 65.69351351351351, 71.20027027027027, ...,\n",
       "        72.45927927927927, 68.12639639639639, 66.991981981982],\n",
       "       [76.74423423423423, 60.059729729729725, 65.27882882882884, ...,\n",
       "        77.64909909909909, 78.209009009009, 74.37081081081081]],\n",
       "      dtype=object)</pre></div></li><li class='xr-var-item'><div class='xr-var-name'><span>max_mag_date</span></div><div class='xr-var-dims'>(y, x)</div><div class='xr-var-dtype'>object</div><div class='xr-var-preview xr-preview'>2020-10-01T09:14:33 ... 2019-10-...</div><input id='attrs-c4020b0e-abe2-4274-b98f-e9b790481ca6' class='xr-var-attrs-in' type='checkbox' disabled><label for='attrs-c4020b0e-abe2-4274-b98f-e9b790481ca6' title='Show/Hide attributes'><svg class='icon xr-icon-file-text2'><use xlink:href='#icon-file-text2'></use></svg></label><input id='data-59a9a7f8-cd1e-4d62-bc3f-37e01ec7fc26' class='xr-var-data-in' type='checkbox'><label for='data-59a9a7f8-cd1e-4d62-bc3f-37e01ec7fc26' title='Show/Hide data repr'><svg class='icon xr-icon-database'><use xlink:href='#icon-database'></use></svg></label><div class='xr-var-attrs'><dl class='xr-attrs'></dl></div><div class='xr-var-data'><pre>array([[numpy.datetime64(&#x27;2020-10-01T09:14:33.000000000&#x27;),\n",
       "        numpy.datetime64(&#x27;2019-10-31T09:14:44.000000000&#x27;),\n",
       "        numpy.datetime64(&#x27;2020-08-20T09:15:16.000000000&#x27;), ...,\n",
       "        numpy.datetime64(&#x27;2020-10-19T09:15:18.000000000&#x27;),\n",
       "        numpy.datetime64(&#x27;2019-10-07T09:14:44.000000000&#x27;),\n",
       "        numpy.datetime64(&#x27;2019-10-13T09:14:44.000000000&#x27;)],\n",
       "       [numpy.datetime64(&#x27;2020-10-01T09:14:33.000000000&#x27;),\n",
       "        numpy.datetime64(&#x27;2020-10-07T09:15:18.000000000&#x27;),\n",
       "        numpy.datetime64(&#x27;2020-09-25T09:15:18.000000000&#x27;), ...,\n",
       "        numpy.datetime64(&#x27;2020-10-19T09:15:18.000000000&#x27;),\n",
       "        numpy.datetime64(&#x27;2019-10-31T09:14:44.000000000&#x27;),\n",
       "        numpy.datetime64(&#x27;2019-10-01T09:14:44.000000000&#x27;)],\n",
       "       [numpy.datetime64(&#x27;2019-03-11T09:14:44.000000000&#x27;),\n",
       "        numpy.datetime64(&#x27;2020-09-25T09:15:18.000000000&#x27;),\n",
       "        numpy.datetime64(&#x27;2020-09-25T09:15:18.000000000&#x27;), ...,\n",
       "        numpy.datetime64(&#x27;2019-02-27T09:15:02.000000000&#x27;),\n",
       "        numpy.datetime64(&#x27;2019-02-27T09:15:02.000000000&#x27;),\n",
       "        numpy.datetime64(&#x27;2019-09-19T09:14:44.000000000&#x27;)],\n",
       "       ...,\n",
       "       [numpy.datetime64(&#x27;2020-11-24T09:15:17.000000000&#x27;),\n",
       "        numpy.datetime64(&#x27;2020-11-24T09:15:17.000000000&#x27;),\n",
       "        numpy.datetime64(&#x27;2020-09-25T09:14:44.000000000&#x27;), ...,\n",
       "        numpy.datetime64(&#x27;2020-09-19T09:14:33.000000000&#x27;),\n",
       "        numpy.datetime64(&#x27;2020-10-13T09:14:44.000000000&#x27;),\n",
       "        numpy.datetime64(&#x27;2020-08-08T09:15:15.000000000&#x27;)],\n",
       "       [numpy.datetime64(&#x27;2020-10-01T09:14:44.000000000&#x27;),\n",
       "        numpy.datetime64(&#x27;2020-09-25T09:14:44.000000000&#x27;),\n",
       "        numpy.datetime64(&#x27;2020-09-19T09:14:44.000000000&#x27;), ...,\n",
       "        numpy.datetime64(&#x27;2020-08-26T09:14:32.000000000&#x27;),\n",
       "        numpy.datetime64(&#x27;2019-04-22T09:14:44.000000000&#x27;),\n",
       "        numpy.datetime64(&#x27;2019-02-09T09:14:44.000000000&#x27;)],\n",
       "       [numpy.datetime64(&#x27;2019-03-05T09:14:44.000000000&#x27;),\n",
       "        numpy.datetime64(&#x27;2019-03-11T09:14:44.000000000&#x27;),\n",
       "        numpy.datetime64(&#x27;2020-08-20T09:15:16.000000000&#x27;), ...,\n",
       "        numpy.datetime64(&#x27;2019-08-14T09:14:44.000000000&#x27;),\n",
       "        numpy.datetime64(&#x27;2019-08-20T09:14:44.000000000&#x27;),\n",
       "        numpy.datetime64(&#x27;2019-10-25T09:14:44.000000000&#x27;)]], dtype=object)</pre></div></li><li class='xr-var-item'><div class='xr-var-name'><span>t_pre</span></div><div class='xr-var-dims'>(y, x)</div><div class='xr-var-dtype'>object</div><div class='xr-var-preview xr-preview'>-636 -300 -595 ... -222 -228 -294</div><input id='attrs-3e35c450-10cf-4b1a-a890-297693db6e42' class='xr-var-attrs-in' type='checkbox' disabled><label for='attrs-3e35c450-10cf-4b1a-a890-297693db6e42' title='Show/Hide attributes'><svg class='icon xr-icon-file-text2'><use xlink:href='#icon-file-text2'></use></svg></label><input id='data-c72828c6-980b-4882-9d03-1703d7976c15' class='xr-var-data-in' type='checkbox'><label for='data-c72828c6-980b-4882-9d03-1703d7976c15' title='Show/Hide data repr'><svg class='icon xr-icon-database'><use xlink:href='#icon-database'></use></svg></label><div class='xr-var-attrs'><dl class='xr-attrs'></dl></div><div class='xr-var-data'><pre>array([[-636, -300, -595, ..., -655, -276, -282],\n",
       "       [-636, -643, -631, ..., -655, -300, -270],\n",
       "       [-66, -631, -631, ..., -55, -55, -258],\n",
       "       ...,\n",
       "       [-691, -691, -630, ..., -624, -648, -583],\n",
       "       [-636, -630, -624, ..., -600, -108, -36],\n",
       "       [-60, -66, -595, ..., -222, -228, -294]], dtype=object)</pre></div></li><li class='xr-var-item'><div class='xr-var-name'><span>t_post</span></div><div class='xr-var-dims'>(y, x)</div><div class='xr-var-dtype'>object</div><div class='xr-var-preview xr-preview'>66 402 107 102 ... 510 480 474 408</div><input id='attrs-eacd10fa-faba-4c3e-90be-54abfb136998' class='xr-var-attrs-in' type='checkbox' disabled><label for='attrs-eacd10fa-faba-4c3e-90be-54abfb136998' title='Show/Hide attributes'><svg class='icon xr-icon-file-text2'><use xlink:href='#icon-file-text2'></use></svg></label><input id='data-60f4663d-49ae-4f86-a0ff-2ce370936d3c' class='xr-var-data-in' type='checkbox'><label for='data-60f4663d-49ae-4f86-a0ff-2ce370936d3c' title='Show/Hide data repr'><svg class='icon xr-icon-database'><use xlink:href='#icon-database'></use></svg></label><div class='xr-var-attrs'><dl class='xr-attrs'></dl></div><div class='xr-var-data'><pre>array([[66, 402, 107, ..., 47, 426, 420],\n",
       "       [66, 59, 71, ..., 47, 402, 432],\n",
       "       [636, 71, 71, ..., 647, 647, 444],\n",
       "       ...,\n",
       "       [11, 11, 72, ..., 78, 54, 119],\n",
       "       [66, 72, 78, ..., 102, 594, 666],\n",
       "       [642, 636, 107, ..., 480, 474, 408]], dtype=object)</pre></div></li><li class='xr-var-item'><div class='xr-var-name'><span>t_total</span></div><div class='xr-var-dims'>(y, x)</div><div class='xr-var-dtype'>object</div><div class='xr-var-preview xr-preview'>708 708 708 708 ... 708 708 708 708</div><input id='attrs-14258aea-1380-42be-a231-43d5f25a30d1' class='xr-var-attrs-in' type='checkbox' disabled><label for='attrs-14258aea-1380-42be-a231-43d5f25a30d1' title='Show/Hide attributes'><svg class='icon xr-icon-file-text2'><use xlink:href='#icon-file-text2'></use></svg></label><input id='data-5012ade4-3f4c-4615-bca6-dd858ee2aa40' class='xr-var-data-in' type='checkbox'><label for='data-5012ade4-3f4c-4615-bca6-dd858ee2aa40' title='Show/Hide data repr'><svg class='icon xr-icon-database'><use xlink:href='#icon-database'></use></svg></label><div class='xr-var-attrs'><dl class='xr-attrs'></dl></div><div class='xr-var-data'><pre>array([[708, 708, 708, ..., 708, 708, 708],\n",
       "       [708, 708, 708, ..., 708, 708, 708],\n",
       "       [708, 708, 708, ..., 708, 708, 708],\n",
       "       ...,\n",
       "       [708, 708, 708, ..., 708, 708, 708],\n",
       "       [708, 708, 708, ..., 708, 708, 708],\n",
       "       [708, 708, 708, ..., 708, 708, 708]], dtype=object)</pre></div></li><li class='xr-var-item'><div class='xr-var-name'><span>max_mag_org</span></div><div class='xr-var-dims'>(y, x)</div><div class='xr-var-dtype'>object</div><div class='xr-var-preview xr-preview'>90.86 105.8 97.95 ... 88.39 86.48</div><input id='attrs-10795bb6-661b-4bf1-9ecd-377f12e9ca7e' class='xr-var-attrs-in' type='checkbox' disabled><label for='attrs-10795bb6-661b-4bf1-9ecd-377f12e9ca7e' title='Show/Hide attributes'><svg class='icon xr-icon-file-text2'><use xlink:href='#icon-file-text2'></use></svg></label><input id='data-0d4eb486-caef-4ed7-a37b-f6b32036d6a4' class='xr-var-data-in' type='checkbox'><label for='data-0d4eb486-caef-4ed7-a37b-f6b32036d6a4' title='Show/Hide data repr'><svg class='icon xr-icon-database'><use xlink:href='#icon-database'></use></svg></label><div class='xr-var-attrs'><dl class='xr-attrs'></dl></div><div class='xr-var-data'><pre>array([[90.85684684684685, 105.8427027027027, 97.9472972972973, ...,\n",
       "        101.27108108108108, 94.22630630630631, 85.23009009009009],\n",
       "       [81.12945945945945, 104.69351351351351, 102.28567567567568, ...,\n",
       "        100.09270270270271, 86.60936936936938, 83.64855855855856],\n",
       "       [95.0499099099099, 98.09135135135135, 94.45090090090089, ...,\n",
       "        97.0426126126126, 81.82297297297296, 91.18882882882883],\n",
       "       ...,\n",
       "       [89.12126126126125, 88.3490990990991, 89.15792792792793, ...,\n",
       "        93.84936936936937, 92.04936936936937, 89.61288288288289],\n",
       "       [89.90684684684685, 93.70684684684684, 86.46027027027027, ...,\n",
       "        92.63927927927928, 86.13306306306306, 86.98531531531532],\n",
       "       [89.37756756756757, 74.38639639639639, 82.39882882882883, ...,\n",
       "        98.76243243243243, 88.389009009009, 86.47747747747748]],\n",
       "      dtype=object)</pre></div></li><li class='xr-var-item'><div class='xr-var-name'><span>max_mag_org_date</span></div><div class='xr-var-dims'>(y, x)</div><div class='xr-var-dtype'>object</div><div class='xr-var-preview xr-preview'>2020-10-13T09:14:34 ... 2019-08-...</div><input id='attrs-191dbec9-e629-4ff5-95f8-450247f41a41' class='xr-var-attrs-in' type='checkbox' disabled><label for='attrs-191dbec9-e629-4ff5-95f8-450247f41a41' title='Show/Hide attributes'><svg class='icon xr-icon-file-text2'><use xlink:href='#icon-file-text2'></use></svg></label><input id='data-43fb9484-d63f-469f-9112-4e6aff3151b8' class='xr-var-data-in' type='checkbox'><label for='data-43fb9484-d63f-469f-9112-4e6aff3151b8' title='Show/Hide data repr'><svg class='icon xr-icon-database'><use xlink:href='#icon-database'></use></svg></label><div class='xr-var-attrs'><dl class='xr-attrs'></dl></div><div class='xr-var-data'><pre>array([[numpy.datetime64(&#x27;2020-10-13T09:14:34.000000000&#x27;),\n",
       "        numpy.datetime64(&#x27;2020-08-08T09:15:15.000000000&#x27;),\n",
       "        numpy.datetime64(&#x27;2020-09-07T09:14:33.000000000&#x27;), ...,\n",
       "        numpy.datetime64(&#x27;2020-10-13T09:14:34.000000000&#x27;),\n",
       "        numpy.datetime64(&#x27;2020-11-24T09:15:17.000000000&#x27;),\n",
       "        numpy.datetime64(&#x27;2019-08-02T09:15:09.000000000&#x27;)],\n",
       "       [numpy.datetime64(&#x27;2019-07-09T09:15:07.000000000&#x27;),\n",
       "        numpy.datetime64(&#x27;2020-09-07T09:14:33.000000000&#x27;),\n",
       "        numpy.datetime64(&#x27;2020-09-07T09:14:33.000000000&#x27;), ...,\n",
       "        numpy.datetime64(&#x27;2020-05-10T09:14:26.000000000&#x27;),\n",
       "        numpy.datetime64(&#x27;2019-08-02T09:15:09.000000000&#x27;),\n",
       "        numpy.datetime64(&#x27;2019-08-02T09:15:09.000000000&#x27;)],\n",
       "       [numpy.datetime64(&#x27;2019-11-06T09:15:12.000000000&#x27;),\n",
       "        numpy.datetime64(&#x27;2020-09-07T09:14:33.000000000&#x27;),\n",
       "        numpy.datetime64(&#x27;2020-08-08T09:15:15.000000000&#x27;), ...,\n",
       "        numpy.datetime64(&#x27;2020-05-10T09:14:26.000000000&#x27;),\n",
       "        numpy.datetime64(&#x27;2020-05-10T09:14:26.000000000&#x27;),\n",
       "        numpy.datetime64(&#x27;2020-03-05T09:15:08.000000000&#x27;)],\n",
       "       ...,\n",
       "       [numpy.datetime64(&#x27;2020-07-27T09:15:15.000000000&#x27;),\n",
       "        numpy.datetime64(&#x27;2019-04-04T09:15:02.000000000&#x27;),\n",
       "        numpy.datetime64(&#x27;2020-09-25T09:15:18.000000000&#x27;), ...,\n",
       "        numpy.datetime64(&#x27;2019-10-13T09:15:12.000000000&#x27;),\n",
       "        numpy.datetime64(&#x27;2019-10-13T09:15:12.000000000&#x27;),\n",
       "        numpy.datetime64(&#x27;2020-07-27T09:15:15.000000000&#x27;)],\n",
       "       [numpy.datetime64(&#x27;2019-04-04T09:15:02.000000000&#x27;),\n",
       "        numpy.datetime64(&#x27;2019-04-04T09:15:02.000000000&#x27;),\n",
       "        numpy.datetime64(&#x27;2019-06-27T09:15:06.000000000&#x27;), ...,\n",
       "        numpy.datetime64(&#x27;2019-01-10T09:15:03.000000000&#x27;),\n",
       "        numpy.datetime64(&#x27;2019-04-16T09:15:03.000000000&#x27;),\n",
       "        numpy.datetime64(&#x27;2019-02-03T09:15:02.000000000&#x27;)],\n",
       "       [numpy.datetime64(&#x27;2019-02-03T09:15:02.000000000&#x27;),\n",
       "        numpy.datetime64(&#x27;2019-02-03T09:15:02.000000000&#x27;),\n",
       "        numpy.datetime64(&#x27;2020-08-08T09:15:15.000000000&#x27;), ...,\n",
       "        numpy.datetime64(&#x27;2019-07-21T09:15:08.000000000&#x27;),\n",
       "        numpy.datetime64(&#x27;2019-08-26T09:15:10.000000000&#x27;),\n",
       "        numpy.datetime64(&#x27;2019-08-14T09:15:09.000000000&#x27;)]], dtype=object)</pre></div></li><li class='xr-var-item'><div class='xr-var-name'><span>t_mag_org</span></div><div class='xr-var-dims'>(y, x)</div><div class='xr-var-dtype'>object</div><div class='xr-var-preview xr-preview'>12 282 17 -6 18 ... 449 6 -24 6 -72</div><input id='attrs-86a1dda9-64d3-407d-95a8-b6442f74b436' class='xr-var-attrs-in' type='checkbox' disabled><label for='attrs-86a1dda9-64d3-407d-95a8-b6442f74b436' title='Show/Hide attributes'><svg class='icon xr-icon-file-text2'><use xlink:href='#icon-file-text2'></use></svg></label><input id='data-a7e2d149-5963-4d0a-9a89-36b0d8118e17' class='xr-var-data-in' type='checkbox'><label for='data-a7e2d149-5963-4d0a-9a89-36b0d8118e17' title='Show/Hide data repr'><svg class='icon xr-icon-database'><use xlink:href='#icon-database'></use></svg></label><div class='xr-var-attrs'><dl class='xr-attrs'></dl></div><div class='xr-var-data'><pre>array([[12, 282, 17, ..., -7, 414, -72],\n",
       "       [-450, -31, -19, ..., -163, -90, -60],\n",
       "       [240, -19, -49, ..., 437, 437, 168],\n",
       "       ...,\n",
       "       [-121, -601, 0, ..., -342, -366, -12],\n",
       "       [-546, -540, -450, ..., -594, -6, -6],\n",
       "       [-30, -36, -13, ..., -24, 6, -72]], dtype=object)</pre></div></li><li class='xr-var-item'><div class='xr-var-name'><span>seg2_size</span></div><div class='xr-var-dims'>(y, x)</div><div class='xr-var-dtype'>object</div><div class='xr-var-preview xr-preview'>nan nan nan nan ... nan nan nan nan</div><input id='attrs-2918be70-6b79-4ca8-a9af-a8b64427adb2' class='xr-var-attrs-in' type='checkbox' disabled><label for='attrs-2918be70-6b79-4ca8-a9af-a8b64427adb2' title='Show/Hide attributes'><svg class='icon xr-icon-file-text2'><use xlink:href='#icon-file-text2'></use></svg></label><input id='data-a915ddba-0646-4101-9a90-228564ce9f96' class='xr-var-data-in' type='checkbox'><label for='data-a915ddba-0646-4101-9a90-228564ce9f96' title='Show/Hide data repr'><svg class='icon xr-icon-database'><use xlink:href='#icon-database'></use></svg></label><div class='xr-var-attrs'><dl class='xr-attrs'></dl></div><div class='xr-var-data'><pre>array([[nan, nan, nan, ..., nan, nan, nan],\n",
       "       [nan, nan, nan, ..., nan, nan, nan],\n",
       "       [nan, nan, nan, ..., nan, nan, nan],\n",
       "       ...,\n",
       "       [nan, nan, nan, ..., nan, nan, nan],\n",
       "       [nan, nan, nan, ..., nan, nan, nan],\n",
       "       [nan, nan, nan, ..., nan, nan, nan]], dtype=object)</pre></div></li></ul></div></li><li class='xr-section-item'><input id='section-aeff566b-8bcf-4855-a760-d2b783cc8afa' class='xr-section-summary-in' type='checkbox' disabled ><label for='section-aeff566b-8bcf-4855-a760-d2b783cc8afa' class='xr-section-summary'  title='Expand/collapse section'>Attributes: <span>(0)</span></label><div class='xr-section-inline-details'></div><div class='xr-section-details'><dl class='xr-attrs'></dl></div></li></ul></div></div>"
      ],
      "text/plain": [
       "<xarray.Dataset>\n",
       "Dimensions:           (y: 1000, x: 1000)\n",
       "Coordinates:\n",
       "  * y                 (y) float64 6.62e+06 6.62e+06 6.62e+06 ... 6.6e+06 6.6e+06\n",
       "  * x                 (x) float64 8.08e+06 8.08e+06 8.08e+06 ... 8.1e+06 8.1e+06\n",
       "Data variables: (12/18)\n",
       "    exception_label   (y, x) object 0 0 0 0 0 0 0 0 0 0 ... 0 0 0 0 0 0 0 0 0 0\n",
       "    ref_mean          (y, x) object -6.643 -8.257 -7.753 ... -7.911 -7.923\n",
       "    error_margin      (y, x) object 0.9221 1.184 1.237 ... 1.229 0.9568 0.9053\n",
       "    num_of_segments   (y, x) object 1 1 1 1 1 1 1 1 1 1 ... 1 1 1 1 1 1 1 1 1 1\n",
       "    TS_end_flag       (y, x) object 1 1 1 1 1 1 1 1 1 1 ... 1 1 1 1 1 1 1 1 1 1\n",
       "    TS_end_flag_long  (y, x) object 1 1 1 1 1 1 1 1 1 1 ... 1 1 1 1 1 1 1 1 1 1\n",
       "    ...                ...\n",
       "    t_post            (y, x) object 66 402 107 102 414 ... 504 510 480 474 408\n",
       "    t_total           (y, x) object 708 708 708 708 708 ... 708 708 708 708 708\n",
       "    max_mag_org       (y, x) object 90.86 105.8 97.95 ... 98.76 88.39 86.48\n",
       "    max_mag_org_date  (y, x) object 2020-10-13T09:14:34 ... 2019-08-14T09:15:09\n",
       "    t_mag_org         (y, x) object 12 282 17 -6 18 -49 ... -13 449 6 -24 6 -72\n",
       "    seg2_size         (y, x) object nan nan nan nan nan ... nan nan nan nan nan"
      ]
     },
     "execution_count": 25,
     "metadata": {},
     "output_type": "execute_result"
    }
   ],
   "source": [
    "dist_out_ds"
   ]
  },
  {
   "cell_type": "code",
   "execution_count": 26,
   "id": "bd679fba-aafe-449d-af3a-46327ada27e7",
   "metadata": {},
   "outputs": [
    {
     "name": "stdout",
     "output_type": "stream",
     "text": [
      "Datacube size in memory is: 137.3 MB\n"
     ]
    }
   ],
   "source": [
    "print('Datacube size in memory is:', np.round(dist_out_ds.nbytes/(1024*1024), 1), 'MB')"
   ]
  },
  {
   "cell_type": "code",
   "execution_count": 27,
   "id": "8d463532-3d45-45b2-8310-b82430feb41c",
   "metadata": {},
   "outputs": [
    {
     "data": {
      "text/plain": [
       "<matplotlib.collections.QuadMesh at 0x7f9ff94a8950>"
      ]
     },
     "execution_count": 27,
     "metadata": {},
     "output_type": "execute_result"
    },
    {
     "data": {
      "image/png": "[encoded data removed]",
      "text/plain": [
       "<Figure size 720x576 with 2 Axes>"
      ]
     },
     "metadata": {
      "needs_background": "light"
     },
     "output_type": "display_data"
    }
   ],
   "source": [
    "#d plotting:\n",
    "#dist_out_ds.seg_size.astype('float').plot()\n",
    "feature_da = dist_out_ds.exception_label.astype('int')\n",
    "feature_da.plot(figsize=(10, 8))"
   ]
  },
  {
   "cell_type": "markdown",
   "id": "d08a80ea-2f80-49e0-ba4d-89b0df7e9828",
   "metadata": {},
   "source": [
    "get a list of row and columnns where the exception label is 0"
   ]
  },
  {
   "cell_type": "code",
   "execution_count": 28,
   "id": "9e0d81d0-123d-4798-bc9f-fb5635f8b9ca",
   "metadata": {},
   "outputs": [],
   "source": [
    "aa = np.column_stack(np.where(feature_da.where(feature_da == 0).values))"
   ]
  },
  {
   "cell_type": "code",
   "execution_count": null,
   "id": "19b34f81-a385-4c2c-9fbf-99f6c084f7de",
   "metadata": {},
   "outputs": [],
   "source": [
    "aa[20000, :]"
   ]
  },
  {
   "cell_type": "markdown",
   "id": "b398ce42-ce29-4dcd-9bfd-335a18c4e27f",
   "metadata": {},
   "source": [
    "### Export"
   ]
  },
  {
   "cell_type": "code",
   "execution_count": 31,
   "id": "2af052e4-521e-48ca-a560-850640eba4f3",
   "metadata": {},
   "outputs": [
    {
     "data": {
      "text/plain": [
       "xarray.core.dataset.Dataset"
      ]
     },
     "execution_count": 31,
     "metadata": {},
     "output_type": "execute_result"
    }
   ],
   "source": [
    "type(dist_out_ds)"
   ]
  },
  {
   "cell_type": "code",
   "execution_count": null,
   "id": "872c5e75-6615-4a76-8020-474b8cda10c2",
   "metadata": {},
   "outputs": [],
   "source": [
    "dist_out_ds.to_zarr(os.path.join(r'/home/return-mmilenkovic/', 'test_chunk_export_vh.zarr'), 'w')"
   ]
  },
  {
   "cell_type": "code",
   "execution_count": null,
   "id": "1111303e-3c97-42dc-bc22-61812e19ab9b",
   "metadata": {},
   "outputs": [],
   "source": [
    "dist_out_ds.to_netcdf(os.path.join(r'/home/return-mmilenkovic/', 'test_chunk_export_vh.nc'))"
   ]
  },
  {
   "cell_type": "code",
   "execution_count": null,
   "id": "83b72645-26c1-4b91-8547-2e3e54d231dd",
   "metadata": {},
   "outputs": [],
   "source": []
  },
  {
   "cell_type": "markdown",
   "id": "a23302ba-10e7-44af-ae15-86ea8aaab4ad",
   "metadata": {},
   "source": [
    "## Check the output"
   ]
  },
  {
   "cell_type": "code",
   "execution_count": null,
   "id": "5aeb2438-a06d-406f-b93c-7957a7f30cb2",
   "metadata": {},
   "outputs": [],
   "source": [
    "#my_out = xr.open_dataset(\"/home/return-mmilenkovic/E078N066T3_1_1_100_VH.nc\")\n",
    "#my_out = xr.open_dataset(\"/project/return/Share/mm/S1_SA_output/E078N066T3_10_7_1000_VH.nc\")\n",
    "my_out = xr.open_dataset(\"E078N066T3_14_14_1000_VH.nc\")"
   ]
  },
  {
   "cell_type": "code",
   "execution_count": null,
   "id": "5300d01f-7908-46c1-85b9-31d05bb8f859",
   "metadata": {},
   "outputs": [],
   "source": [
    "my_out"
   ]
  },
  {
   "cell_type": "code",
   "execution_count": null,
   "id": "d71a7b3a-ec62-4e83-99ae-ea95ab5d204a",
   "metadata": {},
   "outputs": [],
   "source": [
    "feature_da = my_out.max_mag.astype('float64')\n",
    "feature_da.plot(figsize=(10, 8))"
   ]
  },
  {
   "cell_type": "code",
   "execution_count": null,
   "id": "83d38f7c-6036-4375-ad46-2ec30913a121",
   "metadata": {},
   "outputs": [],
   "source": [
    "np.nanmedian(my_out.max_mag.values.flatten())"
   ]
  },
  {
   "cell_type": "code",
   "execution_count": null,
   "id": "037a2301-9213-4122-8d8a-08513d4a3a9c",
   "metadata": {},
   "outputs": [],
   "source": []
  }
 ],
 "metadata": {
  "kernelspec": {
   "display_name": "Python 3 (ipykernel)",
   "language": "python",
   "name": "python3"
  },
  "language_info": {
   "codemirror_mode": {
    "name": "ipython",
    "version": 3
   },
   "file_extension": ".py",
   "mimetype": "text/x-python",
   "name": "python",
   "nbconvert_exporter": "python",
   "pygments_lexer": "ipython3",
   "version": "3.7.13"
  }
 },
 "nbformat": 4,
 "nbformat_minor": 5
}
