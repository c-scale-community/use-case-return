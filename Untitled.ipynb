{
 "cells": [
  {
   "cell_type": "code",
   "execution_count": 1,
   "id": "fc988c22-9dd3-45fb-87d4-8baf833b6e31",
   "metadata": {},
   "outputs": [],
   "source": [
    "import os\n",
    "os.chdir('/home/return-mmilenkovic/mm_tools/use-case-return')"
   ]
  },
  {
   "cell_type": "code",
   "execution_count": 2,
   "id": "4a523407-84bc-4981-a98d-cd1c7ac2d4fa",
   "metadata": {},
   "outputs": [],
   "source": [
    "from auxilary_annalysis_mm import getSlopeInt_qDiff_forAge\n",
    "import glob\n",
    "import numpy as np\n",
    "from scipy.signal import convolve2d\n",
    "import pandas as pd\n",
    "#\n",
    "import matplotlib.pyplot as plt\n",
    "import time"
   ]
  },
  {
   "cell_type": "code",
   "execution_count": null,
   "id": "813ba7f2-17a3-41a5-ab1b-0ac1e4bbf884",
   "metadata": {},
   "outputs": [],
   "source": []
  }
 ],
 "metadata": {
  "kernelspec": {
   "display_name": "Python 3 (ipykernel)",
   "language": "python",
   "name": "python3"
  },
  "language_info": {
   "codemirror_mode": {
    "name": "ipython",
    "version": 3
   },
   "file_extension": ".py",
   "mimetype": "text/x-python",
   "name": "python",
   "nbconvert_exporter": "python",
   "pygments_lexer": "ipython3",
   "version": "3.7.13"
  }
 },
 "nbformat": 4,
 "nbformat_minor": 5
}
