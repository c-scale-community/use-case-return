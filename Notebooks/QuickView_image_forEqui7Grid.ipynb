{
 "cells": [
  {
   "cell_type": "markdown",
   "id": "88904f57-6dd0-4137-905e-a9de0a60e61c",
   "metadata": {},
   "source": [
    "# Make a quick view image from the output for specified Equi7Grid tile and orbit"
   ]
  },
  {
   "cell_type": "code",
   "execution_count": 2,
   "id": "af20c184-26a0-4ae4-9657-f1169deae1a2",
   "metadata": {},
   "outputs": [],
   "source": [
    "import os, glob"
   ]
  },
  {
   "cell_type": "markdown",
   "id": "e293fc3b-08b3-4b91-bff9-6f219a1e31f5",
   "metadata": {},
   "source": [
    "Set the Equi7tile and data folder: "
   ]
  },
  {
   "cell_type": "code",
   "execution_count": 3,
   "id": "5b0c78b7-2607-46fb-96a5-36af72b6886d",
   "metadata": {},
   "outputs": [],
   "source": [
    "#myTile = 'E066N060T3' # Rondonia\n",
    "#myOrbit = 'D156' # Rondonia\n",
    "#\n",
    "myTile = 'E078N066T3' # Para\n",
    "myOrbit = 'D039' # Para\n",
    "#\n",
    "myPol = 'VH'"
   ]
  },
  {
   "cell_type": "code",
   "execution_count": 4,
   "id": "defa7603-8f37-4eeb-a7b9-d34a98b65853",
   "metadata": {},
   "outputs": [],
   "source": [
    "# set the folter wih the output files:\n",
    "data_folder = r'/project/return/Share/mm/S1_SA_TEST_UPSCALE/TILE_WISE/AOI_PA/' +  myTile "
   ]
  },
  {
   "cell_type": "markdown",
   "id": "331e2c0c-e3bf-4565-ad92-8af511c22725",
   "metadata": {},
   "source": [
    "XXX"
   ]
  },
  {
   "cell_type": "code",
   "execution_count": null,
   "id": "8459d075-d90a-485a-b97a-c6c6ab7b46bf",
   "metadata": {},
   "outputs": [],
   "source": [
    "# chek the avaliable memory\n",
    "!free -h"
   ]
  },
  {
   "cell_type": "code",
   "execution_count": 5,
   "id": "8370089c-6b25-4e0b-9bc8-6c4501841305",
   "metadata": {},
   "outputs": [],
   "source": [
    "# get all nc-files in a list\n",
    "ncFileList = glob.glob(data_folder + '/**/*' + myOrbit + '_' + myPol + '.nc', recursive=True)"
   ]
  },
  {
   "cell_type": "code",
   "execution_count": 6,
   "id": "417e162a-010a-4f46-8f98-39f50317c52d",
   "metadata": {},
   "outputs": [],
   "source": [
    "# sorted list:\n",
    "ncFileList = sorted(ncFileList)"
   ]
  },
  {
   "cell_type": "code",
   "execution_count": 7,
   "id": "06210da5-4537-4559-9958-53ea9f6ba13f",
   "metadata": {},
   "outputs": [],
   "source": [
    "searchString = data_folder + '/**/*' + myOrbit + '_' + myPol + '.nc'"
   ]
  },
  {
   "cell_type": "code",
   "execution_count": 8,
   "id": "1951e0c3-2bc3-4f94-a03e-a708abc1b4d2",
   "metadata": {},
   "outputs": [
    {
     "data": {
      "text/plain": [
       "'/project/return/Share/mm/S1_SA_TEST_UPSCALE/TILE_WISE/AOI_PA/E078N066T3/**/*D039_VH.nc'"
      ]
     },
     "execution_count": 8,
     "metadata": {},
     "output_type": "execute_result"
    }
   ],
   "source": [
    "searchString"
   ]
  },
  {
   "cell_type": "markdown",
   "id": "62ebf366-ce11-45e1-b1d9-4a5a919c26ac",
   "metadata": {},
   "source": [
    "### Main approach:"
   ]
  },
  {
   "cell_type": "code",
   "execution_count": null,
   "id": "33b50273-fca1-4115-8e31-1f41eca98924",
   "metadata": {},
   "outputs": [],
   "source": [
    "# get the orbits crossing the Equi7Grid:\n",
    "!ls /project/return/Share/mm/S1_SA_TEST_UPSCALE/TILE_WISE/AOI_PA/E078N066T3/*/*.nc | awk -F'_' '{print $11}' | uniq"
   ]
  },
  {
   "cell_type": "code",
   "execution_count": null,
   "id": "164cd704-5911-4ce5-a099-91cca951f97b",
   "metadata": {},
   "outputs": [],
   "source": [
    "find /project/return/Share/mm/S1_SA_TEST_UPSCALE/TILE_WISE/AOI_PA/E078N066T3/*/ -name '*D039_VH.nc' > filelist_E078N066T3_D039.txt"
   ]
  },
  {
   "cell_type": "code",
   "execution_count": null,
   "id": "25418bb8-8344-45c9-9da3-c808aae532ba",
   "metadata": {},
   "outputs": [],
   "source": [
    "find /project/return/Share/mm/S1_SA_TEST_UPSCALE/TILE_WISE/AOI_PA/E078N066T3/*/ -name '*D141_VH.nc' > filelist_E078N066T3_D141.txt"
   ]
  },
  {
   "cell_type": "code",
   "execution_count": null,
   "id": "085c664e-0bf5-47d4-8f87-bc15c2cb24d0",
   "metadata": {},
   "outputs": [],
   "source": [
    "# with -sd option we specify the subdataset in netCDF - mean2017 backscatter\n",
    "gdalbuildvrt -sd 42 -input_file_list filelist_org.txt virtualmosaic_subdataset_42.vrt\n",
    "#\n",
    "#\n",
    "gdalbuildvrt -sd 42 -input_file_list filelist_E078N066T3_D141.txt E078N066T3_D141_virtualmosaic_subdataset_42.vrt\n",
    "gdalbuildvrt -sd 42 -input_file_list filelist_E078N066T3_D039.txt E078N066T3_D039_virtualmosaic_subdataset_42.vrt"
   ]
  },
  {
   "cell_type": "code",
   "execution_count": null,
   "id": "f72b7c3a-967a-4a16-b8be-cb585077aa64",
   "metadata": {},
   "outputs": [],
   "source": [
    "gdal_translate -co \"WORLDFILE=YES\" -of PNG -ot Byte -scale -outsize 10% 10% virtualmosaic_subdataset_42.vrt quicklookmosaic_subdataset_42.png"
   ]
  },
  {
   "cell_type": "code",
   "execution_count": null,
   "id": "f01bbbb1-5a6c-4938-967c-1c96291fb722",
   "metadata": {},
   "outputs": [],
   "source": [
    "gdal_translate -co \"WORLDFILE=YES\" -co \"WORLDFILE=YES\" -of PNG -ot Byte -scale -22 -8 0 255 -outsize 10% 10% E078N066T3_D039_virtualmosaic_subdataset_42.vrt E078N066T3_D039_quickView.png"
   ]
  },
  {
   "cell_type": "markdown",
   "id": "ddd99f3a-7b47-4084-8ae1-6ab23e2db28f",
   "metadata": {},
   "source": [
    "### Old code to explore: "
   ]
  },
  {
   "cell_type": "code",
   "execution_count": null,
   "id": "3afdb66e-a329-4597-a54f-27bb78a42f76",
   "metadata": {},
   "outputs": [],
   "source": [
    "!find /project/return/Share/mm/S1_SA_TEST_UPSCALE/TILE_WISE/AOI_PA/E078N066T3/*/ -name '*D039_VH.nc' > filelist.txt"
   ]
  },
  {
   "cell_type": "code",
   "execution_count": null,
   "id": "5669a098-3a89-4a8d-b7f2-70c4a58d4954",
   "metadata": {},
   "outputs": [],
   "source": [
    "!head -n 20 filelist.txt > filelist_20.txt"
   ]
  },
  {
   "cell_type": "code",
   "execution_count": null,
   "id": "12c3ea52-0498-43d6-9f7e-684a4736b8e4",
   "metadata": {},
   "outputs": [],
   "source": [
    "# add string at the beginging of each line:\n",
    "!sed -i 's/^/NETCDF:/' filelist.txt"
   ]
  },
  {
   "cell_type": "code",
   "execution_count": null,
   "id": "f06aefed-1138-4710-9c27-e7fef650f073",
   "metadata": {},
   "outputs": [],
   "source": [
    "# read only one layer form nc-file:\n",
    "!gdalinfo NETCDF:/project/return/Share/mm/S1_SA_TEST_UPSCALE/TILE_WISE/AOI_PA/E078N066T3/10_1/E078N066T3_9_0_250_D039_VH.nc:mean_2017"
   ]
  },
  {
   "cell_type": "code",
   "execution_count": null,
   "id": "7c97824f-97e6-499e-b1c1-60729d717586",
   "metadata": {},
   "outputs": [],
   "source": [
    "!gdalbuildvrt -input_file_list filelist_20.txt virtualmosaic_20.vrt"
   ]
  }
 ],
 "metadata": {
  "kernelspec": {
   "display_name": "Python 3 (ipykernel)",
   "language": "python",
   "name": "python3"
  },
  "language_info": {
   "codemirror_mode": {
    "name": "ipython",
    "version": 3
   },
   "file_extension": ".py",
   "mimetype": "text/x-python",
   "name": "python",
   "nbconvert_exporter": "python",
   "pygments_lexer": "ipython3",
   "version": "3.7.13"
  }
 },
 "nbformat": 4,
 "nbformat_minor": 5
}
