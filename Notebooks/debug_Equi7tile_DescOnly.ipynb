{
 "cells": [
  {
   "cell_type": "markdown",
   "id": "006217e4-3993-4c5e-8750-b0832b338e8a",
   "metadata": {
    "tags": []
   },
   "source": [
    "## Calculate annual statistic per time seres (for each pixel) within a single Equi7grid tile"
   ]
  },
  {
   "cell_type": "code",
   "execution_count": 1,
   "id": "fed70868-af0f-47e2-aa63-97738b315c6f",
   "metadata": {},
   "outputs": [],
   "source": [
    "import os"
   ]
  },
  {
   "cell_type": "code",
   "execution_count": 2,
   "id": "ba2d8b1f-ac05-4beb-9055-00fc2305e9b2",
   "metadata": {},
   "outputs": [],
   "source": [
    "# Changing the current working directory\n",
    "os.chdir('/home/return-mmilenkovic/mm_tools/use-case-return')"
   ]
  },
  {
   "cell_type": "code",
   "execution_count": 3,
   "id": "e23bdd37-cf3e-4e9a-bca1-de32d6dd377c",
   "metadata": {},
   "outputs": [
    {
     "name": "stderr",
     "output_type": "stream",
     "text": [
      "/home/return-mmilenkovic/miniconda3/envs/yeoda/lib/python3.7/site-packages/dask/config.py:168: YAMLLoadWarning: calling yaml.load() without Loader=... is deprecated, as the default Loader is unsafe. Please read https://msg.pyyaml.org/load for full details.\n",
      "  data = yaml.load(f.read()) or {}\n"
     ]
    }
   ],
   "source": [
    "import numpy as np\n",
    "import os, osr, glob\n",
    "import matplotlib.pyplot as plt\n",
    "%matplotlib inline\n",
    "from datetime import datetime\n",
    "import pandas as pd\n",
    "import xarray as xr\n",
    "import rioxarray\n",
    "import zarr\n",
    "# import TUW packages\n",
    "from yeoda.products.preprocessed import SIG0DataCube\n",
    "from geopathfinder.naming_conventions.yeoda_naming import YeodaFilename\n",
    "#\n",
    "%load_ext autoreload\n",
    "%autoreload 2\n",
    "%reload_ext autoreload\n",
    "# import my aux functions\n",
    "from auxilary_ts_tools_mm import plot_TS_fromPandaSeres, features_from_S1_TS, features_as_xrrray_ufunc"
   ]
  },
  {
   "cell_type": "code",
   "execution_count": 4,
   "id": "cf4f12b9-e637-4df5-b204-f80d66d0f462",
   "metadata": {},
   "outputs": [],
   "source": [
    "myTile = 'E057N072T3'\n",
    "my_chunk_size = 250\n",
    "my_tile_size = 15000\n",
    "#\n",
    "my_row = 3\n",
    "my_col = 59"
   ]
  },
  {
   "cell_type": "markdown",
   "id": "159432e4-83fc-4206-8f51-794c4c18bc41",
   "metadata": {
    "jp-MarkdownHeadingCollapsed": true,
    "tags": []
   },
   "source": [
    "Specify the folder (Equi7 tile) with S1 data (a 300x300 km<sup>2</sup>)"
   ]
  },
  {
   "cell_type": "code",
   "execution_count": 5,
   "id": "442ec10a-a468-440d-aee3-ec9e61e0e3d4",
   "metadata": {},
   "outputs": [],
   "source": [
    "tile_dir1_path = r'/project/return/Share/EODC_SA020M/V01R01/' + myTile\n",
    "tile_dir2_path = r'/project/return/Share/EODC_SA020M/V1M0R1/' + myTile\n",
    "# specify other parameters:\n",
    "dimensions=['time', 'band', 'extra_field', 'sensor_field', 'data_version']\n",
    "# get the filenames\n",
    "filepaths1 = glob.glob(os.path.join(tile_dir1_path,'*.tif'))\n",
    "filepaths2 = glob.glob(os.path.join(tile_dir2_path,'*.tif'))"
   ]
  },
  {
   "cell_type": "markdown",
   "id": "b7d7b85d-61db-410e-bd38-7e570f0e9192",
   "metadata": {},
   "source": [
    "Get the lists of all S1 images in the two eodc folders with S1 data:"
   ]
  },
  {
   "cell_type": "code",
   "execution_count": 6,
   "id": "82646bec-694e-4f8d-867e-281d891f6b88",
   "metadata": {},
   "outputs": [],
   "source": [
    "tile_names1 = [os.path.basename(aa) for aa in glob.glob(r'/project/return/Share/EODC_SA020M/V01R01/*')]\n",
    "tile_names2 = [os.path.basename(aa) for aa in glob.glob(r'/project/return/Share/EODC_SA020M/V1M0R1/*')]"
   ]
  },
  {
   "cell_type": "code",
   "execution_count": 7,
   "id": "f84dd649-d19c-4110-b794-5db356a5215c",
   "metadata": {},
   "outputs": [
    {
     "name": "stdout",
     "output_type": "stream",
     "text": [
      "The number of files is identical\n"
     ]
    }
   ],
   "source": [
    "# just a small check:\n",
    "if len(tile_names1) == len(tile_names2):\n",
    "    print('The number of files is identical')\n",
    "else:\n",
    "    print('File number not identical')"
   ]
  },
  {
   "cell_type": "markdown",
   "id": "8ba7deec-4470-49ad-b2a9-5621a3128955",
   "metadata": {},
   "source": [
    "Read the datacube:"
   ]
  },
  {
   "cell_type": "code",
   "execution_count": 8,
   "id": "f3c93138-71b3-4590-b847-eb57d6812bdd",
   "metadata": {
    "tags": []
   },
   "outputs": [
    {
     "data": {
      "text/html": [
       "<div>\n",
       "<style scoped>\n",
       "    .dataframe tbody tr th:only-of-type {\n",
       "        vertical-align: middle;\n",
       "    }\n",
       "\n",
       "    .dataframe tbody tr th {\n",
       "        vertical-align: top;\n",
       "    }\n",
       "\n",
       "    .dataframe thead th {\n",
       "        text-align: right;\n",
       "    }\n",
       "</style>\n",
       "<table border=\"1\" class=\"dataframe\">\n",
       "  <thead>\n",
       "    <tr style=\"text-align: right;\">\n",
       "      <th></th>\n",
       "      <th>time</th>\n",
       "      <th>band</th>\n",
       "      <th>extra_field</th>\n",
       "      <th>sensor_field</th>\n",
       "      <th>data_version</th>\n",
       "      <th>var_name</th>\n",
       "      <th>tile_name</th>\n",
       "    </tr>\n",
       "  </thead>\n",
       "  <tbody>\n",
       "    <tr>\n",
       "      <th>0</th>\n",
       "      <td>2022-05-25 10:43:21</td>\n",
       "      <td>VV</td>\n",
       "      <td>D069</td>\n",
       "      <td>S1AIWGRDH</td>\n",
       "      <td>V1M0R1</td>\n",
       "      <td>SIG0</td>\n",
       "      <td>E057N072T3</td>\n",
       "    </tr>\n",
       "    <tr>\n",
       "      <th>1</th>\n",
       "      <td>2018-05-11 10:34:51</td>\n",
       "      <td>VH</td>\n",
       "      <td>D171</td>\n",
       "      <td>S1BIWGRDH</td>\n",
       "      <td>V1M0R1</td>\n",
       "      <td>SIG0</td>\n",
       "      <td>E057N072T3</td>\n",
       "    </tr>\n",
       "    <tr>\n",
       "      <th>2</th>\n",
       "      <td>2022-08-29 10:43:52</td>\n",
       "      <td>VH</td>\n",
       "      <td>D069</td>\n",
       "      <td>S1AIWGRDH</td>\n",
       "      <td>V1M0R1</td>\n",
       "      <td>SIG0</td>\n",
       "      <td>E057N072T3</td>\n",
       "    </tr>\n",
       "    <tr>\n",
       "      <th>3</th>\n",
       "      <td>2017-09-01 10:34:51</td>\n",
       "      <td>VV</td>\n",
       "      <td>D171</td>\n",
       "      <td>S1BIWGRDH</td>\n",
       "      <td>V1M0R1</td>\n",
       "      <td>SIG0</td>\n",
       "      <td>E057N072T3</td>\n",
       "    </tr>\n",
       "    <tr>\n",
       "      <th>4</th>\n",
       "      <td>2018-12-18 10:43:10</td>\n",
       "      <td>VV</td>\n",
       "      <td>D069</td>\n",
       "      <td>S1BIWGRDH</td>\n",
       "      <td>V1M0R1</td>\n",
       "      <td>SIG0</td>\n",
       "      <td>E057N072T3</td>\n",
       "    </tr>\n",
       "  </tbody>\n",
       "</table>\n",
       "</div>"
      ],
      "text/plain": [
       "                 time band extra_field sensor_field data_version var_name  \\\n",
       "0 2022-05-25 10:43:21   VV        D069    S1AIWGRDH       V1M0R1     SIG0   \n",
       "1 2018-05-11 10:34:51   VH        D171    S1BIWGRDH       V1M0R1     SIG0   \n",
       "2 2022-08-29 10:43:52   VH        D069    S1AIWGRDH       V1M0R1     SIG0   \n",
       "3 2017-09-01 10:34:51   VV        D171    S1BIWGRDH       V1M0R1     SIG0   \n",
       "4 2018-12-18 10:43:10   VV        D069    S1BIWGRDH       V1M0R1     SIG0   \n",
       "\n",
       "    tile_name  \n",
       "0  E057N072T3  \n",
       "1  E057N072T3  \n",
       "2  E057N072T3  \n",
       "3  E057N072T3  \n",
       "4  E057N072T3  "
      ]
     },
     "execution_count": 8,
     "metadata": {},
     "output_type": "execute_result"
    }
   ],
   "source": [
    "sig0_dc1 = SIG0DataCube(filepaths=filepaths1, dimensions=dimensions, filename_class=YeodaFilename, sres=20, continent='SA')\n",
    "sig0_dc2 = SIG0DataCube(filepaths=filepaths2, dimensions=dimensions, filename_class=YeodaFilename, sres=20, continent='SA')\n",
    "# get info:\n",
    "sig0_dc2.inventory[dimensions].head(5)"
   ]
  },
  {
   "cell_type": "markdown",
   "id": "bc0bb1be-e006-4ce6-9638-a6c4d7189dac",
   "metadata": {},
   "source": [
    "Filter by date:"
   ]
  },
  {
   "cell_type": "code",
   "execution_count": 9,
   "id": "83f16e0d-9aa7-4788-8f51-98e5da2bf39f",
   "metadata": {
    "tags": []
   },
   "outputs": [],
   "source": [
    "#toi_start, toi_end = datetime(2017, 1, 1), datetime(2023, 1, 1)\n",
    "toi_start, toi_end = datetime(2017, 1, 1), datetime(2021, 1, 1)\n",
    "sig0_dc1 = sig0_dc1.filter_by_dimension([(toi_start, toi_end)], [(\">=\", \"<\")], name=\"time\", inplace=True)\n",
    "sig0_dc2 = sig0_dc2.filter_by_dimension([(toi_start, toi_end)], [(\">=\", \"<\")], name=\"time\", inplace=True)"
   ]
  },
  {
   "cell_type": "markdown",
   "id": "f08e68ab-34ee-40f7-a290-5571de6576c0",
   "metadata": {},
   "source": [
    "Select bands:"
   ]
  },
  {
   "cell_type": "code",
   "execution_count": 10,
   "id": "01018726-e009-4296-8b7f-d5499d7aaff8",
   "metadata": {},
   "outputs": [],
   "source": [
    "sig0_vv_dc1 = sig0_dc1.filter_by_dimension('VV', name='band')\n",
    "sig0_vh_dc1 = sig0_dc1.filter_by_dimension('VH', name='band')\n",
    "#\n",
    "sig0_vv_dc2 = sig0_dc2.filter_by_dimension('VV', name='band')\n",
    "sig0_vh_dc2 = sig0_dc2.filter_by_dimension('VH', name='band')"
   ]
  },
  {
   "cell_type": "markdown",
   "id": "5be7563e-3f96-4322-862e-07456b4027ca",
   "metadata": {},
   "source": [
    "Merge and sort the datacubes:"
   ]
  },
  {
   "cell_type": "code",
   "execution_count": 11,
   "id": "889096df-2cf7-4641-aff2-6f524b9702ba",
   "metadata": {},
   "outputs": [
    {
     "data": {
      "text/html": [
       "<div>\n",
       "<style scoped>\n",
       "    .dataframe tbody tr th:only-of-type {\n",
       "        vertical-align: middle;\n",
       "    }\n",
       "\n",
       "    .dataframe tbody tr th {\n",
       "        vertical-align: top;\n",
       "    }\n",
       "\n",
       "    .dataframe thead th {\n",
       "        text-align: right;\n",
       "    }\n",
       "</style>\n",
       "<table border=\"1\" class=\"dataframe\">\n",
       "  <thead>\n",
       "    <tr style=\"text-align: right;\">\n",
       "      <th></th>\n",
       "      <th>filepath</th>\n",
       "      <th>time</th>\n",
       "      <th>band</th>\n",
       "      <th>extra_field</th>\n",
       "      <th>sensor_field</th>\n",
       "      <th>data_version</th>\n",
       "      <th>var_name</th>\n",
       "      <th>tile_name</th>\n",
       "    </tr>\n",
       "  </thead>\n",
       "  <tbody>\n",
       "    <tr>\n",
       "      <th>725</th>\n",
       "      <td>/project/return/Share/EODC_SA020M/V1M0R1/E057N...</td>\n",
       "      <td>2017-01-04 10:33:54</td>\n",
       "      <td>VV</td>\n",
       "      <td>D171</td>\n",
       "      <td>S1BIWGRDH</td>\n",
       "      <td>V1M0R1</td>\n",
       "      <td>SIG0</td>\n",
       "      <td>E057N072T3</td>\n",
       "    </tr>\n",
       "    <tr>\n",
       "      <th>1112</th>\n",
       "      <td>/project/return/Share/EODC_SA020M/V1M0R1/E057N...</td>\n",
       "      <td>2017-01-04 10:34:19</td>\n",
       "      <td>VV</td>\n",
       "      <td>D171</td>\n",
       "      <td>S1BIWGRDH</td>\n",
       "      <td>V1M0R1</td>\n",
       "      <td>SIG0</td>\n",
       "      <td>E057N072T3</td>\n",
       "    </tr>\n",
       "    <tr>\n",
       "      <th>836</th>\n",
       "      <td>/project/return/Share/EODC_SA020M/V1M0R1/E057N...</td>\n",
       "      <td>2017-01-04 10:34:44</td>\n",
       "      <td>VV</td>\n",
       "      <td>D171</td>\n",
       "      <td>S1BIWGRDH</td>\n",
       "      <td>V1M0R1</td>\n",
       "      <td>SIG0</td>\n",
       "      <td>E057N072T3</td>\n",
       "    </tr>\n",
       "    <tr>\n",
       "      <th>986</th>\n",
       "      <td>/project/return/Share/EODC_SA020M/V1M0R1/E057N...</td>\n",
       "      <td>2017-01-09 23:03:36</td>\n",
       "      <td>VV</td>\n",
       "      <td>A076</td>\n",
       "      <td>S1BIWGRDH</td>\n",
       "      <td>V1M0R1</td>\n",
       "      <td>SIG0</td>\n",
       "      <td>E057N072T3</td>\n",
       "    </tr>\n",
       "    <tr>\n",
       "      <th>800</th>\n",
       "      <td>/project/return/Share/EODC_SA020M/V1M0R1/E057N...</td>\n",
       "      <td>2017-01-09 23:04:01</td>\n",
       "      <td>VV</td>\n",
       "      <td>A077</td>\n",
       "      <td>S1BIWGRDH</td>\n",
       "      <td>V1M0R1</td>\n",
       "      <td>SIG0</td>\n",
       "      <td>E057N072T3</td>\n",
       "    </tr>\n",
       "    <tr>\n",
       "      <th>...</th>\n",
       "      <td>...</td>\n",
       "      <td>...</td>\n",
       "      <td>...</td>\n",
       "      <td>...</td>\n",
       "      <td>...</td>\n",
       "      <td>...</td>\n",
       "      <td>...</td>\n",
       "      <td>...</td>\n",
       "    </tr>\n",
       "    <tr>\n",
       "      <th>532</th>\n",
       "      <td>/project/return/Share/EODC_SA020M/V01R01/E057N...</td>\n",
       "      <td>2020-12-31 10:42:57</td>\n",
       "      <td>VV</td>\n",
       "      <td>D069</td>\n",
       "      <td>S1B</td>\n",
       "      <td>V01R01</td>\n",
       "      <td>SIG0</td>\n",
       "      <td>E057N072T3</td>\n",
       "    </tr>\n",
       "    <tr>\n",
       "      <th>172</th>\n",
       "      <td>/project/return/Share/EODC_SA020M/V01R01/E057N...</td>\n",
       "      <td>2020-12-31 10:43:22</td>\n",
       "      <td>VV</td>\n",
       "      <td>D069</td>\n",
       "      <td>S1B</td>\n",
       "      <td>V01R01</td>\n",
       "      <td>SIG0</td>\n",
       "      <td>E057N072T3</td>\n",
       "    </tr>\n",
       "    <tr>\n",
       "      <th>602</th>\n",
       "      <td>/project/return/Share/EODC_SA020M/V01R01/E057N...</td>\n",
       "      <td>2020-12-31 23:04:03</td>\n",
       "      <td>VV</td>\n",
       "      <td>A076</td>\n",
       "      <td>S1B</td>\n",
       "      <td>V01R01</td>\n",
       "      <td>SIG0</td>\n",
       "      <td>E057N072T3</td>\n",
       "    </tr>\n",
       "    <tr>\n",
       "      <th>576</th>\n",
       "      <td>/project/return/Share/EODC_SA020M/V01R01/E057N...</td>\n",
       "      <td>2020-12-31 23:04:28</td>\n",
       "      <td>VV</td>\n",
       "      <td>A077</td>\n",
       "      <td>S1B</td>\n",
       "      <td>V01R01</td>\n",
       "      <td>SIG0</td>\n",
       "      <td>E057N072T3</td>\n",
       "    </tr>\n",
       "    <tr>\n",
       "      <th>446</th>\n",
       "      <td>/project/return/Share/EODC_SA020M/V01R01/E057N...</td>\n",
       "      <td>2020-12-31 23:04:53</td>\n",
       "      <td>VV</td>\n",
       "      <td>A077</td>\n",
       "      <td>S1B</td>\n",
       "      <td>V01R01</td>\n",
       "      <td>SIG0</td>\n",
       "      <td>E057N072T3</td>\n",
       "    </tr>\n",
       "  </tbody>\n",
       "</table>\n",
       "<p>1168 rows × 8 columns</p>\n",
       "</div>"
      ],
      "text/plain": [
       "                                               filepath                time  \\\n",
       "725   /project/return/Share/EODC_SA020M/V1M0R1/E057N... 2017-01-04 10:33:54   \n",
       "1112  /project/return/Share/EODC_SA020M/V1M0R1/E057N... 2017-01-04 10:34:19   \n",
       "836   /project/return/Share/EODC_SA020M/V1M0R1/E057N... 2017-01-04 10:34:44   \n",
       "986   /project/return/Share/EODC_SA020M/V1M0R1/E057N... 2017-01-09 23:03:36   \n",
       "800   /project/return/Share/EODC_SA020M/V1M0R1/E057N... 2017-01-09 23:04:01   \n",
       "...                                                 ...                 ...   \n",
       "532   /project/return/Share/EODC_SA020M/V01R01/E057N... 2020-12-31 10:42:57   \n",
       "172   /project/return/Share/EODC_SA020M/V01R01/E057N... 2020-12-31 10:43:22   \n",
       "602   /project/return/Share/EODC_SA020M/V01R01/E057N... 2020-12-31 23:04:03   \n",
       "576   /project/return/Share/EODC_SA020M/V01R01/E057N... 2020-12-31 23:04:28   \n",
       "446   /project/return/Share/EODC_SA020M/V01R01/E057N... 2020-12-31 23:04:53   \n",
       "\n",
       "     band extra_field sensor_field data_version var_name   tile_name  \n",
       "725    VV        D171    S1BIWGRDH       V1M0R1     SIG0  E057N072T3  \n",
       "1112   VV        D171    S1BIWGRDH       V1M0R1     SIG0  E057N072T3  \n",
       "836    VV        D171    S1BIWGRDH       V1M0R1     SIG0  E057N072T3  \n",
       "986    VV        A076    S1BIWGRDH       V1M0R1     SIG0  E057N072T3  \n",
       "800    VV        A077    S1BIWGRDH       V1M0R1     SIG0  E057N072T3  \n",
       "...   ...         ...          ...          ...      ...         ...  \n",
       "532    VV        D069          S1B       V01R01     SIG0  E057N072T3  \n",
       "172    VV        D069          S1B       V01R01     SIG0  E057N072T3  \n",
       "602    VV        A076          S1B       V01R01     SIG0  E057N072T3  \n",
       "576    VV        A077          S1B       V01R01     SIG0  E057N072T3  \n",
       "446    VV        A077          S1B       V01R01     SIG0  E057N072T3  \n",
       "\n",
       "[1168 rows x 8 columns]"
      ]
     },
     "execution_count": 11,
     "metadata": {},
     "output_type": "execute_result"
    }
   ],
   "source": [
    "sig0_vv_dc = sig0_vv_dc1.unite(sig0_vv_dc2)\n",
    "sig0_vv_dc = sig0_vv_dc.sort_by_dimension('time', ascending=True)\n",
    "#\n",
    "sig0_vh_dc = sig0_vh_dc1.unite(sig0_vh_dc2)\n",
    "sig0_vh_dc = sig0_vh_dc.sort_by_dimension('time', ascending=True)\n",
    "#\n",
    "sig0_vv_dc.inventory"
   ]
  },
  {
   "cell_type": "markdown",
   "id": "cf18eed3-c135-4cb3-8c8c-b7a20682ab75",
   "metadata": {},
   "source": [
    "Select only descending orbits"
   ]
  },
  {
   "cell_type": "markdown",
   "id": "1035d78c-cc6e-41d3-a588-e3b767357fb4",
   "metadata": {},
   "source": [
    "Specify indexing for looping trough individual chunks within the Equi7grid tile:"
   ]
  },
  {
   "cell_type": "code",
   "execution_count": 22,
   "id": "58ccbf9a-7fc6-4737-a5df-def2972e4baa",
   "metadata": {},
   "outputs": [
    {
     "data": {
      "text/plain": [
       "['D069', 'D171']"
      ]
     },
     "execution_count": 22,
     "metadata": {},
     "output_type": "execute_result"
    }
   ],
   "source": [
    "desc_list_vh = [aa for aa in sig0_vh_dc.inventory.extra_field.unique().tolist() if aa[0]=='D']\n",
    "desc_list_vh"
   ]
  },
  {
   "cell_type": "code",
   "execution_count": 23,
   "id": "61949a62-7e7c-4c7f-8abc-3a96782161a6",
   "metadata": {},
   "outputs": [
    {
     "data": {
      "text/plain": [
       "['D171', 'D069', 'D098']"
      ]
     },
     "execution_count": 23,
     "metadata": {},
     "output_type": "execute_result"
    }
   ],
   "source": [
    "desc_list_vv = [aa for aa in sig0_vv_dc.inventory.extra_field.unique().tolist() if aa[0]=='D']\n",
    "desc_list_vv"
   ]
  },
  {
   "cell_type": "code",
   "execution_count": 25,
   "id": "ebdb8ec7-35b9-405b-9ea4-d5796788e58d",
   "metadata": {},
   "outputs": [
    {
     "data": {
      "text/plain": [
       "['D171', 'D069']"
      ]
     },
     "execution_count": 25,
     "metadata": {},
     "output_type": "execute_result"
    }
   ],
   "source": [
    "desc_list = list(set(desc_list_vh) & set(desc_list_vv))\n",
    "desc_list"
   ]
  },
  {
   "cell_type": "code",
   "execution_count": null,
   "id": "ba916d83-dc90-4234-a6aa-6549a7694a8d",
   "metadata": {},
   "outputs": [],
   "source": [
    "myOrbit = 'D069'"
   ]
  },
  {
   "cell_type": "code",
   "execution_count": null,
   "id": "2b44c95f-aa05-48d4-a326-cdbeda48338e",
   "metadata": {},
   "outputs": [],
   "source": [
    "sig0_vv_orbit_dc = sig0_vv_dc.filter_by_dimension(myOrbit, name=\"extra_field\")\n",
    "sig0_vv_orbit_dc = sig0_vv_orbit_dc.sort_by_dimension('time', ascending=True)\n",
    "#\n",
    "sig0_vh_orbit_dc = sig0_vh_dc.filter_by_dimension(myOrbit, name=\"extra_field\")\n",
    "sig0_vh_orbit_dc = sig0_vh_orbit_dc.sort_by_dimension('time', ascending=True)\n",
    "#\n",
    "sig0_vv_orbit_dc.inventory.head()"
   ]
  },
  {
   "cell_type": "code",
   "execution_count": null,
   "id": "be073af1-409e-43a7-93a5-b0739df9405a",
   "metadata": {},
   "outputs": [],
   "source": [
    "remove_broken_files(sig0_vh_orbit_dc.inventory)"
   ]
  },
  {
   "cell_type": "code",
   "execution_count": null,
   "id": "1676ae57-517c-4465-8f4e-094c65cb8eba",
   "metadata": {},
   "outputs": [],
   "source": [
    "[os.path.basename(aa) for aa in sig0_vh_orbit_dc.inventory.filepath]"
   ]
  },
  {
   "cell_type": "markdown",
   "id": "3d873821-2415-4394-822a-bb4d4f8ce857",
   "metadata": {},
   "source": [
    "Load data "
   ]
  },
  {
   "cell_type": "code",
   "execution_count": null,
   "id": "97692034-acdf-4f6f-be7c-272e5e24a25d",
   "metadata": {},
   "outputs": [],
   "source": [
    "# read a single orbit\n",
    "sig0_vv_dc_chunk1 = sig0_vv_orbit_dc.load_by_pixels((my_row-1)*my_chunk_size, (my_col-1)*my_chunk_size, row_size=250, col_size=250, dtype='xarray')\n",
    "sig0_vh_dc_chunk1 = sig0_vh_orbit_dc.load_by_pixels((my_row-1)*my_chunk_size, (my_col-1)*my_chunk_size, row_size=250, col_size=250, dtype='xarray')"
   ]
  },
  {
   "cell_type": "markdown",
   "id": "024ef13d-bfe6-44b0-9f0c-a8e941f3e9c0",
   "metadata": {},
   "source": [
    "Rename the variavle"
   ]
  },
  {
   "cell_type": "code",
   "execution_count": null,
   "id": "b952d80e-9a40-40d0-882c-4426d83abe2c",
   "metadata": {},
   "outputs": [],
   "source": [
    "sig0_vv_dc_chunk1 = sig0_vv_dc_chunk1.rename({'1':'sig0_vv'})"
   ]
  },
  {
   "cell_type": "code",
   "execution_count": null,
   "id": "f53af592-ea76-4f3d-9f83-3b835b1802bf",
   "metadata": {},
   "outputs": [],
   "source": [
    "sig0_vh_dc_chunk1 = sig0_vh_dc_chunk1.rename({'1':'sig0_vh'})"
   ]
  },
  {
   "cell_type": "code",
   "execution_count": null,
   "id": "0f715591-5b91-4b43-84a9-d01250b482c2",
   "metadata": {},
   "outputs": [],
   "source": [
    "# print(sig0_vh_dc_chunk1)"
   ]
  },
  {
   "cell_type": "markdown",
   "id": "fdef91b2-41d1-4393-9d06-e4d410669f76",
   "metadata": {},
   "source": [
    "Rescale the data in 2019 and 2020"
   ]
  },
  {
   "cell_type": "code",
   "execution_count": null,
   "id": "79cc1eba-5c71-41b5-8e44-48555cfb6587",
   "metadata": {},
   "outputs": [],
   "source": [
    "sig0_vv_dc_chunk1['sig0_vv'].loc[slice('2019-1-1','2021-1-1'), :, :] = sig0_vv_dc_chunk1.sel(time=slice('2019-1-1','2021-1-1')).apply(lambda x: np.round(x/10.,1)).sig0_vv.values\n",
    "sig0_vh_dc_chunk1['sig0_vh'].loc[slice('2019-1-1','2021-1-1'), :, :] = sig0_vh_dc_chunk1.sel(time=slice('2019-1-1','2021-1-1')).apply(lambda x: np.round(x/10.,1)).sig0_vh.values"
   ]
  },
  {
   "cell_type": "code",
   "execution_count": null,
   "id": "60ba7751-c6a1-477f-b126-e890c8294a76",
   "metadata": {},
   "outputs": [],
   "source": [
    "sig0_vv_dc_chunk1['sig0_vv'].isnull().values.all()"
   ]
  },
  {
   "cell_type": "code",
   "execution_count": null,
   "id": "9d0d29ae-b0d1-442b-919d-9df1a7b9b6c5",
   "metadata": {},
   "outputs": [],
   "source": [
    "sig0_vh_dc_chunk1.sig0_vh.sel(time=slice('2017-01-01', '2018-01-01')).mean('time')"
   ]
  },
  {
   "cell_type": "code",
   "execution_count": null,
   "id": "3d3561ea-32ef-49f2-937d-46f389b62d79",
   "metadata": {},
   "outputs": [],
   "source": [
    "sig0_vh_dc_chunk1.sig0_vh.sel(time=slice('2017-01-01', '2018-01-01')).mean('time').plot(cmap='Greys_r')"
   ]
  },
  {
   "cell_type": "code",
   "execution_count": null,
   "id": "a6e60181-d5f0-4da9-b6fa-e44f5c400373",
   "metadata": {},
   "outputs": [],
   "source": [
    "%matplotlib inline\n",
    "#sig0_vh_dc_chunk1.sig0_vh.min(dim='time').plot(cmap='Greys_r')\n",
    "sig0_vh_dc_chunk1.sig0_vh.min(dim='time').plot(cmap='Greys_r')"
   ]
  },
  {
   "cell_type": "markdown",
   "id": "f037278e-5774-4000-862a-38a4ef4cbedc",
   "metadata": {},
   "source": [
    "# Inspect Single orbit time-seres"
   ]
  },
  {
   "cell_type": "markdown",
   "id": "3f97a28e-4037-4b2c-a968-a409ac01f322",
   "metadata": {},
   "source": [
    "convert to panda seres:"
   ]
  },
  {
   "cell_type": "code",
   "execution_count": null,
   "id": "2f443d76-68a9-44b2-98f3-d11bb43c78b6",
   "metadata": {},
   "outputs": [],
   "source": [
    "sig0_vv_ts = sig0_vv_dc_chunk1.sig0_vv.isel(x=249, y=249).dropna(dim='time').to_series()\n",
    "#sig0_vv_ts = sig0_vv_dc_chunk1.sig0_vv.sel(x=7911673, y=6710188, method=\"nearest\").dropna(dim='time').to_series()"
   ]
  },
  {
   "cell_type": "code",
   "execution_count": null,
   "id": "9c6bdb40-02e2-40e0-83d8-d1fe9c5e5339",
   "metadata": {},
   "outputs": [],
   "source": [
    "my_xticks = pd.date_range(datetime(2017,1,1), datetime(2021,1,1), freq='YS')\n",
    "sig0_vv_ts.plot(style='ro-', xticks=my_xticks, grid=True, figsize=(14,4), legend=True, xlabel='Time', ylabel='Bacscatter Intensity [dB]')"
   ]
  },
  {
   "cell_type": "markdown",
   "id": "82ed453f-c90f-4a8f-9f2b-7c06b76bad96",
   "metadata": {},
   "source": [
    "Round the time and resample to 6 day TS:"
   ]
  },
  {
   "cell_type": "code",
   "execution_count": null,
   "id": "ac44d318-26c0-4948-b0a3-174b4e13fc46",
   "metadata": {},
   "outputs": [],
   "source": [
    "sig0_vv_ts.index = sig0_vv_ts.index.round('D')\n",
    "#\n",
    "sig0_vv_ts_6d = sig0_vv_ts.resample('6D').interpolate(method='linear')"
   ]
  },
  {
   "cell_type": "code",
   "execution_count": null,
   "id": "a7eeed28-c2aa-4b67-b04c-cfd20e375a64",
   "metadata": {},
   "outputs": [],
   "source": [
    "sig0_vv_ts_6d.plot(style='bo-',grid=True, figsize=(14,4), legend=True, xlabel='Time', ylabel='Bacscatter Intensity [dB]')"
   ]
  },
  {
   "cell_type": "code",
   "execution_count": null,
   "id": "484d0027-86d8-42de-9ef8-9dd914143da5",
   "metadata": {},
   "outputs": [],
   "source": [
    "#%matplotlib widget\n",
    "%matplotlib inline\n",
    "plot_TS_fromPandaSeres(sig0_vv_ts_6d)"
   ]
  },
  {
   "cell_type": "code",
   "execution_count": null,
   "id": "e71af6b1-9f63-4342-8c13-897679600860",
   "metadata": {},
   "outputs": [],
   "source": []
  }
 ],
 "metadata": {
  "kernelspec": {
   "display_name": "Python 3 (ipykernel)",
   "language": "python",
   "name": "python3"
  },
  "language_info": {
   "codemirror_mode": {
    "name": "ipython",
    "version": 3
   },
   "file_extension": ".py",
   "mimetype": "text/x-python",
   "name": "python",
   "nbconvert_exporter": "python",
   "pygments_lexer": "ipython3",
   "version": "3.7.13"
  }
 },
 "nbformat": 4,
 "nbformat_minor": 5
}
