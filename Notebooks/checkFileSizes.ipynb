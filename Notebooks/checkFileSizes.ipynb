{
 "cells": [
  {
   "cell_type": "markdown",
   "id": "006217e4-3993-4c5e-8750-b0832b338e8a",
   "metadata": {
    "tags": []
   },
   "source": [
    "## Check the file size of each image in the folder"
   ]
  },
  {
   "cell_type": "code",
   "execution_count": 1,
   "id": "89e04f66-80ca-4ec9-b2eb-74b0782a9e45",
   "metadata": {},
   "outputs": [],
   "source": [
    "import os\n",
    "from osgeo import gdal, ogr\n",
    "import shutil"
   ]
  },
  {
   "cell_type": "code",
   "execution_count": null,
   "id": "86a106bc-ea4c-40b4-a269-282e65d2c231",
   "metadata": {},
   "outputs": [
    {
     "name": "stdout",
     "output_type": "stream",
     "text": [
      "----------- start E084N072T3 ----------\n",
      "----------- E084N072T3 done! ----------\n",
      "----------- start E072N054T3 ----------\n",
      "----------- E072N054T3 done! ----------\n",
      "----------- start E063N063T3 ----------\n",
      "----------- E063N063T3 done! ----------\n",
      "----------- start E072N066T3 ----------\n",
      "----------- E072N066T3 done! ----------\n",
      "----------- start E066N051T3 ----------\n",
      "----------- E066N051T3 done! ----------\n",
      "----------- start E081N066T3 ----------\n",
      "----------- E081N066T3 done! ----------\n",
      "----------- start E066N057T3 ----------\n",
      "----------- E066N057T3 done! ----------\n",
      "----------- start E066N066T3 ----------\n",
      "----------- E066N066T3 done! ----------\n",
      "----------- start E081N063T3 ----------\n",
      "----------- E081N063T3 done! ----------\n",
      "----------- start E060N060T3 ----------\n",
      "----------- E060N060T3 done! ----------\n",
      "----------- start E081N072T3 ----------\n",
      "----------- E081N072T3 done! ----------\n",
      "----------- start E078N066T3 ----------\n",
      "----------- E078N066T3 done! ----------\n",
      "----------- start E051N069T3 ----------\n"
     ]
    }
   ],
   "source": [
    "#myList1_outName ='tiles_with_error_tiffs_afterFileUpdate.txt'\n",
    "myList1_outName ='tiles_with_error_tiffs_afterFileRemove.txt'\n",
    "#\n",
    "for folder in os.scandir(r'/project/return/Share/EODC_SA020M/V1M0R1/'):\n",
    "    # set the tile name\n",
    "    myFolderName = folder.name\n",
    "    #\n",
    "    print(\"----------- start {} ----------\".format(myFolderName))\n",
    "    # set tile paths\n",
    "    myFolderPath1 = os.path.join(r'/project/return/Share/EODC_SA020M/V01R01/', myFolderName)\n",
    "    myFolderPath2 = os.path.join(r'/project/return/Share/EODC_SA020M/V1M0R1/', myFolderName)\n",
    "    # set tile counter\n",
    "    myCounter = 0\n",
    "    # ----------------------------------------------------\n",
    "    # loop trough files and write those with error reding\n",
    "    # ----------------------------------------------------\n",
    "    #\n",
    "    with os.scandir(myFolderPath1) as it:\n",
    "            for entry in it:\n",
    "                if entry.is_file():\n",
    "                    aa = gdal.Open(entry.path)\n",
    "                    if not aa:\n",
    "                        myCounter +=1\n",
    "                        #shutil.move(entry.path, r'/project/return/Share/EODC_corruptFiles')\n",
    "                        if myCounter == 1:\n",
    "                            with open(myList1_outName, 'a') as fd:\n",
    "                                fd.write(f'\\n{myFolderName}')\n",
    "                                fd.write(f'\\n{entry.path}')\n",
    "                        else:\n",
    "                            with open(myList1_outName, 'a') as fd:\n",
    "                                fd.write(f'\\n{entry.path}')\n",
    "\n",
    "                        #List_errorFiles.append(entry.path)\n",
    "    #                    \n",
    "    with os.scandir(myFolderPath2) as it:\n",
    "            for entry in it:\n",
    "                if entry.is_file():\n",
    "                    aa = gdal.Open(entry.path)\n",
    "                    if not aa:\n",
    "                        myCounter +=1\n",
    "                        #shutil.move(entry.path, r'/project/return/Share/EODC_corruptFiles')\n",
    "                        if myCounter == 1:\n",
    "                            with open(myList1_outName, 'a') as fd:\n",
    "                                fd.write(f'\\n{myFolderName}')\n",
    "                                fd.write(f'\\n{entry.path}')\n",
    "                        else:\n",
    "                            with open(myList1_outName, 'a') as fd:\n",
    "                                fd.write(f'\\n{entry.path}')\n",
    "    #\n",
    "    print(\"----------- {} done! ----------\".format(myFolderName))"
   ]
  },
  {
   "cell_type": "code",
   "execution_count": null,
   "id": "7582f839-352d-443c-abdd-aab9403ed9a7",
   "metadata": {},
   "outputs": [],
   "source": [
    "List_errorFiles"
   ]
  },
  {
   "cell_type": "code",
   "execution_count": null,
   "id": "3c42e89f-1add-42c4-ad01-3cb0a83b9ccb",
   "metadata": {},
   "outputs": [],
   "source": [
    "# Part II - get file sizes:"
   ]
  },
  {
   "cell_type": "code",
   "execution_count": null,
   "id": "a189be3a-6c57-4692-8e5f-cf5943bb916a",
   "metadata": {},
   "outputs": [],
   "source": [
    "myFolderName = r'E078N060T3'\n",
    "#\n",
    "myFolderPath1 = os.path.join(r'/project/return/Share/EODC_SA020M/V01R01/', myFolderName)\n",
    "myFolderPath2 = os.path.join(r'/project/return/Share/EODC_SA020M/V1M0R1/', myFolderName)"
   ]
  },
  {
   "cell_type": "code",
   "execution_count": null,
   "id": "906ed75d-9832-4a6b-ace0-2859b42cf9f8",
   "metadata": {},
   "outputs": [],
   "source": [
    "myList1 = []\n",
    "myList1_outName =os.path.join(myFolderPath1, myFolderName + '.txt')\n",
    "with os.scandir(myFolderPath1) as it:\n",
    "        for entry in it:\n",
    "            if entry.is_file():\n",
    "                myList1.append(entry.stat().st_size)"
   ]
  },
  {
   "cell_type": "code",
   "execution_count": null,
   "id": "7759ed0c-b591-4de1-beee-84d2c95c39ea",
   "metadata": {},
   "outputs": [],
   "source": [
    "myList2 = []\n",
    "myList2_outName =os.path.join(myFolderPath2, myFolderName + '.txt')\n",
    "with os.scandir(myFolderPath2) as it:\n",
    "        for entry in it:\n",
    "            if entry.is_file():\n",
    "                myList2.append(entry.stat().st_size)"
   ]
  },
  {
   "cell_type": "code",
   "execution_count": null,
   "id": "dd07f931-67a7-4d7b-bb15-d76542de7f86",
   "metadata": {},
   "outputs": [],
   "source": [
    "with open(r'test1_list.txt', 'w') as fp:\n",
    "    for item in myList1:\n",
    "        # write each item on a new line\n",
    "        fp.write(\"%s\\n\" % item)\n",
    "    print('Done')"
   ]
  },
  {
   "cell_type": "code",
   "execution_count": null,
   "id": "2a76af7b-cc9f-4cad-93de-353e2afa149a",
   "metadata": {},
   "outputs": [],
   "source": [
    "import numpy as np\n",
    "fileSizes1 = (np.array(myList1))\n",
    "fileSizes2 = (np.array(myList2))"
   ]
  },
  {
   "cell_type": "code",
   "execution_count": null,
   "id": "a78507c1-0c48-4bef-a3cc-adcf39052c0c",
   "metadata": {},
   "outputs": [],
   "source": [
    "import matplotlib.pyplot as plt\n",
    "plt.hist(fileSizes1/float(1<<20), bins=np.arange(0, np.max(fileSizes1/float(1<<20))+1, 1))\n",
    "plt.xlabel('File size [MB]')"
   ]
  },
  {
   "cell_type": "code",
   "execution_count": null,
   "id": "f63133ee-5879-4546-b911-aa40b461c66a",
   "metadata": {},
   "outputs": [],
   "source": [
    "fileSizes1/float(1<<20)"
   ]
  },
  {
   "cell_type": "code",
   "execution_count": null,
   "id": "7ae98d57-4a5a-42a2-ae13-20bbc05f614f",
   "metadata": {},
   "outputs": [],
   "source": []
  },
  {
   "cell_type": "code",
   "execution_count": null,
   "id": "8bddd8de-b186-44e3-b63c-c5a4d9fa7465",
   "metadata": {},
   "outputs": [],
   "source": []
  }
 ],
 "metadata": {
  "kernelspec": {
   "display_name": "Python 3 (ipykernel)",
   "language": "python",
   "name": "python3"
  },
  "language_info": {
   "codemirror_mode": {
    "name": "ipython",
    "version": 3
   },
   "file_extension": ".py",
   "mimetype": "text/x-python",
   "name": "python",
   "nbconvert_exporter": "python",
   "pygments_lexer": "ipython3",
   "version": "3.7.13"
  }
 },
 "nbformat": 4,
 "nbformat_minor": 5
}
