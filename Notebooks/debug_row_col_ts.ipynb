{
 "cells": [
  {
   "cell_type": "markdown",
   "id": "006217e4-3993-4c5e-8750-b0832b338e8a",
   "metadata": {
    "tags": []
   },
   "source": [
    "## simple debug setup"
   ]
  },
  {
   "cell_type": "code",
   "execution_count": 3,
   "id": "0d731dd9-1564-4b80-ad7c-5d27e6c921df",
   "metadata": {},
   "outputs": [],
   "source": [
    "from process_Equi7tile_OrbitWise import process_Equi7tile"
   ]
  },
  {
   "cell_type": "code",
   "execution_count": 4,
   "id": "4b259a95-17ce-4cca-a824-07695284b56a",
   "metadata": {},
   "outputs": [
    {
     "name": "stdout",
     "output_type": "stream",
     "text": [
      "The chunk with row 37 and column 6 in tile E054N057T3 is outside the Amazon basin.\n",
      "\n"
     ]
    }
   ],
   "source": [
    "# this creats the nc-fiels in the out directory:\n",
    "# process_Equi7tile(iOrbitPass, iTileName, iRowStep, iColStep, iChunkSize, oDir)\n",
    "process_Equi7tile('DESCENDING', 'E054N057T3', 38, 7, 250, '/home/return-mmilenkovic/mm_tools/use-case-return/')"
   ]
  },
  {
   "cell_type": "code",
   "execution_count": null,
   "id": "b0d25cd9-816f-4cf6-b771-aed7c7f49391",
   "metadata": {},
   "outputs": [],
   "source": [
    "from osgeo import gdal\n",
    "gdal.UseExceptions()"
   ]
  },
  {
   "cell_type": "code",
   "execution_count": null,
   "id": "765c6162-85d2-4edc-af8e-7118d6a304a9",
   "metadata": {},
   "outputs": [],
   "source": [
    "ds = gdal.Open(r'/project/return/Share/EODC_SA020M/V1M0R1/E081N069T3/SIG0_20180110T090535__VH_D068_E081N069T3_SA020M_V1M0R1_S1AIWGRDH.tif', gdal.GA_ReadOnly)"
   ]
  },
  {
   "cell_type": "code",
   "execution_count": null,
   "id": "cca0db47-cac1-4064-99ad-747ce4ea3ee9",
   "metadata": {},
   "outputs": [],
   "source": [
    "type(ds)"
   ]
  },
  {
   "cell_type": "code",
   "execution_count": null,
   "id": "faee6531-1e05-415b-b8ae-71e87f160c11",
   "metadata": {},
   "outputs": [],
   "source": [
    "ds.RasterCount"
   ]
  },
  {
   "cell_type": "code",
   "execution_count": null,
   "id": "0d3c2775-359d-41e2-b142-428bb0551d95",
   "metadata": {},
   "outputs": [],
   "source": [
    "ds.GetMetadata()"
   ]
  },
  {
   "cell_type": "code",
   "execution_count": null,
   "id": "53d8302e-6c76-4e2d-a6c6-673eb2c53903",
   "metadata": {},
   "outputs": [],
   "source": [
    "band = ds.GetRasterBand(1)"
   ]
  },
  {
   "cell_type": "code",
   "execution_count": null,
   "id": "655bfa56-40b5-42de-a262-73dc43943cc0",
   "metadata": {},
   "outputs": [],
   "source": [
    "gdal.GetDataTypeName(band.DataType)"
   ]
  },
  {
   "cell_type": "code",
   "execution_count": null,
   "id": "0865d448-817f-4817-a7b3-98fabf54dd4e",
   "metadata": {},
   "outputs": [],
   "source": [
    "if band.GetMinimum() is None or band.GetMaximum()is None:\n",
    "    band.ComputeStatistics(1)\n",
    "    print(\"Statistics computed.\")"
   ]
  },
  {
   "cell_type": "code",
   "execution_count": null,
   "id": "831db0d0-44f1-494a-9c20-0a9e5d56583f",
   "metadata": {},
   "outputs": [],
   "source": []
  }
 ],
 "metadata": {
  "kernelspec": {
   "display_name": "Python 3 (ipykernel)",
   "language": "python",
   "name": "python3"
  },
  "language_info": {
   "codemirror_mode": {
    "name": "ipython",
    "version": 3
   },
   "file_extension": ".py",
   "mimetype": "text/x-python",
   "name": "python",
   "nbconvert_exporter": "python",
   "pygments_lexer": "ipython3",
   "version": "3.7.13"
  }
 },
 "nbformat": 4,
 "nbformat_minor": 5
}
