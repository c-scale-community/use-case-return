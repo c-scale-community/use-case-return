{
 "cells": [
  {
   "cell_type": "markdown",
   "id": "006217e4-3993-4c5e-8750-b0832b338e8a",
   "metadata": {
    "tags": []
   },
   "source": [
    "## explore the output chanks"
   ]
  },
  {
   "cell_type": "code",
   "execution_count": 1,
   "id": "0d731dd9-1564-4b80-ad7c-5d27e6c921df",
   "metadata": {},
   "outputs": [
    {
     "name": "stderr",
     "output_type": "stream",
     "text": [
      "/home/return-mmilenkovic/miniconda3/envs/geoWombat/lib/python3.10/site-packages/pyproj/__init__.py:89: UserWarning: pyproj unable to set database path.\n",
      "  _pyproj_global_context_initialize()\n",
      "/home/return-mmilenkovic/miniconda3/envs/geoWombat/lib/python3.10/site-packages/tqdm/auto.py:21: TqdmWarning: IProgress not found. Please update jupyter and ipywidgets. See https://ipywidgets.readthedocs.io/en/stable/user_install.html\n",
      "  from .autonotebook import tqdm as notebook_tqdm\n"
     ]
    }
   ],
   "source": [
    "import os, glob\n",
    "import xarray as xr\n",
    "import rioxarray\n",
    "from rioxarray.merge import merge_datasets, merge_arrays\n",
    "import numpy as np\n",
    "import geopandas as gpd\n",
    "import pandas as pd\n",
    "from equi7grid.equi7grid import Equi7Grid\n",
    "import geowombat as gw"
   ]
  },
  {
   "cell_type": "code",
   "execution_count": 2,
   "id": "8ed5f29e-dea4-428c-8b10-16b6b0eb9e25",
   "metadata": {},
   "outputs": [],
   "source": [
    "# folder wih the output files:\n",
    "data_folder = r'/project/return/Share/mm/S1_SA_TEST_UPSCALE/TILE_WISE/AOI_PA/E078N066T3'\n",
    "#\n",
    "myOrbit = 'D141'\n",
    "#\n",
    "myPol = 'VH'\n"
   ]
  },
  {
   "cell_type": "code",
   "execution_count": 3,
   "id": "04d47069-eba4-4c72-aa16-168250e219d7",
   "metadata": {},
   "outputs": [],
   "source": [
    "# get all nc-files in a list\n",
    "ncFileList = glob.glob(data_folder + '/**/*' + myOrbit + '_' + myPol + '.nc', recursive=True)"
   ]
  },
  {
   "cell_type": "code",
   "execution_count": 4,
   "id": "82709104-79e0-4428-a708-375d3dc65029",
   "metadata": {},
   "outputs": [],
   "source": [
    "# sorted list:\n",
    "ncFileList = sorted(ncFileList)"
   ]
  },
  {
   "cell_type": "code",
   "execution_count": 5,
   "id": "66019389-7912-429f-97b5-beb4f2e70a60",
   "metadata": {},
   "outputs": [],
   "source": [
    "ncRows = [os.path.basename(ncPath).split('_')[1] for ncPath in ncFileList]\n",
    "ncCols = [os.path.basename(ncPath).split('_')[2] for ncPath in ncFileList]"
   ]
  },
  {
   "cell_type": "code",
   "execution_count": 6,
   "id": "b6c3824f-9e9e-4fda-b21f-914b30ea46eb",
   "metadata": {},
   "outputs": [],
   "source": [
    "df_ncFiles = pd.DataFrame(list(zip(ncRows, ncCols, ncFileList)), columns =['row', 'col', 'path'])"
   ]
  },
  {
   "cell_type": "code",
   "execution_count": 7,
   "id": "90ef8a16-c31c-4fa5-9f9d-d6339dc8754b",
   "metadata": {},
   "outputs": [],
   "source": [
    "df_ncFiles = df_ncFiles.astype({'row': 'uint8', 'col': 'uint8'})"
   ]
  },
  {
   "cell_type": "code",
   "execution_count": 8,
   "id": "e929f75c-b8df-4c7f-b132-0f2034fd9fae",
   "metadata": {},
   "outputs": [],
   "source": [
    "df_ncFiles = df_ncFiles.sort_values(['row', 'col'])"
   ]
  },
  {
   "cell_type": "markdown",
   "id": "dd48f754-4871-4147-9864-110a58658a0e",
   "metadata": {},
   "source": [
    "## Read the files with geoWombat"
   ]
  },
  {
   "cell_type": "code",
   "execution_count": 15,
   "id": "4af4db2a-e9de-4e8a-b0a3-019ffb028779",
   "metadata": {},
   "outputs": [
    {
     "data": {
      "text/plain": [
       "['/project/return/Share/mm/S1_SA_TEST_UPSCALE/TILE_WISE/AOI_PA/E078N066T3/1_30/E078N066T3_0_29_250_D141_VH.nc',\n",
       " '/project/return/Share/mm/S1_SA_TEST_UPSCALE/TILE_WISE/AOI_PA/E078N066T3/1_31/E078N066T3_0_30_250_D141_VH.nc',\n",
       " '/project/return/Share/mm/S1_SA_TEST_UPSCALE/TILE_WISE/AOI_PA/E078N066T3/1_32/E078N066T3_0_31_250_D141_VH.nc']"
      ]
     },
     "execution_count": 15,
     "metadata": {},
     "output_type": "execute_result"
    }
   ],
   "source": [
    "list(df_ncFiles.path[:3].values)"
   ]
  },
  {
   "cell_type": "code",
   "execution_count": 25,
   "id": "117c6d06-8049-45b3-a624-d876ddbbf2af",
   "metadata": {},
   "outputs": [
    {
     "data": {
      "text/plain": [
       "['/project/return/Share/mm/S1_SA_TEST_UPSCALE/TILE_WISE/AOI_PA/E078N066T3/10_28/E078N066T3_9_27_250_D141_VH.nc',\n",
       " '/project/return/Share/mm/S1_SA_TEST_UPSCALE/TILE_WISE/AOI_PA/E078N066T3/10_29/E078N066T3_9_28_250_D141_VH.nc']"
      ]
     },
     "execution_count": 25,
     "metadata": {},
     "output_type": "execute_result"
    }
   ],
   "source": [
    "[df_ncFiles.path[0], df_ncFiles.path[1]]"
   ]
  },
  {
   "cell_type": "code",
   "execution_count": 27,
   "id": "d0a5cda4-b8fa-4010-8a15-277d98807de9",
   "metadata": {},
   "outputs": [],
   "source": [
    "# specify variables to load\n",
    "varSet1 = ['mean_2019', 'std_2019']"
   ]
  },
  {
   "cell_type": "code",
   "execution_count": 31,
   "id": "308fb634-cb89-492e-ba3c-29ffc2feea83",
   "metadata": {},
   "outputs": [
    {
     "name": "stdout",
     "output_type": "stream",
     "text": [
      "<xarray.DataArray (band: 73, y: 250, x: 250)>\n",
      "array([[[         nan,          nan,          nan, ...,   0.        ,\n",
      "           3.        ,   3.        ],\n",
      "        [         nan,          nan,          nan, ...,   2.        ,\n",
      "           0.        ,   2.        ],\n",
      "        [         nan,          nan,          nan, ...,   2.        ,\n",
      "           2.        ,   0.        ],\n",
      "        ...,\n",
      "        [         nan,          nan,          nan, ...,   3.        ,\n",
      "           2.        ,   2.        ],\n",
      "        [         nan,          nan,          nan, ...,   2.        ,\n",
      "           2.        ,   2.        ],\n",
      "        [         nan,          nan,          nan, ...,   0.        ,\n",
      "           0.        ,   0.        ]],\n",
      "\n",
      "       [[         nan,          nan,          nan, ..., -25.64995434,\n",
      "         -25.78273973, -25.68885845],\n",
      "        [         nan,          nan,          nan, ..., -25.19223744,\n",
      "         -25.23123288, -25.14986301],\n",
      "        [         nan,          nan,          nan, ..., -22.95424658,\n",
      "         -23.43607306, -23.06821918],\n",
      "...\n",
      "        [         nan,          nan,          nan, ...,   0.9       ,\n",
      "           0.5       ,   0.9       ],\n",
      "        [         nan,          nan,          nan, ...,   0.9       ,\n",
      "           0.9       ,   1.        ],\n",
      "        [         nan,          nan,          nan, ...,   1.1       ,\n",
      "           1.        ,   0.8       ]],\n",
      "\n",
      "       [[         nan,          nan,          nan, ...,   0.6       ,\n",
      "           0.4       ,   0.5       ],\n",
      "        [         nan,          nan,          nan, ...,   0.6       ,\n",
      "           0.6       ,   0.5       ],\n",
      "        [         nan,          nan,          nan, ...,   1.1       ,\n",
      "           0.6       ,   0.5       ],\n",
      "        ...,\n",
      "        [         nan,          nan,          nan, ...,   0.6       ,\n",
      "           0.7       ,   0.5       ],\n",
      "        [         nan,          nan,          nan, ...,   0.7       ,\n",
      "           0.8       ,   0.6       ],\n",
      "        [         nan,          nan,          nan, ...,   0.7       ,\n",
      "           0.7       ,   1.        ]]])\n",
      "Coordinates:\n",
      "  * y        (y) float64 6.855e+06 6.855e+06 6.855e+06 ... 6.85e+06 6.85e+06\n",
      "  * x        (x) float64 7.935e+06 7.935e+06 7.935e+06 ... 7.94e+06 7.94e+06\n",
      "  * band     (band) object 'exception_label' 'ref_mean' ... 'MAD_2020'\n",
      "Attributes:\n",
      "    filename:            /project/return/Share/mm/S1_SA_TEST_UPSCALE/TILE_WIS...\n",
      "    _data_are_separate:  0\n",
      "    _data_are_stacked:   0\n"
     ]
    }
   ],
   "source": [
    "with gw.open(filename=df_ncFiles.path[0], mosaic=True, netcdf_vars=varSet1, bounds_by='union') as src:\n",
    "    print(src)"
   ]
  },
  {
   "cell_type": "code",
   "execution_count": 20,
   "id": "7007a400-57ec-43f7-a235-e9bb71afa66c",
   "metadata": {},
   "outputs": [
    {
     "data": {
      "text/plain": [
       "'/project/return/Share/mm/S1_SA_TEST_UPSCALE/TILE_WISE/AOI_PA/E078N066T3/10_28/E078N066T3_9_27_250_D141_VH.nc'"
      ]
     },
     "execution_count": 20,
     "metadata": {},
     "output_type": "execute_result"
    }
   ],
   "source": [
    "df_ncFiles.path[0]"
   ]
  },
  {
   "cell_type": "code",
   "execution_count": null,
   "id": "cb1480b4-7fbf-4c25-8869-27b49b305839",
   "metadata": {},
   "outputs": [],
   "source": []
  }
 ],
 "metadata": {
  "kernelspec": {
   "display_name": "geoWombat",
   "language": "python",
   "name": "geowombat"
  },
  "language_info": {
   "codemirror_mode": {
    "name": "ipython",
    "version": 3
   },
   "file_extension": ".py",
   "mimetype": "text/x-python",
   "name": "python",
   "nbconvert_exporter": "python",
   "pygments_lexer": "ipython3",
   "version": "3.10.9"
  }
 },
 "nbformat": 4,
 "nbformat_minor": 5
}
