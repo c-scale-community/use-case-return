{
 "cells": [
  {
   "cell_type": "markdown",
   "id": "006217e4-3993-4c5e-8750-b0832b338e8a",
   "metadata": {
    "tags": []
   },
   "source": [
    "## simple debug setup"
   ]
  },
  {
   "cell_type": "code",
   "execution_count": 33,
   "id": "0d731dd9-1564-4b80-ad7c-5d27e6c921df",
   "metadata": {},
   "outputs": [],
   "source": [
    "import os\n",
    "import xarray as xr\n",
    "import rioxarray\n",
    "from rioxarray.merge import merge_datasets, merge_arrays\n",
    "import numpy as np\n",
    "import geopandas as gpd\n",
    "import pandas as pd\n",
    "#\n",
    "from sklearn.preprocessing import MinMaxScaler\n",
    "#\n",
    "import matplotlib.pyplot as plt\n",
    "#\n",
    "#%matplotlib widget\n",
    "#%matplotlib inline"
   ]
  },
  {
   "cell_type": "markdown",
   "id": "61420dda-c56e-46ec-8b03-80487e6ad265",
   "metadata": {},
   "source": [
    "Set the tile, orbit, and polarisation to read:"
   ]
  },
  {
   "cell_type": "code",
   "execution_count": 44,
   "id": "8ed5f29e-dea4-428c-8b10-16b6b0eb9e25",
   "metadata": {},
   "outputs": [],
   "source": [
    "#myTile = 'E066N060T3' # Rondonia\n",
    "#myOrbit = 'D156' # Rondonia\n",
    "#\n",
    "myTile = 'E078N066T3' # Para\n",
    "myOrbit = 'D039' # Para\n",
    "#\n",
    "myPol = 'VH'"
   ]
  },
  {
   "cell_type": "code",
   "execution_count": 55,
   "id": "35640ad7-4975-4827-b2b2-845d8370ca71",
   "metadata": {},
   "outputs": [],
   "source": [
    "# set the folter wih the output files:\n",
    "data_folder = r'/project/return/Share/mm/S1_SA_TEST_UPSCALE/TILE_WISE/AOI_PA/' +  myTile "
   ]
  },
  {
   "cell_type": "code",
   "execution_count": 56,
   "id": "e95c314c-d327-4a52-aecc-f619b4b16b38",
   "metadata": {},
   "outputs": [],
   "source": [
    "# Equi7 SA wkt:\n",
    "PROJ = 'PROJCS[\"Azimuthal_Equidistant\",GEOGCS[\"GCS_WGS_1984\",DATUM[\"D_WGS_1984\",SPHEROID[\"WGS_1984\",6378137.0,298.257223563]],PRIMEM[\"Greenwich\",0.0],UNIT[\"Degree\",0.017453292519943295]],PROJECTION[\"Azimuthal_Equidistant\"],PARAMETER[\"false_easting\",7257179.23559],PARAMETER[\"false_northing\",5592024.44605],PARAMETER[\"central_meridian\",-60.5],PARAMETER[\"latitude_of_origin\",-14.0],UNIT[\"Meter\",1.0]]'"
   ]
  },
  {
   "cell_type": "code",
   "execution_count": 77,
   "id": "9b68e092-3b8f-4df2-88d9-b527584b5fcb",
   "metadata": {},
   "outputs": [],
   "source": [
    "# read multiple ckunks:\n",
    "ChunkDatasetList = []\n",
    "# set the rwos and columns:\n",
    "#myCols, myRows = np.meshgrid(np.arange(34, 38), np.arange(42, 46)) # Rondonia\n",
    "myCols, myRows = np.meshgrid(np.arange(20, 21), np.arange(36, 37)) # Para\n",
    "# read each one\n",
    "for myRow, myCol in zip(myRows.flatten(), myCols.flatten()):\n",
    "    # set filename:\n",
    "    fileName = myTile + '_' + str(myRow) + '_' + str(myCol) + '_250_' + myOrbit + '_'+ myPol + '.nc'\n",
    "    folder_name = str(myRow + 1) + '_' + str(myCol + 1)\n",
    "    if os.path.exists(os.path.join(data_folder, folder_name, fileName)):\n",
    "        aux_ds = rioxarray.open_rasterio(os.path.join(data_folder, folder_name, fileName))\n",
    "        # set crs:\n",
    "        aux_ds.rio.write_crs(PROJ, inplace=True)\n",
    "        ChunkDatasetList.append(aux_ds)      "
   ]
  },
  {
   "cell_type": "code",
   "execution_count": 78,
   "id": "9effc3e4-f473-4284-beed-34c6004a3309",
   "metadata": {},
   "outputs": [],
   "source": [
    "# mearge chanks spatialy:\n",
    "my_out = merge_datasets(ChunkDatasetList)   "
   ]
  },
  {
   "cell_type": "markdown",
   "id": "1a7ce4ba-8dee-48ac-a3c8-2fef3c2cbf8b",
   "metadata": {},
   "source": [
    "Read forest age and LULC data:"
   ]
  },
  {
   "cell_type": "code",
   "execution_count": 79,
   "id": "d27fd526-5b4e-4c98-9edb-30a604ff2de4",
   "metadata": {},
   "outputs": [],
   "source": [
    "# fileName2 = r'myforAgeLCLU_2017_2020_equi7_E066N060T3_20m.tif' # Rondonia\n",
    "fileName2 = r'myforAgeLCLU_2017_2020_equi7_E078N066T3_20m.tif' # Para\n",
    "forAgeLULC = rioxarray.open_rasterio(fileName2, band_as_variable=True)\n",
    "# convert to dataset:\n",
    "forAgeLULC_ds = forAgeLULC.to_dataset('band').rename({1: 'forAge2017', 2: 'lulc2018', 3: 'lulc2019', 4: 'forAge2020', 5: 'ECO_ID'})"
   ]
  },
  {
   "cell_type": "markdown",
   "id": "653511dc-c627-4126-9c74-f7fa5838760d",
   "metadata": {},
   "source": [
    "Correct coordinates (temporary soluton!!!)"
   ]
  },
  {
   "cell_type": "code",
   "execution_count": 80,
   "id": "6d9fd399-a18c-4617-8315-b6073a9c5e4f",
   "metadata": {},
   "outputs": [],
   "source": [
    "forAgeLULC_ds = forAgeLULC_ds.assign_coords(x=forAgeLULC_ds.x - 10 )"
   ]
  },
  {
   "cell_type": "code",
   "execution_count": 81,
   "id": "fd449ba8-b884-49f7-963e-d3baf3650cef",
   "metadata": {},
   "outputs": [],
   "source": [
    "forAgeLULC_ds = forAgeLULC_ds.assign_coords(y=forAgeLULC_ds.y + 10 )"
   ]
  },
  {
   "cell_type": "markdown",
   "id": "f5d1b479-10a2-4205-8012-f91bef5ce07d",
   "metadata": {},
   "source": [
    "Join datasets and clip forAgeLCLU to my_out coordinates:"
   ]
  },
  {
   "cell_type": "code",
   "execution_count": 82,
   "id": "76b262ce-3af7-42a7-a782-94abe882bb5a",
   "metadata": {},
   "outputs": [],
   "source": [
    "all_ds = xr.merge([my_out.isel(band=0, drop=True), forAgeLULC_ds], join='inner') "
   ]
  },
  {
   "cell_type": "markdown",
   "id": "48afc77b-f7bc-4b60-bdd9-7f5d23af4843",
   "metadata": {},
   "source": [
    "## Add annual statistics"
   ]
  },
  {
   "cell_type": "code",
   "execution_count": 83,
   "id": "ca0241b2-e82c-4fb4-8f2a-71c1312b46d8",
   "metadata": {},
   "outputs": [],
   "source": [
    "# Add the combined annual statistics:\n",
    "all_ds['qDiff_2017'] = all_ds['q90_2017'] - all_ds['q10_2017']\n",
    "all_ds['dRange_2017'] = all_ds['max_2017'] - all_ds['min_2017']\n",
    "all_ds['iqRange_2017'] = all_ds['q75_2017'] - all_ds['q25_2017']"
   ]
  },
  {
   "cell_type": "code",
   "execution_count": 84,
   "id": "e463722b-9a8c-4c5d-aca0-63735a3c604c",
   "metadata": {},
   "outputs": [],
   "source": [
    "# set the relevant statistics:\n",
    "myStatnames = ['mean_2017', 'median_2017', 'std_2017', 'MAD_2017', 'dRange_2017', 'qDiff_2017', 'iqRange_2017', 'forAge2017']\n",
    "# mearge the arrays into new dataset:\n",
    "my_ds = all_ds[myStatnames]"
   ]
  },
  {
   "cell_type": "code",
   "execution_count": 85,
   "id": "aff79a04-706e-41c8-86cd-b237d23db779",
   "metadata": {},
   "outputs": [],
   "source": [
    "# select secondary and OLD forest and convert to pandas data frame\n",
    "my_df = my_ds.where((my_ds['forAge2017'] > 0) | (my_ds['forAge2017'] == 50)).to_dataframe()\n",
    "# drop unneccery data:\n",
    "my_df.drop(columns='spatial_ref', inplace=True)\n",
    "my_df.dropna(subset=['forAge2017'], inplace=True)"
   ]
  },
  {
   "cell_type": "markdown",
   "id": "0bba30c0-8ca8-42bb-9d6e-0a9657637d76",
   "metadata": {},
   "source": [
    "## Split Old forest in negative age classes:"
   ]
  },
  {
   "cell_type": "code",
   "execution_count": 86,
   "id": "782878bb-1e51-4690-8cab-4827026d7fea",
   "metadata": {},
   "outputs": [],
   "source": [
    "# get secondary forest pixels\n",
    "my_df_secFor = my_ds.where((my_ds['forAge2017'] > 0) & (my_ds['forAge2017'] < 50)).to_dataframe()\n",
    "my_df_secFor.drop(columns='spatial_ref', inplace=True)\n",
    "my_df_secFor.dropna(subset=['forAge2017'], inplace=True)\n",
    "# get old forest pixels:\n",
    "my_df_oldFor = my_ds.where(my_ds['forAge2017'] == 50).to_dataframe()\n",
    "my_df_oldFor.drop(columns='spatial_ref', inplace=True)\n",
    "my_df_oldFor.dropna(subset=['forAge2017'], inplace=True)"
   ]
  },
  {
   "cell_type": "code",
   "execution_count": 87,
   "id": "21bbe44b-9978-44a0-9dbf-64fdc24e4fdb",
   "metadata": {},
   "outputs": [],
   "source": [
    "# get the number of secFor pixels per age\n",
    "secFor_count = my_df_secFor.groupby(by='forAge2017').count()\n",
    "# get the average num of secFor pixels in 5 largest ages:\n",
    "myPixNum = np.int32(np.floor(np.mean(secFor_count.mean_2017.nlargest(5).values)))"
   ]
  },
  {
   "cell_type": "code",
   "execution_count": 88,
   "id": "ff927ac9-0b90-452f-a72d-8d9b7040c85f",
   "metadata": {},
   "outputs": [],
   "source": [
    "my_df_oldFor.reset_index().to_csv('oldForest_row_36_col_20_E078N066T3_VH_D039.csv')"
   ]
  },
  {
   "cell_type": "code",
   "execution_count": 89,
   "id": "ff2b2d88-10c2-428e-97f3-1b3383c50913",
   "metadata": {},
   "outputs": [],
   "source": [
    "my_df_secFor.reset_index().to_csv('secForest_row_36_col_20_E078N066T3_VH_D039.csv')"
   ]
  },
  {
   "cell_type": "markdown",
   "id": "485c965d-da46-4a47-b6d0-f58c60a402af",
   "metadata": {},
   "source": [
    "# Feature space conversion:"
   ]
  },
  {
   "cell_type": "code",
   "execution_count": null,
   "id": "5e273af7-acce-46e4-945a-6d1b04dc5830",
   "metadata": {},
   "outputs": [],
   "source": [
    "my_refData = my_df_oldFor.reset_index()"
   ]
  },
  {
   "cell_type": "code",
   "execution_count": null,
   "id": "e3aadf57-4308-4889-aea8-1a0dc0c7dfb3",
   "metadata": {},
   "outputs": [],
   "source": [
    "#my_refData.drop(columns=['index', 'y', 'x', 'forAge2017'], inplace=True)\n",
    "my_refData.drop(columns=['y', 'x', 'forAge2017'], inplace=True)"
   ]
  },
  {
   "cell_type": "code",
   "execution_count": null,
   "id": "bb82292d-af0c-47c2-8847-bf52b8cce78c",
   "metadata": {},
   "outputs": [],
   "source": [
    "# get the mean of the refernce data\n",
    "myRef_mean = my_refData.mean()\n",
    "myRef_mean['forAge2017'] = 0"
   ]
  },
  {
   "cell_type": "code",
   "execution_count": null,
   "id": "e8c37e83-0d91-4838-a2b1-56e6880c9c2a",
   "metadata": {},
   "outputs": [],
   "source": [
    "myRef_mean"
   ]
  },
  {
   "cell_type": "code",
   "execution_count": null,
   "id": "d7e7b472-f8b7-473c-87e2-2f785ccf8ba2",
   "metadata": {},
   "outputs": [],
   "source": [
    "my_df_secFor"
   ]
  },
  {
   "cell_type": "code",
   "execution_count": null,
   "id": "6fe2462a-5a1b-44d6-99b8-08dc31ca91ae",
   "metadata": {},
   "outputs": [],
   "source": [
    "# get the mean of the secFor data:\n",
    "my_df_secFor = my_df_secFor.reset_index()\n",
    "secFor_mean = my_df_secFor.groupby(by='forAge2017').mean()\n",
    "my_secForData = secFor_mean.drop(columns=['y', 'x'])"
   ]
  },
  {
   "cell_type": "code",
   "execution_count": null,
   "id": "73597410-bca7-4893-9d0d-d2476876a0ce",
   "metadata": {},
   "outputs": [],
   "source": [
    "my_Data = my_secForData.reset_index().append(myRef_mean, ignore_index=True)"
   ]
  },
  {
   "cell_type": "code",
   "execution_count": null,
   "id": "92d73a45-6acd-4713-93b5-db05929148c3",
   "metadata": {},
   "outputs": [],
   "source": [
    "ref = my_Data[my_Data.forAge2017==0].drop(columns=['forAge2017']).values"
   ]
  },
  {
   "cell_type": "code",
   "execution_count": null,
   "id": "87336f2f-0be6-4eda-b2e9-3a27136a3b37",
   "metadata": {},
   "outputs": [],
   "source": [
    "euqlidianDist = my_Data.drop(columns=['forAge2017']).apply(lambda row: np.linalg.norm(row-ref), axis=1, raw=True)"
   ]
  },
  {
   "cell_type": "code",
   "execution_count": null,
   "id": "f0a1aecd-418d-4b0c-83e7-7bbfab023396",
   "metadata": {},
   "outputs": [],
   "source": [
    "my_Data['Dist'] = euqlidianDist"
   ]
  },
  {
   "cell_type": "code",
   "execution_count": null,
   "id": "9ff85c52-3d17-4dd6-873b-1ddfd8ffca35",
   "metadata": {},
   "outputs": [],
   "source": [
    "my_Data[my_Data.forAge2017>0].plot(x='forAge2017', y='Dist', style='bo-')"
   ]
  },
  {
   "cell_type": "markdown",
   "id": "077e4c12-10d1-4433-bb97-c83b0a8c1e23",
   "metadata": {},
   "source": [
    "## get the standard error:"
   ]
  },
  {
   "cell_type": "code",
   "execution_count": null,
   "id": "3a6d2dc1-7923-4308-a8d1-5574a3e5fcc8",
   "metadata": {},
   "outputs": [],
   "source": [
    "secFor_count.iqRange_2017"
   ]
  },
  {
   "cell_type": "code",
   "execution_count": null,
   "id": "df76c428-831d-4198-81ae-e8da7c7e72a5",
   "metadata": {},
   "outputs": [],
   "source": [
    "secFor_SE = my_df_secFor.groupby(by='forAge2017').std()"
   ]
  },
  {
   "cell_type": "code",
   "execution_count": null,
   "id": "43e4e179-9fac-4c45-b4b0-ab827f50cf85",
   "metadata": {},
   "outputs": [],
   "source": [
    "secFor_SE"
   ]
  },
  {
   "cell_type": "markdown",
   "id": "2bcf1cb8-336f-4165-ae42-c7716beb67ab",
   "metadata": {},
   "source": [
    "## Scale the data"
   ]
  },
  {
   "cell_type": "code",
   "execution_count": null,
   "id": "b4a75b56-4023-45f4-a492-b3af07a1db2b",
   "metadata": {},
   "outputs": [],
   "source": [
    "# make a copy of the data witout the exsisting distance:\n",
    "my_Data_v2 = my_Data.drop(columns=['Dist', 'forAge2017']).copy()"
   ]
  },
  {
   "cell_type": "code",
   "execution_count": null,
   "id": "f97f3eea-84b7-479d-9900-250d2de40f33",
   "metadata": {},
   "outputs": [],
   "source": [
    "my_norm = MinMaxScaler().fit(my_Data_v2)"
   ]
  },
  {
   "cell_type": "code",
   "execution_count": null,
   "id": "513308b5-7e6d-4be1-91b3-b4919fec14b6",
   "metadata": {},
   "outputs": [],
   "source": [
    "# get the normalized columns as nd array:\n",
    "aux_norm = my_norm.transform(my_Data_v2)"
   ]
  },
  {
   "cell_type": "code",
   "execution_count": null,
   "id": "9faac959-148e-410a-8fed-93ad4daa016c",
   "metadata": {},
   "outputs": [],
   "source": [
    "my_Data_scaled = pd.DataFrame(aux_norm, columns=my_Data_v2.columns)"
   ]
  },
  {
   "cell_type": "code",
   "execution_count": null,
   "id": "6b29b4f8-aa78-443a-9845-19f8dfcfed6b",
   "metadata": {},
   "outputs": [],
   "source": [
    "norDist = my_Data_scaled.apply(lambda row: np.linalg.norm(row-ref), axis=1, raw=True)"
   ]
  },
  {
   "cell_type": "code",
   "execution_count": null,
   "id": "21c3ea06-1d4a-40a7-b77c-a5ff3a320167",
   "metadata": {},
   "outputs": [],
   "source": [
    "# return back the data\n",
    "my_Data_scaled['forAge2017'] = my_Data['forAge2017'].values\n",
    "my_Data_scaled['Dist'] = my_Data['Dist'].values\n",
    "my_Data_scaled['norDist'] = norDist"
   ]
  },
  {
   "cell_type": "code",
   "execution_count": null,
   "id": "d1cf6096-9622-4a8d-abb5-cc9f65a11c64",
   "metadata": {},
   "outputs": [],
   "source": [
    "my_Data_scaled[my_Data_scaled.forAge2017>0].plot(x='forAge2017', y='norDist', style='bo-')"
   ]
  }
 ],
 "metadata": {
  "kernelspec": {
   "display_name": "Python 3 (ipykernel)",
   "language": "python",
   "name": "python3"
  },
  "language_info": {
   "codemirror_mode": {
    "name": "ipython",
    "version": 3
   },
   "file_extension": ".py",
   "mimetype": "text/x-python",
   "name": "python",
   "nbconvert_exporter": "python",
   "pygments_lexer": "ipython3",
   "version": "3.7.13"
  }
 },
 "nbformat": 4,
 "nbformat_minor": 5
}
