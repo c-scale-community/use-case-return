{
 "cells": [
  {
   "cell_type": "markdown",
   "id": "006217e4-3993-4c5e-8750-b0832b338e8a",
   "metadata": {
    "tags": []
   },
   "source": [
    "## Reduce a S1 datacube along temporal axis to a raster"
   ]
  },
  {
   "cell_type": "code",
   "execution_count": 1,
   "id": "e23bdd37-cf3e-4e9a-bca1-de32d6dd377c",
   "metadata": {},
   "outputs": [],
   "source": [
    "import numpy as np\n",
    "import os, osr, glob\n",
    "import matplotlib.pyplot as plt\n",
    "%matplotlib inline\n",
    "from datetime import datetime\n",
    "import pandas as pd\n",
    "# import TUW packages\n",
    "from yeoda.products.preprocessed import SIG0DataCube\n",
    "from geopathfinder.naming_conventions.yeoda_naming import YeodaFilename"
   ]
  },
  {
   "cell_type": "markdown",
   "id": "159432e4-83fc-4206-8f51-794c4c18bc41",
   "metadata": {
    "jp-MarkdownHeadingCollapsed": true,
    "tags": []
   },
   "source": [
    "Specify the folder with a S1 datacube (a 300x300 m<sup>2</sup> Equi7Tile)"
   ]
  },
  {
   "cell_type": "code",
   "execution_count": 2,
   "id": "442ec10a-a468-440d-aee3-ec9e61e0e3d4",
   "metadata": {},
   "outputs": [],
   "source": [
    "#tile_dirpath = r'/project/return/Share/EODC_SA020M/V01R01/E051N060T3'\n",
    "tile_dirpath = r'/project/return/Share/EODC_SA020M/V01R01/E078N066T3'\n",
    "# specify other parameters:\n",
    "dimensions=['time', 'band', 'extra_field', 'sensor_field']\n",
    "filepaths = glob.glob(os.path.join(tile_dirpath,'*.tif'))"
   ]
  },
  {
   "cell_type": "markdown",
   "id": "8ba7deec-4470-49ad-b2a9-5621a3128955",
   "metadata": {},
   "source": [
    "Read the datacube:"
   ]
  },
  {
   "cell_type": "code",
   "execution_count": 3,
   "id": "f3c93138-71b3-4590-b847-eb57d6812bdd",
   "metadata": {
    "tags": []
   },
   "outputs": [
    {
     "data": {
      "text/html": [
       "<div>\n",
       "<style scoped>\n",
       "    .dataframe tbody tr th:only-of-type {\n",
       "        vertical-align: middle;\n",
       "    }\n",
       "\n",
       "    .dataframe tbody tr th {\n",
       "        vertical-align: top;\n",
       "    }\n",
       "\n",
       "    .dataframe thead th {\n",
       "        text-align: right;\n",
       "    }\n",
       "</style>\n",
       "<table border=\"1\" class=\"dataframe\">\n",
       "  <thead>\n",
       "    <tr style=\"text-align: right;\">\n",
       "      <th></th>\n",
       "      <th>time</th>\n",
       "      <th>band</th>\n",
       "      <th>extra_field</th>\n",
       "      <th>sensor_field</th>\n",
       "      <th>var_name</th>\n",
       "      <th>tile_name</th>\n",
       "    </tr>\n",
       "  </thead>\n",
       "  <tbody>\n",
       "    <tr>\n",
       "      <th>0</th>\n",
       "      <td>2019-09-24 09:22:59</td>\n",
       "      <td>VH</td>\n",
       "      <td>D039</td>\n",
       "      <td>S1AIWGRDH</td>\n",
       "      <td>SIG0</td>\n",
       "      <td>E078N066T3</td>\n",
       "    </tr>\n",
       "    <tr>\n",
       "      <th>1</th>\n",
       "      <td>2020-11-18 09:14:33</td>\n",
       "      <td>VH</td>\n",
       "      <td>D141</td>\n",
       "      <td>S1B</td>\n",
       "      <td>SIG0</td>\n",
       "      <td>E078N066T3</td>\n",
       "    </tr>\n",
       "    <tr>\n",
       "      <th>2</th>\n",
       "      <td>2020-06-21 09:15:13</td>\n",
       "      <td>VV</td>\n",
       "      <td>D141</td>\n",
       "      <td>S1A</td>\n",
       "      <td>SIG0</td>\n",
       "      <td>E078N066T3</td>\n",
       "    </tr>\n",
       "    <tr>\n",
       "      <th>3</th>\n",
       "      <td>2019-02-03 09:14:37</td>\n",
       "      <td>VV</td>\n",
       "      <td>D141</td>\n",
       "      <td>S1AIWGRDH</td>\n",
       "      <td>SIG0</td>\n",
       "      <td>E078N066T3</td>\n",
       "    </tr>\n",
       "    <tr>\n",
       "      <th>4</th>\n",
       "      <td>2019-02-08 09:23:15</td>\n",
       "      <td>VH</td>\n",
       "      <td>D039</td>\n",
       "      <td>S1AIWGRDH</td>\n",
       "      <td>SIG0</td>\n",
       "      <td>E078N066T3</td>\n",
       "    </tr>\n",
       "  </tbody>\n",
       "</table>\n",
       "</div>"
      ],
      "text/plain": [
       "                 time band extra_field sensor_field var_name   tile_name\n",
       "0 2019-09-24 09:22:59   VH        D039    S1AIWGRDH     SIG0  E078N066T3\n",
       "1 2020-11-18 09:14:33   VH        D141          S1B     SIG0  E078N066T3\n",
       "2 2020-06-21 09:15:13   VV        D141          S1A     SIG0  E078N066T3\n",
       "3 2019-02-03 09:14:37   VV        D141    S1AIWGRDH     SIG0  E078N066T3\n",
       "4 2019-02-08 09:23:15   VH        D039    S1AIWGRDH     SIG0  E078N066T3"
      ]
     },
     "execution_count": 3,
     "metadata": {},
     "output_type": "execute_result"
    }
   ],
   "source": [
    "sig0_dc = SIG0DataCube(filepaths=filepaths, dimensions=dimensions, filename_class=YeodaFilename, sres=20, continent='SA')\n",
    "# get info:\n",
    "sig0_dc.inventory[dimensions].head(5)"
   ]
  },
  {
   "cell_type": "markdown",
   "id": "bc0bb1be-e006-4ce6-9638-a6c4d7189dac",
   "metadata": {},
   "source": [
    "Filter by date:"
   ]
  },
  {
   "cell_type": "code",
   "execution_count": 4,
   "id": "83f16e0d-9aa7-4788-8f51-98e5da2bf39f",
   "metadata": {
    "tags": []
   },
   "outputs": [
    {
     "data": {
      "text/plain": [
       "                                              filepath                time  \\\n",
       "0    /project/return/Share/EODC_SA020M/V01R01/E078N... 2019-09-24 09:22:59   \n",
       "1    /project/return/Share/EODC_SA020M/V01R01/E078N... 2020-11-18 09:14:33   \n",
       "2    /project/return/Share/EODC_SA020M/V01R01/E078N... 2020-06-21 09:15:13   \n",
       "3    /project/return/Share/EODC_SA020M/V01R01/E078N... 2019-02-03 09:14:37   \n",
       "4    /project/return/Share/EODC_SA020M/V01R01/E078N... 2019-02-08 09:23:15   \n",
       "..                                                 ...                 ...   \n",
       "941  /project/return/Share/EODC_SA020M/V01R01/E078N... 2020-04-03 09:22:32   \n",
       "942  /project/return/Share/EODC_SA020M/V01R01/E078N... 2020-06-09 09:15:12   \n",
       "943  /project/return/Share/EODC_SA020M/V01R01/E078N... 2020-10-21 22:05:48   \n",
       "944  /project/return/Share/EODC_SA020M/V01R01/E078N... 2020-08-20 09:14:26   \n",
       "945  /project/return/Share/EODC_SA020M/V01R01/E078N... 2020-02-03 09:23:22   \n",
       "\n",
       "    band extra_field sensor_field var_name   tile_name  \n",
       "0     VH        D039    S1AIWGRDH     SIG0  E078N066T3  \n",
       "1     VH        D141          S1B     SIG0  E078N066T3  \n",
       "2     VV        D141          S1A     SIG0  E078N066T3  \n",
       "3     VV        D141    S1AIWGRDH     SIG0  E078N066T3  \n",
       "4     VH        D039    S1AIWGRDH     SIG0  E078N066T3  \n",
       "..   ...         ...          ...      ...         ...  \n",
       "941   VH        D039          S1A     SIG0  E078N066T3  \n",
       "942   VV        D141          S1A     SIG0  E078N066T3  \n",
       "943   VH        A090          S1B     SIG0  E078N066T3  \n",
       "944   VH        D141          S1A     SIG0  E078N066T3  \n",
       "945   VH        D039          S1A     SIG0  E078N066T3  \n",
       "\n",
       "[946 rows x 7 columns]"
      ]
     },
     "execution_count": 4,
     "metadata": {},
     "output_type": "execute_result"
    }
   ],
   "source": [
    "toi_start, toi_end = datetime(2017, 1, 1), datetime(2022, 1, 1)\n",
    "sig0_dc.filter_by_dimension([(toi_start, toi_end)], [(\">\", \"<\")], name=\"time\", inplace=True)"
   ]
  },
  {
   "cell_type": "markdown",
   "id": "f08e68ab-34ee-40f7-a290-5571de6576c0",
   "metadata": {},
   "source": [
    "Select bands:"
   ]
  },
  {
   "cell_type": "code",
   "execution_count": 5,
   "id": "01018726-e009-4296-8b7f-d5499d7aaff8",
   "metadata": {},
   "outputs": [],
   "source": [
    "sig0_vv_dc = sig0_dc.filter_by_dimension('VV', name='band')\n",
    "sig0_vh_dc = sig0_dc.filter_by_dimension('VH', name='band')"
   ]
  },
  {
   "cell_type": "markdown",
   "id": "5be7563e-3f96-4322-862e-07456b4027ca",
   "metadata": {},
   "source": [
    "Get the datacube geomery"
   ]
  },
  {
   "cell_type": "code",
   "execution_count": 6,
   "id": "889096df-2cf7-4641-aff2-6f524b9702ba",
   "metadata": {},
   "outputs": [
    {
     "data": {
      "text/plain": [
       "(15000, 15000)"
      ]
     },
     "execution_count": 6,
     "metadata": {},
     "output_type": "execute_result"
    }
   ],
   "source": [
    "sig0_vv_dc.raster_geometry.shape"
   ]
  },
  {
   "cell_type": "markdown",
   "id": "3d873821-2415-4394-822a-bb4d4f8ce857",
   "metadata": {},
   "source": [
    "Load data "
   ]
  },
  {
   "cell_type": "code",
   "execution_count": 32,
   "id": "97692034-acdf-4f6f-be7c-272e5e24a25d",
   "metadata": {},
   "outputs": [
    {
     "name": "stdout",
     "output_type": "stream",
     "text": [
      "<xarray.Dataset>\n",
      "Dimensions:  (time: 473, y: 50, x: 50)\n",
      "Coordinates:\n",
      "  * time     (time) datetime64[ns] 2020-06-21T09:15:13 ... 2020-06-09T09:15:12\n",
      "  * y        (y) float64 6.88e+06 6.88e+06 6.88e+06 ... 6.879e+06 6.879e+06\n",
      "  * x        (x) float64 7.82e+06 7.82e+06 7.82e+06 ... 7.821e+06 7.821e+06\n",
      "Data variables:\n",
      "    1        (time, y, x) float64 nan nan nan nan nan ... nan nan nan nan nan\n"
     ]
    }
   ],
   "source": [
    "sig0_vv_dc_chunk1 = sig0_vv_dc.load_by_pixels(1000, 1000, row_size=500, col_size=50, dtype='xarray')\n",
    "print(sig0_vv_dc_chunk1)"
   ]
  },
  {
   "cell_type": "markdown",
   "id": "dc9f3403-168b-4f47-8349-20c22b4c331e",
   "metadata": {},
   "source": [
    "Get the in-memory size "
   ]
  },
  {
   "cell_type": "code",
   "execution_count": 33,
   "id": "3652f609-6ab6-42dc-9d63-f385e92359e4",
   "metadata": {},
   "outputs": [
    {
     "name": "stdout",
     "output_type": "stream",
     "text": [
      "Datacube size in memory is: 9.0 MB\n"
     ]
    }
   ],
   "source": [
    "print('Datacube size in memory is:', np.round(sig0_vv_dc_chunk1.nbytes/(1024*1024), 1), 'MB')"
   ]
  },
  {
   "cell_type": "markdown",
   "id": "024ef13d-bfe6-44b0-9f0c-a8e941f3e9c0",
   "metadata": {},
   "source": [
    "Rename the variavle"
   ]
  },
  {
   "cell_type": "code",
   "execution_count": 34,
   "id": "b952d80e-9a40-40d0-882c-4426d83abe2c",
   "metadata": {},
   "outputs": [],
   "source": [
    "sig0_vv_dc_chunk1 = sig0_vv_dc_chunk1.rename({'1':'sig0_vv'})"
   ]
  },
  {
   "cell_type": "markdown",
   "id": "82e263f2-4e05-48fd-bba8-9fa0398b9f1b",
   "metadata": {},
   "source": [
    "Get the mean sig0 raster"
   ]
  },
  {
   "cell_type": "code",
   "execution_count": 35,
   "id": "f4c23453-4786-4911-bde8-1650ef2a71e6",
   "metadata": {},
   "outputs": [
    {
     "name": "stdout",
     "output_type": "stream",
     "text": [
      "<xarray.Dataset>\n",
      "Dimensions:  (y: 50, x: 50)\n",
      "Coordinates:\n",
      "  * y        (y) float64 6.88e+06 6.88e+06 6.88e+06 ... 6.879e+06 6.879e+06\n",
      "  * x        (x) float64 7.82e+06 7.82e+06 7.82e+06 ... 7.821e+06 7.821e+06\n",
      "Data variables:\n",
      "    sig0_vv  (y, x) float64 -0.7398 -0.7362 -0.6856 ... -0.9355 -1.016 -0.9306\n"
     ]
    }
   ],
   "source": [
    "sig0_vv_mean = sig0_vv_dc_chunk1.mean(dim='time')\n",
    "# divide the values by 100 to get dBs:\n",
    "sig0_vv_mean = sig0_vv_mean/100.\n",
    "#\n",
    "print(sig0_vv_mean)"
   ]
  },
  {
   "cell_type": "code",
   "execution_count": 36,
   "id": "a86a2bb3-fa80-41c8-a7c8-276d377aa50b",
   "metadata": {},
   "outputs": [
    {
     "name": "stdout",
     "output_type": "stream",
     "text": [
      "Raster size in memory is: 0.0 MB\n"
     ]
    }
   ],
   "source": [
    "print('Raster size in memory is:', np.round(sig0_vv_mean.nbytes/(1024*1024), 1), 'MB')"
   ]
  },
  {
   "cell_type": "code",
   "execution_count": 37,
   "id": "38bcf8e1-ae31-44ca-8486-1a634c29e3d8",
   "metadata": {},
   "outputs": [
    {
     "data": {
      "text/plain": [
       "<matplotlib.collections.QuadMesh at 0x7f49dc78cad0>"
      ]
     },
     "execution_count": 37,
     "metadata": {},
     "output_type": "execute_result"
    },
    {
     "data": {
      "image/png": "[encoded data removed]",
      "text/plain": [
       "<Figure size 432x288 with 2 Axes>"
      ]
     },
     "metadata": {
      "needs_background": "light"
     },
     "output_type": "display_data"
    }
   ],
   "source": [
    "sig0_vv_mean.sig0_vv.plot(vmax=-0.3, cmap='gray', cbar_kwargs={'label': 'Annual mean Sigmma0, VV-Band [dB]'})"
   ]
  },
  {
   "cell_type": "code",
   "execution_count": 38,
   "id": "f96eb392-fd7a-4025-a4f7-bd638e182fd1",
   "metadata": {},
   "outputs": [
    {
     "name": "stdout",
     "output_type": "stream",
     "text": [
      "<xarray.DataArray 'sig0_vv' (time: 473)>\n",
      "array([2500,    0,    0,    0,    0,    0, 2500,    0,    0,    0,    0,\n",
      "          0, 2500,    0,    0,    0,    0,    0, 2500,    0,    0, 2500,\n",
      "          0,    0,    0,    0,    0, 2500,    0,    0,    0,    0,    0,\n",
      "       2500,    0,    0,    0,    0,    0, 2500,    0,    0,    0,    0,\n",
      "          0, 2500,    0,    0,    0,    0,    0, 2500,    0,    0,    0,\n",
      "          0,    0, 2500,    0,    0,    0,    0,    0, 2500,    0,    0,\n",
      "          0,    0,    0, 2500,    0,    0,    0,    0,    0, 2500,    0,\n",
      "          0,    0,    0,    0, 2500,    0,    0,    0,    0,    0, 2500,\n",
      "          0,    0,    0,    0,    0, 2500,    0,    0,    0,    0,    0,\n",
      "       2500,    0,    0,    0,    0,    0,    0, 2500,    0,    0,    0,\n",
      "          0,    0,    0, 2500,    0,    0,    0,    0,    0,    0, 2500,\n",
      "          0,    0,    0,    0,    0,    0, 2500,    0,    0,    0,    0,\n",
      "          0,    0, 2500,    0,    0,    0,    0,    0,    0, 2500,    0,\n",
      "          0,    0,    0,    0, 2500,    0,    0,    0,    0,    0,    0,\n",
      "       2500,    0,    0,    0,    0,    0,    0, 2500,    0,    0,    0,\n",
      "          0,    0,    0, 2500,    0,    0,    0,    0,    0,    0, 2500,\n",
      "          0,    0,    0,    0,    0,    0, 2500,    0,    0,    0,    0,\n",
      "          0,    0, 2500,    0,    0,    0,    0,    0,    0, 2500,    0,\n",
      "          0,    0,    0,    0,    0, 2500,    0,    0,    0,    0,    0,\n",
      "          0, 2500,    0,    0,    0,    0,    0,    0, 2500,    0,    0,\n",
      "...\n",
      "          0,    0,    0,    0,    0,    0,    0,    0, 2500,    0,    0,\n",
      "          0,    0,    0,    0,    0,    0, 2500,    0,    0,    0,    0,\n",
      "          0,    0,    0,    0, 2500,    0,    0,    0,    0,    0,    0,\n",
      "          0,    0, 2500,    0,    0,    0,    0,    0,    0,    0,    0,\n",
      "       2500,    0,    0,    0,    0,    0,    0,    0,    0, 2500,    0,\n",
      "          0,    0,    0,    0,    0,    0,    0, 2500,    0,    0,    0,\n",
      "          0,    0,    0,    0,    0, 2500,    0,    0,    0,    0,    0,\n",
      "          0,    0,    0, 2500,    0,    0,    0,    0,    0,    0,    0,\n",
      "          0, 2500,    0,    0,    0,    0,    0,    0,    0,    0, 2500,\n",
      "          0,    0,    0,    0,    0,    0,    0,    0, 2500,    0,    0,\n",
      "          0,    0,    0,    0,    0,    0, 2500,    0,    0,    0,    0,\n",
      "          0,    0,    0,    0, 2500,    0,    0,    0,    0,    0,    0,\n",
      "          0,    0, 2500,    0,    0,    0,    0,    0,    0,    0,    0,\n",
      "       2500,    0,    0,    0,    0,    0,    0,    0,    0, 2500,    0,\n",
      "          0,    0,    0,    0,    0,    0,    0, 2500,    0,    0,    0,\n",
      "          0,    0,    0,    0,    0, 2500,    0,    0,    0,    0,    0,\n",
      "          0,    0, 2500,    0,    0,    0,    0,    0,    0, 2500,    0,\n",
      "          0,    0,    0,    0,    0, 2500,    0,    0,    0,    0,    0,\n",
      "          0, 2500,    0,    0,    0,    0,    0, 2500,    0,    0,    0,\n",
      "          0,    0,    0,    0,    0,    0,    0,    0,    0,    0,    0])\n",
      "Coordinates:\n",
      "  * time     (time) datetime64[ns] 2019-01-03T09:22:26 ... 2021-10-04T22:05:55\n"
     ]
    }
   ],
   "source": [
    "ds_count = sig0_vv_dc_chunk1.sig0_vv.sortby('time').groupby('time').count(dim=['x', 'y'])\n",
    "print(ds_count)"
   ]
  },
  {
   "cell_type": "code",
   "execution_count": 46,
   "id": "99e0089b-74b1-440c-950c-be5298a2d72e",
   "metadata": {},
   "outputs": [
    {
     "data": {
      "text/html": [
       "<div><svg style=\"position: absolute; width: 0; height: 0; overflow: hidden\">\n",
       "<defs>\n",
       "<symbol id=\"icon-database\" viewBox=\"0 0 32 32\">\n",
       "<path d=\"M16 0c-8.837 0-16 2.239-16 5v4c0 2.761 7.163 5 16 5s16-2.239 16-5v-4c0-2.761-7.163-5-16-5z\"></path>\n",
       "<path d=\"M16 17c-8.837 0-16-2.239-16-5v6c0 2.761 7.163 5 16 5s16-2.239 16-5v-6c0 2.761-7.163 5-16 5z\"></path>\n",
       "<path d=\"M16 26c-8.837 0-16-2.239-16-5v6c0 2.761 7.163 5 16 5s16-2.239 16-5v-6c0 2.761-7.163 5-16 5z\"></path>\n",
       "</symbol>\n",
       "<symbol id=\"icon-file-text2\" viewBox=\"0 0 32 32\">\n",
       "<path d=\"M28.681 7.159c-0.694-0.947-1.662-2.053-2.724-3.116s-2.169-2.030-3.116-2.724c-1.612-1.182-2.393-1.319-2.841-1.319h-15.5c-1.378 0-2.5 1.121-2.5 2.5v27c0 1.378 1.122 2.5 2.5 2.5h23c1.378 0 2.5-1.122 2.5-2.5v-19.5c0-0.448-0.137-1.23-1.319-2.841zM24.543 5.457c0.959 0.959 1.712 1.825 2.268 2.543h-4.811v-4.811c0.718 0.556 1.584 1.309 2.543 2.268zM28 29.5c0 0.271-0.229 0.5-0.5 0.5h-23c-0.271 0-0.5-0.229-0.5-0.5v-27c0-0.271 0.229-0.5 0.5-0.5 0 0 15.499-0 15.5 0v7c0 0.552 0.448 1 1 1h7v19.5z\"></path>\n",
       "<path d=\"M23 26h-14c-0.552 0-1-0.448-1-1s0.448-1 1-1h14c0.552 0 1 0.448 1 1s-0.448 1-1 1z\"></path>\n",
       "<path d=\"M23 22h-14c-0.552 0-1-0.448-1-1s0.448-1 1-1h14c0.552 0 1 0.448 1 1s-0.448 1-1 1z\"></path>\n",
       "<path d=\"M23 18h-14c-0.552 0-1-0.448-1-1s0.448-1 1-1h14c0.552 0 1 0.448 1 1s-0.448 1-1 1z\"></path>\n",
       "</symbol>\n",
       "</defs>\n",
       "</svg>\n",
       "<style>/* CSS stylesheet for displaying xarray objects in jupyterlab.\n",
       " *\n",
       " */\n",
       "\n",
       ":root {\n",
       "  --xr-font-color0: var(--jp-content-font-color0, rgba(0, 0, 0, 1));\n",
       "  --xr-font-color2: var(--jp-content-font-color2, rgba(0, 0, 0, 0.54));\n",
       "  --xr-font-color3: var(--jp-content-font-color3, rgba(0, 0, 0, 0.38));\n",
       "  --xr-border-color: var(--jp-border-color2, #e0e0e0);\n",
       "  --xr-disabled-color: var(--jp-layout-color3, #bdbdbd);\n",
       "  --xr-background-color: var(--jp-layout-color0, white);\n",
       "  --xr-background-color-row-even: var(--jp-layout-color1, white);\n",
       "  --xr-background-color-row-odd: var(--jp-layout-color2, #eeeeee);\n",
       "}\n",
       "\n",
       "html[theme=dark],\n",
       "body.vscode-dark {\n",
       "  --xr-font-color0: rgba(255, 255, 255, 1);\n",
       "  --xr-font-color2: rgba(255, 255, 255, 0.54);\n",
       "  --xr-font-color3: rgba(255, 255, 255, 0.38);\n",
       "  --xr-border-color: #1F1F1F;\n",
       "  --xr-disabled-color: #515151;\n",
       "  --xr-background-color: #111111;\n",
       "  --xr-background-color-row-even: #111111;\n",
       "  --xr-background-color-row-odd: #313131;\n",
       "}\n",
       "\n",
       ".xr-wrap {\n",
       "  display: block !important;\n",
       "  min-width: 300px;\n",
       "  max-width: 700px;\n",
       "}\n",
       "\n",
       ".xr-text-repr-fallback {\n",
       "  /* fallback to plain text repr when CSS is not injected (untrusted notebook) */\n",
       "  display: none;\n",
       "}\n",
       "\n",
       ".xr-header {\n",
       "  padding-top: 6px;\n",
       "  padding-bottom: 6px;\n",
       "  margin-bottom: 4px;\n",
       "  border-bottom: solid 1px var(--xr-border-color);\n",
       "}\n",
       "\n",
       ".xr-header > div,\n",
       ".xr-header > ul {\n",
       "  display: inline;\n",
       "  margin-top: 0;\n",
       "  margin-bottom: 0;\n",
       "}\n",
       "\n",
       ".xr-obj-type,\n",
       ".xr-array-name {\n",
       "  margin-left: 2px;\n",
       "  margin-right: 10px;\n",
       "}\n",
       "\n",
       ".xr-obj-type {\n",
       "  color: var(--xr-font-color2);\n",
       "}\n",
       "\n",
       ".xr-sections {\n",
       "  padding-left: 0 !important;\n",
       "  display: grid;\n",
       "  grid-template-columns: 150px auto auto 1fr 20px 20px;\n",
       "}\n",
       "\n",
       ".xr-section-item {\n",
       "  display: contents;\n",
       "}\n",
       "\n",
       ".xr-section-item input {\n",
       "  display: none;\n",
       "}\n",
       "\n",
       ".xr-section-item input + label {\n",
       "  color: var(--xr-disabled-color);\n",
       "}\n",
       "\n",
       ".xr-section-item input:enabled + label {\n",
       "  cursor: pointer;\n",
       "  color: var(--xr-font-color2);\n",
       "}\n",
       "\n",
       ".xr-section-item input:enabled + label:hover {\n",
       "  color: var(--xr-font-color0);\n",
       "}\n",
       "\n",
       ".xr-section-summary {\n",
       "  grid-column: 1;\n",
       "  color: var(--xr-font-color2);\n",
       "  font-weight: 500;\n",
       "}\n",
       "\n",
       ".xr-section-summary > span {\n",
       "  display: inline-block;\n",
       "  padding-left: 0.5em;\n",
       "}\n",
       "\n",
       ".xr-section-summary-in:disabled + label {\n",
       "  color: var(--xr-font-color2);\n",
       "}\n",
       "\n",
       ".xr-section-summary-in + label:before {\n",
       "  display: inline-block;\n",
       "  content: '►';\n",
       "  font-size: 11px;\n",
       "  width: 15px;\n",
       "  text-align: center;\n",
       "}\n",
       "\n",
       ".xr-section-summary-in:disabled + label:before {\n",
       "  color: var(--xr-disabled-color);\n",
       "}\n",
       "\n",
       ".xr-section-summary-in:checked + label:before {\n",
       "  content: '▼';\n",
       "}\n",
       "\n",
       ".xr-section-summary-in:checked + label > span {\n",
       "  display: none;\n",
       "}\n",
       "\n",
       ".xr-section-summary,\n",
       ".xr-section-inline-details {\n",
       "  padding-top: 4px;\n",
       "  padding-bottom: 4px;\n",
       "}\n",
       "\n",
       ".xr-section-inline-details {\n",
       "  grid-column: 2 / -1;\n",
       "}\n",
       "\n",
       ".xr-section-details {\n",
       "  display: none;\n",
       "  grid-column: 1 / -1;\n",
       "  margin-bottom: 5px;\n",
       "}\n",
       "\n",
       ".xr-section-summary-in:checked ~ .xr-section-details {\n",
       "  display: contents;\n",
       "}\n",
       "\n",
       ".xr-array-wrap {\n",
       "  grid-column: 1 / -1;\n",
       "  display: grid;\n",
       "  grid-template-columns: 20px auto;\n",
       "}\n",
       "\n",
       ".xr-array-wrap > label {\n",
       "  grid-column: 1;\n",
       "  vertical-align: top;\n",
       "}\n",
       "\n",
       ".xr-preview {\n",
       "  color: var(--xr-font-color3);\n",
       "}\n",
       "\n",
       ".xr-array-preview,\n",
       ".xr-array-data {\n",
       "  padding: 0 5px !important;\n",
       "  grid-column: 2;\n",
       "}\n",
       "\n",
       ".xr-array-data,\n",
       ".xr-array-in:checked ~ .xr-array-preview {\n",
       "  display: none;\n",
       "}\n",
       "\n",
       ".xr-array-in:checked ~ .xr-array-data,\n",
       ".xr-array-preview {\n",
       "  display: inline-block;\n",
       "}\n",
       "\n",
       ".xr-dim-list {\n",
       "  display: inline-block !important;\n",
       "  list-style: none;\n",
       "  padding: 0 !important;\n",
       "  margin: 0;\n",
       "}\n",
       "\n",
       ".xr-dim-list li {\n",
       "  display: inline-block;\n",
       "  padding: 0;\n",
       "  margin: 0;\n",
       "}\n",
       "\n",
       ".xr-dim-list:before {\n",
       "  content: '(';\n",
       "}\n",
       "\n",
       ".xr-dim-list:after {\n",
       "  content: ')';\n",
       "}\n",
       "\n",
       ".xr-dim-list li:not(:last-child):after {\n",
       "  content: ',';\n",
       "  padding-right: 5px;\n",
       "}\n",
       "\n",
       ".xr-has-index {\n",
       "  font-weight: bold;\n",
       "}\n",
       "\n",
       ".xr-var-list,\n",
       ".xr-var-item {\n",
       "  display: contents;\n",
       "}\n",
       "\n",
       ".xr-var-item > div,\n",
       ".xr-var-item label,\n",
       ".xr-var-item > .xr-var-name span {\n",
       "  background-color: var(--xr-background-color-row-even);\n",
       "  margin-bottom: 0;\n",
       "}\n",
       "\n",
       ".xr-var-item > .xr-var-name:hover span {\n",
       "  padding-right: 5px;\n",
       "}\n",
       "\n",
       ".xr-var-list > li:nth-child(odd) > div,\n",
       ".xr-var-list > li:nth-child(odd) > label,\n",
       ".xr-var-list > li:nth-child(odd) > .xr-var-name span {\n",
       "  background-color: var(--xr-background-color-row-odd);\n",
       "}\n",
       "\n",
       ".xr-var-name {\n",
       "  grid-column: 1;\n",
       "}\n",
       "\n",
       ".xr-var-dims {\n",
       "  grid-column: 2;\n",
       "}\n",
       "\n",
       ".xr-var-dtype {\n",
       "  grid-column: 3;\n",
       "  text-align: right;\n",
       "  color: var(--xr-font-color2);\n",
       "}\n",
       "\n",
       ".xr-var-preview {\n",
       "  grid-column: 4;\n",
       "}\n",
       "\n",
       ".xr-var-name,\n",
       ".xr-var-dims,\n",
       ".xr-var-dtype,\n",
       ".xr-preview,\n",
       ".xr-attrs dt {\n",
       "  white-space: nowrap;\n",
       "  overflow: hidden;\n",
       "  text-overflow: ellipsis;\n",
       "  padding-right: 10px;\n",
       "}\n",
       "\n",
       ".xr-var-name:hover,\n",
       ".xr-var-dims:hover,\n",
       ".xr-var-dtype:hover,\n",
       ".xr-attrs dt:hover {\n",
       "  overflow: visible;\n",
       "  width: auto;\n",
       "  z-index: 1;\n",
       "}\n",
       "\n",
       ".xr-var-attrs,\n",
       ".xr-var-data {\n",
       "  display: none;\n",
       "  background-color: var(--xr-background-color) !important;\n",
       "  padding-bottom: 5px !important;\n",
       "}\n",
       "\n",
       ".xr-var-attrs-in:checked ~ .xr-var-attrs,\n",
       ".xr-var-data-in:checked ~ .xr-var-data {\n",
       "  display: block;\n",
       "}\n",
       "\n",
       ".xr-var-data > table {\n",
       "  float: right;\n",
       "}\n",
       "\n",
       ".xr-var-name span,\n",
       ".xr-var-data,\n",
       ".xr-attrs {\n",
       "  padding-left: 25px !important;\n",
       "}\n",
       "\n",
       ".xr-attrs,\n",
       ".xr-var-attrs,\n",
       ".xr-var-data {\n",
       "  grid-column: 1 / -1;\n",
       "}\n",
       "\n",
       "dl.xr-attrs {\n",
       "  padding: 0;\n",
       "  margin: 0;\n",
       "  display: grid;\n",
       "  grid-template-columns: 125px auto;\n",
       "}\n",
       "\n",
       ".xr-attrs dt,\n",
       ".xr-attrs dd {\n",
       "  padding: 0;\n",
       "  margin: 0;\n",
       "  float: left;\n",
       "  padding-right: 10px;\n",
       "  width: auto;\n",
       "}\n",
       "\n",
       ".xr-attrs dt {\n",
       "  font-weight: normal;\n",
       "  grid-column: 1;\n",
       "}\n",
       "\n",
       ".xr-attrs dt:hover span {\n",
       "  display: inline-block;\n",
       "  background: var(--xr-background-color);\n",
       "  padding-right: 10px;\n",
       "}\n",
       "\n",
       ".xr-attrs dd {\n",
       "  grid-column: 2;\n",
       "  white-space: pre-wrap;\n",
       "  word-break: break-all;\n",
       "}\n",
       "\n",
       ".xr-icon-database,\n",
       ".xr-icon-file-text2 {\n",
       "  display: inline-block;\n",
       "  vertical-align: middle;\n",
       "  width: 1em;\n",
       "  height: 1.5em !important;\n",
       "  stroke-width: 0;\n",
       "  stroke: currentColor;\n",
       "  fill: currentColor;\n",
       "}\n",
       "</style><pre class='xr-text-repr-fallback'>&lt;xarray.DataArray &#x27;time&#x27; ()&gt;\n",
       "array(&#x27;2019-01-03T09:22:26.000000000&#x27;, dtype=&#x27;datetime64[ns]&#x27;)</pre><div class='xr-wrap' style='display:none'><div class='xr-header'><div class='xr-obj-type'>xarray.DataArray</div><div class='xr-array-name'>'time'</div></div><ul class='xr-sections'><li class='xr-section-item'><div class='xr-array-wrap'><input id='section-e4f36ce0-fdaf-4a87-a872-3f06baad6dbc' class='xr-array-in' type='checkbox' checked><label for='section-e4f36ce0-fdaf-4a87-a872-3f06baad6dbc' title='Show/hide data repr'><svg class='icon xr-icon-database'><use xlink:href='#icon-database'></use></svg></label><div class='xr-array-preview xr-preview'><span>2019-01-03T09:22:26</span></div><div class='xr-array-data'><pre>array(&#x27;2019-01-03T09:22:26.000000000&#x27;, dtype=&#x27;datetime64[ns]&#x27;)</pre></div></div></li><li class='xr-section-item'><input id='section-6bd88152-746b-49fd-8c4e-3b5028ca3306' class='xr-section-summary-in' type='checkbox' disabled ><label for='section-6bd88152-746b-49fd-8c4e-3b5028ca3306' class='xr-section-summary'  title='Expand/collapse section'>Coordinates: <span>(0)</span></label><div class='xr-section-inline-details'></div><div class='xr-section-details'><ul class='xr-var-list'></ul></div></li><li class='xr-section-item'><input id='section-ade349e3-27f0-41ce-9aac-4c2ea25ed03d' class='xr-section-summary-in' type='checkbox' disabled ><label for='section-ade349e3-27f0-41ce-9aac-4c2ea25ed03d' class='xr-section-summary'  title='Expand/collapse section'>Attributes: <span>(0)</span></label><div class='xr-section-inline-details'></div><div class='xr-section-details'><dl class='xr-attrs'></dl></div></li></ul></div></div>"
      ],
      "text/plain": [
       "<xarray.DataArray 'time' ()>\n",
       "array('2019-01-03T09:22:26.000000000', dtype='datetime64[ns]')"
      ]
     },
     "execution_count": 46,
     "metadata": {},
     "output_type": "execute_result"
    }
   ],
   "source": [
    "ds_count.time.min()"
   ]
  },
  {
   "cell_type": "code",
   "execution_count": null,
   "id": "c3aa174d-d429-48fb-98f8-042de1eda0f1",
   "metadata": {},
   "outputs": [],
   "source": [
    "ds_fullCover = ds_count.where(ds_count > 0, drop=True)\n",
    "print(ds_fullCover)"
   ]
  },
  {
   "cell_type": "code",
   "execution_count": null,
   "id": "05e64070-dfe4-450d-884c-b06639a1cce6",
   "metadata": {},
   "outputs": [],
   "source": [
    "ds_fullCover.time"
   ]
  },
  {
   "cell_type": "code",
   "execution_count": null,
   "id": "4d2547e4-086d-4f5a-8983-283159602e6f",
   "metadata": {},
   "outputs": [],
   "source": [
    "montly_mean = sig0_vv_dc_chunk1.sig0_vv.sortby('time').resample(time=\"1M\").mean()\n",
    "print(montly_mean.time)"
   ]
  },
  {
   "cell_type": "code",
   "execution_count": null,
   "id": "819302ed-4dcc-4156-80b2-da13991e96c0",
   "metadata": {},
   "outputs": [],
   "source": []
  }
 ],
 "metadata": {
  "kernelspec": {
   "display_name": "Python 3 (ipykernel)",
   "language": "python",
   "name": "python3"
  },
  "language_info": {
   "codemirror_mode": {
    "name": "ipython",
    "version": 3
   },
   "file_extension": ".py",
   "mimetype": "text/x-python",
   "name": "python",
   "nbconvert_exporter": "python",
   "pygments_lexer": "ipython3",
   "version": "3.7.13"
  }
 },
 "nbformat": 4,
 "nbformat_minor": 5
}
