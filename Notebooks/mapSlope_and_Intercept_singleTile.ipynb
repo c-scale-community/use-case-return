{
 "cells": [
  {
   "cell_type": "markdown",
   "id": "006217e4-3993-4c5e-8750-b0832b338e8a",
   "metadata": {
    "tags": []
   },
   "source": [
    "## Do space-for-time over several chanks and map the fitted slope and intercept"
   ]
  },
  {
   "cell_type": "code",
   "execution_count": 1,
   "id": "01d04f8b-bf89-4f61-b17b-83397e86e26f",
   "metadata": {},
   "outputs": [],
   "source": [
    "# change working directory to load the code:\n",
    "import os\n",
    "os.chdir('/home/return-mmilenkovic/mm_tools/use-case-return')"
   ]
  },
  {
   "cell_type": "code",
   "execution_count": 2,
   "id": "0d731dd9-1564-4b80-ad7c-5d27e6c921df",
   "metadata": {},
   "outputs": [],
   "source": [
    "from auxilary_annalysis_mm import getSlopeInt_qDiff_forAge\n",
    "import glob\n",
    "import numpy as np\n",
    "from scipy.signal import convolve2d\n",
    "import pandas as pd\n",
    "#\n",
    "import matplotlib.pyplot as plt\n",
    "import time"
   ]
  },
  {
   "cell_type": "code",
   "execution_count": 3,
   "id": "b2023b4f-69b8-4836-b8a4-2faa7d02b6ae",
   "metadata": {},
   "outputs": [
    {
     "name": "stdout",
     "output_type": "stream",
     "text": [
      "Help on function getSlopeInt_qDiff_forAge in module auxilary_annalysis_mm:\n",
      "\n",
      "getSlopeInt_qDiff_forAge(myTile, myOrbit, myPol, NumChunks, ChunkStart_col, ChunkStart_row)\n",
      "    Calculate the slope and intercepth of the linear regression model fitted trough \n",
      "    the annual percentile diference (p90 - p10) mean-aggregated over the secoundary forest age.\n",
      "    \n",
      "    :param myTile: The Equi7 tile name to be processed, e.g. 'E078N066T3'\n",
      "    :param myOrbit: The decending orbit to be processed, e.g. 'D039'\n",
      "    :param myPol: the polarisation chanel (as a string), e.g. 'VV', or 'VH'\n",
      "    :param NumChunks: the number of chunks to consider for the calculation of slope and intercept \n",
      "    :param ChunkStart_col: the column of the starting chank\n",
      "    :param ChunkStart_row: the row of the starting chank\n",
      "    :return: a list including linear regresion parameters, performance stats, and nuber of secoundary pixels\n",
      "\n"
     ]
    }
   ],
   "source": [
    "help(getSlopeInt_qDiff_forAge)"
   ]
  },
  {
   "cell_type": "markdown",
   "id": "59919075-d2e5-49f2-a553-19dd97dc2520",
   "metadata": {},
   "source": [
    "Set parameters:"
   ]
  },
  {
   "cell_type": "code",
   "execution_count": 4,
   "id": "be2e35cc-85a4-4410-9959-c37593b4bb0b",
   "metadata": {},
   "outputs": [],
   "source": [
    "myTile = 'E078N066T3' # Para\n",
    "myOrbit = 'D039'\n",
    "myPol = 'VV'\n",
    "NumChunks = 4\n",
    "ChunkStart_col = 10\n",
    "ChunkStart_row = 1"
   ]
  },
  {
   "cell_type": "code",
   "execution_count": 5,
   "id": "d0782872-14c7-4c81-9398-3f30df268359",
   "metadata": {},
   "outputs": [
    {
     "name": "stderr",
     "output_type": "stream",
     "text": [
      "/home/return-mmilenkovic/miniconda3/envs/yeoda/lib/python3.7/site-packages/dask/config.py:168: YAMLLoadWarning: calling yaml.load() without Loader=... is deprecated, as the default Loader is unsafe. Please read https://msg.pyyaml.org/load for full details.\n",
      "  data = yaml.load(f.read()) or {}\n"
     ]
    }
   ],
   "source": [
    "myOut = getSlopeInt_qDiff_forAge(myTile, myOrbit, myPol, NumChunks, ChunkStart_col, ChunkStart_row)"
   ]
  },
  {
   "cell_type": "code",
   "execution_count": 6,
   "id": "c2ee1c54-d144-49f1-b5f9-db6b78950b51",
   "metadata": {},
   "outputs": [
    {
     "data": {
      "text/plain": [
       "[-0.0040831022269995085,\n",
       " 2.83225489679281,\n",
       " 0.44087673195407806,\n",
       " 0.04245537103499971,\n",
       " 120437,\n",
       " 5988,\n",
       " 1547]"
      ]
     },
     "execution_count": 6,
     "metadata": {},
     "output_type": "execute_result"
    }
   ],
   "source": [
    "myOut"
   ]
  },
  {
   "cell_type": "markdown",
   "id": "ba169d54-24e6-4b7b-bc68-6f36b95d6bf3",
   "metadata": {},
   "source": [
    "## Get row and col of ocupied Chanks for the selected orbit:"
   ]
  },
  {
   "cell_type": "code",
   "execution_count": 7,
   "id": "94167e61-0d31-47f4-8d35-a6f3addfb4b2",
   "metadata": {},
   "outputs": [],
   "source": [
    "# set the folter wih the output files:\n",
    "data_folder = r'/project/return/Share/mm/S1_SA_TEST_UPSCALE/TILE_WISE/AOI_PA/' +  myTile "
   ]
  },
  {
   "cell_type": "code",
   "execution_count": 8,
   "id": "5ad8c429-77e1-4972-99b9-7d6a3cadd0ff",
   "metadata": {},
   "outputs": [],
   "source": [
    "# get all nc-files in a list\n",
    "ncFileList = glob.glob(data_folder + '/**/*' + myOrbit + '_' + myPol + '.nc', recursive=True)\n",
    "# sorted list:\n",
    "ncFileList = sorted(ncFileList)"
   ]
  },
  {
   "cell_type": "code",
   "execution_count": 9,
   "id": "c1fa9218-b898-476b-8791-332259d49d8f",
   "metadata": {},
   "outputs": [],
   "source": [
    "ncRows = [os.path.basename(ncPath).split('_')[1] for ncPath in ncFileList]\n",
    "ncCols = [os.path.basename(ncPath).split('_')[2] for ncPath in ncFileList]"
   ]
  },
  {
   "cell_type": "code",
   "execution_count": 10,
   "id": "33bb7a3f-b239-4bf3-bc31-698e5b180b54",
   "metadata": {},
   "outputs": [],
   "source": [
    "ncRows_int = [int(aa)   for aa in ncRows]\n",
    "ncCols_int = [int(aa) for aa in ncCols]"
   ]
  },
  {
   "cell_type": "code",
   "execution_count": 11,
   "id": "70fabaca-20d5-4833-94d0-69fbaf715ebc",
   "metadata": {},
   "outputs": [],
   "source": [
    "myChankMatrix = np.zeros((60, 60))"
   ]
  },
  {
   "cell_type": "code",
   "execution_count": 12,
   "id": "6763b5d6-c952-4525-9f0e-3e12508c809e",
   "metadata": {},
   "outputs": [],
   "source": [
    "myChankMatrix[ncRows_int, ncCols_int] = 1"
   ]
  },
  {
   "cell_type": "code",
   "execution_count": 13,
   "id": "0b6360ad-f92e-4548-acf1-2961451ca5f0",
   "metadata": {},
   "outputs": [
    {
     "data": {
      "text/plain": [
       "<matplotlib.image.AxesImage at 0x7f60f24b3f50>"
      ]
     },
     "execution_count": 13,
     "metadata": {},
     "output_type": "execute_result"
    },
    {
     "data": {
      "image/png": "[encoded data removed]",
      "text/plain": [
       "<Figure size 432x288 with 1 Axes>"
      ]
     },
     "metadata": {
      "needs_background": "light"
     },
     "output_type": "display_data"
    }
   ],
   "source": [
    "plt.imshow(myChankMatrix, cmap='Greys')"
   ]
  },
  {
   "cell_type": "markdown",
   "id": "d8260cd0-2bcc-4c37-852b-ca88ded34001",
   "metadata": {},
   "source": [
    "## Prepare the starting rows and columns for the chunk analysis:"
   ]
  },
  {
   "cell_type": "code",
   "execution_count": null,
   "id": "21cdba83-401c-4b96-9cc5-5aaabe8b43e8",
   "metadata": {},
   "outputs": [],
   "source": [
    "np.ones((4, 4))"
   ]
  },
  {
   "cell_type": "code",
   "execution_count": null,
   "id": "88cc3f7c-0714-4465-bdf8-a301a776670e",
   "metadata": {},
   "outputs": [],
   "source": [
    "myChankMatrix_con = convolve2d(myChankMatrix, np.ones((4, 4)), 'same' )"
   ]
  },
  {
   "cell_type": "code",
   "execution_count": null,
   "id": "071f7ec4-a0ed-4a90-8da8-bab2b76b1ca6",
   "metadata": {},
   "outputs": [],
   "source": [
    "myChankMatrix_con_valid = myChankMatrix_con == 16"
   ]
  },
  {
   "cell_type": "code",
   "execution_count": null,
   "id": "99547ec7-c48b-49e1-9b07-ee0bbddb5d9f",
   "metadata": {},
   "outputs": [],
   "source": [
    "plt.imshow(myChankMatrix_con_valid, cmap='Greys')"
   ]
  },
  {
   "cell_type": "code",
   "execution_count": null,
   "id": "b4958a73-2f62-40f2-903c-fafc6af7722e",
   "metadata": {},
   "outputs": [],
   "source": [
    "myRows, myCols = np.where(myChankMatrix_con_valid)"
   ]
  },
  {
   "cell_type": "code",
   "execution_count": null,
   "id": "a9fe8d53-3c97-4ed6-81ad-bd5f249ab151",
   "metadata": {},
   "outputs": [],
   "source": [
    "# correct for the upper left start of the kernel:\n",
    "myRows = myRows - 2 \n",
    "myCols = myCols - 2"
   ]
  },
  {
   "cell_type": "code",
   "execution_count": null,
   "id": "0b8a314c-58b5-44ec-aacb-ccb7b04872eb",
   "metadata": {},
   "outputs": [],
   "source": [
    "# sample every 4th element and correct for the index start 1\n",
    "myRowStarts = myRows[::4] + 1 \n",
    "myColStarts = myCols[::4] + 1 "
   ]
  },
  {
   "cell_type": "code",
   "execution_count": null,
   "id": "efaed182-2c9a-4d58-81f3-3839dfb5b34b",
   "metadata": {},
   "outputs": [],
   "source": [
    "list(zip(myRowStarts, myColStarts))"
   ]
  },
  {
   "cell_type": "markdown",
   "id": "befddeba-9562-44fc-931c-907749d185d7",
   "metadata": {},
   "source": [
    "## Do it for the whole tile:"
   ]
  },
  {
   "cell_type": "code",
   "execution_count": null,
   "id": "04a3fe7a-bad8-4349-9908-cdf084f3bb95",
   "metadata": {},
   "outputs": [],
   "source": [
    "# define the panda dataframe to store the output:\n",
    "df_out = pd.DataFrame(columns=['Row', 'Col', 'Slope', 'Int', 'R2', 'RMSE', 'NumTota', 'NumLarge', 'NumSmall'])"
   ]
  },
  {
   "cell_type": "code",
   "execution_count": null,
   "id": "2db37afb-0e70-4ada-bb98-1896072876b2",
   "metadata": {},
   "outputs": [],
   "source": [
    "df_out"
   ]
  },
  {
   "cell_type": "code",
   "execution_count": null,
   "id": "6fe4a9bf-9024-4644-b9af-1c222f57f8d0",
   "metadata": {},
   "outputs": [],
   "source": [
    "#for myStartRow, myStartCol in zip(myRowStarts, myColStarts):\n",
    "start = time.time()\n",
    "for myStartRow, myStartCol in zip(myRowStarts[:1], myColStarts[:1]):\n",
    "    ChunkStart_col = myStartCol\n",
    "    ChunkStart_row = myStartRow\n",
    "    # get the slope and intercept:\n",
    "    auxOut = getSlopeInt_qDiff_forAge(myTile, myOrbit, myPol, NumChunks, ChunkStart_col, ChunkStart_row)\n",
    "    # add new row in the dataframe\n",
    "    df_out.loc[len(df_out)] = [myStartRow, myStartCol] + auxOut\n",
    "    \n",
    "end = time.time()"
   ]
  },
  {
   "cell_type": "code",
   "execution_count": null,
   "id": "c8d37199-b062-4873-9187-40efb5c00284",
   "metadata": {},
   "outputs": [],
   "source": [
    "print(end - start)"
   ]
  },
  {
   "cell_type": "code",
   "execution_count": null,
   "id": "b82819eb-8339-4e56-bef1-d9264f5a480a",
   "metadata": {},
   "outputs": [],
   "source": [
    "df_out.head()\n"
   ]
  },
  {
   "cell_type": "code",
   "execution_count": null,
   "id": "fe26d282-5a20-4ed5-9ea4-75b52f26191a",
   "metadata": {},
   "outputs": [],
   "source": []
  }
 ],
 "metadata": {
  "kernelspec": {
   "display_name": "Python 3 (ipykernel)",
   "language": "python",
   "name": "python3"
  },
  "language_info": {
   "codemirror_mode": {
    "name": "ipython",
    "version": 3
   },
   "file_extension": ".py",
   "mimetype": "text/x-python",
   "name": "python",
   "nbconvert_exporter": "python",
   "pygments_lexer": "ipython3",
   "version": "3.7.13"
  }
 },
 "nbformat": 4,
 "nbformat_minor": 5
}
