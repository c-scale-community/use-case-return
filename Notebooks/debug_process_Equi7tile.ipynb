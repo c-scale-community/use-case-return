{
 "cells": [
  {
   "cell_type": "markdown",
   "id": "006217e4-3993-4c5e-8750-b0832b338e8a",
   "metadata": {
    "tags": []
   },
   "source": [
    "## simple debug setup"
   ]
  },
  {
   "cell_type": "code",
   "execution_count": 1,
   "id": "26067829-8d80-4dd1-aa74-e7b2dd22271b",
   "metadata": {},
   "outputs": [],
   "source": [
    "import os"
   ]
  },
  {
   "cell_type": "code",
   "execution_count": 2,
   "id": "5ca92eb3-c5b0-44d7-9317-35a81ec442c1",
   "metadata": {},
   "outputs": [],
   "source": [
    "# Changing the current working directory\n",
    "os.chdir('/home/return-mmilenkovic/mm_tools/use-case-return')"
   ]
  },
  {
   "cell_type": "code",
   "execution_count": 3,
   "id": "0d731dd9-1564-4b80-ad7c-5d27e6c921df",
   "metadata": {},
   "outputs": [
    {
     "name": "stderr",
     "output_type": "stream",
     "text": [
      "/home/return-mmilenkovic/miniconda3/envs/yeoda/lib/python3.7/site-packages/dask/config.py:168: YAMLLoadWarning: calling yaml.load() without Loader=... is deprecated, as the default Loader is unsafe. Please read https://msg.pyyaml.org/load for full details.\n",
      "  data = yaml.load(f.read()) or {}\n"
     ]
    }
   ],
   "source": [
    "from process_Equi7tile_OrbitWise import process_Equi7tile"
   ]
  },
  {
   "cell_type": "code",
   "execution_count": 4,
   "id": "4b259a95-17ce-4cca-a824-07695284b56a",
   "metadata": {},
   "outputs": [
    {
     "name": "stdout",
     "output_type": "stream",
     "text": [
      "xxxxxxxx\n",
      "Following orbits are listed: ['D171', 'D069']\n",
      "xxxxxxxx\n",
      "\n",
      "xxxxxxxx\n",
      "Processing the orbit: D171\n",
      "xxxxxxxx\n",
      "Lenght of vv timestamps: 318\n",
      "Lenght of vh timestamps: 294\n",
      "\n",
      "xxxxxxxx\n",
      "Processing the orbit: D069\n",
      "xxxxxxxx\n",
      "The chunk with row 2 and column 58 in the orbit D069 contains only NaN values.\n",
      "\n",
      "The processing finished for the chunk row 2 and column 58 in tile E057N072T3.\n"
     ]
    }
   ],
   "source": [
    "process_Equi7tile('DESCENDING', 'E057N072T3', 3, 59, 250, '/home/return-mmilenkovic/mm_tools/use-case-return/')"
   ]
  },
  {
   "cell_type": "code",
   "execution_count": null,
   "id": "89e04f66-80ca-4ec9-b2eb-74b0782a9e45",
   "metadata": {},
   "outputs": [],
   "source": []
  }
 ],
 "metadata": {
  "kernelspec": {
   "display_name": "Python 3 (ipykernel)",
   "language": "python",
   "name": "python3"
  },
  "language_info": {
   "codemirror_mode": {
    "name": "ipython",
    "version": 3
   },
   "file_extension": ".py",
   "mimetype": "text/x-python",
   "name": "python",
   "nbconvert_exporter": "python",
   "pygments_lexer": "ipython3",
   "version": "3.7.13"
  }
 },
 "nbformat": 4,
 "nbformat_minor": 5
}
