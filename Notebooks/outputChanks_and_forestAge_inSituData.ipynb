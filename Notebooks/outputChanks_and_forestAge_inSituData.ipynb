{
 "cells": [
  {
   "cell_type": "markdown",
   "id": "006217e4-3993-4c5e-8750-b0832b338e8a",
   "metadata": {
    "tags": []
   },
   "source": [
    "## simple debug setup"
   ]
  },
  {
   "cell_type": "code",
   "execution_count": null,
   "id": "6ed99f7e-0448-4eda-869d-a412f1cd33d4",
   "metadata": {},
   "outputs": [],
   "source": [
    "gdalbuildvrt -sd 42 -input_file_list filelist_org.txt testVirtual_sd_42.vrt"
   ]
  },
  {
   "cell_type": "code",
   "execution_count": null,
   "id": "6f373085-af96-4650-b420-fae64c459596",
   "metadata": {},
   "outputs": [],
   "source": [
    "gdal_translate -of PNG -ot Byte -scale -outsize 10% 10% testVirtual_sd_42.vrt testVirtual_sd_42.png"
   ]
  },
  {
   "cell_type": "code",
   "execution_count": 4,
   "id": "4caca337-4121-4c68-ba38-87c75cc9bd88",
   "metadata": {},
   "outputs": [],
   "source": [
    "find /project/return/Share/mm/S1_SA_TEST_UPSCALE/TILE_WISE/AOI_PA/E078N066T3/*/ -name '*D039_VH.nc' > filelist_org.txt"
   ]
  },
  {
   "cell_type": "code",
   "execution_count": null,
   "id": "5faeaee5-a5bc-40df-8267-846b2f11713c",
   "metadata": {},
   "outputs": [],
   "source": [
    "gdalbuildvrt -sd 42 -input_file_list filelist_org.txt virtualmosaic_subdataset_42.vrt"
   ]
  },
  {
   "cell_type": "code",
   "execution_count": 2,
   "id": "0d731dd9-1564-4b80-ad7c-5d27e6c921df",
   "metadata": {},
   "outputs": [],
   "source": [
    "import os, osr, glob\n",
    "import xarray as xr\n",
    "import rioxarray\n",
    "from rioxarray.merge import merge_datasets, merge_arrays\n",
    "import numpy as np\n",
    "import geopandas as gpd\n",
    "#\n",
    "from geocube.api import core\n",
    "#\n",
    "from sklearn.linear_model import LinearRegression\n",
    "from sklearn.metrics import mean_squared_error, r2_score\n",
    "#\n",
    "import matplotlib.pyplot as plt\n",
    "import matplotlib.gridspec as gridspec\n",
    "from matplotlib.ticker import MaxNLocator\n",
    "#\n",
    "import seaborn as sns\n",
    "#\n",
    "from equi7grid.equi7grid import Equi7Grid\n",
    "#%matplotlib widget\n",
    "#%matplotlib inline"
   ]
  },
  {
   "cell_type": "markdown",
   "id": "61420dda-c56e-46ec-8b03-80487e6ad265",
   "metadata": {},
   "source": [
    "Set the tile, orbit, and polarisation to read:"
   ]
  },
  {
   "cell_type": "code",
   "execution_count": 3,
   "id": "8ed5f29e-dea4-428c-8b10-16b6b0eb9e25",
   "metadata": {},
   "outputs": [],
   "source": [
    "#myTile = 'E066N060T3' # Rondonia\n",
    "#myOrbit = 'D156' # Rondonia\n",
    "#\n",
    "myTile = 'E078N066T3' # Para\n",
    "myOrbit = 'D039' # Para\n",
    "#\n",
    "myPol = 'VH'"
   ]
  },
  {
   "cell_type": "code",
   "execution_count": 4,
   "id": "35640ad7-4975-4827-b2b2-845d8370ca71",
   "metadata": {},
   "outputs": [],
   "source": [
    "# set the folter wih the output files:\n",
    "data_folder = r'/project/return/Share/mm/S1_SA_TEST_UPSCALE/' +  myTile + '_smallChanks'"
   ]
  },
  {
   "cell_type": "code",
   "execution_count": 5,
   "id": "e95c314c-d327-4a52-aecc-f619b4b16b38",
   "metadata": {},
   "outputs": [],
   "source": [
    "# Equi7 SA wkt:\n",
    "PROJ = 'PROJCS[\"Azimuthal_Equidistant\",GEOGCS[\"GCS_WGS_1984\",DATUM[\"D_WGS_1984\",SPHEROID[\"WGS_1984\",6378137.0,298.257223563]],PRIMEM[\"Greenwich\",0.0],UNIT[\"Degree\",0.017453292519943295]],PROJECTION[\"Azimuthal_Equidistant\"],PARAMETER[\"false_easting\",7257179.23559],PARAMETER[\"false_northing\",5592024.44605],PARAMETER[\"central_meridian\",-60.5],PARAMETER[\"latitude_of_origin\",-14.0],UNIT[\"Meter\",1.0]]'"
   ]
  },
  {
   "cell_type": "code",
   "execution_count": 6,
   "id": "9b68e092-3b8f-4df2-88d9-b527584b5fcb",
   "metadata": {},
   "outputs": [],
   "source": [
    "# read multiple ckunks:\n",
    "ChunkDatasetList = []\n",
    "# set the rwos and columns:\n",
    "#myCols, myRows = np.meshgrid(np.arange(34, 38), np.arange(42, 46)) # Rondonia\n",
    "myCols, myRows = np.meshgrid(np.arange(20, 24), np.arange(36, 40)) # Para\n",
    "# read each one\n",
    "for myRow, myCol in zip(myRows.flatten(), myCols.flatten()):\n",
    "    # set filename:\n",
    "    fileName = myTile + '_' + str(myRow) + '_' + str(myCol) + '_250_' + myOrbit + '_'+ myPol + '.nc'\n",
    "    aux_ds = rioxarray.open_rasterio(os.path.join(data_folder, fileName))\n",
    "    # set crs:\n",
    "    aux_ds.rio.write_crs(PROJ, inplace=True)\n",
    "    ChunkDatasetList.append(aux_ds)      "
   ]
  },
  {
   "cell_type": "code",
   "execution_count": 7,
   "id": "9effc3e4-f473-4284-beed-34c6004a3309",
   "metadata": {},
   "outputs": [],
   "source": [
    "# mearge chanks spatialy:\n",
    "my_out = merge_datasets(ChunkDatasetList)   "
   ]
  },
  {
   "cell_type": "markdown",
   "id": "1a7ce4ba-8dee-48ac-a3c8-2fef3c2cbf8b",
   "metadata": {},
   "source": [
    "Read forest age and LULC data:"
   ]
  },
  {
   "cell_type": "code",
   "execution_count": 8,
   "id": "d27fd526-5b4e-4c98-9edb-30a604ff2de4",
   "metadata": {},
   "outputs": [],
   "source": [
    "# fileName2 = r'myforAgeLCLU_2017_2020_equi7_E066N060T3_20m.tif' # Rondonia\n",
    "fileName2 = r'myforAgeLCLU_2017_2020_equi7_E078N066T3_20m.tif' # Para\n",
    "forAgeLULC = rioxarray.open_rasterio(fileName2, band_as_variable=True)\n",
    "# convert to dataset:\n",
    "forAgeLULC_ds = forAgeLULC.to_dataset('band').rename({1: 'forAge2017', 2: 'lulc2018', 3: 'lulc2019', 4: 'forAge2020', 5: 'ECO_ID'})"
   ]
  },
  {
   "cell_type": "markdown",
   "id": "653511dc-c627-4126-9c74-f7fa5838760d",
   "metadata": {},
   "source": [
    "Correct coordinates (temporary soluton!!!)"
   ]
  },
  {
   "cell_type": "code",
   "execution_count": 9,
   "id": "6d9fd399-a18c-4617-8315-b6073a9c5e4f",
   "metadata": {},
   "outputs": [],
   "source": [
    "forAgeLULC_ds = forAgeLULC_ds.assign_coords(x=forAgeLULC_ds.x - 10 )"
   ]
  },
  {
   "cell_type": "code",
   "execution_count": 10,
   "id": "fd449ba8-b884-49f7-963e-d3baf3650cef",
   "metadata": {},
   "outputs": [],
   "source": [
    "forAgeLULC_ds = forAgeLULC_ds.assign_coords(y=forAgeLULC_ds.y + 10 )"
   ]
  },
  {
   "cell_type": "markdown",
   "id": "f5d1b479-10a2-4205-8012-f91bef5ce07d",
   "metadata": {},
   "source": [
    "Join datasets and clip forAgeLCLU to my_out coordinates:"
   ]
  },
  {
   "cell_type": "code",
   "execution_count": 11,
   "id": "76b262ce-3af7-42a7-a782-94abe882bb5a",
   "metadata": {},
   "outputs": [],
   "source": [
    "all_ds = xr.merge([my_out.isel(band=0, drop=True), forAgeLULC_ds], join='inner') "
   ]
  },
  {
   "cell_type": "markdown",
   "id": "48afc77b-f7bc-4b60-bdd9-7f5d23af4843",
   "metadata": {},
   "source": [
    "## Analyse annual statistics"
   ]
  },
  {
   "cell_type": "code",
   "execution_count": 12,
   "id": "ca0241b2-e82c-4fb4-8f2a-71c1312b46d8",
   "metadata": {},
   "outputs": [],
   "source": [
    "# Add the combined annual statistics:\n",
    "all_ds['qDiff_2017'] = all_ds['q90_2017'] - all_ds['q10_2017']\n",
    "all_ds['dRange_2017'] = all_ds['max_2017'] - all_ds['min_2017']\n",
    "all_ds['iqRange_2017'] = all_ds['q75_2017'] - all_ds['q25_2017']"
   ]
  },
  {
   "cell_type": "code",
   "execution_count": 13,
   "id": "e463722b-9a8c-4c5d-aca0-63735a3c604c",
   "metadata": {},
   "outputs": [],
   "source": [
    "# set the relevant statistics:\n",
    "myStatnames = ['mean_2017', 'median_2017', 'std_2017', 'MAD_2017', 'dRange_2017', 'qDiff_2017', 'iqRange_2017', 'forAge2017']\n",
    "# mearge the arrays into new dataset:\n",
    "my_ds = all_ds[myStatnames]"
   ]
  },
  {
   "cell_type": "code",
   "execution_count": 14,
   "id": "aff79a04-706e-41c8-86cd-b237d23db779",
   "metadata": {},
   "outputs": [],
   "source": [
    "# select secondary forest and convert to pandas data frame\n",
    "my_df = my_ds.where((my_ds['forAge2017'] > 0) & (my_ds['forAge2017'] < 50)).to_dataframe()\n",
    "# drop unneccery data:\n",
    "my_df.drop(columns='spatial_ref', inplace=True)\n",
    "my_df.dropna(subset=['forAge2017'], inplace=True)"
   ]
  },
  {
   "cell_type": "markdown",
   "id": "ae2ca629-0db4-46c5-a8df-f5014886a86a",
   "metadata": {},
   "source": [
    "Export to scv"
   ]
  },
  {
   "cell_type": "code",
   "execution_count": 15,
   "id": "f2a9ec77-0714-4aca-8a14-f7fab59d67da",
   "metadata": {},
   "outputs": [],
   "source": [
    "# only once:\n",
    "#my_df.to_csv('Para_dataset.csv')"
   ]
  },
  {
   "cell_type": "markdown",
   "id": "b2b2671e-e9c4-4268-8053-9b2d078fdc21",
   "metadata": {},
   "source": [
    "# Fit multivariate linear regression to original data:"
   ]
  },
  {
   "cell_type": "code",
   "execution_count": 16,
   "id": "f91c2bd9-eaea-4668-9cb0-e4258c8068ab",
   "metadata": {},
   "outputs": [],
   "source": [
    "# prepare data for the fit\n",
    "X = my_df.reset_index().drop(['forAge2017', 'x', 'y'], axis = 1)\n",
    "y = my_df.reset_index()[['forAge2017']]"
   ]
  },
  {
   "cell_type": "code",
   "execution_count": 17,
   "id": "88221d9c-f35d-499b-8187-cfe254fea67f",
   "metadata": {},
   "outputs": [],
   "source": [
    "lm = LinearRegression()\n",
    "model = lm.fit(X,y)"
   ]
  },
  {
   "cell_type": "code",
   "execution_count": 18,
   "id": "3ac680c8-121e-4fa7-8f59-4721e8be4c03",
   "metadata": {},
   "outputs": [
    {
     "data": {
      "text/plain": [
       "array([13.60174302])"
      ]
     },
     "execution_count": 18,
     "metadata": {},
     "output_type": "execute_result"
    }
   ],
   "source": [
    "model.intercept_"
   ]
  },
  {
   "cell_type": "code",
   "execution_count": 19,
   "id": "8451f971-f116-45e6-85f0-cf8db2364df8",
   "metadata": {},
   "outputs": [
    {
     "data": {
      "text/plain": [
       "array([[-0.53677084,  0.41808249, -3.25627521,  0.25600791,  0.01745114,\n",
       "        -0.01275697, -0.12340945]])"
      ]
     },
     "execution_count": 19,
     "metadata": {},
     "output_type": "execute_result"
    }
   ],
   "source": [
    "model.coef_"
   ]
  },
  {
   "cell_type": "code",
   "execution_count": 20,
   "id": "65f480a2-d6e8-41e8-a13f-5d60f632356a",
   "metadata": {},
   "outputs": [
    {
     "data": {
      "text/plain": [
       "0.009995354348979246"
      ]
     },
     "execution_count": 20,
     "metadata": {},
     "output_type": "execute_result"
    }
   ],
   "source": [
    "model.score(X,y)"
   ]
  },
  {
   "cell_type": "code",
   "execution_count": 21,
   "id": "4c649ee2-7d82-4fb3-a7af-03ecbdda709b",
   "metadata": {},
   "outputs": [
    {
     "data": {
      "text/plain": [
       "65.36360931648201"
      ]
     },
     "execution_count": 21,
     "metadata": {},
     "output_type": "execute_result"
    }
   ],
   "source": [
    "MSE = mean_squared_error(y,model.predict(X))\n",
    "MSE"
   ]
  },
  {
   "cell_type": "code",
   "execution_count": 22,
   "id": "5f9cb87a-5a08-408d-95a3-26ca931d1b34",
   "metadata": {},
   "outputs": [
    {
     "data": {
      "text/plain": [
       "8.084776392484953"
      ]
     },
     "execution_count": 22,
     "metadata": {},
     "output_type": "execute_result"
    }
   ],
   "source": [
    "RMSE = np.sqrt(MSE)\n",
    "RMSE"
   ]
  },
  {
   "cell_type": "code",
   "execution_count": 23,
   "id": "713a2551-a4e4-4d0d-be3e-5a9f63b817b2",
   "metadata": {},
   "outputs": [
    {
     "data": {
      "text/plain": [
       "0.009995354348979246"
      ]
     },
     "execution_count": 23,
     "metadata": {},
     "output_type": "execute_result"
    }
   ],
   "source": [
    "R2 = r2_score(y,model.predict(X))\n",
    "R2"
   ]
  },
  {
   "cell_type": "code",
   "execution_count": 24,
   "id": "e98f8847-c2b0-47c6-9466-3e2c6afaa193",
   "metadata": {},
   "outputs": [],
   "source": [
    "# group by year:\n",
    "df_med = my_df.groupby(by='forAge2017').mean()"
   ]
  },
  {
   "cell_type": "markdown",
   "id": "9e4a1674-cce0-43ff-834d-4ebe4ae187fe",
   "metadata": {},
   "source": [
    "## Plotting"
   ]
  },
  {
   "cell_type": "code",
   "execution_count": 25,
   "id": "b10523dd-7f87-496a-98b4-8895899dd120",
   "metadata": {},
   "outputs": [
    {
     "data": {
      "text/plain": [
       "<matplotlib.legend.Legend at 0x7f8fb4c79310>"
      ]
     },
     "execution_count": 25,
     "metadata": {},
     "output_type": "execute_result"
    },
    {
     "data": {
      "image/png": "[encoded data removed]",
      "text/plain": [
       "<Figure size 648x504 with 1 Axes>"
      ]
     },
     "metadata": {
      "needs_background": "light"
     },
     "output_type": "display_data"
    }
   ],
   "source": [
    "#%matplotlib widget\n",
    "%matplotlib inline\n",
    "my_df.boxplot('qDiff_2017', by='forAge2017', grid=True, rot=45, figsize=(9, 7))\n",
    "# add the parameter value (all data) as horizontal line:\n",
    "plt.axhline(y=my_df['qDiff_2017'].median(), color='r', linestyle='--', label='median of all data')\n",
    "plt.legend(loc='upper right')"
   ]
  },
  {
   "cell_type": "code",
   "execution_count": 26,
   "id": "2c41835e-8e33-4936-b161-74642ac053bb",
   "metadata": {},
   "outputs": [
    {
     "data": {
      "image/png": "[encoded data removed]",
      "text/plain": [
       "<Figure size 720x424.8 with 6 Axes>"
      ]
     },
     "metadata": {
      "needs_background": "light"
     },
     "output_type": "display_data"
    }
   ],
   "source": [
    "#%matplotlib widget\n",
    "#%matplotlib inline\n",
    "#\n",
    "fig, axs = plt.subplots(2, 3, figsize=(10, 5.9), sharex=True)\n",
    "# add plots\n",
    "df_med.mean_2017.plot(style='o', grid=True, ax=axs[0, 0], title='Mean', **{'markersize': 4, 'color':'green'})\n",
    "df_med.std_2017.plot(style='o', grid=True, ax=axs[0, 1], title='Std', **{'markersize': 4, 'color':'green'})\n",
    "df_med.dRange_2017.plot(style='o', grid=True, ax=axs[0, 2], title='Max - Min', **{'markersize': 4, 'color':'green'})\n",
    "#\n",
    "df_med.median_2017.plot(style='o', grid=True, ax=axs[1, 0], title='Median', **{'markersize': 4, 'color':'green'})\n",
    "df_med.MAD_2017.plot(style='o', grid=True, ax=axs[1, 1], title='MAD', **{'markersize': 4, 'color':'green'})\n",
    "df_med.qDiff_2017.plot(style='o', grid=True, ax=axs[1, 2], title='Q90 - Q10', **{'markersize': 4, 'color':'green'})\n",
    "#\n",
    "axs[0, 0].set_ylabel('[dB]')\n",
    "axs[0, 1].set_ylabel('')\n",
    "axs[0, 2].set_ylabel('')\n",
    "#\n",
    "axs[1, 0].set_ylabel('[dB]')\n",
    "axs[1, 1].set_ylabel('')\n",
    "axs[1, 2].set_ylabel('')\n",
    "#\n",
    "fig.tight_layout()\n"
   ]
  },
  {
   "cell_type": "markdown",
   "id": "5f873b7b-fe9b-4f52-bf3e-669532173c1c",
   "metadata": {},
   "source": [
    "Calculate the number of forest age pixels"
   ]
  },
  {
   "cell_type": "code",
   "execution_count": 27,
   "id": "3976a18d-ec16-40ac-8db4-bf89cf85f2ee",
   "metadata": {},
   "outputs": [],
   "source": [
    "# group by year:\n",
    "df_count = my_df.groupby(by='forAge2017').mean_2017.count()"
   ]
  },
  {
   "cell_type": "code",
   "execution_count": 28,
   "id": "57116431-d5ee-4649-a9d5-ebd05b56f921",
   "metadata": {},
   "outputs": [
    {
     "data": {
      "image/png": "[encoded data removed]",
      "text/plain": [
       "<Figure size 432x288 with 1 Axes>"
      ]
     },
     "metadata": {
      "needs_background": "light"
     },
     "output_type": "display_data"
    }
   ],
   "source": [
    "#%matplotlib widget\n",
    "%matplotlib inline\n",
    "fig, axs = plt.subplots(1, 1, figsize=(6, 4))\n",
    "df_count.plot.bar(ax=axs)#\n",
    "axs.set_xlabel('Forest age')\n",
    "axs.set_ylabel('Num. of secondary pixels')\n",
    "axs.set_ylim([0, 7000])\n",
    "fig.tight_layout()"
   ]
  },
  {
   "cell_type": "markdown",
   "id": "cbf11ee5-ca5b-4b7f-9c4c-02a18e4a678a",
   "metadata": {},
   "source": [
    "## Intersect with Emprapa restoration polygons"
   ]
  },
  {
   "cell_type": "code",
   "execution_count": 29,
   "id": "00e301d7-bbe1-45f3-9b22-fac50946cc52",
   "metadata": {},
   "outputs": [
    {
     "data": {
      "text/html": [
       "<div>\n",
       "<style scoped>\n",
       "    .dataframe tbody tr th:only-of-type {\n",
       "        vertical-align: middle;\n",
       "    }\n",
       "\n",
       "    .dataframe tbody tr th {\n",
       "        vertical-align: top;\n",
       "    }\n",
       "\n",
       "    .dataframe thead th {\n",
       "        text-align: right;\n",
       "    }\n",
       "</style>\n",
       "<table border=\"1\" class=\"dataframe\">\n",
       "  <thead>\n",
       "    <tr style=\"text-align: right;\">\n",
       "      <th></th>\n",
       "      <th>Hectares</th>\n",
       "      <th>Nome_Área</th>\n",
       "      <th>Ano_Planti</th>\n",
       "      <th>Observaç</th>\n",
       "      <th>Método</th>\n",
       "      <th>areas</th>\n",
       "      <th>geometry</th>\n",
       "    </tr>\n",
       "  </thead>\n",
       "  <tbody>\n",
       "    <tr>\n",
       "      <th>0</th>\n",
       "      <td>6.153048</td>\n",
       "      <td>Pau a Pique nº 02</td>\n",
       "      <td>2012</td>\n",
       "      <td>Plantio em manutenção no ano de 2015</td>\n",
       "      <td>Plantio em área total</td>\n",
       "      <td>paupique</td>\n",
       "      <td>POLYGON ((296317.536 8943041.701, 296044.675 8...</td>\n",
       "    </tr>\n",
       "    <tr>\n",
       "      <th>1</th>\n",
       "      <td>12.790814</td>\n",
       "      <td>Pau a Pique nº 01</td>\n",
       "      <td>2012</td>\n",
       "      <td>Plantio em manutenção no ano de 2015</td>\n",
       "      <td>Plantio em área total</td>\n",
       "      <td>paupique</td>\n",
       "      <td>POLYGON ((297621.616 8943183.048, 297718.715 8...</td>\n",
       "    </tr>\n",
       "    <tr>\n",
       "      <th>2</th>\n",
       "      <td>3.080031</td>\n",
       "      <td>Pau a Pique nº 03</td>\n",
       "      <td>2012</td>\n",
       "      <td>Plantio em manutenção no ano de 2015</td>\n",
       "      <td>Plantio em área total</td>\n",
       "      <td>paupique</td>\n",
       "      <td>POLYGON ((297544.186 8943582.409, 297552.651 8...</td>\n",
       "    </tr>\n",
       "    <tr>\n",
       "      <th>3</th>\n",
       "      <td>4.834484</td>\n",
       "      <td>Linha F Nº 01</td>\n",
       "      <td>2013</td>\n",
       "      <td>Plantio em manutenção no ano de 2015</td>\n",
       "      <td>Plantio de enriquecimento</td>\n",
       "      <td>linhaf</td>\n",
       "      <td>POLYGON ((301903.874 8942110.007, 301995.647 8...</td>\n",
       "    </tr>\n",
       "    <tr>\n",
       "      <th>4</th>\n",
       "      <td>2.288757</td>\n",
       "      <td>Linha F Nº 01</td>\n",
       "      <td>2013</td>\n",
       "      <td>Plantio em manutenção no ano de 2015</td>\n",
       "      <td>Plantio de enriquecimento</td>\n",
       "      <td>linhaf</td>\n",
       "      <td>POLYGON ((301363.784 8941430.549, 301401.403 8...</td>\n",
       "    </tr>\n",
       "  </tbody>\n",
       "</table>\n",
       "</div>"
      ],
      "text/plain": [
       "    Hectares          Nome_Área  Ano_Planti  \\\n",
       "0   6.153048  Pau a Pique nº 02        2012   \n",
       "1  12.790814  Pau a Pique nº 01        2012   \n",
       "2   3.080031  Pau a Pique nº 03        2012   \n",
       "3   4.834484      Linha F Nº 01        2013   \n",
       "4   2.288757      Linha F Nº 01        2013   \n",
       "\n",
       "                               Observaç                     Método     areas  \\\n",
       "0  Plantio em manutenção no ano de 2015      Plantio em área total  paupique   \n",
       "1  Plantio em manutenção no ano de 2015      Plantio em área total  paupique   \n",
       "2  Plantio em manutenção no ano de 2015      Plantio em área total  paupique   \n",
       "3  Plantio em manutenção no ano de 2015  Plantio de enriquecimento    linhaf   \n",
       "4  Plantio em manutenção no ano de 2015  Plantio de enriquecimento    linhaf   \n",
       "\n",
       "                                            geometry  \n",
       "0  POLYGON ((296317.536 8943041.701, 296044.675 8...  \n",
       "1  POLYGON ((297621.616 8943183.048, 297718.715 8...  \n",
       "2  POLYGON ((297544.186 8943582.409, 297552.651 8...  \n",
       "3  POLYGON ((301903.874 8942110.007, 301995.647 8...  \n",
       "4  POLYGON ((301363.784 8941430.549, 301401.403 8...  "
      ]
     },
     "execution_count": 29,
     "metadata": {},
     "output_type": "execute_result"
    }
   ],
   "source": [
    "# load the Embrapa polygons:\n",
    "df_inSitu = gpd.read_file(r'inSitu/Polygons_restoration_areas.shp')\n",
    "df_inSitu.head()"
   ]
  },
  {
   "cell_type": "code",
   "execution_count": 30,
   "id": "16d2f75e-f722-443d-b94c-47a4e0dfe155",
   "metadata": {},
   "outputs": [
    {
     "data": {
      "text/plain": [
       "<AxesSubplot:>"
      ]
     },
     "execution_count": 30,
     "metadata": {},
     "output_type": "execute_result"
    },
    {
     "data": {
      "image/png": "[encoded data removed]",
      "text/plain": [
       "<Figure size 432x288 with 1 Axes>"
      ]
     },
     "metadata": {
      "needs_background": "light"
     },
     "output_type": "display_data"
    }
   ],
   "source": [
    "# convert to Equi7 SA projection\n",
    "df_inSitu = df_inSitu.to_crs(PROJ)\n",
    "df_inSitu.plot(column='Ano_Planti')"
   ]
  },
  {
   "cell_type": "code",
   "execution_count": 31,
   "id": "fa8fc651-5123-4f1b-8f55-1a6a2593fa3d",
   "metadata": {},
   "outputs": [
    {
     "ename": "NoDataInBounds",
     "evalue": "No data found in bounds. Data variable: mean_2017",
     "output_type": "error",
     "traceback": [
      "\u001b[0;31m---------------------------------------------------------------------------\u001b[0m",
      "\u001b[0;31mNoDataInBounds\u001b[0m                            Traceback (most recent call last)",
      "\u001b[0;32m/tmp/ipykernel_3928253/2172230584.py\u001b[0m in \u001b[0;36m<module>\u001b[0;34m\u001b[0m\n\u001b[0;32m----> 1\u001b[0;31m \u001b[0mmy_ds_clipped\u001b[0m \u001b[0;34m=\u001b[0m \u001b[0mmy_ds\u001b[0m\u001b[0;34m.\u001b[0m\u001b[0mrio\u001b[0m\u001b[0;34m.\u001b[0m\u001b[0mclip\u001b[0m\u001b[0;34m(\u001b[0m\u001b[0mdf_inSitu\u001b[0m\u001b[0;34m.\u001b[0m\u001b[0mgeometry\u001b[0m\u001b[0;34m.\u001b[0m\u001b[0mvalues\u001b[0m\u001b[0;34m)\u001b[0m\u001b[0;34m\u001b[0m\u001b[0;34m\u001b[0m\u001b[0m\n\u001b[0m",
      "\u001b[0;32m~/miniconda3/envs/yeoda/lib/python3.7/site-packages/rioxarray/raster_dataset.py\u001b[0m in \u001b[0;36mclip\u001b[0;34m(self, geometries, crs, all_touched, drop, invert, from_disk)\u001b[0m\n\u001b[1;32m    344\u001b[0m                         \u001b[0mdrop\u001b[0m\u001b[0;34m=\u001b[0m\u001b[0mdrop\u001b[0m\u001b[0;34m,\u001b[0m\u001b[0;34m\u001b[0m\u001b[0;34m\u001b[0m\u001b[0m\n\u001b[1;32m    345\u001b[0m                         \u001b[0minvert\u001b[0m\u001b[0;34m=\u001b[0m\u001b[0minvert\u001b[0m\u001b[0;34m,\u001b[0m\u001b[0;34m\u001b[0m\u001b[0;34m\u001b[0m\u001b[0m\n\u001b[0;32m--> 346\u001b[0;31m                         \u001b[0mfrom_disk\u001b[0m\u001b[0;34m=\u001b[0m\u001b[0mfrom_disk\u001b[0m\u001b[0;34m,\u001b[0m\u001b[0;34m\u001b[0m\u001b[0;34m\u001b[0m\u001b[0m\n\u001b[0m\u001b[1;32m    347\u001b[0m                     )\n\u001b[1;32m    348\u001b[0m                 )\n",
      "\u001b[0;32m~/miniconda3/envs/yeoda/lib/python3.7/site-packages/rioxarray/raster_array.py\u001b[0m in \u001b[0;36mclip\u001b[0;34m(self, geometries, crs, all_touched, drop, invert, from_disk)\u001b[0m\n\u001b[1;32m    786\u001b[0m         ):\n\u001b[1;32m    787\u001b[0m             raise NoDataInBounds(\n\u001b[0;32m--> 788\u001b[0;31m                 \u001b[0;34mf\"No data found in bounds.{_get_data_var_message(self._obj)}\"\u001b[0m\u001b[0;34m\u001b[0m\u001b[0;34m\u001b[0m\u001b[0m\n\u001b[0m\u001b[1;32m    789\u001b[0m             )\n\u001b[1;32m    790\u001b[0m \u001b[0;34m\u001b[0m\u001b[0m\n",
      "\u001b[0;31mNoDataInBounds\u001b[0m: No data found in bounds. Data variable: mean_2017"
     ]
    }
   ],
   "source": [
    "my_ds_clipped = my_ds.rio.clip(df_inSitu.geometry.values)"
   ]
  },
  {
   "cell_type": "code",
   "execution_count": 32,
   "id": "3d0eb53a-b0fe-4f7c-9faa-d5cb86e0e0d7",
   "metadata": {},
   "outputs": [
    {
     "ename": "NameError",
     "evalue": "name 'my_ds_clipped' is not defined",
     "output_type": "error",
     "traceback": [
      "\u001b[0;31m---------------------------------------------------------------------------\u001b[0m",
      "\u001b[0;31mNameError\u001b[0m                                 Traceback (most recent call last)",
      "\u001b[0;32m/tmp/ipykernel_3928253/1521169800.py\u001b[0m in \u001b[0;36m<module>\u001b[0;34m\u001b[0m\n\u001b[0;32m----> 1\u001b[0;31m \u001b[0mmy_ds_clipped\u001b[0m\u001b[0;34m.\u001b[0m\u001b[0mmean_2017\u001b[0m\u001b[0;34m.\u001b[0m\u001b[0mplot\u001b[0m\u001b[0;34m(\u001b[0m\u001b[0;34m)\u001b[0m\u001b[0;34m\u001b[0m\u001b[0;34m\u001b[0m\u001b[0m\n\u001b[0m",
      "\u001b[0;31mNameError\u001b[0m: name 'my_ds_clipped' is not defined"
     ]
    }
   ],
   "source": [
    "my_ds_clipped.mean_2017.plot()"
   ]
  },
  {
   "cell_type": "code",
   "execution_count": null,
   "id": "4fa90d2a-e9ab-4ff4-a1a7-7767e31bf257",
   "metadata": {},
   "outputs": [],
   "source": [
    "# convert geopands polygon to xarray dataset matching exsisting xarray dataset\n",
    "out_grid = core.make_geocube(\n",
    "    vector_data=df_inSitu,\n",
    "    measurements=[\"Ano_Planti\"],\n",
    "    like=my_ds_clipped, # ensure the data are on the same grid\n",
    ")"
   ]
  },
  {
   "cell_type": "code",
   "execution_count": null,
   "id": "2386aace-96cc-48f3-a689-785f1822d25f",
   "metadata": {},
   "outputs": [],
   "source": [
    "out_grid.Ano_Planti.plot()"
   ]
  },
  {
   "cell_type": "code",
   "execution_count": null,
   "id": "8b6700ba-257e-48ad-ad34-3275a161a73d",
   "metadata": {},
   "outputs": [],
   "source": [
    "# mearge the xarray datasets:\n",
    "my_ds_S1_inSitu = xr.merge([out_grid, my_ds_clipped], join='inner') "
   ]
  },
  {
   "cell_type": "code",
   "execution_count": null,
   "id": "a451e53d-d88e-4040-82c5-e7f90394b7a0",
   "metadata": {},
   "outputs": [],
   "source": [
    "# rename the refernce variable and substruct from 2018\n",
    "my_ds_S1_inSitu = my_ds_S1_inSitu.rename({'Ano_Planti': 'forAgeRef'})\n",
    "my_ds_S1_inSitu['forAgeRef'] = 2018 - my_ds_S1_inSitu['forAgeRef']"
   ]
  },
  {
   "cell_type": "code",
   "execution_count": null,
   "id": "c5abe135-36f6-4e2d-a12b-1309ca33733c",
   "metadata": {},
   "outputs": [],
   "source": [
    "# convert to pandas data frame\n",
    "my_df_S1_inSitu = my_ds_S1_inSitu.to_dataframe()\n",
    "# drop unneccery data:\n",
    "my_df_S1_inSitu.drop(columns='spatial_ref', inplace=True)\n",
    "my_df_S1_inSitu.dropna(subset=['forAge2017'], inplace=True)"
   ]
  },
  {
   "cell_type": "code",
   "execution_count": null,
   "id": "6be35c6d-961a-430c-9ee6-6b7da4dcc89c",
   "metadata": {},
   "outputs": [],
   "source": [
    "my_df_S1_inSitu"
   ]
  },
  {
   "cell_type": "code",
   "execution_count": null,
   "id": "82aadf05-20c9-4af5-8480-1568be46d08f",
   "metadata": {},
   "outputs": [],
   "source": [
    "# group by year:\n",
    "my_df_S1_inSitu_med = my_df_S1_inSitu.groupby(by='forAgeRef').mean()"
   ]
  },
  {
   "cell_type": "code",
   "execution_count": null,
   "id": "41ae90b4-e505-48a5-beed-1192b31ff58c",
   "metadata": {},
   "outputs": [],
   "source": [
    "#%matplotlib widget\n",
    "#%matplotlib inline\n",
    "#\n",
    "fig, axs = plt.subplots(2, 3, figsize=(10, 5.9), sharex=True)\n",
    "# add plots\n",
    "my_df_S1_inSitu_med.mean_2017.plot(style='o', grid=True, ax=axs[0, 0], title='Mean', **{'markersize': 4, 'color':'green'})\n",
    "my_df_S1_inSitu_med.std_2017.plot(style='o', grid=True, ax=axs[0, 1], title='Std', **{'markersize': 4, 'color':'green'})\n",
    "my_df_S1_inSitu_med.dRange_2017.plot(style='o', grid=True, ax=axs[0, 2], title='Max - Min', **{'markersize': 4, 'color':'green'})\n",
    "#\n",
    "my_df_S1_inSitu_med.median_2017.plot(style='o', grid=True, ax=axs[1, 0], title='Median', **{'markersize': 4, 'color':'green'})\n",
    "my_df_S1_inSitu_med.MAD_2017.plot(style='o', grid=True, ax=axs[1, 1], title='MAD', **{'markersize': 4, 'color':'green'})\n",
    "my_df_S1_inSitu_med.qDiff_2017.plot(style='o', grid=True, ax=axs[1, 2], title='Q90 - Q10', **{'markersize': 4, 'color':'green'})\n",
    "#\n",
    "axs[0, 0].set_ylabel('[dB]')\n",
    "axs[0, 1].set_ylabel('')\n",
    "axs[0, 2].set_ylabel('')\n",
    "#\n",
    "axs[1, 0].set_ylabel('[dB]')\n",
    "axs[1, 1].set_ylabel('')\n",
    "axs[1, 2].set_ylabel('')\n",
    "#\n",
    "fig.tight_layout()"
   ]
  },
  {
   "cell_type": "markdown",
   "id": "813a870c-60e0-4804-87f9-d0d31a4cfeeb",
   "metadata": {},
   "source": [
    "## Analyse the recovery time:"
   ]
  },
  {
   "cell_type": "markdown",
   "id": "122556a3-cdbe-4065-8209-6ab40e7ef98a",
   "metadata": {},
   "source": [
    "Select ts with disturbance-recovery pattern "
   ]
  },
  {
   "cell_type": "code",
   "execution_count": null,
   "id": "8af0ec4d-0fec-4716-80d7-5f102c79e49e",
   "metadata": {},
   "outputs": [],
   "source": [
    "# mearge the arrays into new dataset:\n",
    "mearged_ds = xr.merge([my_out, forAgeLULC_ds])"
   ]
  },
  {
   "cell_type": "code",
   "execution_count": null,
   "id": "a3d2711a-a112-40de-a3a8-17282709a0a5",
   "metadata": {},
   "outputs": [],
   "source": [
    "#%matplotlib widget\n",
    "#%matplotlib inline\n",
    "#\n",
    "# eception label selection:\n",
    "# 0 - tipical disturbance (including aklso no recovery!!! see TS_end_flag and TS_end_flag_long)\n",
    "# 1 - no data\n",
    "# 2 - no disturbance\n",
    "# 3 - atipical disturbance (mean TS is above the refernce bounds)\n",
    "# ------------\n",
    "# TS_end_flag:\n",
    "# -1 - below the reference\n",
    "#  0 - in reference bounds\n",
    "#  1 - above the reference\n",
    "# -------------------------------------------------------------------------------\n",
    "recov_da = mearged_ds.where((mearged_ds.exception_label==0) & (mearged_ds.max_mag>0) & (mearged_ds.TS_end_flag>=0))"
   ]
  },
  {
   "cell_type": "code",
   "execution_count": null,
   "id": "7ecafa64-9a51-4b41-b8ac-9de747769b08",
   "metadata": {},
   "outputs": [],
   "source": [
    "recov_da['t_seg'] = np.fabs(recov_da['t_pre']) + np.fabs(recov_da['t_post'])"
   ]
  },
  {
   "cell_type": "code",
   "execution_count": null,
   "id": "e9af6b64-33ac-4840-8ca9-c68adcf5089e",
   "metadata": {},
   "outputs": [],
   "source": [
    "bb = recov_da[['t_seg', 'max_mag']]\n",
    "#\n",
    "f, ax = plt.subplots(figsize=(6, 6))\n",
    "sns.scatterplot(data=bb.to_dataframe(), x=\"t_seg\", y=\"max_mag\", s=5, color=\".15\")\n",
    "sns.histplot(data=bb.to_dataframe(), x=\"t_seg\", y=\"max_mag\", bins=50, \n",
    "             pthresh=0.1, cmap=\"mako\", cbar=True, cbar_kws=dict(shrink=.75), stat='percent', \n",
    "             log_scale=[False, False])\n",
    "#sns.kdeplot(data=bb.to_dataframe(), x=\"t_seg\", y=\"max_mag\", levels=5, color=\"w\", linewidths=1)"
   ]
  },
  {
   "cell_type": "code",
   "execution_count": null,
   "id": "15ed66fd-65de-4e31-986b-efb0d4c98dc3",
   "metadata": {},
   "outputs": [],
   "source": []
  }
 ],
 "metadata": {
  "kernelspec": {
   "display_name": "Python 3 (ipykernel)",
   "language": "python",
   "name": "python3"
  },
  "language_info": {
   "codemirror_mode": {
    "name": "ipython",
    "version": 3
   },
   "file_extension": ".py",
   "mimetype": "text/x-python",
   "name": "python",
   "nbconvert_exporter": "python",
   "pygments_lexer": "ipython3",
   "version": "3.7.13"
  }
 },
 "nbformat": 4,
 "nbformat_minor": 5
}
