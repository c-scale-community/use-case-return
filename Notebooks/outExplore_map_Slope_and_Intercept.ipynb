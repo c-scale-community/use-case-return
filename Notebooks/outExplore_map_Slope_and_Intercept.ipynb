{
 "cells": [
  {
   "cell_type": "markdown",
   "id": "006217e4-3993-4c5e-8750-b0832b338e8a",
   "metadata": {
    "tags": []
   },
   "source": [
    "## Do space-for-time over several chanks and map the fitted slope and intercept"
   ]
  },
  {
   "cell_type": "code",
   "execution_count": 80,
   "id": "0d731dd9-1564-4b80-ad7c-5d27e6c921df",
   "metadata": {},
   "outputs": [],
   "source": [
    "import os\n",
    "import xarray as xr\n",
    "import rioxarray\n",
    "from rioxarray.merge import merge_datasets, merge_arrays\n",
    "import numpy as np\n",
    "import geopandas as gpd\n",
    "import pandas as pd\n",
    "#\n",
    "from sklearn.preprocessing import MinMaxScaler\n",
    "#\n",
    "import matplotlib.pyplot as plt\n",
    "from sklearn.linear_model import LinearRegression\n",
    "from sklearn.metrics import mean_squared_error\n",
    "#\n",
    "#%matplotlib widget\n",
    "#%matplotlib inline"
   ]
  },
  {
   "cell_type": "markdown",
   "id": "61420dda-c56e-46ec-8b03-80487e6ad265",
   "metadata": {},
   "source": [
    "Set the tile, orbit, and polarisation to read:\n",
    "(currently for tiles within the specified test areas in Para and Rondonia)"
   ]
  },
  {
   "cell_type": "code",
   "execution_count": 2,
   "id": "8ed5f29e-dea4-428c-8b10-16b6b0eb9e25",
   "metadata": {},
   "outputs": [],
   "source": [
    "#myTile = 'E066N060T3' # Rondonia\n",
    "#myOrbit = 'D156' # Rondonia\n",
    "#\n",
    "myTile = 'E078N066T3' # Para\n",
    "myOrbit = 'D039' # Para\n",
    "#\n",
    "myPol = 'VH'"
   ]
  },
  {
   "cell_type": "code",
   "execution_count": 3,
   "id": "35640ad7-4975-4827-b2b2-845d8370ca71",
   "metadata": {},
   "outputs": [],
   "source": [
    "# set the folter wih the output files:\n",
    "data_folder = r'/project/return/Share/mm/S1_SA_TEST_UPSCALE/TILE_WISE/AOI_PA/' +  myTile "
   ]
  },
  {
   "cell_type": "code",
   "execution_count": 4,
   "id": "e95c314c-d327-4a52-aecc-f619b4b16b38",
   "metadata": {},
   "outputs": [],
   "source": [
    "# Equi7 SA wkt:\n",
    "PROJ = 'PROJCS[\"Azimuthal_Equidistant\",GEOGCS[\"GCS_WGS_1984\",DATUM[\"D_WGS_1984\",SPHEROID[\"WGS_1984\",6378137.0,298.257223563]],PRIMEM[\"Greenwich\",0.0],UNIT[\"Degree\",0.017453292519943295]],PROJECTION[\"Azimuthal_Equidistant\"],PARAMETER[\"false_easting\",7257179.23559],PARAMETER[\"false_northing\",5592024.44605],PARAMETER[\"central_meridian\",-60.5],PARAMETER[\"latitude_of_origin\",-14.0],UNIT[\"Meter\",1.0]]'"
   ]
  },
  {
   "cell_type": "code",
   "execution_count": 77,
   "id": "8a287e61-c85a-4cbe-9943-731f21cd8404",
   "metadata": {},
   "outputs": [],
   "source": [
    "# specify variables to read from the output:\n",
    "myVariable_list = ['q90_2017', 'q10_2017']\n",
    "# specify the number of chunks to consider in calculation of slope and intercept:\n",
    "NumChunks = 4\n",
    "# specify the starting chank:\n",
    "ChunkStart = 1"
   ]
  },
  {
   "cell_type": "code",
   "execution_count": 78,
   "id": "5c7c304a-bb64-4d44-9802-5cddd2763be1",
   "metadata": {},
   "outputs": [],
   "source": []
  },
  {
   "cell_type": "code",
   "execution_count": 79,
   "id": "9b68e092-3b8f-4df2-88d9-b527584b5fcb",
   "metadata": {},
   "outputs": [],
   "source": [
    "# read multiple ckunks:\n",
    "ChunkDatasetList = []\n",
    "# set the rwos and columns:\n",
    "myCols, myRows = np.meshgrid(np.arange(ChunkStart, ChunkStart + NumChunks), np.arange(ChunkStart, ChunkStart + NumChunks)) # Para\n",
    "# read each one\n",
    "for myRow, myCol in zip(myRows.flatten(), myCols.flatten()):\n",
    "    # set filename:\n",
    "    fileName = myTile + '_' + str(myRow) + '_' + str(myCol) + '_250_' + myOrbit + '_'+ myPol + '.nc'\n",
    "    folder_name = str(myRow + 1) + '_' + str(myCol + 1)\n",
    "    if os.path.exists(os.path.join(data_folder, folder_name, fileName)):\n",
    "        aux_ds = rioxarray.open_rasterio(os.path.join(data_folder, folder_name, fileName), variable=myVariable_list)\n",
    "        # set crs:\n",
    "        aux_ds.rio.write_crs(PROJ, inplace=True)\n",
    "        ChunkDatasetList.append(aux_ds)      "
   ]
  },
  {
   "cell_type": "code",
   "execution_count": 82,
   "id": "9effc3e4-f473-4284-beed-34c6004a3309",
   "metadata": {},
   "outputs": [],
   "source": [
    "# mearge chanks spatialy:\n",
    "my_out = merge_datasets(ChunkDatasetList)   "
   ]
  },
  {
   "cell_type": "markdown",
   "id": "1a7ce4ba-8dee-48ac-a3c8-2fef3c2cbf8b",
   "metadata": {},
   "source": [
    "Read forest age and LULC data:"
   ]
  },
  {
   "cell_type": "code",
   "execution_count": 83,
   "id": "d27fd526-5b4e-4c98-9edb-30a604ff2de4",
   "metadata": {},
   "outputs": [],
   "source": [
    "# fileName2 = r'myforAgeLCLU_2017_2020_equi7_E066N060T3_20m.tif' # Rondonia\n",
    "fileName2 = r'/home/return-mmilenkovic/mm_tools/use-case-return/input/myforAgeLCLU_2017_2020_equi7_E078N066T3_20m.tif' # Para\n",
    "forAgeLULC = rioxarray.open_rasterio(fileName2, band_as_variable=True)\n",
    "# convert to dataset:\n",
    "forAgeLULC_ds = forAgeLULC.to_dataset('band').rename({1: 'forAge2017', 2: 'lulc2018', 3: 'lulc2019', 4: 'forAge2020', 5: 'ECO_ID'})"
   ]
  },
  {
   "cell_type": "markdown",
   "id": "cc6417e8-8663-4a7c-b7d7-c31086bb5cf7",
   "metadata": {},
   "source": [
    "Chek if the coordinates match"
   ]
  },
  {
   "cell_type": "code",
   "execution_count": 84,
   "id": "f0d8777f-0d0e-4910-9768-586d2dad641f",
   "metadata": {},
   "outputs": [
    {
     "data": {
      "text/plain": [
       "False"
      ]
     },
     "execution_count": 84,
     "metadata": {},
     "output_type": "execute_result"
    }
   ],
   "source": [
    "set(my_out.y.values).issubset(set(forAgeLULC_ds.y.values))"
   ]
  },
  {
   "cell_type": "code",
   "execution_count": 85,
   "id": "cc5670ba-69a7-4e5a-bcaf-df5a148c076a",
   "metadata": {},
   "outputs": [
    {
     "data": {
      "text/plain": [
       "False"
      ]
     },
     "execution_count": 85,
     "metadata": {},
     "output_type": "execute_result"
    }
   ],
   "source": [
    "set(my_out.x.values).issubset(set(forAgeLULC_ds.x.values))"
   ]
  },
  {
   "cell_type": "markdown",
   "id": "653511dc-c627-4126-9c74-f7fa5838760d",
   "metadata": {},
   "source": [
    "Correct coordinates (temporary soluton!!!)"
   ]
  },
  {
   "cell_type": "code",
   "execution_count": 86,
   "id": "6d9fd399-a18c-4617-8315-b6073a9c5e4f",
   "metadata": {},
   "outputs": [],
   "source": [
    "forAgeLULC_ds = forAgeLULC_ds.assign_coords(x=forAgeLULC_ds.x - 10 )"
   ]
  },
  {
   "cell_type": "code",
   "execution_count": 87,
   "id": "fd449ba8-b884-49f7-963e-d3baf3650cef",
   "metadata": {},
   "outputs": [],
   "source": [
    "forAgeLULC_ds = forAgeLULC_ds.assign_coords(y=forAgeLULC_ds.y + 10 )"
   ]
  },
  {
   "cell_type": "markdown",
   "id": "f5d1b479-10a2-4205-8012-f91bef5ce07d",
   "metadata": {},
   "source": [
    "Join datasets and clip forAgeLCLU to my_out coordinates:"
   ]
  },
  {
   "cell_type": "code",
   "execution_count": 88,
   "id": "76b262ce-3af7-42a7-a782-94abe882bb5a",
   "metadata": {},
   "outputs": [],
   "source": [
    "all_ds = xr.merge([my_out.isel(band=0, drop=True), forAgeLULC_ds], join='inner') "
   ]
  },
  {
   "cell_type": "markdown",
   "id": "48afc77b-f7bc-4b60-bdd9-7f5d23af4843",
   "metadata": {},
   "source": [
    "## Add annual statistics"
   ]
  },
  {
   "cell_type": "code",
   "execution_count": 89,
   "id": "ca0241b2-e82c-4fb4-8f2a-71c1312b46d8",
   "metadata": {},
   "outputs": [],
   "source": [
    "# Add the combined annual statistics:\n",
    "all_ds['qDiff_2017'] = all_ds['q90_2017'] - all_ds['q10_2017']"
   ]
  },
  {
   "cell_type": "markdown",
   "id": "ae387bf1-5aa8-470b-a9fa-77109ba0ad67",
   "metadata": {},
   "source": [
    "## Convert only Forest pixels to the panda dataframe"
   ]
  },
  {
   "cell_type": "code",
   "execution_count": 90,
   "id": "aff79a04-706e-41c8-86cd-b237d23db779",
   "metadata": {},
   "outputs": [],
   "source": [
    "# select secondary and OLD forest and convert to pandas data frame\n",
    "my_df = all_ds.where((all_ds['forAge2017'] > 0) | (all_ds['forAge2017'] == 50)).to_dataframe()\n",
    "# drop unneccery data:\n",
    "my_df.drop(columns='spatial_ref', inplace=True)\n",
    "my_df.dropna(subset=['forAge2017'], inplace=True)"
   ]
  },
  {
   "cell_type": "markdown",
   "id": "0bba30c0-8ca8-42bb-9d6e-0a9657637d76",
   "metadata": {},
   "source": [
    "## Split Old forest and Secoundary forest"
   ]
  },
  {
   "cell_type": "code",
   "execution_count": 91,
   "id": "782878bb-1e51-4690-8cab-4827026d7fea",
   "metadata": {},
   "outputs": [],
   "source": [
    "# get secondary forest pixels\n",
    "my_df_secFor = all_ds.where((all_ds['forAge2017'] > 0) & (all_ds['forAge2017'] < 50)).to_dataframe()\n",
    "my_df_secFor.drop(columns='spatial_ref', inplace=True)\n",
    "my_df_secFor.dropna(subset=['forAge2017'], inplace=True)\n",
    "# get old forest pixels:\n",
    "my_df_oldFor = all_ds.where(all_ds['forAge2017'] == 50).to_dataframe()\n",
    "my_df_oldFor.drop(columns='spatial_ref', inplace=True)\n",
    "my_df_oldFor.dropna(subset=['forAge2017'], inplace=True)"
   ]
  },
  {
   "cell_type": "markdown",
   "id": "01dedf59-2b21-474e-9477-4eb9576b54b7",
   "metadata": {},
   "source": [
    "## Get some info about the number of avaliable secoundary forest pixels"
   ]
  },
  {
   "cell_type": "code",
   "execution_count": 92,
   "id": "f956d0ea-f885-4635-b3b2-766d946b2dcb",
   "metadata": {},
   "outputs": [],
   "source": [
    "# get the number of secFor pixels per age\n",
    "secFor_count = my_df_secFor.groupby(by='forAge2017').count()"
   ]
  },
  {
   "cell_type": "code",
   "execution_count": 93,
   "id": "21bbe44b-9978-44a0-9dbf-64fdc24e4fdb",
   "metadata": {},
   "outputs": [],
   "source": [
    "# get the total numbert of secoundary forest pixels:\n",
    "NumSecFor = secFor_count.q90_2017.values.sum()\n",
    "# get the average num of secFor pixels in 5 count-largest ages:\n",
    "myPixNum = np.int32(np.floor(np.mean(secFor_count.q90_2017.nlargest(5).values)))\n",
    "# get the average num of secFor pixels in 5 count-smallest ages:\n",
    "myPixNum_smallest = np.int32(np.floor(np.mean(secFor_count.q90_2017.nsmallest(5).values)))"
   ]
  },
  {
   "cell_type": "code",
   "execution_count": 94,
   "id": "1ea31d7c-8f9e-43c9-af96-99b167777fca",
   "metadata": {},
   "outputs": [
    {
     "data": {
      "text/plain": [
       "165583"
      ]
     },
     "execution_count": 94,
     "metadata": {},
     "output_type": "execute_result"
    }
   ],
   "source": [
    "NumSecFor"
   ]
  },
  {
   "cell_type": "code",
   "execution_count": 95,
   "id": "9badebf2-33da-40e4-99a8-26e96a4492de",
   "metadata": {},
   "outputs": [
    {
     "data": {
      "text/plain": [
       "9216"
      ]
     },
     "execution_count": 95,
     "metadata": {},
     "output_type": "execute_result"
    }
   ],
   "source": [
    "myPixNum"
   ]
  },
  {
   "cell_type": "code",
   "execution_count": 96,
   "id": "96e5bae1-a2ef-4ea1-85f7-c3b43903f971",
   "metadata": {},
   "outputs": [
    {
     "data": {
      "text/plain": [
       "1307"
      ]
     },
     "execution_count": 96,
     "metadata": {},
     "output_type": "execute_result"
    }
   ],
   "source": [
    "myPixNum_smallest"
   ]
  },
  {
   "cell_type": "code",
   "execution_count": 97,
   "id": "e1a88187-68f5-4f55-9f42-4a0ebab25a93",
   "metadata": {},
   "outputs": [
    {
     "data": {
      "text/plain": [
       "6648"
      ]
     },
     "execution_count": 97,
     "metadata": {},
     "output_type": "execute_result"
    }
   ],
   "source": [
    "# get the average num of secFor pixels in the first 5 years:\n",
    "np.int32(np.floor(np.mean(secFor_count[:5].q90_2017.values)))"
   ]
  },
  {
   "cell_type": "code",
   "execution_count": 98,
   "id": "959f7172-5175-402b-b0f2-bf56063ae858",
   "metadata": {},
   "outputs": [
    {
     "data": {
      "text/plain": [
       "4458"
      ]
     },
     "execution_count": 98,
     "metadata": {},
     "output_type": "execute_result"
    }
   ],
   "source": [
    "# get the average num of secFor pixels in the first 5 years:\n",
    "np.int32(np.floor(np.mean(secFor_count.tail(5).q90_2017.values)))"
   ]
  },
  {
   "cell_type": "markdown",
   "id": "485c965d-da46-4a47-b6d0-f58c60a402af",
   "metadata": {},
   "source": [
    "# Plot the data"
   ]
  },
  {
   "cell_type": "code",
   "execution_count": 99,
   "id": "6fe2462a-5a1b-44d6-99b8-08dc31ca91ae",
   "metadata": {},
   "outputs": [],
   "source": [
    "# get the mean of the secFor data:\n",
    "my_df_secFor = my_df_secFor.reset_index()\n",
    "secFor_mean = my_df_secFor.groupby(by='forAge2017').mean()\n",
    "my_secForData = secFor_mean.drop(columns=['y', 'x'])"
   ]
  },
  {
   "cell_type": "code",
   "execution_count": 100,
   "id": "3a6d2dc1-7923-4308-a8d1-5574a3e5fcc8",
   "metadata": {},
   "outputs": [
    {
     "data": {
      "text/plain": [
       "<AxesSubplot:title={'center':'qDiff'}, xlabel='forAge2017'>"
      ]
     },
     "execution_count": 100,
     "metadata": {},
     "output_type": "execute_result"
    },
    {
     "data": {
      "image/png": "[encoded data removed]",
      "text/plain": [
       "<Figure size 432x288 with 1 Axes>"
      ]
     },
     "metadata": {
      "needs_background": "light"
     },
     "output_type": "display_data"
    }
   ],
   "source": [
    "# add plots\n",
    "my_secForData.qDiff_2017.plot(style='o', grid=True, title='qDiff', **{'markersize': 4, 'color':'green'})"
   ]
  },
  {
   "cell_type": "markdown",
   "id": "008eb6d4-e469-4505-a35e-0882956fa2a6",
   "metadata": {},
   "source": [
    "## Fit the model"
   ]
  },
  {
   "cell_type": "code",
   "execution_count": 101,
   "id": "18681461-246e-4d7c-8760-7158a9f7293f",
   "metadata": {},
   "outputs": [],
   "source": [
    "# prepare data for the MULTIVARIATE fit\n",
    "X = my_secForData.reset_index()[['forAge2017']]\n",
    "y = my_secForData.reset_index()[['qDiff_2017']]\n",
    "# fit the model\n",
    "lm = LinearRegression()\n",
    "model = lm.fit(X,y)"
   ]
  },
  {
   "cell_type": "code",
   "execution_count": 102,
   "id": "7f9358f3-d3ef-4ad5-9e4a-181a939a6928",
   "metadata": {},
   "outputs": [
    {
     "data": {
      "text/plain": [
       "array([[-0.00322056]])"
      ]
     },
     "execution_count": 102,
     "metadata": {},
     "output_type": "execute_result"
    }
   ],
   "source": [
    "model.coef_"
   ]
  },
  {
   "cell_type": "code",
   "execution_count": 103,
   "id": "538fec29-38d0-4af1-9f65-d426f540a843",
   "metadata": {},
   "outputs": [
    {
     "data": {
      "text/plain": [
       "array([2.78718525])"
      ]
     },
     "execution_count": 103,
     "metadata": {},
     "output_type": "execute_result"
    }
   ],
   "source": [
    "model.intercept_"
   ]
  },
  {
   "cell_type": "code",
   "execution_count": 104,
   "id": "46033c43-503f-414c-84ba-3e482f72d09d",
   "metadata": {},
   "outputs": [
    {
     "data": {
      "text/plain": [
       "0.40065985853475583"
      ]
     },
     "execution_count": 104,
     "metadata": {},
     "output_type": "execute_result"
    }
   ],
   "source": [
    "# the R2:\n",
    "model.score(X,y)"
   ]
  },
  {
   "cell_type": "code",
   "execution_count": 106,
   "id": "e0fb1bd6-fbbf-4d00-b230-e1053fb17788",
   "metadata": {},
   "outputs": [
    {
     "data": {
      "text/plain": [
       "0.03636863277623054"
      ]
     },
     "execution_count": 106,
     "metadata": {},
     "output_type": "execute_result"
    }
   ],
   "source": [
    "# the RMSE\n",
    "mean_squared_error(y, model.predict(X), squared=False)"
   ]
  },
  {
   "cell_type": "code",
   "execution_count": null,
   "id": "390b36ea-94a7-4bdf-97e8-2818a1bd629e",
   "metadata": {},
   "outputs": [],
   "source": []
  }
 ],
 "metadata": {
  "kernelspec": {
   "display_name": "Python 3 (ipykernel)",
   "language": "python",
   "name": "python3"
  },
  "language_info": {
   "codemirror_mode": {
    "name": "ipython",
    "version": 3
   },
   "file_extension": ".py",
   "mimetype": "text/x-python",
   "name": "python",
   "nbconvert_exporter": "python",
   "pygments_lexer": "ipython3",
   "version": "3.7.13"
  }
 },
 "nbformat": 4,
 "nbformat_minor": 5
}
