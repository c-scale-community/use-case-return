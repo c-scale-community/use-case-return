{
 "cells": [
  {
   "cell_type": "markdown",
   "id": "006217e4-3993-4c5e-8750-b0832b338e8a",
   "metadata": {
    "tags": []
   },
   "source": [
    "## Apply the time seres analysis per each x, y location (pixel) within a single Equi7grid tile"
   ]
  },
  {
   "cell_type": "code",
   "execution_count": 1,
   "id": "e23bdd37-cf3e-4e9a-bca1-de32d6dd377c",
   "metadata": {},
   "outputs": [],
   "source": [
    "import numpy as np\n",
    "import os, osr, glob\n",
    "import matplotlib.pyplot as plt\n",
    "%matplotlib inline\n",
    "from datetime import datetime\n",
    "import pandas as pd\n",
    "import xarray as xr\n",
    "import rioxarray\n",
    "import zarr\n",
    "# import TUW packages\n",
    "from yeoda.products.preprocessed import SIG0DataCube\n",
    "from geopathfinder.naming_conventions.yeoda_naming import YeodaFilename\n",
    "#\n",
    "%load_ext autoreload\n",
    "%autoreload 2\n",
    "%reload_ext autoreload\n",
    "# import my aux functions\n",
    "from auxilary_ts_tools_mm import plot_TS_fromPandaSeres, features_from_S1_TS, features_as_xrrray_ufunc"
   ]
  },
  {
   "cell_type": "markdown",
   "id": "159432e4-83fc-4206-8f51-794c4c18bc41",
   "metadata": {
    "jp-MarkdownHeadingCollapsed": true,
    "tags": []
   },
   "source": [
    "Specify the folders with a S1 datacube (a 300x300 m<sup>2</sup> Equi7Tile)"
   ]
  },
  {
   "cell_type": "code",
   "execution_count": 2,
   "id": "442ec10a-a468-440d-aee3-ec9e61e0e3d4",
   "metadata": {},
   "outputs": [],
   "source": [
    "tile_dir1_path = r'/project/return/Share/EODC_SA020M/V01R01/E078N066T3'\n",
    "tile_dir2_path = r'/project/return/Share/EODC_SA020M/V1M0R1/E078N066T3'\n",
    "#tile_dir1_path = r'/project/return/Share/EODC_SA020M/V01R01/E078N060T3'\n",
    "#tile_dir2_path = r'/project/return/Share/EODC_SA020M/V1M0R1/E078N060T3'\n",
    "#tile_dir1_path = r'/project/return/Share/EODC_SA020M/V01R01/E078N060T3'\n",
    "#tile_dir2_path = r'/project/return/Share/EODC_SA020M/V1M0R1/E051N060T3'\n",
    "#tile_dir1_path = r'/project/return/Share/EODC_SA020M/V01R01/E051N060T3'\n",
    "#tile_dir2_path = r'/project/return/Share/EODC_test1/E078N060T3'\n",
    "# specify other parameters:\n",
    "dimensions=['time', 'band', 'extra_field', 'sensor_field']\n",
    "#\n",
    "filepaths1 = glob.glob(os.path.join(tile_dir1_path,'*.tif'))\n",
    "filepaths2 = glob.glob(os.path.join(tile_dir2_path,'*.tif'))"
   ]
  },
  {
   "cell_type": "markdown",
   "id": "b7d7b85d-61db-410e-bd38-7e570f0e9192",
   "metadata": {},
   "source": [
    "Get the lists of all tiles in the two folders with data and check if they are identical:"
   ]
  },
  {
   "cell_type": "code",
   "execution_count": 3,
   "id": "82646bec-694e-4f8d-867e-281d891f6b88",
   "metadata": {},
   "outputs": [],
   "source": [
    "tile_names1 = [os.path.basename(aa) for aa in glob.glob(r'/project/return/Share/EODC_SA020M/V01R01/*')]\n",
    "tile_names2 = [os.path.basename(aa) for aa in glob.glob(r'/project/return/Share/EODC_SA020M/V1M0R1/*')]"
   ]
  },
  {
   "cell_type": "code",
   "execution_count": 4,
   "id": "f84dd649-d19c-4110-b794-5db356a5215c",
   "metadata": {},
   "outputs": [
    {
     "data": {
      "text/plain": [
       "106"
      ]
     },
     "execution_count": 4,
     "metadata": {},
     "output_type": "execute_result"
    }
   ],
   "source": [
    "len(tile_names1)"
   ]
  },
  {
   "cell_type": "code",
   "execution_count": 40,
   "id": "66659b56-8469-4954-80ca-8578e31bf455",
   "metadata": {},
   "outputs": [
    {
     "name": "stdout",
     "output_type": "stream",
     "text": [
      "['E051N060T3', 'E051N063T3', 'E051N066T3', 'E051N069T3', 'E051N072T3', 'E054N057T3', 'E054N060T3', 'E054N063T3', 'E054N066T3', 'E054N069T3', 'E054N072T3', 'E054N075T3', 'E057N054T3', 'E057N057T3', 'E057N060T3', 'E057N063T3', 'E057N066T3', 'E057N069T3', 'E057N072T3', 'E057N075T3', 'E060N054T3', 'E060N057T3', 'E060N060T3', 'E060N063T3', 'E060N066T3', 'E060N069T3', 'E060N072T3', 'E060N075T3', 'E063N051T3', 'E063N054T3', 'E063N057T3', 'E063N060T3', 'E063N063T3', 'E063N066T3', 'E063N069T3', 'E063N072T3', 'E063N075T3', 'E063N078T3', 'E066N051T3', 'E066N054T3', 'E066N057T3', 'E066N060T3', 'E066N063T3', 'E066N066T3', 'E066N069T3', 'E066N072T3', 'E066N075T3', 'E066N078T3', 'E069N051T3', 'E069N054T3', 'E069N057T3', 'E069N060T3', 'E069N063T3', 'E069N066T3', 'E069N069T3', 'E069N072T3', 'E069N075T3', 'E069N078T3', 'E069N081T3', 'E072N051T3', 'E072N054T3', 'E072N057T3', 'E072N060T3', 'E072N063T3', 'E072N066T3', 'E072N069T3', 'E072N072T3', 'E072N075T3', 'E072N078T3', 'E072N081T3', 'E075N051T3', 'E075N054T3', 'E075N057T3', 'E075N060T3', 'E075N063T3', 'E075N066T3', 'E075N069T3', 'E075N072T3', 'E075N075T3', 'E075N078T3', 'E078N054T3', 'E078N057T3', 'E078N060T3', 'E078N063T3', 'E078N066T3', 'E078N069T3', 'E078N072T3', 'E078N075T3', 'E081N054T3', 'E081N057T3', 'E081N060T3', 'E081N063T3', 'E081N066T3', 'E081N069T3', 'E081N072T3', 'E081N075T3', 'E084N060T3', 'E084N063T3', 'E084N066T3', 'E084N069T3', 'E084N072T3', 'E087N063T3', 'E087N066T3', 'E087N069T3', 'E090N066T3', 'E090N069T3']\n",
      "106\n"
     ]
    }
   ],
   "source": [
    "text_file = open(\"equi7tile_list.txt\", \"r\")\n",
    "lines = text_file.read().split('\\n')\n",
    "print(lines)\n",
    "print(len(lines))\n",
    "text_file.close()"
   ]
  },
  {
   "cell_type": "code",
   "execution_count": 30,
   "id": "a112e4bb-1b3e-4c26-b303-0bea2083e618",
   "metadata": {},
   "outputs": [
    {
     "data": {
      "text/plain": [
       "106"
      ]
     },
     "execution_count": 30,
     "metadata": {},
     "output_type": "execute_result"
    }
   ],
   "source": [
    "len(tile_names2)"
   ]
  },
  {
   "cell_type": "code",
   "execution_count": 31,
   "id": "1d37dd68-c9f0-412e-9c01-b84e5b09b5bb",
   "metadata": {},
   "outputs": [
    {
     "data": {
      "text/plain": [
       "106"
      ]
     },
     "execution_count": 31,
     "metadata": {},
     "output_type": "execute_result"
    }
   ],
   "source": [
    "len(tile_names1)"
   ]
  },
  {
   "cell_type": "code",
   "execution_count": 32,
   "id": "8b7acb5c-5db1-4926-a340-64ce27ec7de7",
   "metadata": {},
   "outputs": [
    {
     "data": {
      "text/plain": [
       "106"
      ]
     },
     "execution_count": 32,
     "metadata": {},
     "output_type": "execute_result"
    }
   ],
   "source": [
    "len(lines)"
   ]
  },
  {
   "cell_type": "markdown",
   "id": "1494cd28-caf6-42ed-a175-e9e24ef5de56",
   "metadata": {},
   "source": [
    "The tile that is missing in EODC_SA020M/V1M0R1"
   ]
  },
  {
   "cell_type": "code",
   "execution_count": 33,
   "id": "7eaee946-da02-421d-a332-ffe4691e80fa",
   "metadata": {},
   "outputs": [
    {
     "ename": "IndexError",
     "evalue": "index 0 is out of bounds for axis 0 with size 0",
     "output_type": "error",
     "traceback": [
      "\u001b[0;31m---------------------------------------------------------------------------\u001b[0m",
      "\u001b[0;31mIndexError\u001b[0m                                Traceback (most recent call last)",
      "\u001b[0;32m/tmp/ipykernel_2271005/4248658599.py\u001b[0m in \u001b[0;36m<module>\u001b[0;34m\u001b[0m\n\u001b[0;32m----> 1\u001b[0;31m \u001b[0mtile_names1\u001b[0m\u001b[0;34m[\u001b[0m\u001b[0mnp\u001b[0m\u001b[0;34m.\u001b[0m\u001b[0mwhere\u001b[0m\u001b[0;34m(\u001b[0m\u001b[0;34m~\u001b[0m\u001b[0mnp\u001b[0m\u001b[0;34m.\u001b[0m\u001b[0misin\u001b[0m\u001b[0;34m(\u001b[0m\u001b[0mtile_names1\u001b[0m\u001b[0;34m,\u001b[0m \u001b[0mtile_names2\u001b[0m\u001b[0;34m)\u001b[0m\u001b[0;34m)\u001b[0m\u001b[0;34m[\u001b[0m\u001b[0;36m0\u001b[0m\u001b[0;34m]\u001b[0m\u001b[0;34m[\u001b[0m\u001b[0;36m0\u001b[0m\u001b[0;34m]\u001b[0m\u001b[0;34m]\u001b[0m\u001b[0;34m\u001b[0m\u001b[0;34m\u001b[0m\u001b[0m\n\u001b[0m",
      "\u001b[0;31mIndexError\u001b[0m: index 0 is out of bounds for axis 0 with size 0"
     ]
    }
   ],
   "source": [
    "tile_names1[np.where(~np.isin(tile_names1, tile_names2))[0][0]]"
   ]
  },
  {
   "cell_type": "code",
   "execution_count": null,
   "id": "ed1114e7-1826-4e57-a899-a116d1bc33a8",
   "metadata": {},
   "outputs": [],
   "source": [
    "YeodaFilename.fields_def"
   ]
  },
  {
   "cell_type": "code",
   "execution_count": null,
   "id": "bdb91a49-f16f-48c2-a372-4635c3daf38c",
   "metadata": {},
   "outputs": [],
   "source": [
    "dimensions=['time', 'band', 'extra_field', 'sensor_field', 'data_version']"
   ]
  },
  {
   "cell_type": "markdown",
   "id": "8ba7deec-4470-49ad-b2a9-5621a3128955",
   "metadata": {},
   "source": [
    "Read the datacube:"
   ]
  },
  {
   "cell_type": "code",
   "execution_count": null,
   "id": "f3c93138-71b3-4590-b847-eb57d6812bdd",
   "metadata": {
    "tags": []
   },
   "outputs": [],
   "source": [
    "sig0_dc1 = SIG0DataCube(filepaths=filepaths1, dimensions=dimensions, filename_class=YeodaFilename, sres=20, continent='SA')\n",
    "sig0_dc2 = SIG0DataCube(filepaths=filepaths2, dimensions=dimensions, filename_class=YeodaFilename, sres=20, continent='SA')\n",
    "# get info:\n",
    "sig0_dc2.inventory[dimensions].head(5)"
   ]
  },
  {
   "cell_type": "markdown",
   "id": "bc0bb1be-e006-4ce6-9638-a6c4d7189dac",
   "metadata": {},
   "source": [
    "Filter by date:"
   ]
  },
  {
   "cell_type": "code",
   "execution_count": null,
   "id": "83f16e0d-9aa7-4788-8f51-98e5da2bf39f",
   "metadata": {
    "tags": []
   },
   "outputs": [],
   "source": [
    "#toi_start, toi_end = datetime(2017, 1, 1), datetime(2023, 1, 1)\n",
    "toi_start, toi_end = datetime(2017, 1, 1), datetime(2021, 1, 1)\n",
    "sig0_dc1 = sig0_dc1.filter_by_dimension([(toi_start, toi_end)], [(\">=\", \"<\")], name=\"time\", inplace=True)\n",
    "sig0_dc2 = sig0_dc2.filter_by_dimension([(toi_start, toi_end)], [(\">=\", \"<\")], name=\"time\", inplace=True)"
   ]
  },
  {
   "cell_type": "markdown",
   "id": "f08e68ab-34ee-40f7-a290-5571de6576c0",
   "metadata": {},
   "source": [
    "Select bands:"
   ]
  },
  {
   "cell_type": "code",
   "execution_count": null,
   "id": "01018726-e009-4296-8b7f-d5499d7aaff8",
   "metadata": {},
   "outputs": [],
   "source": [
    "sig0_vv_dc1 = sig0_dc1.filter_by_dimension('VV', name='band')\n",
    "sig0_vh_dc1 = sig0_dc1.filter_by_dimension('VH', name='band')\n",
    "#\n",
    "sig0_vv_dc2 = sig0_dc2.filter_by_dimension('VV', name='band')\n",
    "sig0_vh_dc2 = sig0_dc2.filter_by_dimension('VH', name='band')"
   ]
  },
  {
   "cell_type": "markdown",
   "id": "5be7563e-3f96-4322-862e-07456b4027ca",
   "metadata": {},
   "source": [
    "Merge and sort the datacubes:"
   ]
  },
  {
   "cell_type": "code",
   "execution_count": null,
   "id": "889096df-2cf7-4641-aff2-6f524b9702ba",
   "metadata": {},
   "outputs": [],
   "source": [
    "sig0_vv_dc = sig0_vv_dc1.unite(sig0_vv_dc2)\n",
    "sig0_vv_dc = sig0_vv_dc.sort_by_dimension('time', ascending=True)\n",
    "#\n",
    "sig0_vh_dc = sig0_vh_dc1.unite(sig0_vh_dc2)\n",
    "sig0_vh_dc = sig0_vh_dc.sort_by_dimension('time', ascending=True)\n",
    "#\n",
    "sig0_vv_dc.inventory"
   ]
  },
  {
   "cell_type": "code",
   "execution_count": null,
   "id": "43576c1d-e137-4c2c-8eef-bf9c8d341ad9",
   "metadata": {},
   "outputs": [],
   "source": [
    "# get a path of a class function\n",
    "import inspect\n",
    "print(inspect.getfile(sig0_vv_dc.filter_by_dimension))"
   ]
  },
  {
   "cell_type": "code",
   "execution_count": null,
   "id": "276c9817-6f57-43c6-9630-3629bc5803c8",
   "metadata": {},
   "outputs": [],
   "source": [
    "# filter all descendig images:\n",
    "#\n",
    "# get the unique list of descending orbits:\n",
    "desc_list = [aa for aa in sig0_vv_dc.inventory.extra_field.unique().tolist() if aa[0]=='D']\n",
    "asce_list = [aa for aa in sig0_vv_dc.inventory.extra_field.unique().tolist() if aa[0]=='A']\n",
    "# filter\n",
    "sig0_vv_desc_dc = sig0_vv_dc.filter_by_dimension(desc_list, name=\"extra_field\")\n",
    "sig0_vh_desc_dc = sig0_vh_dc.filter_by_dimension(desc_list, name=\"extra_field\")\n",
    "#\n",
    "sig0_vv_asce_dc = sig0_vv_dc.filter_by_dimension(asce_list, name=\"extra_field\")\n",
    "sig0_vh_asce_dc = sig0_vh_dc.filter_by_dimension(asce_list, name=\"extra_field\")\n",
    "#\n",
    "sig0_vh_desc_dc.inventory"
   ]
  },
  {
   "cell_type": "code",
   "execution_count": null,
   "id": "015ba7de-17b1-4b4b-a984-60eecdde2150",
   "metadata": {},
   "outputs": [],
   "source": [
    "# filter by orbit"
   ]
  },
  {
   "cell_type": "code",
   "execution_count": 1,
   "id": "9ea14f22-abe7-4516-a69b-5e3fb95e1a82",
   "metadata": {},
   "outputs": [
    {
     "ename": "NameError",
     "evalue": "name 'desc_list' is not defined",
     "output_type": "error",
     "traceback": [
      "\u001b[0;31m---------------------------------------------------------------------------\u001b[0m",
      "\u001b[0;31mNameError\u001b[0m                                 Traceback (most recent call last)",
      "\u001b[0;32m/tmp/ipykernel_1201155/2235436526.py\u001b[0m in \u001b[0;36m<module>\u001b[0;34m\u001b[0m\n\u001b[0;32m----> 1\u001b[0;31m \u001b[0mdesc_list\u001b[0m\u001b[0;34m\u001b[0m\u001b[0;34m\u001b[0m\u001b[0m\n\u001b[0m",
      "\u001b[0;31mNameError\u001b[0m: name 'desc_list' is not defined"
     ]
    }
   ],
   "source": [
    "desc_list"
   ]
  },
  {
   "cell_type": "code",
   "execution_count": null,
   "id": "ba6d082a-6210-43a3-9ee3-a7f83f814ea7",
   "metadata": {},
   "outputs": [],
   "source": [
    "\n",
    "sig0_vh_desc_dc_orbit1 = sig0_vh_desc_dc.filter_by_dimension('D142', name='extra_field')\n",
    "sig0_vv_desc_dc_orbit1 = sig0_vv_desc_dc.filter_by_dimension('D142', name='extra_field')\n",
    "#\n",
    "sig0_vh_desc_dc_orbit1.inventory"
   ]
  },
  {
   "cell_type": "code",
   "execution_count": null,
   "id": "4b0413b1-623a-4d5c-a442-c6ce16fb522b",
   "metadata": {},
   "outputs": [],
   "source": [
    "sig0_vv_asce_dc_orbit1 = sig0_vv_asce_dc.filter_by_dimension('A091', name='extra_field')\n",
    "sig0_vv_asce_dc_orbit1.inventory"
   ]
  },
  {
   "cell_type": "markdown",
   "id": "1035d78c-cc6e-41d3-a588-e3b767357fb4",
   "metadata": {},
   "source": [
    "Specify indexing for looping trough individual chunks within the Equi7grid tile:"
   ]
  },
  {
   "cell_type": "code",
   "execution_count": null,
   "id": "77e83fa9-c62e-4e6a-b334-da3ed56514f6",
   "metadata": {},
   "outputs": [],
   "source": [
    "# read a raster to get the size of x and y coordinates:\n",
    "#single_tif_ds = xr.open_dataset(sig0_vv_dc.inventory.filepath[20], engine=\"rasterio\") \n",
    "single_tif_ds = xr.open_dataset(sig0_vv_dc.inventory.filepath[20], engine=\"rasterio\") \n",
    "#\n",
    "#my_file_path = r'/project/return/Share/EODC_SA020M/V1M0R1/E078N060T3/SIG0_20180807T091643__VV_D141_E078N060T3_SA020M_V1M0R1_S1AIWGRDH.tif'\n",
    "#\n",
    "#single_tif_ds = xr.open_dataset(my_file_path, engine=\"rasterio\") "
   ]
  },
  {
   "cell_type": "code",
   "execution_count": null,
   "id": "0e39d71c-a24f-498f-b730-f3ee0daacf51",
   "metadata": {},
   "outputs": [],
   "source": [
    "single_tif_ds"
   ]
  },
  {
   "cell_type": "code",
   "execution_count": null,
   "id": "030fbf0e-ef7f-4021-89f7-9ddfed5c2dfd",
   "metadata": {},
   "outputs": [],
   "source": [
    "my_chunk_size = 1000\n",
    "#\n",
    "steps_row = np.arange(0, len(single_tif_ds.x)/my_chunk_size).astype(int)\n",
    "steps_col = np.arange(0, len(single_tif_ds.y)/my_chunk_size).astype(int)"
   ]
  },
  {
   "cell_type": "code",
   "execution_count": null,
   "id": "ea43047b-88a7-4549-b2dd-f9adcd0a24ba",
   "metadata": {},
   "outputs": [],
   "source": [
    "steps_row"
   ]
  },
  {
   "cell_type": "markdown",
   "id": "3d873821-2415-4394-822a-bb4d4f8ce857",
   "metadata": {},
   "source": [
    "Load data "
   ]
  },
  {
   "cell_type": "code",
   "execution_count": null,
   "id": "97692034-acdf-4f6f-be7c-272e5e24a25d",
   "metadata": {},
   "outputs": [],
   "source": [
    "sig0_vv_dc_chunk1 = sig0_vv_desc_dc_orbit1.load_by_pixels(12*1000, 0*1000, row_size=10, col_size=10, dtype='xarray')\n",
    "sig0_vh_dc_chunk1 = sig0_vh_desc_dc_orbit1.load_by_pixels(12*1000, 0*1000, row_size=10, col_size=10, dtype='xarray')\n",
    "#sig0_vv_dc_chunk1 = sig0_vv_desc_dc.load_by_pixels(12*1000, 0*1000, row_size=10, col_size=10, dtype='xarray')\n",
    "#sig0_vh_dc_chunk1 = sig0_vh_desc_dc.load_by_pixels(12*1000, 0*1000, row_size=10, col_size=10, dtype='xarray')"
   ]
  },
  {
   "cell_type": "markdown",
   "id": "89ce98f4-7e6e-4079-bd7b-5bebdad5492e",
   "metadata": {},
   "source": [
    "Get info"
   ]
  },
  {
   "cell_type": "code",
   "execution_count": null,
   "id": "a3728a21-5a90-409e-bc02-ffafeb61bb1d",
   "metadata": {},
   "outputs": [],
   "source": [
    "print(sig0_vv_dc_chunk1)"
   ]
  },
  {
   "cell_type": "markdown",
   "id": "dc9f3403-168b-4f47-8349-20c22b4c331e",
   "metadata": {},
   "source": [
    "Get the in-memory size "
   ]
  },
  {
   "cell_type": "code",
   "execution_count": null,
   "id": "3652f609-6ab6-42dc-9d63-f385e92359e4",
   "metadata": {},
   "outputs": [],
   "source": [
    "print('Datacube size in memory is:', np.round(sig0_vv_dc_chunk1.nbytes/(1024*1024), 1), 'MB')"
   ]
  },
  {
   "cell_type": "markdown",
   "id": "024ef13d-bfe6-44b0-9f0c-a8e941f3e9c0",
   "metadata": {},
   "source": [
    "Rename the variavle"
   ]
  },
  {
   "cell_type": "code",
   "execution_count": null,
   "id": "b952d80e-9a40-40d0-882c-4426d83abe2c",
   "metadata": {},
   "outputs": [],
   "source": [
    "sig0_vv_dc_chunk1 = sig0_vv_dc_chunk1.rename({'1':'sig0_vv'})"
   ]
  },
  {
   "cell_type": "code",
   "execution_count": null,
   "id": "f53af592-ea76-4f3d-9f83-3b835b1802bf",
   "metadata": {},
   "outputs": [],
   "source": [
    "sig0_vh_dc_chunk1 = sig0_vh_dc_chunk1.rename({'1':'sig0_vh'})"
   ]
  },
  {
   "cell_type": "markdown",
   "id": "82e263f2-4e05-48fd-bba8-9fa0398b9f1b",
   "metadata": {},
   "source": [
    "Plot a time seres and inspect values:"
   ]
  },
  {
   "cell_type": "code",
   "execution_count": null,
   "id": "819302ed-4dcc-4156-80b2-da13991e96c0",
   "metadata": {},
   "outputs": [],
   "source": [
    "sig0_vv_dc_chunk1.sig0_vv.isel(x=0, y=0).dropna(dim='time').plot(linestyle='-', color='r')"
   ]
  },
  {
   "cell_type": "code",
   "execution_count": null,
   "id": "ff4d4091-17a3-4fa4-bca2-818bd2788600",
   "metadata": {},
   "outputs": [],
   "source": [
    "sig0_vh_dc_chunk1.sig0_vh.isel(x=0, y=0).dropna(dim='time').plot(linestyle='-', color='r')"
   ]
  },
  {
   "cell_type": "markdown",
   "id": "fdef91b2-41d1-4393-9d06-e4d410669f76",
   "metadata": {},
   "source": [
    "Rescale the data in 2019 and 2020"
   ]
  },
  {
   "cell_type": "code",
   "execution_count": null,
   "id": "79cc1eba-5c71-41b5-8e44-48555cfb6587",
   "metadata": {},
   "outputs": [],
   "source": [
    "sig0_vv_dc_chunk1['sig0_vv'].loc[slice('2019-1-1','2021-1-1'), :, :] = sig0_vv_dc_chunk1.sel(time=slice('2019-1-1','2021-1-1')).apply(lambda x: np.round(x/10.,1)).sig0_vv.values\n",
    "sig0_vh_dc_chunk1['sig0_vh'].loc[slice('2019-1-1','2021-1-1'), :, :] = sig0_vh_dc_chunk1.sel(time=slice('2019-1-1','2021-1-1')).apply(lambda x: np.round(x/10.,1)).sig0_vh.values"
   ]
  },
  {
   "cell_type": "code",
   "execution_count": null,
   "id": "95bb1e30-3fe5-4353-8886-47d8dcdc564d",
   "metadata": {},
   "outputs": [],
   "source": [
    "sig0_vv_dc_chunk1.sig0_vv.isel(x=0, y=0).dropna(dim='time').plot(linestyle='-', color='r')"
   ]
  },
  {
   "cell_type": "code",
   "execution_count": null,
   "id": "4e208acb-6cd3-40b0-8a1e-a0e9157c4fbe",
   "metadata": {},
   "outputs": [],
   "source": [
    "sig0_vh_dc_chunk1.sig0_vh.isel(x=0, y=0).dropna(dim='time').plot(linestyle='-', color='r')"
   ]
  },
  {
   "cell_type": "markdown",
   "id": "8c78f0b7-069e-468f-b281-fd7efa712b66",
   "metadata": {},
   "source": [
    " Plot a single Sigmma0 image "
   ]
  },
  {
   "cell_type": "code",
   "execution_count": null,
   "id": "1f6e1b7c-b9a3-4e9a-b4e1-ded49102b198",
   "metadata": {},
   "outputs": [],
   "source": [
    "#%matplotlib widget\n",
    "%matplotlib inline\n",
    "#sig0_vv_dc_chunk1.sig0_vv.isel(time=-4).plot(cmap='Greys_r', vmin=-10, vmax=-5)\n",
    "#sig0_vh_dc_chunk1.sig0_vh.isel(time=-4).plot(cmap='Greys_r',vmin=-15, vmax=-5)\n",
    "sig0_vh_dc_chunk1.sig0_vh.mean(dim='time').plot(cmap='Greys_r', vmin=-30, vmax=-20)"
   ]
  },
  {
   "cell_type": "markdown",
   "id": "1d785a4f-4978-444d-8bef-4d6d67e58e20",
   "metadata": {},
   "source": [
    "Convert to pandas seres and plot"
   ]
  },
  {
   "cell_type": "code",
   "execution_count": null,
   "id": "4f81eb1a-2184-4d94-9bfe-dc6c227a421f",
   "metadata": {},
   "outputs": [],
   "source": [
    "#sig0_vv_ts = sig0_vv_dc_chunk1.sig0_vv.isel(x=0, y=0).dropna(dim='time').to_series()\n",
    "sig0_vv_ts = sig0_vv_dc_chunk1.sig0_vv.sel(x=7804427, y=6644722, method=\"nearest\").dropna(dim='time').to_series()"
   ]
  },
  {
   "cell_type": "code",
   "execution_count": null,
   "id": "f22e226a-3894-43a5-b67a-e9fc3ae3bd6c",
   "metadata": {},
   "outputs": [],
   "source": [
    "my_xticks = pd.date_range(datetime(2017,1,1), datetime(2021,1,1), freq='YS')\n",
    "sig0_vv_ts.plot(style='ro-', xticks=my_xticks, grid=True, figsize=(14,4), legend=True, xlabel='Time', ylabel='Bacscatter Intensity [dB]')"
   ]
  },
  {
   "cell_type": "markdown",
   "id": "c8468df9-ca63-4620-b981-97bcb2aaeaff",
   "metadata": {},
   "source": [
    "Round the time and resample to 6 day TS:"
   ]
  },
  {
   "cell_type": "code",
   "execution_count": null,
   "id": "bbd606cf-9024-453d-a2cf-dc436fb22a07",
   "metadata": {},
   "outputs": [],
   "source": [
    "sig0_vv_ts.index = sig0_vv_ts.index.round('D')\n",
    "#\n",
    "sig0_vv_ts_6d = sig0_vv_ts.resample('6D').interpolate(method='linear')"
   ]
  },
  {
   "cell_type": "code",
   "execution_count": null,
   "id": "6f5db66e-3afe-4290-bb82-efbd1f74da19",
   "metadata": {},
   "outputs": [],
   "source": [
    "sig0_vv_ts_6d.index.year"
   ]
  },
  {
   "cell_type": "code",
   "execution_count": null,
   "id": "cda196e5-a721-4113-a33e-8ddfe3043d55",
   "metadata": {},
   "outputs": [],
   "source": [
    "sig0_vv_ts_6d.groupby(sig0_vv_ts_6d.index.year).quantile(0.9).loc[2017]"
   ]
  },
  {
   "cell_type": "code",
   "execution_count": null,
   "id": "192c932c-7397-4d92-a2d7-f4f5329db37d",
   "metadata": {},
   "outputs": [],
   "source": [
    "sig0_vv_ts_6d.min()"
   ]
  },
  {
   "cell_type": "code",
   "execution_count": null,
   "id": "2aff39a4-325b-4672-8800-15a0347d534a",
   "metadata": {},
   "outputs": [],
   "source": [
    "sig0_vv_ts_6d.plot(style='bo-',grid=True, figsize=(14,4), legend=True, xlabel='Time', ylabel='Bacscatter Intensity [dB]')"
   ]
  },
  {
   "cell_type": "code",
   "execution_count": null,
   "id": "a4a2ab34-e822-4aca-b460-da6e3cfd72ca",
   "metadata": {},
   "outputs": [],
   "source": [
    "#%matplotlib widget\n",
    "%matplotlib inline\n",
    "plot_TS_fromPandaSeres(sig0_vv_ts_6d)"
   ]
  },
  {
   "cell_type": "code",
   "execution_count": null,
   "id": "da865267-0ae7-4122-ab73-bad329dcca49",
   "metadata": {},
   "outputs": [],
   "source": [
    "myFeatures_v2 = features_from_S1_TS(sig0_vv_ts_6d)\n",
    "myFeatures_v2"
   ]
  },
  {
   "cell_type": "markdown",
   "id": "1655bdda-c714-4415-890d-4332ca7ebee5",
   "metadata": {
    "tags": []
   },
   "source": [
    "## xarray-approach: apply the time-seres analysis per each x, y location in xarray"
   ]
  },
  {
   "cell_type": "markdown",
   "id": "2c887767-c4ed-41da-afe8-078435b15288",
   "metadata": {},
   "source": [
    "Prepare timestamps"
   ]
  },
  {
   "cell_type": "code",
   "execution_count": null,
   "id": "f94feeb6-7652-42b3-b4c9-b2ea107f239e",
   "metadata": {},
   "outputs": [],
   "source": [
    "ts_time_stamps = sig0_vv_dc_chunk1['sig0_vv'][:,0, 0].time.values"
   ]
  },
  {
   "cell_type": "markdown",
   "id": "da2f6cc3-9c87-4115-8268-2f66a7477bc0",
   "metadata": {},
   "source": [
    "Get features per each pixel"
   ]
  },
  {
   "cell_type": "code",
   "execution_count": null,
   "id": "f2cd8660-cec4-4bcb-9f90-c32624c5a8a5",
   "metadata": {},
   "outputs": [],
   "source": [
    "#%%timeit\n",
    "dist_out = xr.apply_ufunc(features_as_xrrray_ufunc, \n",
    "                          sig0_vh_dc_chunk1['sig0_vh'],\n",
    "                          ts_time_stamps,\n",
    "                          input_core_dims=[[\"time\"], []],\n",
    "                          output_core_dims=[[\"features\"]]\n",
    "                         )"
   ]
  },
  {
   "cell_type": "code",
   "execution_count": null,
   "id": "c4d87991-c827-4ac9-aa54-1ff9f1035a95",
   "metadata": {},
   "outputs": [],
   "source": [
    "#%%timeit\n",
    "dist_out = xr.apply_ufunc(features_as_xrrray_ufunc, \n",
    "                          sig0_vv_dc_chunk1['sig0_vv'],\n",
    "                          ts_time_stamps,\n",
    "                          input_core_dims=[[\"time\"], []],\n",
    "                          output_core_dims=[[\"features\"]]\n",
    "                         )"
   ]
  },
  {
   "cell_type": "code",
   "execution_count": null,
   "id": "f9e43f27-8fd3-4b03-8f46-83547733d0e6",
   "metadata": {},
   "outputs": [],
   "source": [
    "# timeit, 200x200 pixels: 4min 49s ± 4.23 s per loop (mean ± std. dev. of 7 runs, 1 loop each)\n",
    "# timeit, 100x100 pixels: 1min 13s ± 451 ms per loop (mean ± std. dev. of 7 runs, 1 loop each)\n",
    "# timeit, 50x50 pixel: 18.6 s ± 91.3 ms per loop (mean ± std. dev. of 7 runs, 1 loop each)\n",
    "# timeit, 10x10 pixels: 741 ms ± 2.57 ms per loop (mean ± std. dev. of 7 runs, 1 loop each)"
   ]
  },
  {
   "cell_type": "code",
   "execution_count": null,
   "id": "d81307d9-3486-4f2e-ab95-aa7ab0720356",
   "metadata": {},
   "outputs": [],
   "source": [
    "# convert output to dataset\n",
    "dist_out_ds = dist_out.to_dataset(dim='features')"
   ]
  },
  {
   "cell_type": "code",
   "execution_count": null,
   "id": "0064d0d7-28f7-43bf-8ec8-b285fbbc991b",
   "metadata": {},
   "outputs": [],
   "source": [
    "dist_out_ds = dist_out_ds.rename({0:'exception_label', 1:'ref_mean', 2:'error_margin',\n",
    "                                  3:'num_of_segments', 4:'TS_end_flag', 5:'TS_end_flag_long', 6:'TS_end_mag',\n",
    "                                  7:'seg_id', 8:'seg_size', 9:'max_mag', 10:'max_mag_date', 11:'t_pre', 12:'t_post', 13:'t_total',\n",
    "                                  14:'max_mag_org', 15:'max_mag_org_date', 16:'t_mag_org',\n",
    "                                  17:'seg2_size'})"
   ]
  },
  {
   "cell_type": "code",
   "execution_count": null,
   "id": "788f7f46-0ebd-4c33-b972-ff47d66e5191",
   "metadata": {},
   "outputs": [],
   "source": [
    "dist_out_ds"
   ]
  },
  {
   "cell_type": "code",
   "execution_count": null,
   "id": "bd679fba-aafe-449d-af3a-46327ada27e7",
   "metadata": {},
   "outputs": [],
   "source": [
    "print('Datacube size in memory is:', np.round(dist_out_ds.nbytes/(1024*1024), 1), 'MB')"
   ]
  },
  {
   "cell_type": "code",
   "execution_count": null,
   "id": "8d463532-3d45-45b2-8310-b82430feb41c",
   "metadata": {},
   "outputs": [],
   "source": [
    "#d plotting:\n",
    "#dist_out_ds.seg_size.astype('float').plot()\n",
    "feature_da = dist_out_ds.exception_label.astype('int')\n",
    "feature_da.plot(figsize=(10, 8))"
   ]
  },
  {
   "cell_type": "markdown",
   "id": "d08a80ea-2f80-49e0-ba4d-89b0df7e9828",
   "metadata": {},
   "source": [
    "get a list of row and columnns where the exception label is 0"
   ]
  },
  {
   "cell_type": "code",
   "execution_count": null,
   "id": "9e0d81d0-123d-4798-bc9f-fb5635f8b9ca",
   "metadata": {},
   "outputs": [],
   "source": [
    "aa = np.column_stack(np.where(feature_da.where(feature_da == 0).values))"
   ]
  },
  {
   "cell_type": "code",
   "execution_count": null,
   "id": "19b34f81-a385-4c2c-9fbf-99f6c084f7de",
   "metadata": {},
   "outputs": [],
   "source": [
    "aa[20000, :]"
   ]
  },
  {
   "cell_type": "markdown",
   "id": "b398ce42-ce29-4dcd-9bfd-335a18c4e27f",
   "metadata": {},
   "source": [
    "### Export"
   ]
  },
  {
   "cell_type": "code",
   "execution_count": null,
   "id": "2af052e4-521e-48ca-a560-850640eba4f3",
   "metadata": {},
   "outputs": [],
   "source": [
    "type(dist_out_ds)"
   ]
  },
  {
   "cell_type": "code",
   "execution_count": null,
   "id": "872c5e75-6615-4a76-8020-474b8cda10c2",
   "metadata": {},
   "outputs": [],
   "source": [
    "dist_out_ds.to_zarr(os.path.join(r'/home/return-mmilenkovic/', 'test_chunk_export_vh.zarr'), 'w')"
   ]
  },
  {
   "cell_type": "code",
   "execution_count": null,
   "id": "1111303e-3c97-42dc-bc22-61812e19ab9b",
   "metadata": {},
   "outputs": [],
   "source": [
    "dist_out_ds.to_netcdf(os.path.join(r'/home/return-mmilenkovic/', 'test_chunk_export_vh.nc'))"
   ]
  },
  {
   "cell_type": "code",
   "execution_count": null,
   "id": "83b72645-26c1-4b91-8547-2e3e54d231dd",
   "metadata": {},
   "outputs": [],
   "source": []
  },
  {
   "cell_type": "markdown",
   "id": "a23302ba-10e7-44af-ae15-86ea8aaab4ad",
   "metadata": {},
   "source": [
    "## Check the output"
   ]
  },
  {
   "cell_type": "code",
   "execution_count": null,
   "id": "5aeb2438-a06d-406f-b93c-7957a7f30cb2",
   "metadata": {},
   "outputs": [],
   "source": [
    "#my_out = xr.open_dataset(\"/home/return-mmilenkovic/E078N066T3_1_1_100_VH.nc\")\n",
    "#my_out = xr.open_dataset(\"/project/return/Share/mm/S1_SA_output/E078N066T3_10_7_1000_VH.nc\")\n",
    "my_out = xr.open_dataset(\"E078N066T3_14_14_1000_VH.nc\")"
   ]
  },
  {
   "cell_type": "code",
   "execution_count": null,
   "id": "5300d01f-7908-46c1-85b9-31d05bb8f859",
   "metadata": {},
   "outputs": [],
   "source": [
    "my_out"
   ]
  },
  {
   "cell_type": "code",
   "execution_count": null,
   "id": "d71a7b3a-ec62-4e83-99ae-ea95ab5d204a",
   "metadata": {},
   "outputs": [],
   "source": [
    "feature_da = my_out.max_mag.astype('float64')\n",
    "feature_da.plot(figsize=(10, 8))"
   ]
  },
  {
   "cell_type": "code",
   "execution_count": null,
   "id": "83d38f7c-6036-4375-ad46-2ec30913a121",
   "metadata": {},
   "outputs": [],
   "source": [
    "np.nanmedian(my_out.max_mag.values.flatten())"
   ]
  },
  {
   "cell_type": "code",
   "execution_count": null,
   "id": "037a2301-9213-4122-8d8a-08513d4a3a9c",
   "metadata": {},
   "outputs": [],
   "source": []
  }
 ],
 "metadata": {
  "kernelspec": {
   "display_name": "Python 3 (ipykernel)",
   "language": "python",
   "name": "python3"
  },
  "language_info": {
   "codemirror_mode": {
    "name": "ipython",
    "version": 3
   },
   "file_extension": ".py",
   "mimetype": "text/x-python",
   "name": "python",
   "nbconvert_exporter": "python",
   "pygments_lexer": "ipython3",
   "version": "3.7.13"
  }
 },
 "nbformat": 4,
 "nbformat_minor": 5
}
