{
 "cells": [
  {
   "cell_type": "markdown",
   "id": "006217e4-3993-4c5e-8750-b0832b338e8a",
   "metadata": {
    "tags": []
   },
   "source": [
    "## explore the output chanks"
   ]
  },
  {
   "cell_type": "code",
   "execution_count": 1,
   "id": "0d731dd9-1564-4b80-ad7c-5d27e6c921df",
   "metadata": {},
   "outputs": [
    {
     "name": "stderr",
     "output_type": "stream",
     "text": [
      "/home/return-mmilenkovic/miniconda3/envs/yeoda/lib/python3.7/site-packages/dask/config.py:168: YAMLLoadWarning: calling yaml.load() without Loader=... is deprecated, as the default Loader is unsafe. Please read https://msg.pyyaml.org/load for full details.\n",
      "  data = yaml.load(f.read()) or {}\n"
     ]
    }
   ],
   "source": [
    "import os, glob\n",
    "import xarray as xr\n",
    "import rioxarray\n",
    "from rioxarray.merge import merge_datasets, merge_arrays\n",
    "import numpy as np\n",
    "import geopandas as gpd\n",
    "import pandas as pd\n",
    "from equi7grid.equi7grid import Equi7Grid"
   ]
  },
  {
   "cell_type": "code",
   "execution_count": null,
   "id": "1e73d5f6-2e11-4763-b7bf-bc8807041c80",
   "metadata": {},
   "outputs": [],
   "source": [
    "# chek the avaliable memory\n",
    "!free -h"
   ]
  },
  {
   "cell_type": "code",
   "execution_count": null,
   "id": "8ed5f29e-dea4-428c-8b10-16b6b0eb9e25",
   "metadata": {},
   "outputs": [],
   "source": [
    "# folder wih the output files:\n",
    "data_folder = r'/project/return/Share/mm/S1_SA_TEST_UPSCALE/TILE_WISE/AOI_PA/E078N066T3'\n",
    "#\n",
    "#myOrbit = 'D141'\n",
    "myOrbit = 'D039'\n",
    "#\n",
    "myPol = 'VH'\n"
   ]
  },
  {
   "cell_type": "code",
   "execution_count": null,
   "id": "04d47069-eba4-4c72-aa16-168250e219d7",
   "metadata": {},
   "outputs": [],
   "source": [
    "# get all nc-files in a list\n",
    "ncFileList = glob.glob(data_folder + '/**/*' + myOrbit + '_' + myPol + '.nc', recursive=True)"
   ]
  },
  {
   "cell_type": "code",
   "execution_count": null,
   "id": "82709104-79e0-4428-a708-375d3dc65029",
   "metadata": {},
   "outputs": [],
   "source": [
    "# sorted list:\n",
    "ncFileList = sorted(ncFileList)"
   ]
  },
  {
   "cell_type": "code",
   "execution_count": null,
   "id": "66019389-7912-429f-97b5-beb4f2e70a60",
   "metadata": {},
   "outputs": [],
   "source": [
    "ncRows = [os.path.basename(ncPath).split('_')[1] for ncPath in ncFileList]\n",
    "ncCols = [os.path.basename(ncPath).split('_')[2] for ncPath in ncFileList]"
   ]
  },
  {
   "cell_type": "code",
   "execution_count": null,
   "id": "b6c3824f-9e9e-4fda-b21f-914b30ea46eb",
   "metadata": {},
   "outputs": [],
   "source": [
    "df_ncFiles = pd.DataFrame(list(zip(ncRows, ncCols, ncFileList)), columns =['row', 'col', 'path'])"
   ]
  },
  {
   "cell_type": "code",
   "execution_count": null,
   "id": "90ef8a16-c31c-4fa5-9f9d-d6339dc8754b",
   "metadata": {},
   "outputs": [],
   "source": [
    "df_ncFiles = df_ncFiles.astype({'row': 'uint8', 'col': 'uint8'})"
   ]
  },
  {
   "cell_type": "code",
   "execution_count": null,
   "id": "e929f75c-b8df-4c7f-b132-0f2034fd9fae",
   "metadata": {},
   "outputs": [],
   "source": [
    "df_ncFiles = df_ncFiles.sort_values(['row', 'col'])"
   ]
  },
  {
   "cell_type": "code",
   "execution_count": null,
   "id": "3d713d78-061d-4b0e-a9ff-25a134a30d45",
   "metadata": {},
   "outputs": [],
   "source": [
    "# ignore warnings about missing spatial refernce in the nc files:\n",
    "import warnings\n",
    "import rasterio\n",
    "warnings.filterwarnings(\"ignore\", category=rasterio.errors.NotGeoreferencedWarning)"
   ]
  },
  {
   "cell_type": "code",
   "execution_count": null,
   "id": "af715fd9-c6e6-4617-896e-32b8ceebad94",
   "metadata": {},
   "outputs": [],
   "source": [
    "# Equi7 SA wkt:\n",
    "PROJ = 'PROJCS[\"Azimuthal_Equidistant\",GEOGCS[\"GCS_WGS_1984\",DATUM[\"D_WGS_1984\",SPHEROID[\"WGS_1984\",6378137.0,298.257223563]],PRIMEM[\"Greenwich\",0.0],UNIT[\"Degree\",0.017453292519943295]],PROJECTION[\"Azimuthal_Equidistant\"],PARAMETER[\"false_easting\",7257179.23559],PARAMETER[\"false_northing\",5592024.44605],PARAMETER[\"central_meridian\",-60.5],PARAMETER[\"latitude_of_origin\",-14.0],UNIT[\"Meter\",1.0]]'"
   ]
  },
  {
   "cell_type": "code",
   "execution_count": null,
   "id": "380dbb9f-fd26-4ccd-ab68-e7f96ca5d94c",
   "metadata": {},
   "outputs": [],
   "source": [
    "ds = rioxarray.open_rasterio(df_ncFiles.path[0])"
   ]
  },
  {
   "cell_type": "code",
   "execution_count": null,
   "id": "f0272a76-506d-44d9-9fd4-295eeded4747",
   "metadata": {},
   "outputs": [],
   "source": [
    "ds"
   ]
  },
  {
   "cell_type": "code",
   "execution_count": null,
   "id": "026dfc2c-b7a2-423a-bcc0-8435be6ced72",
   "metadata": {},
   "outputs": [],
   "source": [
    "# specify variables to load\n",
    "deforSet = ['mean_2019', 'exception_label', 'max_mag', 'max_mag_date', 't_pre']\n",
    "regrowthSet2017 = ['mean_2017', 'median_2017', 'std_2017', 'MAD_2017', 'q90_2017', 'q10_2017', 'q75_2017', 'q25_2017', 'max_2017', 'min_2017']\n",
    "#ds = rioxarray.open_rasterio(df_ncFiles.path[0], variable=varSet1)"
   ]
  },
  {
   "cell_type": "code",
   "execution_count": null,
   "id": "9b68e092-3b8f-4df2-88d9-b527584b5fcb",
   "metadata": {},
   "outputs": [],
   "source": [
    "# read multiple ckunks:\n",
    "ChunkDatasetList = []\n",
    "# specify what rows and colomns to read\n",
    "myRows, myCols  = np.meshgrid(np.arange(41, 49), np.arange(0, 60))\n",
    "#\n",
    "for myRow, myCol in zip(myRows.flatten(), myCols.flatten()):\n",
    "    # set filename:\n",
    "    currentItem = df_ncFiles[(df_ncFiles['row'] == myRow) & (df_ncFiles['col'] == myCol)]\n",
    "    if currentItem.empty:\n",
    "        continue\n",
    "    #    \n",
    "    fileName = currentItem.path.values[0]\n",
    "    # read the chunk\n",
    "    aux_ds = rioxarray.open_rasterio(fileName, variable=deforSet)\n",
    "    # set crs:\n",
    "    aux_ds.rio.write_crs(PROJ, inplace=True)\n",
    "    # remove band coordinate:\n",
    "    aux_ds.squeeze('band').drop('band')\n",
    "    # append chank list:\n",
    "    ChunkDatasetList.append(aux_ds)      "
   ]
  },
  {
   "cell_type": "code",
   "execution_count": null,
   "id": "9a70b117-cdf8-456c-bb1c-6b349e37f170",
   "metadata": {},
   "outputs": [],
   "source": [
    "# mearge chanks spatialy:\n",
    "my_out = merge_datasets(ChunkDatasetList)   "
   ]
  },
  {
   "cell_type": "code",
   "execution_count": null,
   "id": "0773841d-2329-47ac-9a2e-664d81fe5eeb",
   "metadata": {},
   "outputs": [],
   "source": [
    "# correct corrdinates ('open_rasterio' treats coordinates as pixel centers)\n",
    "pixSize = 20\n",
    "my_out = my_out.assign_coords(x=my_out.x +  pixSize/2)\n",
    "my_out = my_out.assign_coords(y=my_out.y -  pixSize/2)"
   ]
  },
  {
   "cell_type": "code",
   "execution_count": null,
   "id": "f4596d4c-cb54-4350-a147-08f1bfd26920",
   "metadata": {},
   "outputs": [],
   "source": [
    "my_out.nbytes/1e6"
   ]
  },
  {
   "cell_type": "code",
   "execution_count": null,
   "id": "e6c04597-d0cb-49d2-a7e7-eddce1b8cc29",
   "metadata": {},
   "outputs": [],
   "source": [
    "my_out.mean_2019.rio.to_raster(\"test_mean2019.tif\")"
   ]
  },
  {
   "cell_type": "code",
   "execution_count": null,
   "id": "30e77c97-02a2-423a-80be-7fc26134a01b",
   "metadata": {},
   "outputs": [],
   "source": [
    "#%matplotlib widget\n",
    "%matplotlib inline\n",
    "ax = my_out.mean_2019.plot(robust=True, cmap='gray')\n",
    "ax.axes.set_aspect('equal')"
   ]
  },
  {
   "cell_type": "code",
   "execution_count": null,
   "id": "15bf3478-8b63-4cc7-8bfe-cd1413d3c30f",
   "metadata": {},
   "outputs": [],
   "source": [
    "# select only alerts with high magnitude:\n",
    "defor_ds = my_out.where((my_out.exception_label==0) & (my_out.max_mag>3))\n",
    "# calculate the deforestation date (the t_pre is converted from days to parth of the year as the max_mag_date):\n",
    "defor_ds['deforDate'] = defor_ds.max_mag_date - np.abs(defor_ds.t_pre/365.)"
   ]
  },
  {
   "cell_type": "code",
   "execution_count": null,
   "id": "0e59172a-699b-42a8-9e57-99b8a8ab4b15",
   "metadata": {},
   "outputs": [],
   "source": [
    "#%matplotlib widget\n",
    "%matplotlib inline\n",
    "ax =defor_ds.deforDate.plot(figsize=(10, 8), levels=[2017, 2018, 2019, 2020, 2021])\n",
    "ax.axes.set_aspect('equal')"
   ]
  },
  {
   "cell_type": "code",
   "execution_count": null,
   "id": "0152c34a-6467-443b-b103-2169fa96b9a2",
   "metadata": {},
   "outputs": [],
   "source": [
    "defor_ds.deforDate.rio.to_raster(\"test_deforDate.tif\")"
   ]
  },
  {
   "cell_type": "markdown",
   "id": "6018dd3c-1921-4449-b3ec-f6fbe75c58ee",
   "metadata": {},
   "source": [
    "# Deal with Equi7Grid:"
   ]
  },
  {
   "cell_type": "code",
   "execution_count": null,
   "id": "90d8b6f1-3461-4e8a-a774-fa89c2bdeff4",
   "metadata": {},
   "outputs": [],
   "source": [
    "e7_20 = Equi7Grid(20)"
   ]
  },
  {
   "cell_type": "code",
   "execution_count": null,
   "id": "5e8cefd6-b9bf-4a46-a29d-5c0174507596",
   "metadata": {},
   "outputs": [],
   "source": [
    "e7_20.SA.tilesys.decode_tilename('E078N066T3')"
   ]
  },
  {
   "cell_type": "code",
   "execution_count": null,
   "id": "4b0b07a1-326c-4b9e-93b6-31245dcf8ec7",
   "metadata": {},
   "outputs": [],
   "source": [
    "e7_myTile = e7_20.SA.tilesys.create_tile('E078N066T3')"
   ]
  },
  {
   "cell_type": "code",
   "execution_count": null,
   "id": "9152a0b0-cc7f-4727-ad49-f28355184ed9",
   "metadata": {},
   "outputs": [],
   "source": [
    "e7_myTile.ij2xy(0.5, 0.5)"
   ]
  },
  {
   "cell_type": "code",
   "execution_count": null,
   "id": "45123783-f80f-4726-b65f-aa716040f5c1",
   "metadata": {},
   "outputs": [],
   "source": [
    "e7_myTile.ij2xy(1, 1, offset='center')"
   ]
  },
  {
   "cell_type": "code",
   "execution_count": null,
   "id": "05eedfd6-7715-4f1e-9476-8dde7318c049",
   "metadata": {},
   "outputs": [],
   "source": [
    "aa = [e7_myTile.ij2xy(myX, myY) for myX, myY in zip(ds.x.values, ds.y.values)]"
   ]
  },
  {
   "cell_type": "code",
   "execution_count": null,
   "id": "3879db2e-32e7-432d-bdf1-c6dc17c9012c",
   "metadata": {},
   "outputs": [],
   "source": [
    "newX, newY = list(zip(*aa))"
   ]
  },
  {
   "cell_type": "code",
   "execution_count": null,
   "id": "13f100e8-761b-46c5-bb34-b830ff7b2741",
   "metadata": {},
   "outputs": [],
   "source": [
    "ds"
   ]
  },
  {
   "cell_type": "code",
   "execution_count": null,
   "id": "aa352e17-5001-4cab-a4af-e00ef846437c",
   "metadata": {},
   "outputs": [],
   "source": [
    "ds = ds.assign_coords(x=np.array(newX))\n",
    "ds = ds.assign_coords(y=np.flip(np.array(newY)))"
   ]
  },
  {
   "cell_type": "code",
   "execution_count": null,
   "id": "1d4a7e2a-0912-4792-a0e6-b8364b2c8b3d",
   "metadata": {},
   "outputs": [],
   "source": [
    "ds.max_mag.plot()"
   ]
  },
  {
   "cell_type": "code",
   "execution_count": null,
   "id": "4991c7f8-e7a1-4d69-8dcb-668d881650f7",
   "metadata": {},
   "outputs": [],
   "source": [
    "type(e7_myTile.ij2xy(0, 0))"
   ]
  }
 ],
 "metadata": {
  "kernelspec": {
   "display_name": "Python 3 (ipykernel)",
   "language": "python",
   "name": "python3"
  },
  "language_info": {
   "codemirror_mode": {
    "name": "ipython",
    "version": 3
   },
   "file_extension": ".py",
   "mimetype": "text/x-python",
   "name": "python",
   "nbconvert_exporter": "python",
   "pygments_lexer": "ipython3",
   "version": "3.7.13"
  }
 },
 "nbformat": 4,
 "nbformat_minor": 5
}
